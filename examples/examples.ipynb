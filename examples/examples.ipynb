{
 "cells": [
  {
   "cell_type": "code",
   "execution_count": 1,
   "metadata": {},
   "outputs": [],
   "source": [
    "import sys \n",
    "sys.path.insert(0, \"/srv/hemi01-j01/openmsimodel/openmsimodel\")\n",
    "from gemd import MaterialSpec,ProcessSpec,IngredientSpec,MeasurementSpec,ProcessRun,MaterialRun,IngredientRun,MeasurementRun,PerformedSource,ProcessTemplate,MaterialTemplate,MeasurementTemplate\n",
    "from gemd import FileLink\n",
    "from gemd.util.impl import recursive_foreach\n",
    "from gemd.json import GEMDJson\n",
    "from gemd import Parameter, Condition, Property, PropertyAndConditions, NominalCategorical, NominalInteger, NominalReal\n",
    "\n",
    "from base import BaseNode\n",
    "from materials import Alloy\n",
    "\n",
    "encoder = GEMDJson()"
   ]
  },
  {
   "cell_type": "code",
   "execution_count": 2,
   "metadata": {},
   "outputs": [
    {
     "name": "stdout",
     "output_type": "stream",
     "text": [
      "Can't instantiate abstract class BaseNode with abstract methods from_spec_or_run, run, spec, to_form\n"
     ]
    }
   ],
   "source": [
    "# cannot instantiate BaseNode alone\n",
    "try:\n",
    "    b = BaseNode('base')\n",
    "except Exception as e:\n",
    "    print(e)"
   ]
  },
  {
   "attachments": {},
   "cell_type": "markdown",
   "metadata": {},
   "source": [
    "#### normal instantiation\n",
    "####### requires creating the class, assigning a templates, assigning attributes, etc"
   ]
  },
  {
   "cell_type": "code",
   "execution_count": 3,
   "metadata": {},
   "outputs": [
    {
     "name": "stdout",
     "output_type": "stream",
     "text": [
      "{\"file_links\": [], \"name\": \"alloy\", \"notes\": null, \"process\": null, \"properties\": [], \"tags\": [], \"template\": {\"id\": \"ef5db1b0-2ff0-484e-bf50-305ed56fd6d2\", \"scope\": \"auto\", \"type\": \"link_by_uid\"}, \"type\": \"material_spec\", \"uids\": {\"auto\": \"c8e2addf-c479-43f4-942e-ed209f2ba385\"}}\n",
      "{\"file_links\": [], \"name\": \"alloy\", \"notes\": null, \"process\": null, \"sample_type\": null, \"spec\": {\"id\": \"c8e2addf-c479-43f4-942e-ed209f2ba385\", \"scope\": \"auto\", \"type\": \"link_by_uid\"}, \"tags\": [], \"type\": \"material_run\", \"uids\": {\"auto\": \"842ba7f7-7192-4f75-b61e-167fd45f6a6a\"}}\n"
     ]
    }
   ],
   "source": [
    "# normal instantiation (requires creating the class, assigning a templates, assigning attributes, etc)\n",
    "name = 'alloy'\n",
    "a = Alloy(name)\n",
    "\n",
    "print(encoder.thin_dumps(a.spec))\n",
    "print(encoder.thin_dumps(a.run))"
   ]
  },
  {
   "attachments": {},
   "cell_type": "markdown",
   "metadata": {},
   "source": [
    "#### instantiation from spec "
   ]
  },
  {
   "cell_type": "code",
   "execution_count": 4,
   "metadata": {},
   "outputs": [
    {
     "name": "stdout",
     "output_type": "stream",
     "text": [
      "{\"file_links\": [], \"name\": \"alloy\", \"notes\": null, \"process\": null, \"properties\": [], \"tags\": [\"spec\"], \"template\": {\"id\": \"ef5db1b0-2ff0-484e-bf50-305ed56fd6d2\", \"scope\": \"auto\", \"type\": \"link_by_uid\"}, \"type\": \"material_spec\", \"uids\": {\"auto\": \"772ace53-288c-4af8-84c0-1af45434a88e\"}}\n",
      "{\"file_links\": [], \"name\": \"alloy\", \"notes\": null, \"process\": null, \"sample_type\": \"unknown\", \"spec\": {\"id\": \"772ace53-288c-4af8-84c0-1af45434a88e\", \"scope\": \"auto\", \"type\": \"link_by_uid\"}, \"tags\": [], \"type\": \"material_run\", \"uids\": {\"auto\": \"9d573a74-d9bd-4017-a74c-2e51dad8c464\"}}\n"
     ]
    }
   ],
   "source": [
    "spec = MaterialSpec(\n",
    "    name=name,\n",
    "    tags=[\"spec\"]\n",
    ")\n",
    "\n",
    "a_bis = a.from_spec_or_run(name=name,\n",
    "                       spec=spec\n",
    "                       )\n",
    "print(encoder.thin_dumps(a_bis.spec))\n",
    "print(encoder.thin_dumps(a_bis.run))"
   ]
  },
  {
   "attachments": {},
   "cell_type": "markdown",
   "metadata": {},
   "source": [
    "#### instantiation from run "
   ]
  },
  {
   "cell_type": "code",
   "execution_count": 5,
   "metadata": {},
   "outputs": [
    {
     "name": "stdout",
     "output_type": "stream",
     "text": [
      "{\"file_links\": [], \"name\": \"alloy\", \"notes\": null, \"process\": null, \"properties\": [], \"tags\": [], \"template\": {\"id\": \"ef5db1b0-2ff0-484e-bf50-305ed56fd6d2\", \"scope\": \"auto\", \"type\": \"link_by_uid\"}, \"type\": \"material_spec\", \"uids\": {\"auto\": \"6e555744-de2c-4941-afdf-889ca55dbaf6\"}}\n",
      "{\"file_links\": [], \"name\": \"alloy\", \"notes\": null, \"process\": null, \"sample_type\": \"unknown\", \"spec\": {\"id\": \"6e555744-de2c-4941-afdf-889ca55dbaf6\", \"scope\": \"auto\", \"type\": \"link_by_uid\"}, \"tags\": [\"run\"], \"type\": \"material_run\", \"uids\": {\"auto\": \"aa8a8875-818f-4cb9-ae59-d9b2bd2d0eaf\"}}\n"
     ]
    }
   ],
   "source": [
    "run = MaterialRun( \n",
    "    name=name,\n",
    "    spec=spec,\n",
    "    tags=[\"run\"]\n",
    ")\n",
    "\n",
    "a_bis = a.from_spec_or_run(name=name,\n",
    "                   run=run\n",
    "                   )\n",
    "\n",
    "print(encoder.thin_dumps(a_bis.spec))\n",
    "print(encoder.thin_dumps(a_bis.run))"
   ]
  },
  {
   "attachments": {},
   "cell_type": "markdown",
   "metadata": {},
   "source": [
    "#### instantiation from both "
   ]
  },
  {
   "cell_type": "code",
   "execution_count": 6,
   "metadata": {},
   "outputs": [
    {
     "name": "stdout",
     "output_type": "stream",
     "text": [
      "{\"file_links\": [], \"name\": \"alloy\", \"notes\": null, \"process\": null, \"properties\": [], \"tags\": [\"spec\"], \"template\": {\"id\": \"ef5db1b0-2ff0-484e-bf50-305ed56fd6d2\", \"scope\": \"auto\", \"type\": \"link_by_uid\"}, \"type\": \"material_spec\", \"uids\": {\"auto\": \"772ace53-288c-4af8-84c0-1af45434a88e\"}}\n",
      "{\"file_links\": [], \"name\": \"alloy\", \"notes\": null, \"process\": null, \"sample_type\": \"unknown\", \"spec\": {\"id\": \"772ace53-288c-4af8-84c0-1af45434a88e\", \"scope\": \"auto\", \"type\": \"link_by_uid\"}, \"tags\": [\"run\"], \"type\": \"material_run\", \"uids\": {\"auto\": \"aa8a8875-818f-4cb9-ae59-d9b2bd2d0eaf\"}}\n"
     ]
    }
   ],
   "source": [
    "a_bis = a.from_spec_or_run(name=name,\n",
    "                   run=run,\n",
    "                   spec=spec\n",
    "                   )\n",
    "print(encoder.thin_dumps(a_bis.spec))\n",
    "print(encoder.thin_dumps(a_bis.run))"
   ]
  },
  {
   "attachments": {},
   "cell_type": "markdown",
   "metadata": {},
   "source": [
    "#### Attributes"
   ]
  },
  {
   "cell_type": "code",
   "execution_count": 7,
   "metadata": {},
   "outputs": [],
   "source": [
    "# updating attributes\n",
    "a._update_attributes(\n",
    "    AttrType=PropertyAndConditions,\n",
    "    attributes=(\n",
    "        PropertyAndConditions(\n",
    "            property=Property(\n",
    "                \"Form\",\n",
    "                value=NominalCategorical('Ingot'),\n",
    "            ),\n",
    "            conditions=[],\n",
    "        ),\n",
    "    ),\n",
    "    which='spec'\n",
    ")"
   ]
  },
  {
   "cell_type": "code",
   "execution_count": 8,
   "metadata": {},
   "outputs": [
    {
     "name": "stdout",
     "output_type": "stream",
     "text": [
      "{\n",
      "   \"properties\": {\n",
      "      \"Form\": {\n",
      "         \"bounds\": null,\n",
      "         \"default_value\": null,\n",
      "         \"prop\": {\n",
      "            \"id\": \"2f2ffa49-cb9a-4c74-9ed0-34f1173e37f9\",\n",
      "            \"scope\": \"auto\",\n",
      "            \"type\": \"link_by_uid\"\n",
      "         }\n",
      "      }\n",
      "   }\n",
      "}\n"
     ]
    }
   ],
   "source": [
    "print(encoder.thin_dumps(a._ATTRS, indent=3))"
   ]
  },
  {
   "cell_type": "code",
   "execution_count": 9,
   "metadata": {},
   "outputs": [
    {
     "name": "stdout",
     "output_type": "stream",
     "text": [
      "\"the 'Size' attribute is not among the object defined attributes.\"\n"
     ]
    }
   ],
   "source": [
    "# adding an attribute that wasn't registered will lead to an error\n",
    "try:\n",
    "    a._update_attributes(\n",
    "        AttrType=PropertyAndConditions,\n",
    "        attributes=(\n",
    "            PropertyAndConditions(\n",
    "                property=Property(\n",
    "                    \"Size\",\n",
    "                    value=NominalCategorical('Large'),\n",
    "                ),\n",
    "                conditions=[],\n",
    "            ),\n",
    "        ),\n",
    "        which='spec'\n",
    "    )\n",
    "except Exception as e:\n",
    "    print(e)"
   ]
  },
  {
   "cell_type": "code",
   "execution_count": 10,
   "metadata": {},
   "outputs": [
    {
     "data": {
      "text/plain": [
       "{'spec': (), 'run': ()}"
      ]
     },
     "execution_count": 10,
     "metadata": {},
     "output_type": "execute_result"
    }
   ],
   "source": [
    "a.get_filelinks_dict()"
   ]
  },
  {
   "cell_type": "code",
   "execution_count": 11,
   "metadata": {},
   "outputs": [
    {
     "data": {
      "text/plain": [
       "{'spec': {}, 'run': {}}"
      ]
     },
     "execution_count": 11,
     "metadata": {},
     "output_type": "execute_result"
    }
   ],
   "source": [
    "a.get_tags_dict()"
   ]
  },
  {
   "cell_type": "code",
   "execution_count": 12,
   "metadata": {},
   "outputs": [
    {
     "data": {
      "text/plain": [
       "{'Form': {'property': {'value': {'category': 'Ingot',\n",
       "    'type': 'nominal_categorical'},\n",
       "   'origin': 'unknown'},\n",
       "  'conditions': {}}}"
      ]
     },
     "execution_count": 12,
     "metadata": {},
     "output_type": "execute_result"
    }
   ],
   "source": [
    "a.get_properties_and_conditions_dict()"
   ]
  },
  {
   "cell_type": "code",
   "execution_count": 13,
   "metadata": {},
   "outputs": [],
   "source": [
    "a.get_sample_type()"
   ]
  },
  {
   "cell_type": "code",
   "execution_count": 14,
   "metadata": {},
   "outputs": [
    {
     "ename": "TypeError",
     "evalue": "_prop_cond_dict() missing 1 required positional argument: 'spec_prop_conds'",
     "output_type": "error",
     "traceback": [
      "\u001b[0;31m---------------------------------------------------------------------------\u001b[0m",
      "\u001b[0;31mTypeError\u001b[0m                                 Traceback (most recent call last)",
      "Cell \u001b[0;32mIn[14], line 1\u001b[0m\n\u001b[0;32m----> 1\u001b[0m a\u001b[39m.\u001b[39;49m_prop_cond_dict()\n",
      "\u001b[0;31mTypeError\u001b[0m: _prop_cond_dict() missing 1 required positional argument: 'spec_prop_conds'"
     ]
    }
   ],
   "source": [
    "a._prop_cond_dict()"
   ]
  },
  {
   "cell_type": "code",
   "execution_count": null,
   "metadata": {},
   "outputs": [],
   "source": [
    "a.to_form()"
   ]
  },
  {
   "cell_type": "code",
   "execution_count": null,
   "metadata": {},
   "outputs": [],
   "source": [
    "# what to do with dumping?"
   ]
  }
 ],
 "metadata": {
  "kernelspec": {
   "display_name": "birdshot",
   "language": "python",
   "name": "python3"
  },
  "language_info": {
   "codemirror_mode": {
    "name": "ipython",
    "version": 3
   },
   "file_extension": ".py",
   "mimetype": "text/x-python",
   "name": "python",
   "nbconvert_exporter": "python",
   "pygments_lexer": "ipython3",
   "version": "3.9.16 (main, Mar  8 2023, 14:00:05) \n[GCC 11.2.0]"
  },
  "orig_nbformat": 4,
  "vscode": {
   "interpreter": {
    "hash": "c93de424c187b5f45150c4b68957697054d2d10439b831359c08b5dbeaa012b5"
   }
  }
 },
 "nbformat": 4,
 "nbformat_minor": 2
}
