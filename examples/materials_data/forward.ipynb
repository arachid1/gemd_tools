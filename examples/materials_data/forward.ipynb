{
 "cells": [
  {
   "cell_type": "code",
   "execution_count": 1,
   "metadata": {},
   "outputs": [],
   "source": [
    "%load_ext autoreload\n",
    "%autoreload 2\n",
    "from pathlib import Path \n",
    "from gemd import MaterialTemplate, ProcessTemplate, MeasurementTemplate, ParameterTemplate, RealBounds\n",
    "from openmsimodel.workflow.workflow import Workflow\n",
    "from openmsimodel.subworkflow.process_block import ProcessBlock\n",
    "from openmsimodel.entity.gemd.material import Material\n",
    "from openmsimodel.entity.gemd.process import Process\n",
    "from openmsimodel.entity.gemd.measurement import Measurement\n",
    "from openmsimodel.entity.gemd.ingredient import Ingredient\n",
    "from openmsimodel.db.open_db import OpenDB\n",
    "from openmsimodel.graph.open_graph import OpenGraph"
   ]
  },
  {
   "cell_type": "markdown",
   "metadata": {},
   "source": []
  },
  {
   "cell_type": "code",
   "execution_count": 2,
   "metadata": {},
   "outputs": [],
   "source": [
    "workflow = Workflow()\n",
    "# w = AssemblyChain\n",
    "# AssemblyNetwork\n",
    "# discovery_platform\n",
    "# laboratory\n",
    "\n",
    "## path\n",
    "# sequence\n",
    "# synthesis\n",
    "\n",
    "alloy_ingredient = Ingredient(\"Alloy Ingredient\")\n",
    "polishing_process = Process(\"Polishing\", template=ProcessTemplate(\"Heating\"))\n",
    "polished_alloy = Material(\"Polished Alloy\", template=MaterialTemplate(\"Alloy\"))\n",
    "polishing_block = ProcessBlock(\n",
    "    name=f\"Polishing Alloy\",\n",
    "    workflow=workflow,\n",
    "    material=polished_alloy,\n",
    "    ingredients=[alloy_ingredient],\n",
    "    process=polishing_process,\n",
    "    measurements=[],\n",
    ")\n",
    "polishing_block.link_within()\n",
    "\n",
    "polished_alloy_ingredient = Ingredient(\"Polished Alloy Ingredient\")\n",
    "heating_process = Process(\"Heating\", template=ProcessTemplate(\"Heating\", parameters=ParameterTemplate(\n",
    "    name=\"Temperature\",\n",
    "    bounds=RealBounds(0, 1500, \"Kelvin\"),\n",
    ")))\n",
    "heated_alloy = Material(\"Heated Alloy\", template=MaterialTemplate(\"Alloy\"))\n",
    "heating_block = ProcessBlock(\n",
    "    name=f\"Heating Alloy\",\n",
    "    workflow=workflow,\n",
    "    material=heated_alloy,\n",
    "    ingredients=[polished_alloy_ingredient],\n",
    "    process=heating_process,\n",
    "    measurements=[],\n",
    ")\n",
    "heating_block.link_within() \n",
    "heating_block.link_prior(polishing_block, ingredient_name_to_link=\"Polished Alloy Ingredient\")\n"
   ]
  },
  {
   "cell_type": "code",
   "execution_count": 3,
   "metadata": {},
   "outputs": [
    {
     "name": "stdout",
     "output_type": "stream",
     "text": [
      "/srv/hemi01-j01/openmsimodel/examples/materials_data/output\n",
      "-- Building alls of list with 8 items\n",
      "Extracting list...\n",
      "Done.\n",
      "Relabeling nodes...\n",
      "Saving graphs...\n",
      "Couldn't find GraphViz graph. Can't dump SVG and DOT files.\n",
      "Dumping graphml...\n",
      "Time elapsed: 0.008364200592041016\n",
      "-- Saved graph to /srv/hemi01-j01/openmsimodel/examples/materials_data/output/heating_all.dot, /srv/hemi01-j01/openmsimodel/examples/materials_data/output/heating_all.svg and /srv/hemi01-j01/openmsimodel/examples/materials_data/output/heating_all.graphml\n",
      "-- Analysis --\n",
      "cycles in the graph: []\n",
      "disregarded/total number of gemd objects: 0/8\n",
      "total nb of isolates in the graph: 0\n"
     ]
    }
   ],
   "source": [
    "to_be_visualized = heating_block.gemd_assets\n",
    "output = str(Path().absolute() / \"output\")\n",
    "print(output)\n",
    "open_graph = OpenGraph(name=\"heating\", source=to_be_visualized, output=output, which='all')\n",
    "G, relabeled_G, name_mapping = open_graph.build_graph()"
   ]
  },
  {
   "attachments": {},
   "cell_type": "markdown",
   "metadata": {},
   "source": [
    "# ProcessBlock"
   ]
  },
  {
   "cell_type": "code",
   "execution_count": 4,
   "metadata": {},
   "outputs": [
    {
     "name": "stdout",
     "output_type": "stream",
     "text": [
      "[{'uids': {'auto': '2f054d6d-808f-409a-839c-d282cb0dd9c3'}, 'conditions': [], 'parameters': [], 'tags': [], 'description': None, 'allowed_labels': [], 'allowed_names': [], 'name': 'Heating', 'type': 'process_template'}, {'uids': {'auto': '321d5b3d-156d-4aa1-b19a-e5f7ea3f86b0'}, 'conditions': [], 'parameters': [], 'tags': [], 'notes': None, 'file_links': [], 'template': {'uids': {'auto': '2f054d6d-808f-409a-839c-d282cb0dd9c3'}, 'conditions': [], 'parameters': [], 'tags': [], 'description': None, 'allowed_labels': [], 'allowed_names': [], 'name': 'Heating', 'type': 'process_template'}, 'name': 'Polishing', 'type': 'process_spec', 'ingredients': [\"<IngredientSpec 'Alloy Ingredient'>\"], 'output_material': \"<MaterialSpec 'Polished Alloy'>\"}, {'uids': {'auto': '28068e34-2ab2-4a80-bf82-75100565c8d2'}, 'conditions': [], 'parameters': [], 'tags': [], 'notes': None, 'file_links': [], 'spec': {'uids': {'auto': '321d5b3d-156d-4aa1-b19a-e5f7ea3f86b0'}, 'conditions': [], 'parameters': [], 'tags': [], 'notes': None, 'file_links': [], 'template': {'uids': {'auto': '2f054d6d-808f-409a-839c-d282cb0dd9c3'}, 'conditions': [], 'parameters': [], 'tags': [], 'description': None, 'allowed_labels': [], 'allowed_names': [], 'name': 'Heating', 'type': 'process_template'}, 'name': 'Polishing', 'type': 'process_spec', 'ingredients': [\"<IngredientSpec 'Alloy Ingredient'>\"], 'output_material': \"<MaterialSpec 'Polished Alloy'>\"}, 'name': 'Polishing', 'source': None, 'type': 'process_run', 'ingredients': [\"<IngredientRun 'Alloy Ingredient'>\"], 'output_material': \"<MaterialRun 'Polished Alloy'>\"}]\n"
     ]
    }
   ],
   "source": [
    "print(polishing_process.assets)"
   ]
  },
  {
   "cell_type": "code",
   "execution_count": 5,
   "metadata": {},
   "outputs": [
    {
     "name": "stdout",
     "output_type": "stream",
     "text": [
      "Test\n",
      "{'process': {'uids': {'auto': '28068e34-2ab2-4a80-bf82-75100565c8d2'}, 'conditions': [], 'parameters': [], 'tags': [], 'notes': None, 'file_links': [], 'spec': {'uids': {'auto': '321d5b3d-156d-4aa1-b19a-e5f7ea3f86b0'}, 'conditions': [], 'parameters': [], 'tags': [], 'notes': None, 'file_links': [], 'template': {'uids': {'auto': '2f054d6d-808f-409a-839c-d282cb0dd9c3'}, 'conditions': [], 'parameters': [], 'tags': [], 'description': None, 'allowed_labels': [], 'allowed_names': [], 'name': 'Heating', 'type': 'process_template'}, 'name': 'Polishing_backward', 'type': 'process_spec', 'ingredients': [\"<IngredientSpec 'Alloy Ingredient'>\"], 'output_material': \"<MaterialSpec 'Polished Alloy'>\"}, 'name': 'Polishing_backward', 'source': None, 'type': 'process_run', 'ingredients': [\"<IngredientRun 'Alloy Ingredient'>\"], 'output_material': \"<MaterialRun 'Polished Alloy'>\"}, 'uids': {'auto': '21c0e6f6-0863-41b0-ad5f-36aebd3df789'}, 'number_fraction': None, 'tags': [], 'volume_fraction': None, 'notes': None, 'labels': [], 'file_links': [], 'absolute_quantity': None, 'mass_fraction': None, 'spec': {'uids': {'auto': '61fefe0b-bbdf-437f-8d1e-8e7622766a31'}, 'number_fraction': None, 'tags': [], 'volume_fraction': None, 'notes': None, 'labels': [], 'file_links': [], 'absolute_quantity': None, 'mass_fraction': None, 'process': {'uids': {'auto': '321d5b3d-156d-4aa1-b19a-e5f7ea3f86b0'}, 'conditions': [], 'parameters': [], 'tags': [], 'notes': None, 'file_links': [], 'template': {'uids': {'auto': '2f054d6d-808f-409a-839c-d282cb0dd9c3'}, 'conditions': [], 'parameters': [], 'tags': [], 'description': None, 'allowed_labels': [], 'allowed_names': [], 'name': 'Heating', 'type': 'process_template'}, 'name': 'Polishing_backward', 'type': 'process_spec', 'ingredients': [\"<IngredientSpec 'Alloy Ingredient'>\"], 'output_material': \"<MaterialSpec 'Polished Alloy'>\"}, 'material': None, 'name': 'Alloy Ingredient', 'type': 'ingredient_spec'}, 'material': None, 'name': 'Alloy Ingredient', 'type': 'ingredient_run'}\n",
      "Test\n",
      "{'process': {'uids': {'auto': '28068e34-2ab2-4a80-bf82-75100565c8d2'}, 'conditions': [], 'parameters': [], 'tags': [], 'notes': None, 'file_links': [], 'spec': {'uids': {'auto': '321d5b3d-156d-4aa1-b19a-e5f7ea3f86b0'}, 'conditions': [], 'parameters': [], 'tags': [], 'notes': None, 'file_links': [], 'template': {'uids': {'auto': '2f054d6d-808f-409a-839c-d282cb0dd9c3'}, 'conditions': [], 'parameters': [], 'tags': [], 'description': None, 'allowed_labels': [], 'allowed_names': [], 'name': 'Heating', 'type': 'process_template'}, 'name': 'Polishing_backward', 'type': 'process_spec', 'ingredients': [\"<IngredientSpec 'Alloy Ingredient'>\"], 'output_material': \"<MaterialSpec 'Polished Alloy'>\"}, 'name': 'Polishing_backward', 'source': None, 'type': 'process_run', 'ingredients': [\"<IngredientRun 'Alloy Ingredient'>\"], 'output_material': \"<MaterialRun 'Polished Alloy'>\"}, 'uids': {'auto': '21c0e6f6-0863-41b0-ad5f-36aebd3df789'}, 'number_fraction': None, 'tags': [], 'volume_fraction': None, 'notes': None, 'labels': [], 'file_links': [], 'absolute_quantity': None, 'mass_fraction': None, 'spec': {'uids': {'auto': '61fefe0b-bbdf-437f-8d1e-8e7622766a31'}, 'number_fraction': None, 'tags': [], 'volume_fraction': None, 'notes': None, 'labels': [], 'file_links': [], 'absolute_quantity': None, 'mass_fraction': None, 'process': {'uids': {'auto': '321d5b3d-156d-4aa1-b19a-e5f7ea3f86b0'}, 'conditions': [], 'parameters': [], 'tags': [], 'notes': None, 'file_links': [], 'template': {'uids': {'auto': '2f054d6d-808f-409a-839c-d282cb0dd9c3'}, 'conditions': [], 'parameters': [], 'tags': [], 'description': None, 'allowed_labels': [], 'allowed_names': [], 'name': 'Heating', 'type': 'process_template'}, 'name': 'Polishing_backward', 'type': 'process_spec', 'ingredients': [\"<IngredientSpec 'Alloy Ingredient'>\"], 'output_material': \"<MaterialSpec 'Polished Alloy'>\"}, 'material': None, 'name': 'Alloy Ingredient', 'type': 'ingredient_spec'}, 'material': None, 'name': 'Alloy Ingredient', 'type': 'ingredient_run'}\n",
      "{<openmsimodel.entity.gemd.ingredient.Ingredient object at 0x7f969067ea30>, <openmsimodel.entity.gemd.ingredient.Ingredient object at 0x7f963ca21af0>}\n",
      "set()\n",
      "['Alloy Ingredient', 'Alloy Ingredient']\n",
      "[[{'uids': {'auto': '61fefe0b-bbdf-437f-8d1e-8e7622766a31'}, 'number_fraction': None, 'tags': [], 'volume_fraction': None, 'notes': None, 'labels': [], 'file_links': [], 'absolute_quantity': None, 'mass_fraction': None, 'process': {'uids': {'auto': '321d5b3d-156d-4aa1-b19a-e5f7ea3f86b0'}, 'conditions': [], 'parameters': [], 'tags': [], 'notes': None, 'file_links': [], 'template': {'uids': {'auto': '2f054d6d-808f-409a-839c-d282cb0dd9c3'}, 'conditions': [], 'parameters': [], 'tags': [], 'description': None, 'allowed_labels': [], 'allowed_names': [], 'name': 'Heating', 'type': 'process_template'}, 'name': 'Polishing_backward', 'type': 'process_spec', 'ingredients': [\"<IngredientSpec 'Alloy Ingredient'>\"], 'output_material': \"<MaterialSpec 'Polished Alloy'>\"}, 'material': None, 'name': 'Alloy Ingredient', 'type': 'ingredient_spec'}, {'process': {'uids': {'auto': '28068e34-2ab2-4a80-bf82-75100565c8d2'}, 'conditions': [], 'parameters': [], 'tags': [], 'notes': None, 'file_links': [], 'spec': {'uids': {'auto': '321d5b3d-156d-4aa1-b19a-e5f7ea3f86b0'}, 'conditions': [], 'parameters': [], 'tags': [], 'notes': None, 'file_links': [], 'template': {'uids': {'auto': '2f054d6d-808f-409a-839c-d282cb0dd9c3'}, 'conditions': [], 'parameters': [], 'tags': [], 'description': None, 'allowed_labels': [], 'allowed_names': [], 'name': 'Heating', 'type': 'process_template'}, 'name': 'Polishing_backward', 'type': 'process_spec', 'ingredients': [\"<IngredientSpec 'Alloy Ingredient'>\"], 'output_material': \"<MaterialSpec 'Polished Alloy'>\"}, 'name': 'Polishing_backward', 'source': None, 'type': 'process_run', 'ingredients': [\"<IngredientRun 'Alloy Ingredient'>\"], 'output_material': \"<MaterialRun 'Polished Alloy'>\"}, 'uids': {'auto': '21c0e6f6-0863-41b0-ad5f-36aebd3df789'}, 'number_fraction': None, 'tags': [], 'volume_fraction': None, 'notes': None, 'labels': [], 'file_links': [], 'absolute_quantity': None, 'mass_fraction': None, 'spec': {'uids': {'auto': '61fefe0b-bbdf-437f-8d1e-8e7622766a31'}, 'number_fraction': None, 'tags': [], 'volume_fraction': None, 'notes': None, 'labels': [], 'file_links': [], 'absolute_quantity': None, 'mass_fraction': None, 'process': {'uids': {'auto': '321d5b3d-156d-4aa1-b19a-e5f7ea3f86b0'}, 'conditions': [], 'parameters': [], 'tags': [], 'notes': None, 'file_links': [], 'template': {'uids': {'auto': '2f054d6d-808f-409a-839c-d282cb0dd9c3'}, 'conditions': [], 'parameters': [], 'tags': [], 'description': None, 'allowed_labels': [], 'allowed_names': [], 'name': 'Heating', 'type': 'process_template'}, 'name': 'Polishing_backward', 'type': 'process_spec', 'ingredients': [\"<IngredientSpec 'Alloy Ingredient'>\"], 'output_material': \"<MaterialSpec 'Polished Alloy'>\"}, 'material': None, 'name': 'Alloy Ingredient', 'type': 'ingredient_spec'}, 'material': None, 'name': 'Alloy Ingredient', 'type': 'ingredient_run'}], [{'uids': {'auto': '61fefe0b-bbdf-437f-8d1e-8e7622766a31'}, 'number_fraction': None, 'tags': [], 'volume_fraction': None, 'notes': None, 'labels': [], 'file_links': [], 'absolute_quantity': None, 'mass_fraction': None, 'process': {'uids': {'auto': '321d5b3d-156d-4aa1-b19a-e5f7ea3f86b0'}, 'conditions': [], 'parameters': [], 'tags': [], 'notes': None, 'file_links': [], 'template': {'uids': {'auto': '2f054d6d-808f-409a-839c-d282cb0dd9c3'}, 'conditions': [], 'parameters': [], 'tags': [], 'description': None, 'allowed_labels': [], 'allowed_names': [], 'name': 'Heating', 'type': 'process_template'}, 'name': 'Polishing_backward', 'type': 'process_spec', 'ingredients': [\"<IngredientSpec 'Alloy Ingredient'>\"], 'output_material': \"<MaterialSpec 'Polished Alloy'>\"}, 'material': None, 'name': 'Alloy Ingredient', 'type': 'ingredient_spec'}, {'process': {'uids': {'auto': '28068e34-2ab2-4a80-bf82-75100565c8d2'}, 'conditions': [], 'parameters': [], 'tags': [], 'notes': None, 'file_links': [], 'spec': {'uids': {'auto': '321d5b3d-156d-4aa1-b19a-e5f7ea3f86b0'}, 'conditions': [], 'parameters': [], 'tags': [], 'notes': None, 'file_links': [], 'template': {'uids': {'auto': '2f054d6d-808f-409a-839c-d282cb0dd9c3'}, 'conditions': [], 'parameters': [], 'tags': [], 'description': None, 'allowed_labels': [], 'allowed_names': [], 'name': 'Heating', 'type': 'process_template'}, 'name': 'Polishing_backward', 'type': 'process_spec', 'ingredients': [\"<IngredientSpec 'Alloy Ingredient'>\"], 'output_material': \"<MaterialSpec 'Polished Alloy'>\"}, 'name': 'Polishing_backward', 'source': None, 'type': 'process_run', 'ingredients': [\"<IngredientRun 'Alloy Ingredient'>\"], 'output_material': \"<MaterialRun 'Polished Alloy'>\"}, 'uids': {'auto': '21c0e6f6-0863-41b0-ad5f-36aebd3df789'}, 'number_fraction': None, 'tags': [], 'volume_fraction': None, 'notes': None, 'labels': [], 'file_links': [], 'absolute_quantity': None, 'mass_fraction': None, 'spec': {'uids': {'auto': '61fefe0b-bbdf-437f-8d1e-8e7622766a31'}, 'number_fraction': None, 'tags': [], 'volume_fraction': None, 'notes': None, 'labels': [], 'file_links': [], 'absolute_quantity': None, 'mass_fraction': None, 'process': {'uids': {'auto': '321d5b3d-156d-4aa1-b19a-e5f7ea3f86b0'}, 'conditions': [], 'parameters': [], 'tags': [], 'notes': None, 'file_links': [], 'template': {'uids': {'auto': '2f054d6d-808f-409a-839c-d282cb0dd9c3'}, 'conditions': [], 'parameters': [], 'tags': [], 'description': None, 'allowed_labels': [], 'allowed_names': [], 'name': 'Heating', 'type': 'process_template'}, 'name': 'Polishing_backward', 'type': 'process_spec', 'ingredients': [\"<IngredientSpec 'Alloy Ingredient'>\"], 'output_material': \"<MaterialSpec 'Polished Alloy'>\"}, 'material': None, 'name': 'Alloy Ingredient', 'type': 'ingredient_spec'}, 'material': None, 'name': 'Alloy Ingredient', 'type': 'ingredient_run'}]]\n",
      "set()\n"
     ]
    },
    {
     "ename": "NameError",
     "evalue": "ingredients must have unique names. Found a duplicate: Alloy Ingredient",
     "output_type": "error",
     "traceback": [
      "\u001b[0;31m---------------------------------------------------------------------------\u001b[0m",
      "\u001b[0;31mNameError\u001b[0m                                 Traceback (most recent call last)",
      "Cell \u001b[0;32mIn[5], line 1\u001b[0m\n\u001b[0;32m----> 1\u001b[0m block \u001b[39m=\u001b[39m ProcessBlock\u001b[39m.\u001b[39;49mfrom_spec_or_run(\n\u001b[1;32m      2\u001b[0m     \u001b[39mstr\u001b[39;49m(polishing_process\u001b[39m.\u001b[39;49mname \u001b[39m+\u001b[39;49m \u001b[39m\"\u001b[39;49m\u001b[39m_backward\u001b[39;49m\u001b[39m\"\u001b[39;49m), notes\u001b[39m=\u001b[39;49m\u001b[39mNone\u001b[39;49;00m, spec\u001b[39m=\u001b[39;49mpolishing_process\u001b[39m.\u001b[39;49mspec, run\u001b[39m=\u001b[39;49mpolishing_process\u001b[39m.\u001b[39;49mrun\n\u001b[1;32m      3\u001b[0m )\n",
      "File \u001b[0;32m/srv/hemi01-j01/openmsimodel/openmsimodel/subworkflow/process_block.py:290\u001b[0m, in \u001b[0;36mProcessBlock.from_spec_or_run\u001b[0;34m(cls, name, notes, spec, run)\u001b[0m\n\u001b[1;32m    288\u001b[0m \u001b[39mprint\u001b[39m([i\u001b[39m.\u001b[39massets \u001b[39mfor\u001b[39;00m i \u001b[39min\u001b[39;00m \u001b[39mlist\u001b[39m(ingredients)])\n\u001b[1;32m    289\u001b[0m \u001b[39mprint\u001b[39m(measurements)\n\u001b[0;32m--> 290\u001b[0m block \u001b[39m=\u001b[39m \u001b[39mcls\u001b[39;49m(\n\u001b[1;32m    291\u001b[0m     name\u001b[39m=\u001b[39;49mname,\n\u001b[1;32m    292\u001b[0m     process\u001b[39m=\u001b[39;49mprocess,\n\u001b[1;32m    293\u001b[0m     workflow\u001b[39m=\u001b[39;49m\u001b[39mNone\u001b[39;49;00m,\n\u001b[1;32m    294\u001b[0m     material\u001b[39m=\u001b[39;49mmaterial,\n\u001b[1;32m    295\u001b[0m     ingredients\u001b[39m=\u001b[39;49m\u001b[39mlist\u001b[39;49m(ingredients),\n\u001b[1;32m    296\u001b[0m     measurements\u001b[39m=\u001b[39;49m\u001b[39mlist\u001b[39;49m(measurements),\n\u001b[1;32m    297\u001b[0m )\n\u001b[1;32m    298\u001b[0m block\u001b[39m.\u001b[39mlink_within()\n\u001b[1;32m    299\u001b[0m \u001b[39mreturn\u001b[39;00m block\n",
      "File \u001b[0;32m/srv/hemi01-j01/openmsimodel/openmsimodel/subworkflow/process_block.py:68\u001b[0m, in \u001b[0;36mProcessBlock.__init__\u001b[0;34m(self, name, process, workflow, material, ingredients, measurements, _type)\u001b[0m\n\u001b[1;32m     66\u001b[0m             \u001b[39mraise\u001b[39;00m \u001b[39mTypeError\u001b[39;00m(\u001b[39mf\u001b[39m\u001b[39m\"\u001b[39m\u001b[39mExpected \u001b[39m\u001b[39m'\u001b[39m\u001b[39mIngredient\u001b[39m\u001b[39m'\u001b[39m\u001b[39m; got \u001b[39m\u001b[39m{\u001b[39;00m\u001b[39mtype\u001b[39m(i)\u001b[39m}\u001b[39;00m\u001b[39m\"\u001b[39m)\n\u001b[1;32m     67\u001b[0m         \u001b[39mif\u001b[39;00m i\u001b[39m.\u001b[39mname \u001b[39min\u001b[39;00m \u001b[39mself\u001b[39m\u001b[39m.\u001b[39mingredients\u001b[39m.\u001b[39mkeys():\n\u001b[0;32m---> 68\u001b[0m             \u001b[39mraise\u001b[39;00m \u001b[39mNameError\u001b[39;00m(\n\u001b[1;32m     69\u001b[0m                 \u001b[39mf\u001b[39m\u001b[39m\"\u001b[39m\u001b[39mingredients must have unique names. Found a duplicate: \u001b[39m\u001b[39m{\u001b[39;00mi\u001b[39m.\u001b[39mname\u001b[39m}\u001b[39;00m\u001b[39m\"\u001b[39m\n\u001b[1;32m     70\u001b[0m             )\n\u001b[1;32m     71\u001b[0m         \u001b[39mself\u001b[39m\u001b[39m.\u001b[39mingredients[i\u001b[39m.\u001b[39mname] \u001b[39m=\u001b[39m i\n\u001b[1;32m     72\u001b[0m \u001b[39melse\u001b[39;00m:\n",
      "\u001b[0;31mNameError\u001b[0m: ingredients must have unique names. Found a duplicate: Alloy Ingredient"
     ]
    }
   ],
   "source": [
    "block = ProcessBlock.from_spec_or_run(\n",
    "    str(polishing_process.name + \"_backward\"), notes=None, spec=polishing_process.spec, run=polishing_process.run\n",
    ")"
   ]
  }
 ],
 "metadata": {
  "kernelspec": {
   "display_name": "birdshot",
   "language": "python",
   "name": "python3"
  },
  "language_info": {
   "codemirror_mode": {
    "name": "ipython",
    "version": 3
   },
   "file_extension": ".py",
   "mimetype": "text/x-python",
   "name": "python",
   "nbconvert_exporter": "python",
   "pygments_lexer": "ipython3",
   "version": "3.9.16"
  },
  "orig_nbformat": 4,
  "vscode": {
   "interpreter": {
    "hash": "c93de424c187b5f45150c4b68957697054d2d10439b831359c08b5dbeaa012b5"
   }
  }
 },
 "nbformat": 4,
 "nbformat_minor": 2
}
