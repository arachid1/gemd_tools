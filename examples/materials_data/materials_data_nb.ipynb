{
 "cells": [
  {
   "attachments": {},
   "cell_type": "markdown",
   "metadata": {},
   "source": [
    "# Materials Data "
   ]
  },
  {
   "cell_type": "code",
   "execution_count": 1,
   "metadata": {},
   "outputs": [],
   "source": [
    "from gemd import MaterialTemplate, ProcessTemplate, MeasurementTemplate, ParameterTemplate, MaterialRun, MaterialSpec, RealBounds"
   ]
  },
  {
   "cell_type": "code",
   "execution_count": 2,
   "metadata": {},
   "outputs": [
    {
     "ename": "FileExistsError",
     "evalue": "[Errno 17] File exists: '/srv/hemi01-j01/openmsimodel/examples/materials_data/local/property_templates'",
     "output_type": "error",
     "traceback": [
      "\u001b[0;31m---------------------------------------------------------------------------\u001b[0m",
      "\u001b[0;31mFileExistsError\u001b[0m                           Traceback (most recent call last)",
      "Cell \u001b[0;32mIn[2], line 11\u001b[0m\n\u001b[1;32m      9\u001b[0m \u001b[38;5;28;01mfrom\u001b[39;00m \u001b[38;5;21;01mopenmsimodel\u001b[39;00m\u001b[38;5;21;01m.\u001b[39;00m\u001b[38;5;21;01mgraph\u001b[39;00m\u001b[38;5;21;01m.\u001b[39;00m\u001b[38;5;21;01mhelpers\u001b[39;00m \u001b[38;5;28;01mimport\u001b[39;00m launch_graph_widget\n\u001b[1;32m     10\u001b[0m \u001b[38;5;28;01mimport\u001b[39;00m \u001b[38;5;21;01mopenmsimodel\u001b[39;00m\u001b[38;5;21;01m.\u001b[39;00m\u001b[38;5;21;01mstores\u001b[39;00m\u001b[38;5;21;01m.\u001b[39;00m\u001b[38;5;21;01mstores_config\u001b[39;00m \u001b[38;5;28;01mas\u001b[39;00m \u001b[38;5;21;01mstores_tools\u001b[39;00m\n\u001b[0;32m---> 11\u001b[0m stores_tools\u001b[38;5;241m.\u001b[39mstores_config \u001b[38;5;241m=\u001b[39m \u001b[43mstores_tools\u001b[49m\u001b[38;5;241;43m.\u001b[39;49m\u001b[43mStoresConfig\u001b[49m\u001b[43m(\u001b[49m\u001b[43mactivated\u001b[49m\u001b[38;5;241;43m=\u001b[39;49m\u001b[38;5;28;43;01mTrue\u001b[39;49;00m\u001b[43m,\u001b[49m\u001b[43m \u001b[49m\u001b[43mdesignated_root\u001b[49m\u001b[38;5;241;43m=\u001b[39;49m\u001b[38;5;124;43m'\u001b[39;49m\u001b[38;5;124;43m/srv/hemi01-j01/openmsimodel/examples/materials_data/local\u001b[39;49m\u001b[38;5;124;43m'\u001b[39;49m\u001b[43m)\u001b[49m\n",
      "File \u001b[0;32m/srv/hemi01-j01/openmsimodel/openmsimodel/stores/stores_config.py:36\u001b[0m, in \u001b[0;36mStoresConfig.__init__\u001b[0;34m(self, activated, designated_store_id, designated_root)\u001b[0m\n\u001b[1;32m     34\u001b[0m \u001b[38;5;28mself\u001b[39m\u001b[38;5;241m.\u001b[39mdesignated_store_id \u001b[38;5;241m=\u001b[39m designated_store_id\n\u001b[1;32m     35\u001b[0m \u001b[38;5;28mself\u001b[39m\u001b[38;5;241m.\u001b[39mdesignated_root \u001b[38;5;241m=\u001b[39m designated_root\n\u001b[0;32m---> 36\u001b[0m \u001b[38;5;28;43mself\u001b[39;49m\u001b[38;5;241;43m.\u001b[39;49m\u001b[43mdeploy_primary_store\u001b[49m\u001b[43m(\u001b[49m\u001b[43mdesignated_store_id\u001b[49m\u001b[43m)\u001b[49m\n",
      "File \u001b[0;32m/srv/hemi01-j01/openmsimodel/openmsimodel/stores/stores_config.py:41\u001b[0m, in \u001b[0;36mStoresConfig.deploy_primary_store\u001b[0;34m(self, id)\u001b[0m\n\u001b[1;32m     39\u001b[0m \u001b[38;5;28;01mif\u001b[39;00m \u001b[38;5;28mid\u001b[39m \u001b[38;5;129;01min\u001b[39;00m \u001b[38;5;28mself\u001b[39m\u001b[38;5;241m.\u001b[39mall_template_stores\u001b[38;5;241m.\u001b[39mkeys():\n\u001b[1;32m     40\u001b[0m     \u001b[38;5;28;01mraise\u001b[39;00m \u001b[38;5;167;01mNameError\u001b[39;00m(\u001b[38;5;124mf\u001b[39m\u001b[38;5;124m\"\u001b[39m\u001b[38;5;124mtemplate store with id \u001b[39m\u001b[38;5;132;01m{\u001b[39;00m\u001b[38;5;28mid\u001b[39m\u001b[38;5;132;01m}\u001b[39;00m\u001b[38;5;124m already exists.\u001b[39m\u001b[38;5;124m\"\u001b[39m)\n\u001b[0;32m---> 41\u001b[0m \u001b[38;5;28mself\u001b[39m\u001b[38;5;241m.\u001b[39mall_template_stores[\u001b[38;5;28mid\u001b[39m] \u001b[38;5;241m=\u001b[39m \u001b[43mGEMDTemplateStore\u001b[49m\u001b[43m(\u001b[49m\u001b[38;5;28;43mid\u001b[39;49m\u001b[43m,\u001b[49m\u001b[43m \u001b[49m\u001b[43mroot\u001b[49m\u001b[38;5;241;43m=\u001b[39;49m\u001b[38;5;28;43mself\u001b[39;49m\u001b[38;5;241;43m.\u001b[39;49m\u001b[43mdesignated_root\u001b[49m\u001b[43m,\u001b[49m\u001b[43m \u001b[49m\u001b[43mstores_config\u001b[49m\u001b[38;5;241;43m=\u001b[39;49m\u001b[38;5;28;43mself\u001b[39;49m\u001b[43m,\u001b[49m\u001b[43m \u001b[49m\u001b[43mload_all_files\u001b[49m\u001b[38;5;241;43m=\u001b[39;49m\u001b[38;5;28;43;01mFalse\u001b[39;49;00m\u001b[43m)\u001b[49m\n\u001b[1;32m     42\u001b[0m \u001b[38;5;66;03m# self.all_template_stores[id].root = self.designated_root\u001b[39;00m\n\u001b[1;32m     43\u001b[0m \u001b[38;5;66;03m# self.all_template_stores[id].initialize_store()\u001b[39;00m\n\u001b[1;32m     44\u001b[0m \u001b[38;5;28mself\u001b[39m\u001b[38;5;241m.\u001b[39mall_spec_stores[\u001b[38;5;28mid\u001b[39m] \u001b[38;5;241m=\u001b[39m GEMDSpecStore(\u001b[38;5;28mid\u001b[39m, root\u001b[38;5;241m=\u001b[39m\u001b[38;5;28mself\u001b[39m\u001b[38;5;241m.\u001b[39mdesignated_root, stores_config\u001b[38;5;241m=\u001b[39m\u001b[38;5;28mself\u001b[39m, load_all_files\u001b[38;5;241m=\u001b[39m\u001b[38;5;28;01mFalse\u001b[39;00m)\n",
      "File \u001b[0;32m/srv/hemi01-j01/openmsimodel/openmsimodel/stores/gemd_template_store.py:95\u001b[0m, in \u001b[0;36mGEMDTemplateStore.__init__\u001b[0;34m(self, id, root, encoder, stores_config, load_all_files)\u001b[0m\n\u001b[1;32m     93\u001b[0m \u001b[38;5;28;01mif\u001b[39;00m stores_config \u001b[38;5;129;01mand\u001b[39;00m stores_config\u001b[38;5;241m.\u001b[39mactivated:\n\u001b[1;32m     94\u001b[0m     \u001b[38;5;28mself\u001b[39m\u001b[38;5;241m.\u001b[39mstores_config \u001b[38;5;241m=\u001b[39m stores_config\n\u001b[0;32m---> 95\u001b[0m     \u001b[38;5;28;43mself\u001b[39;49m\u001b[38;5;241;43m.\u001b[39;49m\u001b[43mstores_config\u001b[49m\u001b[38;5;241;43m.\u001b[39;49m\u001b[43mregister_store\u001b[49m\u001b[43m(\u001b[49m\u001b[38;5;28;43mself\u001b[39;49m\u001b[43m)\u001b[49m\n",
      "File \u001b[0;32m/srv/hemi01-j01/openmsimodel/openmsimodel/stores/stores_config.py:55\u001b[0m, in \u001b[0;36mStoresConfig.register_store\u001b[0;34m(self, store)\u001b[0m\n\u001b[1;32m     53\u001b[0m         \u001b[38;5;28mself\u001b[39m\u001b[38;5;241m.\u001b[39mall_template_stores[store\u001b[38;5;241m.\u001b[39mid] \u001b[38;5;241m=\u001b[39m store\n\u001b[1;32m     54\u001b[0m         \u001b[38;5;28mself\u001b[39m\u001b[38;5;241m.\u001b[39mall_template_stores[store\u001b[38;5;241m.\u001b[39mid]\u001b[38;5;241m.\u001b[39mstores_config \u001b[38;5;241m=\u001b[39m \u001b[38;5;28mself\u001b[39m\n\u001b[0;32m---> 55\u001b[0m         \u001b[38;5;28;43mself\u001b[39;49m\u001b[38;5;241;43m.\u001b[39;49m\u001b[43mall_template_stores\u001b[49m\u001b[43m[\u001b[49m\u001b[43mstore\u001b[49m\u001b[38;5;241;43m.\u001b[39;49m\u001b[43mid\u001b[49m\u001b[43m]\u001b[49m\u001b[38;5;241;43m.\u001b[39;49m\u001b[43minitialize_store\u001b[49m\u001b[43m(\u001b[49m\u001b[43m)\u001b[49m\n\u001b[1;32m     56\u001b[0m \u001b[38;5;28;01mif\u001b[39;00m \u001b[38;5;28mtype\u001b[39m(store) \u001b[38;5;241m==\u001b[39m GEMDSpecStore:\n\u001b[1;32m     57\u001b[0m     \u001b[38;5;28;01mif\u001b[39;00m store\u001b[38;5;241m.\u001b[39mid \u001b[38;5;129;01min\u001b[39;00m \u001b[38;5;28mself\u001b[39m\u001b[38;5;241m.\u001b[39mall_spec_stores\u001b[38;5;241m.\u001b[39mkeys():\n",
      "File \u001b[0;32m/srv/hemi01-j01/openmsimodel/openmsimodel/stores/gemd_template_store.py:258\u001b[0m, in \u001b[0;36mGEMDTemplateStore.initialize_store\u001b[0;34m(self)\u001b[0m\n\u001b[1;32m    252\u001b[0m \u001b[38;5;28;01mdef\u001b[39;00m \u001b[38;5;21minitialize_store\u001b[39m(\u001b[38;5;28mself\u001b[39m):\n\u001b[1;32m    253\u001b[0m     \u001b[38;5;66;03m# TODO raiseinitialize_store error if not exists\u001b[39;00m\n\u001b[1;32m    254\u001b[0m     \u001b[38;5;66;03m# if os.path.isdir(self.root):\u001b[39;00m\n\u001b[1;32m    255\u001b[0m     \u001b[38;5;66;03m#     shutil.rmtree(self.root)\u001b[39;00m\n\u001b[1;32m    256\u001b[0m     \u001b[38;5;66;03m# os.mkdir(self.root)\u001b[39;00m\n\u001b[1;32m    257\u001b[0m     \u001b[38;5;28;01mfor\u001b[39;00m subfolder \u001b[38;5;129;01min\u001b[39;00m \u001b[38;5;28mself\u001b[39m\u001b[38;5;241m.\u001b[39mstore_folders\u001b[38;5;241m.\u001b[39mvalues():\n\u001b[0;32m--> 258\u001b[0m         \u001b[43mos\u001b[49m\u001b[38;5;241;43m.\u001b[39;49m\u001b[43mmkdir\u001b[49m\u001b[43m(\u001b[49m\u001b[43msubfolder\u001b[49m\u001b[43m)\u001b[49m\n\u001b[1;32m    259\u001b[0m     \u001b[38;5;28;01mwith\u001b[39;00m \u001b[38;5;28mopen\u001b[39m(\u001b[38;5;28mself\u001b[39m\u001b[38;5;241m.\u001b[39mregistry_path, \u001b[38;5;124m\"\u001b[39m\u001b[38;5;124mw\u001b[39m\u001b[38;5;124m\"\u001b[39m) \u001b[38;5;28;01mas\u001b[39;00m registry_csv_file:\n\u001b[1;32m    260\u001b[0m         registry_writer \u001b[38;5;241m=\u001b[39m csv\u001b[38;5;241m.\u001b[39mwriter(registry_csv_file, delimiter\u001b[38;5;241m=\u001b[39m\u001b[38;5;124m\"\u001b[39m\u001b[38;5;124m,\u001b[39m\u001b[38;5;124m\"\u001b[39m)\n",
      "\u001b[0;31mFileExistsError\u001b[0m: [Errno 17] File exists: '/srv/hemi01-j01/openmsimodel/examples/materials_data/local/property_templates'"
     ]
    }
   ],
   "source": [
    "from openmsimodel.science_kit.science_kit import ScienceKit\n",
    "from openmsimodel.entity.gemd.material import Material\n",
    "from openmsimodel.entity.gemd.process import Process\n",
    "from openmsimodel.entity.gemd.measurement import Measurement\n",
    "from openmsimodel.entity.gemd.ingredient import Ingredient\n",
    "from openmsimodel.structures.materials_sequence import MaterialsSequence\n",
    "from openmsimodel.db.open_db import OpenDB\n",
    "from openmsimodel.graph.open_graph import OpenGraph\n",
    "from openmsimodel.graph.helpers import launch_graph_widget\n",
    "import openmsimodel.stores.stores_config as stores_tools\n",
    "stores_tools.stores_config = stores_tools.StoresConfig(activated=True, designated_root='/srv/hemi01-j01/openmsimodel/examples/materials_data/local')"
   ]
  },
  {
   "cell_type": "code",
   "execution_count": null,
   "metadata": {},
   "outputs": [],
   "source": [
    "from pathlib import Path"
   ]
  },
  {
   "attachments": {},
   "cell_type": "markdown",
   "metadata": {},
   "source": [
    "Let's start by building GEMD templates."
   ]
  },
  {
   "cell_type": "code",
   "execution_count": null,
   "metadata": {},
   "outputs": [],
   "source": [
    "temperature_measurement_template = MeasurementTemplate(\"Temperature\")\n",
    "polishing_process_template = ProcessTemplate(\"Polishing\")\n",
    "alloy_material_template = MaterialTemplate(\"Alloy\")"
   ]
  },
  {
   "attachments": {},
   "cell_type": "markdown",
   "metadata": {},
   "source": [
    "You can interact with OpenMSIModel in many ways:\n",
    "\n",
    "Let's wrap your GEMD templates with an entity of type GEMD Element (e.g., Material, Process, Measurement, Ingredient) class. It will create and associate the relevant specs and runs. "
   ]
  },
  {
   "cell_type": "code",
   "execution_count": null,
   "metadata": {},
   "outputs": [
    {
     "name": "stdout",
     "output_type": "stream",
     "text": [
      "<openmsimodel.stores.stores_config.StoresConfig object at 0x7f36335433d0>\n",
      "True\n",
      "<openmsimodel.stores.stores_config.StoresConfig object at 0x7f36335433d0>\n",
      "True\n"
     ]
    }
   ],
   "source": [
    "name = \"Alloy\"\n",
    "alloy_material_run = MaterialRun(name)\n",
    "alloy_material_spec = MaterialSpec(name, template=alloy_material_template)\n",
    "polished_alloy_material = Material.from_spec_or_run(name, spec=alloy_material_spec, run=alloy_material_run) #\n",
    "alloy_ingredient = Ingredient(name)\n",
    "polishing_process = Process(\"Polishing\", template=polishing_process_template)\n",
    "temperature_measurement = Measurement(\"Temperature\", template=temperature_measurement_template)"
   ]
  },
  {
   "attachments": {},
   "cell_type": "markdown",
   "metadata": {},
   "source": [
    "Your elements objects can be further composed into larger structures that fit different purposes.\n",
    "\n",
    "A MaterialsSequence represent the natural and most common sequence of:\n",
    "ingredients--(is used in a)-->process--(which outputs)-->material--(which generates)-->measurements.\n",
    "\n",
    "Another example is MaterialsRepeatedSequence which can groups sequences that have the sample template across an entire graph, but doesn't necessarily helps build models. This shows that many kind of tools can be built around our wrapper, which abstract the initial GEMD layer. \n",
    "\n",
    "All of these tools, including but not only structures, exist inside your ScienceKit, which encompasses the entirety of your knowledge."
   ]
  },
  {
   "cell_type": "code",
   "execution_count": null,
   "metadata": {},
   "outputs": [
    {
     "ename": "NameError",
     "evalue": "name 'temperature_measurement' is not defined",
     "output_type": "error",
     "traceback": [
      "\u001b[0;31m---------------------------------------------------------------------------\u001b[0m",
      "\u001b[0;31mNameError\u001b[0m                                 Traceback (most recent call last)",
      "Cell \u001b[0;32mIn[6], line 9\u001b[0m\n\u001b[1;32m      1\u001b[0m science_kit \u001b[38;5;241m=\u001b[39m ScienceKit()\n\u001b[1;32m      3\u001b[0m polishing_sequence \u001b[38;5;241m=\u001b[39m MaterialsSequence(\n\u001b[1;32m      4\u001b[0m     name\u001b[38;5;241m=\u001b[39m\u001b[38;5;124mf\u001b[39m\u001b[38;5;124m\"\u001b[39m\u001b[38;5;124mPolishing Alloy\u001b[39m\u001b[38;5;124m\"\u001b[39m,\n\u001b[1;32m      5\u001b[0m     science_kit\u001b[38;5;241m=\u001b[39mscience_kit,\n\u001b[1;32m      6\u001b[0m     ingredients\u001b[38;5;241m=\u001b[39m[alloy_ingredient],\n\u001b[1;32m      7\u001b[0m     process\u001b[38;5;241m=\u001b[39mpolishing_process,\n\u001b[1;32m      8\u001b[0m     material\u001b[38;5;241m=\u001b[39mpolished_alloy_material,\n\u001b[0;32m----> 9\u001b[0m     measurements\u001b[38;5;241m=\u001b[39m[\u001b[43mtemperature_measurement\u001b[49m],\n\u001b[1;32m     10\u001b[0m )\n\u001b[1;32m     11\u001b[0m polishing_sequence\u001b[38;5;241m.\u001b[39mlink_within()\n",
      "\u001b[0;31mNameError\u001b[0m: name 'temperature_measurement' is not defined"
     ]
    }
   ],
   "source": [
    "science_kit = ScienceKit()\n",
    "\n",
    "polishing_sequence = MaterialsSequence(\n",
    "    name=f\"Polishing Alloy\",\n",
    "    science_kit=science_kit,\n",
    "    ingredients=[alloy_ingredient],\n",
    "    process=polishing_process,\n",
    "    material=polished_alloy_material,\n",
    "    measurements=[temperature_measurement],\n",
    ")\n",
    "polishing_sequence.link_within()"
   ]
  },
  {
   "attachments": {},
   "cell_type": "markdown",
   "metadata": {},
   "source": [
    "MaterialsSequence can also be formed from a spec and/or run, so from one GEMD object, you can reconstruct its logical neighbors of which there can be a large number (i.e., a sequence with many ingredients and measurements)"
   ]
  },
  {
   "cell_type": "code",
   "execution_count": null,
   "metadata": {},
   "outputs": [],
   "source": [
    "polishing_sequence_2 = MaterialsSequence.from_spec_or_run('Polishing Alloy', run=polished_alloy_material.run)"
   ]
  },
  {
   "attachments": {},
   "cell_type": "markdown",
   "metadata": {},
   "source": [
    "Now that we polished our alloy, let's heat it."
   ]
  },
  {
   "cell_type": "code",
   "execution_count": null,
   "metadata": {},
   "outputs": [],
   "source": [
    "polished_alloy_ingredient = Ingredient(\"Polished Alloy Ingredient\")\n",
    "heating_process = Process(\"Heating\", template=ProcessTemplate(\"Heating\", parameters=ParameterTemplate(\n",
    "    name=\"Temperature\",\n",
    "    bounds=RealBounds(0, 1500, \"Kelvin\"),\n",
    ")))\n",
    "heated_alloy = Material(\"Heated Alloy\", template=alloy_material_template)\n",
    "temperature_measurement = Measurement('Post-Heating Temperature', template=temperature_measurement_template)\n",
    "heating_sequence = MaterialsSequence(\n",
    "    name=f\"Heating Alloy\",\n",
    "    science_kit=science_kit,\n",
    "    material=heated_alloy,\n",
    "    ingredients=[polished_alloy_ingredient],\n",
    "    process=heating_process,\n",
    "    measurements=[temperature_measurement],\n",
    ")\n",
    "heating_sequence.link_within() \n",
    "heating_sequence.link_prior(polishing_sequence, ingredient_name_to_link=\"Polished Alloy Ingredient\")\n"
   ]
  },
  {
   "attachments": {},
   "cell_type": "markdown",
   "metadata": {},
   "source": [
    "as you can see above, MaterialsSequence can be linked between one another, so you can chain your workflow with more ease. "
   ]
  },
  {
   "attachments": {},
   "cell_type": "markdown",
   "metadata": {},
   "source": [
    "Let's visualize what our graph looks like..."
   ]
  },
  {
   "cell_type": "code",
   "execution_count": null,
   "metadata": {},
   "outputs": [],
   "source": [
    "to_be_visualized = science_kit.assets()\n",
    "output = str(Path().absolute() / \"output\")\n",
    "open_graph = OpenGraph(name=\"Polishing,Heating\", \n",
    "    science_kit=science_kit, \n",
    "    source=to_be_visualized, \n",
    "    output=output, \n",
    "    which='run', \n",
    "    dump_svg_and_dot=True)\n",
    "G, relabeled_G, name_mapping = open_graph.build_graph(save=True)\n",
    "launch_graph_widget(graph_source=science_kit.open_graphs[\"Polishing,Heating\"].graphml_path, engine='yfiles') # ... you can pass 'G' or the path to the graphml file"
   ]
  },
  {
   "attachments": {},
   "cell_type": "markdown",
   "metadata": {},
   "source": [
    "... and query some of its data from the database!"
   ]
  },
  {
   "cell_type": "code",
   "execution_count": null,
   "metadata": {},
   "outputs": [],
   "source": [
    "db_name = \"GEMD\"\n",
    "open_db = OpenDB(database_name=db_name, \n",
    "    science_kit=science_kit, \n",
    "    private_path=\"/home/arachid1/.private/gemd_db.json\", \n",
    "    output=output)\n",
    "\n",
    "table_name = \"materials_data\"\n",
    "science_kit.open_dbs[db_name].custom_query(\"select top 3 context from gemdobject c where c.model_id={}\".format(table_name))"
   ]
  }
 ],
 "metadata": {
  "kernelspec": {
   "display_name": "birdshot",
   "language": "python",
   "name": "python3"
  },
  "language_info": {
   "codemirror_mode": {
    "name": "ipython",
    "version": 3
   },
   "file_extension": ".py",
   "mimetype": "text/x-python",
   "name": "python",
   "nbconvert_exporter": "python",
   "pygments_lexer": "ipython3",
   "version": "3.9.16"
  },
  "orig_nbformat": 4,
  "vscode": {
   "interpreter": {
    "hash": "c93de424c187b5f45150c4b68957697054d2d10439b831359c08b5dbeaa012b5"
   }
  }
 },
 "nbformat": 4,
 "nbformat_minor": 2
}
