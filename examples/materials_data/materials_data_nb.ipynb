{
 "cells": [
  {
   "attachments": {},
   "cell_type": "markdown",
   "metadata": {},
   "source": [
    "# Materials Data "
   ]
  },
  {
   "cell_type": "code",
   "execution_count": null,
   "metadata": {},
   "outputs": [],
   "source": [
    "from gemd import MaterialTemplate, ProcessTemplate, MeasurementTemplate, ParameterTemplate, MaterialRun, MaterialSpec, RealBounds"
   ]
  },
  {
   "cell_type": "code",
   "execution_count": null,
   "metadata": {},
   "outputs": [],
   "source": [
    "from openmsimodel.science_kit.science_kit import ScienceKit\n",
    "from openmsimodel.entity.gemd.material import Material\n",
    "from openmsimodel.entity.gemd.process import Process\n",
    "from openmsimodel.entity.gemd.measurement import Measurement\n",
    "from openmsimodel.entity.gemd.ingredient import Ingredient\n",
    "from openmsimodel.tools.structures.materials_sequence import MaterialsSequence\n",
    "from openmsimodel.db.open_db import OpenDB\n",
    "from openmsimodel.graph.open_graph import OpenGraph\n",
    "from openmsimodel.graph.helpers import launch_graph_widget"
   ]
  },
  {
   "cell_type": "code",
   "execution_count": null,
   "metadata": {},
   "outputs": [],
   "source": [
    "from pathlib import Path"
   ]
  },
  {
   "attachments": {},
   "cell_type": "markdown",
   "metadata": {},
   "source": [
    "Let's start by building GEMD templates."
   ]
  },
  {
   "cell_type": "code",
   "execution_count": null,
   "metadata": {},
   "outputs": [],
   "source": [
    "temperature_measurement_template = MeasurementTemplate(\"Temperature\")\n",
    "polishing_process_template = ProcessTemplate(\"Polishing\")\n",
    "alloy_material_template = MaterialTemplate(\"Alloy\")"
   ]
  },
  {
   "attachments": {},
   "cell_type": "markdown",
   "metadata": {},
   "source": [
    "You can interact with OpenMSIModel in many ways:\n",
    "\n",
    "Let's wrap your GEMD templates with an entity of type GEMD Element (e.g., Material, Process, Measurement, Ingredient) class. It will create and associate the relevant specs and runs. "
   ]
  },
  {
   "cell_type": "code",
   "execution_count": null,
   "metadata": {},
   "outputs": [],
   "source": [
    "alloy_ingredient = Ingredient(\"Alloy Ingredient\")\n",
    "polishing_process = Process(\"Polishing\", template=polishing_process_template)\n",
    "polished_alloy_material = Material(\"Polished Alloy\", template=alloy_material_template)\n",
    "temperature_measurement = Measurement('Pre-Heating Temperature', template=temperature_measurement_template)"
   ]
  },
  {
   "attachments": {},
   "cell_type": "markdown",
   "metadata": {},
   "source": [
    "Alternatively, you can build a GEMD Element object from a spec and/or run directly. It ensures the new correct links are made between GEMD objects, and that there is no duplication of specs or templates. "
   ]
  },
  {
   "cell_type": "code",
   "execution_count": null,
   "metadata": {},
   "outputs": [],
   "source": [
    "name = \"Alloy\"\n",
    "alloy_material_run = MaterialRun(name)\n",
    "alloy_material_spec = MaterialSpec(name, template=alloy_material_template)\n",
    "polished_alloy_material_2 = Material.from_spec_or_run(name, spec=alloy_material_spec, run=alloy_material_run) #"
   ]
  },
  {
   "attachments": {},
   "cell_type": "markdown",
   "metadata": {},
   "source": [
    "Your elements objects can be further composed into larger structures that fit different purposes.\n",
    "\n",
    "A MaterialsSequence represent the natural and most common sequence of:\n",
    "ingredients--(is used in a)-->process--(which outputs)-->material--(which generates)-->measurements.\n",
    "\n",
    "Another example is MaterialsRepeatedSequence which can groups sequences that have the sample template across an entire graph, but doesn't necessarily helps build models. This shows that many kind of tools can be built around our wrapper, which abstract the initial GEMD layer. \n",
    "\n",
    "All of these tools, including but not only structures, exist inside your ScienceKit, which encompasses the entirety of your knowledge."
   ]
  },
  {
   "cell_type": "code",
   "execution_count": null,
   "metadata": {},
   "outputs": [],
   "source": [
    "science_kit = ScienceKit()\n",
    "\n",
    "polishing_block = MaterialsSequence(\n",
    "    name=f\"Polishing Alloy\",\n",
    "    science_kit=science_kit,\n",
    "    ingredients=[alloy_ingredient],\n",
    "    process=polishing_process,\n",
    "    material=polished_alloy_material,\n",
    "    measurements=[temperature_measurement],\n",
    ")\n",
    "polishing_block.link_within()"
   ]
  },
  {
   "attachments": {},
   "cell_type": "markdown",
   "metadata": {},
   "source": [
    "MaterialsSequence can also be formed from a spec and/or run, so from one GEMD object, you can reconstruct its logical neighbors of which there can be a large number (i.e., a sequence with many ingredients and measurements)"
   ]
  },
  {
   "cell_type": "code",
   "execution_count": null,
   "metadata": {},
   "outputs": [],
   "source": [
    "polishing_block_2 = MaterialsSequence.from_spec_or_run('Polishing Alloy', run=polished_alloy_material.run)"
   ]
  },
  {
   "attachments": {},
   "cell_type": "markdown",
   "metadata": {},
   "source": [
    "Now that we polished our alloy, let's heat it."
   ]
  },
  {
   "cell_type": "code",
   "execution_count": null,
   "metadata": {},
   "outputs": [],
   "source": [
    "polished_alloy_ingredient = Ingredient(\"Polished Alloy Ingredient\")\n",
    "heating_process = Process(\"Heating\", template=ProcessTemplate(\"Heating\", parameters=ParameterTemplate(\n",
    "    name=\"Temperature\",\n",
    "    bounds=RealBounds(0, 1500, \"Kelvin\"),\n",
    ")))\n",
    "heated_alloy = Material(\"Heated Alloy\", template=alloy_material_template)\n",
    "temperature_measurement = Measurement('Post-Heating Temperature', template=temperature_measurement_template)\n",
    "heating_block = MaterialsSequence(\n",
    "    name=f\"Heating Alloy\",\n",
    "    science_kit=science_kit,\n",
    "    material=heated_alloy,\n",
    "    ingredients=[polished_alloy_ingredient],\n",
    "    process=heating_process,\n",
    "    measurements=[temperature_measurement],\n",
    ")\n",
    "heating_block.link_within() \n",
    "heating_block.link_prior(polishing_block, ingredient_name_to_link=\"Polished Alloy Ingredient\")\n"
   ]
  },
  {
   "attachments": {},
   "cell_type": "markdown",
   "metadata": {},
   "source": [
    "as you can see above, MaterialsSequence can be linked between one another, so you can chain your workflow with more ease. "
   ]
  },
  {
   "attachments": {},
   "cell_type": "markdown",
   "metadata": {},
   "source": [
    "Let's visualize what our graph looks like..."
   ]
  },
  {
   "cell_type": "code",
   "execution_count": null,
   "metadata": {},
   "outputs": [],
   "source": [
    "to_be_visualized = science_kit.assets\n",
    "output = str(Path().absolute() / \"output\")\n",
    "print(output)\n",
    "open_graph = OpenGraph(name=\"Polishing & Heating \", source=to_be_visualized, output=output, which='run', dump_svg_and_dot=True)\n",
    "G, relabeled_G, name_mapping = open_graph.build_graph()\n",
    "launch_graph_widget(graph_source=open_graph.graphml_path, engine='yfiles') # ... you can pass 'G' or  the path to the graphml file"
   ]
  },
  {
   "attachments": {},
   "cell_type": "markdown",
   "metadata": {},
   "source": [
    "... and query some of its data from the database!"
   ]
  },
  {
   "cell_type": "code",
   "execution_count": null,
   "metadata": {},
   "outputs": [],
   "source": [
    "db_name = \"GEMD\"\n",
    "open_db = OpenDB(database_name=db_name, private_path=\"/path/to/private/key\", output=output)\n",
    "\n",
    "table_name = \"materials_data\"\n",
    "open_db.load_model(table_name, dirpath=output)\n",
    "open_db.custom_query(\"select top 3 context from gemdobject c where c.model_id={}\".format(table_name))"
   ]
  }
 ],
 "metadata": {
  "kernelspec": {
   "display_name": "birdshot",
   "language": "python",
   "name": "python3"
  },
  "language_info": {
   "codemirror_mode": {
    "name": "ipython",
    "version": 3
   },
   "file_extension": ".py",
   "mimetype": "text/x-python",
   "name": "python",
   "nbconvert_exporter": "python",
   "pygments_lexer": "ipython3",
   "version": "3.9.16"
  },
  "orig_nbformat": 4,
  "vscode": {
   "interpreter": {
    "hash": "c93de424c187b5f45150c4b68957697054d2d10439b831359c08b5dbeaa012b5"
   }
  }
 },
 "nbformat": 4,
 "nbformat_minor": 2
}
