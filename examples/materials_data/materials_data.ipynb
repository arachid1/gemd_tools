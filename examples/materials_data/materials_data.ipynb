{
 "cells": [
  {
   "cell_type": "code",
   "execution_count": null,
   "metadata": {},
   "outputs": [],
   "source": [
    "%load_ext autoreload\n",
    "%autoreload 2"
   ]
  },
  {
   "attachments": {},
   "cell_type": "markdown",
   "metadata": {},
   "source": [
    "Complete `installation steps <#installation>`_ and add the following imports:"
   ]
  },
  {
   "cell_type": "code",
   "execution_count": null,
   "metadata": {},
   "outputs": [],
   "source": [
    "from pathlib import Path "
   ]
  },
  {
   "cell_type": "code",
   "execution_count": null,
   "metadata": {},
   "outputs": [],
   "source": [
    "from gemd import MaterialTemplate, ProcessTemplate, MeasurementTemplate, ParameterTemplate, RealBounds"
   ]
  },
  {
   "cell_type": "code",
   "execution_count": null,
   "metadata": {},
   "outputs": [],
   "source": [
    "from openmsimodel.science_kit.science_kit import ScienceKit\n",
    "from openmsimodel.tools.structures.materials_sequence import MaterialsSequence\n",
    "from openmsimodel.entity.gemd.material import Material\n",
    "from openmsimodel.entity.gemd.process import Process\n",
    "from openmsimodel.entity.gemd.measurement import Measurement\n",
    "from openmsimodel.entity.gemd.ingredient import Ingredient\n",
    "from openmsimodel.db.open_db import OpenDB\n",
    "from openmsimodel.graph.open_graph import OpenGraph"
   ]
  },
  {
   "attachments": {},
   "cell_type": "markdown",
   "metadata": {},
   "source": [
    "Then, start interacting with OpenMSIModel by:\n",
    "\n",
    "* Building a GEMD Object..."
   ]
  },
  {
   "cell_type": "code",
   "execution_count": null,
   "metadata": {},
   "outputs": [],
   "source": [
    "heating_process_template = ProcessTemplate(\"Heating\")\n",
    "alloy_material_template = MaterialTemplate(\"Alloy\")"
   ]
  },
  {
   "attachments": {},
   "cell_type": "markdown",
   "metadata": {},
   "source": [
    "...and wrap it with a Element class."
   ]
  },
  {
   "cell_type": "code",
   "execution_count": null,
   "metadata": {},
   "outputs": [],
   "source": [
    "alloy_ingredient = Ingredient(\"Alloy Ingredient\")\n",
    "polishing_process = Process(\"Polishing\", template=heating_process_template)\n",
    "polished_alloy = Material(\"Polished Alloy\", template=alloy_material_template)"
   ]
  },
  {
   "attachments": {},
   "cell_type": "markdown",
   "metadata": {},
   "source": [
    "Structure it as desired..."
   ]
  },
  {
   "cell_type": "code",
   "execution_count": null,
   "metadata": {},
   "outputs": [],
   "source": [
    "science_kit = ScienceKit()\n",
    "\n",
    "polishing_block = MaterialsSequence(\n",
    "    name=f\"Polishing Alloy\",\n",
    "    science_kit=science_kit,\n",
    "    material=polished_alloy,\n",
    "    ingredients=[alloy_ingredient],\n",
    "    process=polishing_process,\n",
    "    measurements=[],\n",
    ")\n",
    "polishing_block.link_within()"
   ]
  },
  {
   "cell_type": "code",
   "execution_count": null,
   "metadata": {},
   "outputs": [],
   "source": [
    "polished_alloy_ingredient = Ingredient(\"Polished Alloy Ingredient\")\n",
    "heating_process = Process(\"Heating\", template=ProcessTemplate(\"Heating\", parameters=ParameterTemplate(\n",
    "    name=\"Temperature\",\n",
    "    bounds=RealBounds(0, 1500, \"Kelvin\"),\n",
    ")))\n",
    "heated_alloy = Material(\"Heated Alloy\", template=alloy_material_template)\n",
    "heating_block = MaterialsSequence(\n",
    "    name=f\"Heating Alloy\",\n",
    "    science_kit=science_kit,\n",
    "    material=heated_alloy,\n",
    "    ingredients=[polished_alloy_ingredient],\n",
    "    process=heating_process,\n",
    "    measurements=[],\n",
    ")\n",
    "heating_block.link_within() \n",
    "heating_block.link_prior(polishing_block, ingredient_name_to_link=\"Polished Alloy Ingredient\")\n"
   ]
  },
  {
   "cell_type": "code",
   "execution_count": null,
   "metadata": {},
   "outputs": [],
   "source": [
    "to_be_visualized = heating_block.gemd_assets\n",
    "output = str(Path().absolute() / \"output\")\n",
    "print(output)\n",
    "open_graph = OpenGraph(name=\"heating\", source=to_be_visualized, output=output, which='all', dump_svg_and_dot=True)\n",
    "G, relabeled_G, name_mapping = open_graph.build_graph()"
   ]
  },
  {
   "attachments": {},
   "cell_type": "markdown",
   "metadata": {},
   "source": [
    "# MaterialsSequence"
   ]
  },
  {
   "cell_type": "code",
   "execution_count": null,
   "metadata": {},
   "outputs": [],
   "source": [
    "name = str(polishing_process.name)"
   ]
  },
  {
   "cell_type": "code",
   "execution_count": null,
   "metadata": {},
   "outputs": [],
   "source": [
    "block = MaterialsSequence.from_spec_or_run(\n",
    "    name, notes=None, spec=polishing_process.spec, run=polishing_process.run\n",
    ")"
   ]
  },
  {
   "cell_type": "code",
   "execution_count": null,
   "metadata": {},
   "outputs": [],
   "source": [
    "open_graph = OpenGraph(name=name, source=block.gemd_assets, output=output, which='all', dump_svg_and_dot=True)\n",
    "G, relabeled_G, name_mapping = open_graph.build_graph()"
   ]
  }
 ],
 "metadata": {
  "kernelspec": {
   "display_name": "birdshot",
   "language": "python",
   "name": "python3"
  },
  "language_info": {
   "codemirror_mode": {
    "name": "ipython",
    "version": 3
   },
   "file_extension": ".py",
   "mimetype": "text/x-python",
   "name": "python",
   "nbconvert_exporter": "python",
   "pygments_lexer": "ipython3",
   "version": "3.9.16 (main, Mar  8 2023, 14:00:05) \n[GCC 11.2.0]"
  },
  "orig_nbformat": 4,
  "vscode": {
   "interpreter": {
    "hash": "c93de424c187b5f45150c4b68957697054d2d10439b831359c08b5dbeaa012b5"
   }
  }
 },
 "nbformat": 4,
 "nbformat_minor": 2
}
