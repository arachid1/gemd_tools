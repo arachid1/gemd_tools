{
 "cells": [
  {
   "cell_type": "code",
   "execution_count": 10,
   "metadata": {},
   "outputs": [],
   "source": [
    "from pathlib import Path \n",
    "from gemd import MaterialTemplate, ProcessTemplate, MeasurementTemplate\n",
    "from openmsimodel.workflow.workflow import Workflow\n",
    "from openmsimodel.subworkflow.process_block import ProcessBlock\n",
    "from openmsimodel.entity.gemd.material import Material\n",
    "from openmsimodel.entity.gemd.process import Process\n",
    "from openmsimodel.entity.gemd.measurement import Measurement\n",
    "from openmsimodel.db.open_db import OpenDB\n",
    "from openmsimodel.graph.open_graph import OpenGraph"
   ]
  },
  {
   "cell_type": "code",
   "execution_count": 11,
   "metadata": {},
   "outputs": [
    {
     "name": "stdout",
     "output_type": "stream",
     "text": [
      "no ingredients and process for block 'Heating Block' were linked. \n"
     ]
    }
   ],
   "source": [
    "w = Workflow()\n",
    "process = Process(\"Heating\", template=ProcessTemplate(\"Heating\"))\n",
    "material = Material(\"Heated Alloy\", template=MaterialTemplate(\"Heated Alloy\"))\n",
    "block = ProcessBlock(\n",
    "    name=f\"Heating Block\",\n",
    "    workflow=w,\n",
    "    material=material,\n",
    "    ingredients={},\n",
    "    process=process,\n",
    "    measurements={},\n",
    ")\n",
    "block.link_within() # 4 links completed in one statement"
   ]
  },
  {
   "cell_type": "code",
   "execution_count": 16,
   "metadata": {},
   "outputs": [
    {
     "name": "stdout",
     "output_type": "stream",
     "text": [
      "/srv/hemi01-j01/openmsimodel/examples/docs/output\n",
      "-- Building alls of list with 6 items\n",
      "Extracting list...\n",
      "Done.\n",
      "Dumping svg...\n",
      "Time elapsed: 0.018632173538208008\n",
      "Dumping dot...\n",
      "Time elapsed: 0.00029921531677246094\n",
      "Dumping graphml...\n",
      "Time elapsed: 0.19615411758422852\n",
      "-- Saved graph to /srv/hemi01-j01/openmsimodel/examples/docs/output/Heating Block_all.dot, /srv/hemi01-j01/openmsimodel/examples/docs/output/Heating Block_all.svg and /srv/hemi01-j01/openmsimodel/examples/docs/output/Heating Block_all.graphml\n",
      "-- Analysis --\n",
      "cycles in the graph: []\n",
      "disregarder/total number of gemd objects: 0/6\n",
      "total nb of isolates in the graph: 0\n"
     ]
    }
   ],
   "source": [
    "to_be_visualized = block.return_all_gemd()\n",
    "output = str(Path().absolute() / \"output\")\n",
    "print(output)\n",
    "assets_to_add = {\n",
    "        \"add_attributes\": 1,\n",
    "        \"add_file_links\": 1,\n",
    "        \"add_tags\": 1,\n",
    "    }\n",
    "open_graph = OpenGraph(\"Heating Block\", dirpath=to_be_visualized, output=output, layout='visualization', add_bidirectional_edges=False)\n",
    "G, relabeled_G, name_mapping = open_graph.build_graph(\n",
    "    assets_to_add=assets_to_add,\n",
    "    add_separate_node=False,\n",
    "    which='all',\n",
    ")"
   ]
  },
  {
   "cell_type": "code",
   "execution_count": null,
   "metadata": {},
   "outputs": [],
   "source": []
  }
 ],
 "metadata": {
  "kernelspec": {
   "display_name": "birdshot",
   "language": "python",
   "name": "python3"
  },
  "language_info": {
   "codemirror_mode": {
    "name": "ipython",
    "version": 3
   },
   "file_extension": ".py",
   "mimetype": "text/x-python",
   "name": "python",
   "nbconvert_exporter": "python",
   "pygments_lexer": "ipython3",
   "version": "3.9.16 (main, Mar  8 2023, 14:00:05) \n[GCC 11.2.0]"
  },
  "orig_nbformat": 4,
  "vscode": {
   "interpreter": {
    "hash": "c93de424c187b5f45150c4b68957697054d2d10439b831359c08b5dbeaa012b5"
   }
  }
 },
 "nbformat": 4,
 "nbformat_minor": 2
}
