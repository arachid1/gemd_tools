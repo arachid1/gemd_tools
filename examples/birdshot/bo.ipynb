{
 "cells": [
  {
   "cell_type": "code",
   "execution_count": 45,
   "metadata": {
    "notebookRunGroups": {
     "groupValue": "1"
    }
   },
   "outputs": [],
   "source": [
    "# %load_ext autoreload\n",
    "# %autoreload 2\n",
    "from openmsimodel.db.open_db import OpenDB\n",
    "from openmsimodel.graph.open_graph import OpenGraph\n",
    "from openmsimodel.workflow.birdshot_workflow import BIRDSHOTWorfklow\n",
    "import networkx as nx\n",
    "import json\n",
    "from pathlib import Path"
   ]
  },
  {
   "attachments": {},
   "cell_type": "markdown",
   "metadata": {},
   "source": [
    "# Workflow"
   ]
  },
  {
   "cell_type": "code",
   "execution_count": 46,
   "metadata": {
    "notebookRunGroups": {
     "groupValue": "1"
    }
   },
   "outputs": [
    {
     "name": "stdout",
     "output_type": "stream",
     "text": [
      "convert /srv/hemi01-j01/openmsimodel/examples/birdshot/input/Sample Data/Iteration2_AAB/Copy of HTMDEC AAB-VAM NI SRJT Set Summary.xlsx -> /srv/hemi01-j01/openmsimodel/examples/birdshot/output/AAB/Copy of HTMDEC AAB-VAM NI SRJT Set Summary.csv using filter : Text - txt - csv (StarCalc)\n",
      "no ingredients and process for block 'Infer Compositions' were linked. \n",
      "no material and process for block 'Infer Compositions' were linked. \n"
     ]
    },
    {
     "name": "stderr",
     "output_type": "stream",
     "text": [
      "Value {'units': 'megapascal', 'nominal': -1666.4729082726535, 'type': 'nominal_real'} is inconsistent with template Tensile\n",
      "Value {'units': 'megapascal', 'nominal': -1666.4729082726535, 'type': 'nominal_real'} is inconsistent with template Tensile\n",
      "Value {'units': 'megapascal', 'nominal': -1948.45757317272, 'type': 'nominal_real'} is inconsistent with template Tensile\n",
      "Value {'units': 'megapascal', 'nominal': -1948.45757317272, 'type': 'nominal_real'} is inconsistent with template Tensile\n",
      "Value {'category': 'BCC', 'type': 'nominal_categorical'} is inconsistent with template XRD\n",
      "Value {'category': 'BCC', 'type': 'nominal_categorical'} is inconsistent with template XRD\n",
      "Value {'category': 'BCC', 'type': 'nominal_categorical'} is inconsistent with template XRD\n",
      "Value {'category': 'BCC', 'type': 'nominal_categorical'} is inconsistent with template XRD\n",
      "Value {'units': 'megapascal', 'nominal': -22333.502289733286, 'type': 'nominal_real'} is inconsistent with template Tensile\n",
      "Value {'units': 'megapascal', 'nominal': -22333.502289733286, 'type': 'nominal_real'} is inconsistent with template Tensile\n",
      "Value {'units': 'megapascal', 'nominal': -26836.257930194057, 'type': 'nominal_real'} is inconsistent with template Tensile\n",
      "Value {'units': 'megapascal', 'nominal': -26836.257930194057, 'type': 'nominal_real'} is inconsistent with template Tensile\n",
      "Value {'units': 'megapascal', 'nominal': -5388.081502853752, 'type': 'nominal_real'} is inconsistent with template Tensile\n",
      "Value {'units': 'megapascal', 'nominal': -5388.081502853752, 'type': 'nominal_real'} is inconsistent with template Tensile\n",
      "Value {'units': 'megapascal', 'nominal': -3084.7591061255675, 'type': 'nominal_real'} is inconsistent with template Tensile\n",
      "Value {'units': 'megapascal', 'nominal': -3084.7591061255675, 'type': 'nominal_real'} is inconsistent with template Tensile\n",
      "Value {'units': 'megapascal', 'nominal': -3790.9480806160213, 'type': 'nominal_real'} is inconsistent with template Tensile\n",
      "Value {'units': 'megapascal', 'nominal': -3790.9480806160213, 'type': 'nominal_real'} is inconsistent with template Tensile\n",
      "Value {'units': 'megapascal', 'nominal': -2842.9335017163635, 'type': 'nominal_real'} is inconsistent with template Tensile\n",
      "Value {'units': 'megapascal', 'nominal': -2842.9335017163635, 'type': 'nominal_real'} is inconsistent with template Tensile\n",
      "Value {'units': 'megapascal', 'nominal': -3748.2670296937067, 'type': 'nominal_real'} is inconsistent with template Tensile\n",
      "Value {'units': 'megapascal', 'nominal': -3748.2670296937067, 'type': 'nominal_real'} is inconsistent with template Tensile\n",
      "Value {'units': 'megapascal', 'nominal': -1528.7096213655125, 'type': 'nominal_real'} is inconsistent with template Tensile\n",
      "Value {'units': 'megapascal', 'nominal': -1528.7096213655125, 'type': 'nominal_real'} is inconsistent with template Tensile\n",
      "Value {'units': 'megapascal', 'nominal': -1006.8840785317249, 'type': 'nominal_real'} is inconsistent with template Tensile\n",
      "Value {'units': 'megapascal', 'nominal': -1006.8840785317249, 'type': 'nominal_real'} is inconsistent with template Tensile\n",
      "Value {'units': 'megapascal', 'nominal': -148.0246468894888, 'type': 'nominal_real'} is inconsistent with template Tensile\n",
      "Value {'units': 'megapascal', 'nominal': -148.0246468894888, 'type': 'nominal_real'} is inconsistent with template Tensile\n",
      "Value {'units': 'megapascal', 'nominal': -475.1215181972957, 'type': 'nominal_real'} is inconsistent with template Tensile\n",
      "Value {'units': 'megapascal', 'nominal': -475.1215181972957, 'type': 'nominal_real'} is inconsistent with template Tensile\n",
      "Value {'units': 'megapascal', 'nominal': -4511.02015220337, 'type': 'nominal_real'} is inconsistent with template Tensile\n",
      "Value {'units': 'megapascal', 'nominal': -4511.02015220337, 'type': 'nominal_real'} is inconsistent with template Tensile\n",
      "Value {'units': 'megapascal', 'nominal': -3655.3745062457406, 'type': 'nominal_real'} is inconsistent with template Tensile\n",
      "Value {'units': 'megapascal', 'nominal': -3655.3745062457406, 'type': 'nominal_real'} is inconsistent with template Tensile\n",
      "Value {'units': 'megapascal', 'nominal': -3392.3505098833903, 'type': 'nominal_real'} is inconsistent with template Tensile\n",
      "Value {'units': 'megapascal', 'nominal': -3392.3505098833903, 'type': 'nominal_real'} is inconsistent with template Tensile\n",
      "Value {'units': 'megapascal', 'nominal': -317.9678691836726, 'type': 'nominal_real'} is inconsistent with template Tensile\n",
      "Value {'units': 'megapascal', 'nominal': -317.9678691836726, 'type': 'nominal_real'} is inconsistent with template Tensile\n",
      "Value {'units': 'gram', 'nominal': -0.02, 'type': 'nominal_real'} is inconsistent with template Weighting\n",
      "Value {'units': 'megapascal', 'nominal': -570.1821994918896, 'type': 'nominal_real'} is inconsistent with template Tensile\n",
      "Value {'units': 'megapascal', 'nominal': -570.1821994918896, 'type': 'nominal_real'} is inconsistent with template Tensile\n",
      "Value {'units': 'megapascal', 'nominal': -543.8630832007486, 'type': 'nominal_real'} is inconsistent with template Tensile\n",
      "Value {'units': 'megapascal', 'nominal': -543.8630832007486, 'type': 'nominal_real'} is inconsistent with template Tensile\n",
      "Value {'category': 'L12', 'type': 'nominal_categorical'} is inconsistent with template XRD\n",
      "Value {'category': 'L12', 'type': 'nominal_categorical'} is inconsistent with template XRD\n",
      "Value {'category': 'L12', 'type': 'nominal_categorical'} is inconsistent with template XRD\n",
      "Value {'category': 'L12', 'type': 'nominal_categorical'} is inconsistent with template XRD\n",
      "Value {'units': 'megapascal', 'nominal': nan, 'type': 'nominal_real'} is inconsistent with template Tensile\n",
      "Value {'units': 'megapascal', 'nominal': nan, 'type': 'nominal_real'} is inconsistent with template Tensile\n",
      "Value {'units': 'megapascal', 'nominal': nan, 'type': 'nominal_real'} is inconsistent with template Tensile\n",
      "Value {'units': 'megapascal', 'nominal': nan, 'type': 'nominal_real'} is inconsistent with template Tensile\n"
     ]
    },
    {
     "name": "stdout",
     "output_type": "stream",
     "text": [
      "no material and process for block 'Infer Compositions' were linked. \n"
     ]
    }
   ],
   "source": [
    "curr_pwd = Path().parent.absolute()\n",
    "root= curr_pwd / \"input/data/AAB\" # put data and Sample Data folders inside input\n",
    "output = curr_pwd / \"output/AAB\"\n",
    "iteration = \"AAB\"\n",
    "aab_synthesis_path = curr_pwd / \"input/Sample Data/Iteration2_AAB/HTMDEC AAB Summary Synthesis Results.xlsx\"\n",
    "aab_srjt_path = curr_pwd / \"input/Sample Data/Iteration2_AAB/Copy of HTMDEC AAB-VAM NI SRJT Set Summary.xlsx\"\n",
    "aab_birdshot_workflow = BIRDSHOTWorfklow(root, output=output,iteration=iteration,synthesis_path=aab_synthesis_path, srjt_path=aab_srjt_path)\n",
    "aab_birdshot_workflow.build()"
   ]
  },
  {
   "attachments": {},
   "cell_type": "markdown",
   "metadata": {},
   "source": [
    "### Dive into"
   ]
  },
  {
   "cell_type": "code",
   "execution_count": 47,
   "metadata": {},
   "outputs": [
    {
     "data": {
      "text/plain": [
       "{'notes': None, 'spec': {'notes': None, 'file_links': [], 'tags': [], 'name': 'Infer comp. using B.O.', 'uids': {'auto': '06b26efa-b138-42c7-9a81-90000b34c5d8'}, 'conditions': [], 'parameters': [], 'template': {'description': 'Applying Bayezian Optimization based on multi-inputs/multi-output\\n        objectives to generated new composition space, with data extracted \\n        from summary sheet aggregated by various experimental teams\\n        ', 'tags': [], 'allowed_names': [], 'name': 'Infer Compositions', 'uids': {'auto': '7ac2650e-7d8d-453a-90a5-6a8e5004c283', 'persistent_id': 63}, 'allowed_labels': [], 'conditions': [], 'parameters': [], 'type': 'process_template'}, 'type': 'process_spec', 'ingredients': [\"<IngredientSpec 'Summary sheet Ing.'>\"], 'output_material': None}, 'file_links': [], 'tags': [], 'name': 'Infer comp. using B.O.', 'uids': {'auto': '0c14eef2-20b0-429c-9550-b5e3c7d97bc6'}, 'conditions': [], 'parameters': [], 'source': None, 'type': 'process_run', 'ingredients': [\"<IngredientRun 'Summary sheet Ing.'>\"], 'output_material': None}"
      ]
     },
     "execution_count": 47,
     "metadata": {},
     "output_type": "execute_result"
    }
   ],
   "source": [
    "aab_birdshot_workflow.terminal_material"
   ]
  },
  {
   "cell_type": "code",
   "execution_count": 48,
   "metadata": {},
   "outputs": [
    {
     "name": "stdout",
     "output_type": "stream",
     "text": [
      "['Infer Compositions', 'Selecting Composition AAB01', 'Aggregating Co for AAB01-VAM-A', 'Aggregating Cr for AAB01-VAM-A', 'Aggregating Fe for AAB01-VAM-A', 'Aggregating Ni for AAB01-VAM-A', 'Aggregating V for AAB01-VAM-A', 'Aggregating Al for AAB01-VAM-A', 'Mix elements of AAB01', 'Arc Melting of Alloy Alloy (AAB01-VAM-A)', 'Homogenization of Alloy Alloy (AAB01-VAM-A)', 'Forging of Alloy Alloy (AAB01-VAM-A)', 'Setting up of Traveler Alloy (AAB01-VAM-A)', 'Set Alloy (AAB01-VAM-A) T. Sample for SEM (T02) charact.', 'Set Alloy (AAB01-VAM-A) T. Sample for XRD (T03) charact.', 'Set Alloy (AAB01-VAM-A) T. Sample for NI (T04) charact.', 'Set Alloy (AAB01-VAM-A) T. Sample for Tensile (T08) charact.', 'Set Alloy (AAB01-VAM-A) T. Sample for Tensile (T09) charact.', 'Selecting Composition AAB02', 'Aggregating Co for AAB02-VAM-A', 'Aggregating Cr for AAB02-VAM-A', 'Aggregating Fe for AAB02-VAM-A', 'Aggregating Ni for AAB02-VAM-A', 'Aggregating V for AAB02-VAM-A', 'Aggregating Al for AAB02-VAM-A', 'Mix elements of AAB02', 'Arc Melting of Alloy Alloy (AAB02-VAM-A)', 'Homogenization of Alloy Alloy (AAB02-VAM-A)', 'Forging of Alloy Alloy (AAB02-VAM-A)', 'Setting up of Traveler Alloy (AAB02-VAM-A)', 'Set Alloy (AAB02-VAM-A) T. Sample for SEM (T02) charact.', 'Set Alloy (AAB02-VAM-A) T. Sample for XRD (T03) charact.', 'Set Alloy (AAB02-VAM-A) T. Sample for NI (T04) charact.', 'Set Alloy (AAB02-VAM-A) T. Sample for Tensile (T08) charact.', 'Set Alloy (AAB02-VAM-A) T. Sample for Tensile (T09) charact.', 'Selecting Composition AAB03', 'Aggregating Co for AAB03-VAM-A', 'Aggregating Cr for AAB03-VAM-A', 'Aggregating Fe for AAB03-VAM-A', 'Aggregating Ni for AAB03-VAM-A', 'Aggregating V for AAB03-VAM-A', 'Aggregating Al for AAB03-VAM-A', 'Mix elements of AAB03', 'Arc Melting of Alloy Alloy (AAB03-VAM-A)', 'Homogenization of Alloy Alloy (AAB03-VAM-A)', 'Forging of Alloy Alloy (AAB03-VAM-A)', 'Setting up of Traveler Alloy (AAB03-VAM-A)', 'Set Alloy (AAB03-VAM-A) T. Sample for NI (T04) charact.', 'Set Alloy (AAB03-VAM-A) T. Sample for Tensile (T08) charact.', 'Set Alloy (AAB03-VAM-A) T. Sample for Tensile (T09) charact.', 'Selecting Composition AAB04', 'Aggregating Co for AAB04-VAM-A', 'Aggregating Cr for AAB04-VAM-A', 'Aggregating Fe for AAB04-VAM-A', 'Aggregating Ni for AAB04-VAM-A', 'Aggregating V for AAB04-VAM-A', 'Aggregating Al for AAB04-VAM-A', 'Mix elements of AAB04', 'Arc Melting of Alloy Alloy (AAB04-VAM-A)', 'Homogenization of Alloy Alloy (AAB04-VAM-A)', 'Forging of Alloy Alloy (AAB04-VAM-A)', 'Setting up of Traveler Alloy (AAB04-VAM-A)', 'Set Alloy (AAB04-VAM-A) T. Sample for SEM (T02) charact.', 'Set Alloy (AAB04-VAM-A) T. Sample for XRD (T03) charact.', 'Set Alloy (AAB04-VAM-A) T. Sample for NI (T04) charact.', 'Set Alloy (AAB04-VAM-A) T. Sample for Tensile (T08) charact.', 'Set Alloy (AAB04-VAM-A) T. Sample for Tensile (T09) charact.', 'Selecting Composition AAB05', 'Aggregating Co for AAB05-VAM-A', 'Aggregating Cr for AAB05-VAM-A', 'Aggregating Fe for AAB05-VAM-A', 'Aggregating Ni for AAB05-VAM-A', 'Aggregating V for AAB05-VAM-A', 'Aggregating Al for AAB05-VAM-A', 'Mix elements of AAB05', 'Arc Melting of Alloy Alloy (AAB05-VAM-A)', 'Homogenization of Alloy Alloy (AAB05-VAM-A)', 'Forging of Alloy Alloy (AAB05-VAM-A)', 'Setting up of Traveler Alloy (AAB05-VAM-A)', 'Set Alloy (AAB05-VAM-A) T. Sample for SEM (T02) charact.', 'Set Alloy (AAB05-VAM-A) T. Sample for XRD (T03) charact.', 'Set Alloy (AAB05-VAM-A) T. Sample for NI (T04) charact.', 'Set Alloy (AAB05-VAM-A) T. Sample for Tensile (T08) charact.', 'Set Alloy (AAB05-VAM-A) T. Sample for Tensile (T09) charact.', 'Selecting Composition AAB06', 'Aggregating Co for AAB06-VAM-A', 'Aggregating Cr for AAB06-VAM-A', 'Aggregating Fe for AAB06-VAM-A', 'Aggregating Ni for AAB06-VAM-A', 'Aggregating V for AAB06-VAM-A', 'Aggregating Al for AAB06-VAM-A', 'Mix elements of AAB06', 'Arc Melting of Alloy Alloy (AAB06-VAM-A)', 'Homogenization of Alloy Alloy (AAB06-VAM-A)', 'Forging of Alloy Alloy (AAB06-VAM-A)', 'Setting up of Traveler Alloy (AAB06-VAM-A)', 'Set Alloy (AAB06-VAM-A) T. Sample for SEM (T02) charact.', 'Set Alloy (AAB06-VAM-A) T. Sample for XRD (T03) charact.', 'Set Alloy (AAB06-VAM-A) T. Sample for NI (T04) charact.', 'Set Alloy (AAB06-VAM-A) T. Sample for Tensile (T08) charact.', 'Set Alloy (AAB06-VAM-A) T. Sample for Tensile (T09) charact.', 'Selecting Composition AAB07', 'Aggregating Co for AAB07-VAM-A', 'Aggregating Cr for AAB07-VAM-A', 'Aggregating Fe for AAB07-VAM-A', 'Aggregating Ni for AAB07-VAM-A', 'Aggregating V for AAB07-VAM-A', 'Aggregating Al for AAB07-VAM-A', 'Mix elements of AAB07', 'Arc Melting of Alloy Alloy (AAB07-VAM-A)', 'Homogenization of Alloy Alloy (AAB07-VAM-A)', 'Forging of Alloy Alloy (AAB07-VAM-A)', 'Setting up of Traveler Alloy (AAB07-VAM-A)', 'Set Alloy (AAB07-VAM-A) T. Sample for SEM (T02) charact.', 'Set Alloy (AAB07-VAM-A) T. Sample for XRD (T03) charact.', 'Set Alloy (AAB07-VAM-A) T. Sample for NI (T04) charact.', 'Set Alloy (AAB07-VAM-A) T. Sample for Tensile (T08) charact.', 'Set Alloy (AAB07-VAM-A) T. Sample for Tensile (T09) charact.', 'Selecting Composition AAB08', 'Aggregating Co for AAB08-VAM-A', 'Aggregating Cr for AAB08-VAM-A', 'Aggregating Fe for AAB08-VAM-A', 'Aggregating Ni for AAB08-VAM-A', 'Aggregating V for AAB08-VAM-A', 'Aggregating Al for AAB08-VAM-A', 'Mix elements of AAB08', 'Arc Melting of Alloy Alloy (AAB08-VAM-A)', 'Homogenization of Alloy Alloy (AAB08-VAM-A)', 'Forging of Alloy Alloy (AAB08-VAM-A)', 'Setting up of Traveler Alloy (AAB08-VAM-A)', 'Set Alloy (AAB08-VAM-A) T. Sample for SEM (T02) charact.', 'Set Alloy (AAB08-VAM-A) T. Sample for XRD (T03) charact.', 'Set Alloy (AAB08-VAM-A) T. Sample for NI (T04) charact.', 'Set Alloy (AAB08-VAM-A) T. Sample for Tensile (T09) charact.', 'Selecting Composition AAB09', 'Aggregating Co for AAB09-VAM-A', 'Aggregating Cr for AAB09-VAM-A', 'Aggregating Fe for AAB09-VAM-A', 'Aggregating Ni for AAB09-VAM-A', 'Aggregating V for AAB09-VAM-A', 'Aggregating Al for AAB09-VAM-A', 'Mix elements of AAB09', 'Arc Melting of Alloy Alloy (AAB09-VAM-A)', 'Homogenization of Alloy Alloy (AAB09-VAM-A)', 'Forging of Alloy Alloy (AAB09-VAM-A)', 'Setting up of Traveler Alloy (AAB09-VAM-A)', 'Set Alloy (AAB09-VAM-A) T. Sample for XRD (T03) charact.', 'Set Alloy (AAB09-VAM-A) T. Sample for NI (T04) charact.', 'Set Alloy (AAB09-VAM-A) T. Sample for Tensile (T08) charact.', 'Set Alloy (AAB09-VAM-A) T. Sample for Tensile (T09) charact.', 'Selecting Composition AAB10', 'Aggregating Co for AAB10-VAM-A', 'Aggregating Cr for AAB10-VAM-A', 'Aggregating Fe for AAB10-VAM-A', 'Aggregating Ni for AAB10-VAM-A', 'Aggregating V for AAB10-VAM-A', 'Aggregating Al for AAB10-VAM-A', 'Mix elements of AAB10', 'Arc Melting of Alloy Alloy (AAB10-VAM-A)', 'Homogenization of Alloy Alloy (AAB10-VAM-A)', 'Forging of Alloy Alloy (AAB10-VAM-A)', 'Setting up of Traveler Alloy (AAB10-VAM-A)', 'Set Alloy (AAB10-VAM-A) T. Sample for SEM (T02) charact.', 'Set Alloy (AAB10-VAM-A) T. Sample for XRD (T03) charact.', 'Set Alloy (AAB10-VAM-A) T. Sample for NI (T04) charact.', 'Set Alloy (AAB10-VAM-A) T. Sample for Tensile (T08) charact.', 'Set Alloy (AAB10-VAM-A) T. Sample for Tensile (T09) charact.', 'Selecting Composition AAB11', 'Aggregating Co for AAB11-VAM-A', 'Aggregating Cr for AAB11-VAM-A', 'Aggregating Fe for AAB11-VAM-A', 'Aggregating Ni for AAB11-VAM-A', 'Aggregating V for AAB11-VAM-A', 'Aggregating Al for AAB11-VAM-A', 'Mix elements of AAB11', 'Arc Melting of Alloy Alloy (AAB11-VAM-A)', 'Homogenization of Alloy Alloy (AAB11-VAM-A)', 'Forging of Alloy Alloy (AAB11-VAM-A)', 'Setting up of Traveler Alloy (AAB11-VAM-A)', 'Set Alloy (AAB11-VAM-A) T. Sample for SEM (T02) charact.', 'Set Alloy (AAB11-VAM-A) T. Sample for XRD (T03) charact.', 'Set Alloy (AAB11-VAM-A) T. Sample for NI (T04) charact.', 'Set Alloy (AAB11-VAM-A) T. Sample for Tensile (T08) charact.', 'Set Alloy (AAB11-VAM-A) T. Sample for Tensile (T09) charact.', 'Selecting Composition AAB12', 'Aggregating Co for AAB12-VAM-A', 'Aggregating Cr for AAB12-VAM-A', 'Aggregating Fe for AAB12-VAM-A', 'Aggregating Ni for AAB12-VAM-A', 'Aggregating V for AAB12-VAM-A', 'Aggregating Al for AAB12-VAM-A', 'Mix elements of AAB12', 'Arc Melting of Alloy Alloy (AAB12-VAM-A)', 'Homogenization of Alloy Alloy (AAB12-VAM-A)', 'Forging of Alloy Alloy (AAB12-VAM-A)', 'Setting up of Traveler Alloy (AAB12-VAM-A)', 'Set Alloy (AAB12-VAM-A) T. Sample for XRD (T03) charact.', 'Set Alloy (AAB12-VAM-A) T. Sample for NI (T04) charact.', 'Set Alloy (AAB12-VAM-A) T. Sample for Tensile (T08) charact.', 'Set Alloy (AAB12-VAM-A) T. Sample for Tensile (T09) charact.', 'Selecting Composition AAB13', 'Aggregating Co for AAB13-VAM-A', 'Aggregating Cr for AAB13-VAM-A', 'Aggregating Fe for AAB13-VAM-A', 'Aggregating Ni for AAB13-VAM-A', 'Aggregating V for AAB13-VAM-A', 'Aggregating Al for AAB13-VAM-A', 'Mix elements of AAB13', 'Arc Melting of Alloy Alloy (AAB13-VAM-A)', 'Homogenization of Alloy Alloy (AAB13-VAM-A)', 'Forging of Alloy Alloy (AAB13-VAM-A)', 'Setting up of Traveler Alloy (AAB13-VAM-A)', 'Set Alloy (AAB13-VAM-A) T. Sample for XRD (T03) charact.', 'Set Alloy (AAB13-VAM-A) T. Sample for NI (T04) charact.', 'Set Alloy (AAB13-VAM-A) T. Sample for Tensile (T08) charact.', 'Set Alloy (AAB13-VAM-A) T. Sample for Tensile (T09) charact.', 'Selecting Composition AAB14', 'Aggregating Co for AAB14-VAM-A', 'Aggregating Cr for AAB14-VAM-A', 'Aggregating Fe for AAB14-VAM-A', 'Aggregating Ni for AAB14-VAM-A', 'Aggregating V for AAB14-VAM-A', 'Aggregating Al for AAB14-VAM-A', 'Mix elements of AAB14', 'Arc Melting of Alloy Alloy (AAB14-VAM-A)', 'Homogenization of Alloy Alloy (AAB14-VAM-A)', 'Forging of Alloy Alloy (AAB14-VAM-A)', 'Setting up of Traveler Alloy (AAB14-VAM-A)', 'Set Alloy (AAB14-VAM-A) T. Sample for XRD (T03) charact.', 'Set Alloy (AAB14-VAM-A) T. Sample for NI (T04) charact.', 'Set Alloy (AAB14-VAM-A) T. Sample for Tensile (T08) charact.', 'Set Alloy (AAB14-VAM-A) T. Sample for Tensile (T09) charact.', 'Selecting Composition AAB15', 'Aggregating Co for AAB15-VAM-A', 'Aggregating Cr for AAB15-VAM-A', 'Aggregating Fe for AAB15-VAM-A', 'Aggregating Ni for AAB15-VAM-A', 'Aggregating V for AAB15-VAM-A', 'Aggregating Al for AAB15-VAM-A', 'Mix elements of AAB15', 'Arc Melting of Alloy Alloy (AAB15-VAM-A)', 'Homogenization of Alloy Alloy (AAB15-VAM-A)', 'Forging of Alloy Alloy (AAB15-VAM-A)', 'Setting up of Traveler Alloy (AAB15-VAM-A)', 'Set Alloy (AAB15-VAM-A) T. Sample for SEM (T02) charact.', 'Set Alloy (AAB15-VAM-A) T. Sample for XRD (T03) charact.', 'Set Alloy (AAB15-VAM-A) T. Sample for NI (T04) charact.', 'Set Alloy (AAB15-VAM-A) T. Sample for Tensile (T08) charact.', 'Set Alloy (AAB15-VAM-A) T. Sample for Tensile (T09) charact.', 'Selecting Composition AAB16', 'Aggregating Co for AAB16-VAM-A', 'Aggregating Cr for AAB16-VAM-A', 'Aggregating Fe for AAB16-VAM-A', 'Aggregating Ni for AAB16-VAM-A', 'Aggregating V for AAB16-VAM-A', 'Aggregating Al for AAB16-VAM-A', 'Mix elements of AAB16', 'Arc Melting of Alloy Alloy (AAB16-VAM-A)', 'Homogenization of Alloy Alloy (AAB16-VAM-A)', 'Forging of Alloy Alloy (AAB16-VAM-A)', 'Setting up of Traveler Alloy (AAB16-VAM-A)', 'Set Alloy (AAB16-VAM-A) T. Sample for SEM (T02) charact.', 'Set Alloy (AAB16-VAM-A) T. Sample for XRD (T03) charact.', 'Set Alloy (AAB16-VAM-A) T. Sample for NI (T04) charact.', 'Set Alloy (AAB16-VAM-A) T. Sample for Tensile (T08) charact.', 'Set Alloy (AAB16-VAM-A) T. Sample for Tensile (T09) charact.', 'Aggregating SEM Traveler Samples', 'Aggregating XRD Traveler Samples', 'Aggregating NI Traveler Samples', 'Aggregating Tensile Traveler Samples', 'Aggregating Summary Sheet']\n",
      "nb of blocks: 271\n"
     ]
    }
   ],
   "source": [
    "print(list(aab_birdshot_workflow.subs.keys()))\n",
    "print(\"nb of blocks: {}\".format(len(aab_birdshot_workflow.subs.keys())))"
   ]
  },
  {
   "cell_type": "code",
   "execution_count": 49,
   "metadata": {},
   "outputs": [
    {
     "name": "stdout",
     "output_type": "stream",
     "text": [
      "['Infer Compositions', 'Aggregating Co for AAB01-VAM-A', 'Aggregating Cr for AAB01-VAM-A', 'Aggregating Fe for AAB01-VAM-A', 'Aggregating Ni for AAB01-VAM-A', 'Aggregating V for AAB01-VAM-A', 'Aggregating Al for AAB01-VAM-A', 'Aggregating Co for AAB02-VAM-A', 'Aggregating Cr for AAB02-VAM-A', 'Aggregating Fe for AAB02-VAM-A', 'Aggregating Ni for AAB02-VAM-A', 'Aggregating V for AAB02-VAM-A', 'Aggregating Al for AAB02-VAM-A', 'Aggregating Co for AAB03-VAM-A', 'Aggregating Cr for AAB03-VAM-A', 'Aggregating Fe for AAB03-VAM-A', 'Aggregating Ni for AAB03-VAM-A', 'Aggregating V for AAB03-VAM-A', 'Aggregating Al for AAB03-VAM-A', 'Aggregating Co for AAB04-VAM-A', 'Aggregating Cr for AAB04-VAM-A', 'Aggregating Fe for AAB04-VAM-A', 'Aggregating Ni for AAB04-VAM-A', 'Aggregating V for AAB04-VAM-A', 'Aggregating Al for AAB04-VAM-A', 'Aggregating Co for AAB05-VAM-A', 'Aggregating Cr for AAB05-VAM-A', 'Aggregating Fe for AAB05-VAM-A', 'Aggregating Ni for AAB05-VAM-A', 'Aggregating V for AAB05-VAM-A', 'Aggregating Al for AAB05-VAM-A', 'Aggregating Co for AAB06-VAM-A', 'Aggregating Cr for AAB06-VAM-A', 'Aggregating Fe for AAB06-VAM-A', 'Aggregating Ni for AAB06-VAM-A', 'Aggregating V for AAB06-VAM-A', 'Aggregating Al for AAB06-VAM-A', 'Aggregating Co for AAB07-VAM-A', 'Aggregating Cr for AAB07-VAM-A', 'Aggregating Fe for AAB07-VAM-A', 'Aggregating Ni for AAB07-VAM-A', 'Aggregating V for AAB07-VAM-A', 'Aggregating Al for AAB07-VAM-A', 'Aggregating Co for AAB08-VAM-A', 'Aggregating Cr for AAB08-VAM-A', 'Aggregating Fe for AAB08-VAM-A', 'Aggregating Ni for AAB08-VAM-A', 'Aggregating V for AAB08-VAM-A', 'Aggregating Al for AAB08-VAM-A', 'Aggregating Co for AAB09-VAM-A', 'Aggregating Cr for AAB09-VAM-A', 'Aggregating Fe for AAB09-VAM-A', 'Aggregating Ni for AAB09-VAM-A', 'Aggregating V for AAB09-VAM-A', 'Aggregating Al for AAB09-VAM-A', 'Aggregating Co for AAB10-VAM-A', 'Aggregating Cr for AAB10-VAM-A', 'Aggregating Fe for AAB10-VAM-A', 'Aggregating Ni for AAB10-VAM-A', 'Aggregating V for AAB10-VAM-A', 'Aggregating Al for AAB10-VAM-A', 'Aggregating Co for AAB11-VAM-A', 'Aggregating Cr for AAB11-VAM-A', 'Aggregating Fe for AAB11-VAM-A', 'Aggregating Ni for AAB11-VAM-A', 'Aggregating V for AAB11-VAM-A', 'Aggregating Al for AAB11-VAM-A', 'Aggregating Co for AAB12-VAM-A', 'Aggregating Cr for AAB12-VAM-A', 'Aggregating Fe for AAB12-VAM-A', 'Aggregating Ni for AAB12-VAM-A', 'Aggregating V for AAB12-VAM-A', 'Aggregating Al for AAB12-VAM-A', 'Aggregating Co for AAB13-VAM-A', 'Aggregating Cr for AAB13-VAM-A', 'Aggregating Fe for AAB13-VAM-A', 'Aggregating Ni for AAB13-VAM-A', 'Aggregating V for AAB13-VAM-A', 'Aggregating Al for AAB13-VAM-A', 'Aggregating Co for AAB14-VAM-A', 'Aggregating Cr for AAB14-VAM-A', 'Aggregating Fe for AAB14-VAM-A', 'Aggregating Ni for AAB14-VAM-A', 'Aggregating V for AAB14-VAM-A', 'Aggregating Al for AAB14-VAM-A', 'Aggregating Co for AAB15-VAM-A', 'Aggregating Cr for AAB15-VAM-A', 'Aggregating Fe for AAB15-VAM-A', 'Aggregating Ni for AAB15-VAM-A', 'Aggregating V for AAB15-VAM-A', 'Aggregating Al for AAB15-VAM-A', 'Aggregating Co for AAB16-VAM-A', 'Aggregating Cr for AAB16-VAM-A', 'Aggregating Fe for AAB16-VAM-A', 'Aggregating Ni for AAB16-VAM-A', 'Aggregating V for AAB16-VAM-A', 'Aggregating Al for AAB16-VAM-A', 'Aggregating SEM Traveler Samples', 'Aggregating XRD Traveler Samples', 'Aggregating NI Traveler Samples', 'Aggregating Tensile Traveler Samples', 'Aggregating Summary Sheet']\n",
      "102\n"
     ]
    }
   ],
   "source": [
    "procedural_blocks = [obj.name for obj in aab_birdshot_workflow.subs.values() if obj.type=='procedural']\n",
    "print(procedural_blocks)\n",
    "print(len(procedural_blocks))"
   ]
  },
  {
   "cell_type": "code",
   "execution_count": 50,
   "metadata": {
    "notebookRunGroups": {
     "groupValue": ""
    }
   },
   "outputs": [
    {
     "name": "stdout",
     "output_type": "stream",
     "text": [
      "[<openmsimodel.entity.base.ingredient.Ingredient object at 0x7f3a51fcc490>, <openmsimodel.entity.processes.birdshot.arc_melting.ArcMelting object at 0x7f3a51fcc7c0>, <openmsimodel.entity.materials.birdshot.alloy.Alloy object at 0x7f3a51fc3550>, <openmsimodel.entity.measurements.birdshot.weighting.Weighting object at 0x7f3a51fd06d0>]\n",
      "11\n"
     ]
    }
   ],
   "source": [
    "arc_melting_aab04_vam_a_all = aab_birdshot_workflow.subs['Arc Melting of Alloy Alloy (AAB04-VAM-A)'].all()\n",
    "print(arc_melting_aab04_vam_a_all)\n",
    "arc_melting_aab04_vam_a_all_gemd = aab_birdshot_workflow.subs['Arc Melting of Alloy Alloy (AAB04-VAM-A)'].all_gemd()\n",
    "# print()\n",
    "print(len(arc_melting_aab04_vam_a_all_gemd))"
   ]
  },
  {
   "attachments": {},
   "cell_type": "markdown",
   "metadata": {},
   "source": [
    "multiple dumping approaches"
   ]
  },
  {
   "cell_type": "code",
   "execution_count": 33,
   "metadata": {
    "notebookRunGroups": {
     "groupValue": "1"
    }
   },
   "outputs": [
    {
     "name": "stdout",
     "output_type": "stream",
     "text": [
      "Executing thin dumps...\n",
      "Time elapsed: 9.32119369506836\n"
     ]
    }
   ],
   "source": [
    "aab_birdshot_workflow.thin_dumps(aab_birdshot_workflow.terminal_material, overwrite=True) # dumps into a single folder using a terminal GEMD object and GEMD dump methods "
   ]
  },
  {
   "cell_type": "code",
   "execution_count": 9,
   "metadata": {},
   "outputs": [
    {
     "name": "stdout",
     "output_type": "stream",
     "text": [
      "Executing thin structured dumps...\n",
      "Time elapsed: 21.8549063205719\n"
     ]
    }
   ],
   "source": [
    "aab_birdshot_workflow.thin_structured_dumps() # dumps into a nice COMPOSITION_ID/FABRICATION_METHOD/BATCH structure, with in-house methods"
   ]
  },
  {
   "attachments": {},
   "cell_type": "markdown",
   "metadata": {},
   "source": [
    "# Viz"
   ]
  },
  {
   "attachments": {},
   "cell_type": "markdown",
   "metadata": {},
   "source": [
    "visualize the whole workflow..."
   ]
  },
  {
   "cell_type": "code",
   "execution_count": 34,
   "metadata": {
    "notebookRunGroups": {
     "groupValue": "1"
    }
   },
   "outputs": [
    {
     "name": "stdout",
     "output_type": "stream",
     "text": [
      "-- Building runs of /srv/hemi01-j01/openmsimodel/examples/birdshot/output/AAB/unstructured\n",
      "Extracting folder...\n",
      "0 gemd objects processed...\n",
      "1000 gemd objects processed...\n",
      "2000 gemd objects processed...\n",
      "-- Saved graph to /srv/hemi01-j01/openmsimodel/examples/birdshot/output/AAB/unstructured_run_graph.dot and /srv/hemi01-j01/openmsimodel/examples/birdshot/output/AAB/unstructured_run_graph.svg\n",
      "-- Analysis --\n",
      "cycles in the graph: []\n",
      "nb of disregarded elements: 35/2392\n",
      "number of connected components: 1166\n",
      "nb of isolates: 0\n"
     ]
    },
    {
     "data": {
      "application/vnd.jupyter.widget-view+json": {
       "model_id": "5e3dea460de2493cbe20f2bf8b59ed91",
       "version_major": 2,
       "version_minor": 0
      },
      "text/plain": [
       "GraphWidget(layout=Layout(height='500px', width='100%'))"
      ]
     },
     "metadata": {},
     "output_type": "display_data"
    }
   ],
   "source": [
    "dirpath = curr_pwd / \"output/AAB/unstructured\"\n",
    "output = curr_pwd / \"output/AAB\"\n",
    "assets_to_add = {\n",
    "            \"add_attributes\": 1,\n",
    "            \"add_file_links\": 1,\n",
    "            \"add_tags\": 1,\n",
    "        }\n",
    "open_graph = OpenGraph(\"unstructured\",dirpath=dirpath,output=output)\n",
    "all_G, all_relabeled_G, all_name_mapping = open_graph.build_graph(\n",
    "    assets_to_add=assets_to_add,\n",
    "    add_separate_node=0,\n",
    "    which='run',\n",
    ")\n",
    "open_graph.launch(all_relabeled_G)"
   ]
  },
  {
   "attachments": {},
   "cell_type": "markdown",
   "metadata": {},
   "source": [
    "... or an important workflow branch..."
   ]
  },
  {
   "cell_type": "code",
   "execution_count": 11,
   "metadata": {},
   "outputs": [
    {
     "name": "stdout",
     "output_type": "stream",
     "text": [
      "-- Building runs of /srv/hemi01-j01/openmsimodel/examples/birdshot/output/AAB/structured/AAB01/VAM/A/thin_jsons\n",
      "Extracting folder...\n",
      "0 gemd objects processed...\n",
      "-- Saved graph to /srv/hemi01-j01/openmsimodel/examples/birdshot/output/AAB/aab01_vam_a_thin_run_graph.dot and /srv/hemi01-j01/openmsimodel/examples/birdshot/output/AAB/aab01_vam_a_thin_run_graph.svg\n",
      "-- Analysis --\n",
      "cycles in the graph: []\n",
      "nb of disregarded elements: 35/195\n",
      "number of connected components: 70\n",
      "nb of isolates: 0\n"
     ]
    },
    {
     "data": {
      "application/vnd.jupyter.widget-view+json": {
       "model_id": "b3bbb2856a4b40c2b4a59cdf4437f672",
       "version_major": 2,
       "version_minor": 0
      },
      "text/plain": [
       "GraphWidget(layout=Layout(height='500px', width='100%'))"
      ]
     },
     "metadata": {},
     "output_type": "display_data"
    }
   ],
   "source": [
    "dirpath = curr_pwd / \"output/AAB/structured/AAB01/VAM/A/thin_jsons\"\n",
    "open_graph = OpenGraph(\"aab01_vam_a_thin\",dirpath=dirpath,output=output)\n",
    "G, relabeled_G, name_mapping = open_graph.build_graph(\n",
    "    assets_to_add=assets_to_add,\n",
    "    add_separate_node=0,\n",
    "    which='run',\n",
    ")\n",
    "open_graph.launch(relabeled_G)"
   ]
  },
  {
   "attachments": {},
   "cell_type": "markdown",
   "metadata": {},
   "source": [
    "... or a subworkflow..."
   ]
  },
  {
   "cell_type": "code",
   "execution_count": 12,
   "metadata": {
    "notebookRunGroups": {
     "groupValue": ""
    }
   },
   "outputs": [
    {
     "name": "stdout",
     "output_type": "stream",
     "text": [
      "-- Building runs of list with 3 items\n",
      "Extracting list...\n",
      "0 gemd objects processed...\n",
      "-- Saved graph to /srv/hemi01-j01/openmsimodel/examples/birdshot/output/AAB/arcmelting_block_aab04_vam_a_run_graph.dot and /srv/hemi01-j01/openmsimodel/examples/birdshot/output/AAB/arcmelting_block_aab04_vam_a_run_graph.svg\n",
      "-- Analysis --\n",
      "cycles in the graph: []\n",
      "nb of disregarded elements: 0/3\n",
      "number of connected components: 1\n",
      "nb of isolates: 1\n"
     ]
    },
    {
     "data": {
      "application/vnd.jupyter.widget-view+json": {
       "model_id": "ddcd422f854943c69036a9c78f56396c",
       "version_major": 2,
       "version_minor": 0
      },
      "text/plain": [
       "GraphWidget(layout=Layout(height='500px', width='100%'))"
      ]
     },
     "metadata": {},
     "output_type": "display_data"
    }
   ],
   "source": [
    "# print(arc_melting_aab04_vam_a_all_gemd)\n",
    "open_graph = OpenGraph(\"arcmelting_block_aab04_vam_a\", dirpath=arc_melting_aab04_vam_a_all[1].all_gemd(),output=output)\n",
    "G, relabeled_G, name_mapping = open_graph.build_graph(\n",
    "    assets_to_add=assets_to_add,\n",
    "    add_separate_node=0,\n",
    "    which='run',\n",
    ")\n",
    "open_graph.launch(relabeled_G)"
   ]
  },
  {
   "attachments": {},
   "cell_type": "markdown",
   "metadata": {},
   "source": [
    "... or a a BaseElement..."
   ]
  },
  {
   "cell_type": "code",
   "execution_count": 13,
   "metadata": {},
   "outputs": [
    {
     "name": "stdout",
     "output_type": "stream",
     "text": [
      "-- Building runs of list with 11 items\n",
      "Extracting list...\n",
      "0 gemd objects processed...\n",
      "-- Saved graph to /srv/hemi01-j01/openmsimodel/examples/birdshot/output/AAB/arcmelting_block_aab04_vam_a_run_graph.dot and /srv/hemi01-j01/openmsimodel/examples/birdshot/output/AAB/arcmelting_block_aab04_vam_a_run_graph.svg\n",
      "-- Analysis --\n",
      "cycles in the graph: []\n",
      "nb of disregarded elements: 0/11\n",
      "number of connected components: 5\n",
      "nb of isolates: 0\n"
     ]
    },
    {
     "data": {
      "application/vnd.jupyter.widget-view+json": {
       "model_id": "9b0bd9a66acc490bad84513470fee5ee",
       "version_major": 2,
       "version_minor": 0
      },
      "text/plain": [
       "GraphWidget(layout=Layout(height='500px', width='100%'))"
      ]
     },
     "metadata": {},
     "output_type": "display_data"
    }
   ],
   "source": [
    "open_graph = OpenGraph(\"arcmelting_block_aab04_vam_a\", dirpath=arc_melting_aab04_vam_a_all_gemd,output=output)\n",
    "G, relabeled_G, name_mapping = open_graph.build_graph(\n",
    "    assets_to_add=assets_to_add,\n",
    "    add_separate_node=0,\n",
    "    which='run',\n",
    ")\n",
    "open_graph.launch(relabeled_G)"
   ]
  },
  {
   "attachments": {},
   "cell_type": "markdown",
   "metadata": {},
   "source": [
    "... or a single elements with its descendents and predecessors"
   ]
  },
  {
   "cell_type": "code",
   "execution_count": 14,
   "metadata": {
    "notebookRunGroups": {
     "groupValue": "1"
    }
   },
   "outputs": [
    {
     "name": "stdout",
     "output_type": "stream",
     "text": [
      "a8c6ed44-2b0d-403d-907d-e457abcd6c06\n",
      "Alloy (AAB01-VAM-A): Traveler Ing.,  a8c\n",
      "The node a8c6ed44-2b0d-403d-907d-e457abcd6c06 is not in the digraph.\n"
     ]
    }
   ],
   "source": [
    "import random\n",
    "identifier = random.choice(list(all_name_mapping.keys()))\n",
    "print(identifier)\n",
    "print(all_name_mapping[identifier])\n",
    "functions = [nx.descendants, nx.ancestors]\n",
    "try: # doesn't always run, depending on the randomly selected element\n",
    "    identifier_G = OpenGraph.extract_subgraph(all_G, identifier, func=functions)\n",
    "    identifier_G = OpenGraph.map_to_graphviz(identifier_G, all_name_mapping)\n",
    "    open_graph.launch(identifier_G)\n",
    "except Exception as e:\n",
    "    print(e)"
   ]
  },
  {
   "attachments": {},
   "cell_type": "markdown",
   "metadata": {},
   "source": [
    "TODO: SVG Viewer"
   ]
  },
  {
   "attachments": {},
   "cell_type": "markdown",
   "metadata": {},
   "source": [
    "# DB"
   ]
  },
  {
   "cell_type": "code",
   "execution_count": 41,
   "metadata": {},
   "outputs": [],
   "source": [
    "db = OpenDB(database_name='GEMD', private_path='/home/arachid1/.private/gemd_db.json',output=curr_pwd / \"output/queries_log\")\n",
    "model_id =11"
   ]
  },
  {
   "attachments": {},
   "cell_type": "markdown",
   "metadata": {},
   "source": [
    "Test query retrieving all measurement runs"
   ]
  },
  {
   "cell_type": "code",
   "execution_count": 42,
   "metadata": {},
   "outputs": [
    {
     "name": "stdout",
     "output_type": "stream",
     "text": [
      "                                      uid  model_id        gemd_type   \n",
      "0    228a386d-2e90-4b8b-ada6-4950a16cee9a        11  measurement_run  \\\n",
      "1    2316a913-20a1-45e0-b905-275857e2c98d        11  measurement_run   \n",
      "2    2393037a-d4e4-4f90-a775-d26c8975169f        11  measurement_run   \n",
      "3    76384e60-e86e-413a-9693-7e36769ad0a6        11  measurement_run   \n",
      "4    76a30c41-0d7a-4b18-8ed8-04ef1ca3a15e        11  measurement_run   \n",
      "..                                    ...       ...              ...   \n",
      "196  fe25bc50-7563-468c-bbfc-3ef14442600d        11  measurement_run   \n",
      "197  33d2bd21-4e0f-46d9-a390-28bfcbd41d47        11  measurement_run   \n",
      "198  34f81cb9-a738-4ffc-823c-1dcae0c2148d        11  measurement_run   \n",
      "199  f4f8ecfd-b578-45e9-be24-c4a13c94a44f        11  measurement_run   \n",
      "200  f7f9eb96-f4d7-44e4-9bc0-44358af46d8a        11  measurement_run   \n",
      "\n",
      "                                               context  \n",
      "0    {\"conditions\": [], \"file_links\": [], \"material...  \n",
      "1    {\"conditions\": [], \"file_links\": [], \"material...  \n",
      "2    {\"conditions\": [], \"file_links\": [], \"material...  \n",
      "3    {\"conditions\": [], \"file_links\": [], \"material...  \n",
      "4    {\"conditions\": [], \"file_links\": [], \"material...  \n",
      "..                                                 ...  \n",
      "196  {\"conditions\": [], \"file_links\": [], \"material...  \n",
      "197  {\"conditions\": [], \"file_links\": [], \"material...  \n",
      "198  {\"conditions\": [], \"file_links\": [], \"material...  \n",
      "199  {\"conditions\": [], \"file_links\": [], \"material...  \n",
      "200  {\"conditions\": [], \"file_links\": [], \"material...  \n",
      "\n",
      "[201 rows x 4 columns]\n"
     ]
    },
    {
     "data": {
      "text/html": [
       "<div>\n",
       "<style scoped>\n",
       "    .dataframe tbody tr th:only-of-type {\n",
       "        vertical-align: middle;\n",
       "    }\n",
       "\n",
       "    .dataframe tbody tr th {\n",
       "        vertical-align: top;\n",
       "    }\n",
       "\n",
       "    .dataframe thead th {\n",
       "        text-align: right;\n",
       "    }\n",
       "</style>\n",
       "<table border=\"1\" class=\"dataframe\">\n",
       "  <thead>\n",
       "    <tr style=\"text-align: right;\">\n",
       "      <th></th>\n",
       "      <th>uid</th>\n",
       "      <th>model_id</th>\n",
       "      <th>gemd_type</th>\n",
       "      <th>context</th>\n",
       "    </tr>\n",
       "  </thead>\n",
       "  <tbody>\n",
       "    <tr>\n",
       "      <th>0</th>\n",
       "      <td>228a386d-2e90-4b8b-ada6-4950a16cee9a</td>\n",
       "      <td>11</td>\n",
       "      <td>measurement_run</td>\n",
       "      <td>{\"conditions\": [], \"file_links\": [], \"material...</td>\n",
       "    </tr>\n",
       "    <tr>\n",
       "      <th>1</th>\n",
       "      <td>2316a913-20a1-45e0-b905-275857e2c98d</td>\n",
       "      <td>11</td>\n",
       "      <td>measurement_run</td>\n",
       "      <td>{\"conditions\": [], \"file_links\": [], \"material...</td>\n",
       "    </tr>\n",
       "    <tr>\n",
       "      <th>2</th>\n",
       "      <td>2393037a-d4e4-4f90-a775-d26c8975169f</td>\n",
       "      <td>11</td>\n",
       "      <td>measurement_run</td>\n",
       "      <td>{\"conditions\": [], \"file_links\": [], \"material...</td>\n",
       "    </tr>\n",
       "    <tr>\n",
       "      <th>3</th>\n",
       "      <td>76384e60-e86e-413a-9693-7e36769ad0a6</td>\n",
       "      <td>11</td>\n",
       "      <td>measurement_run</td>\n",
       "      <td>{\"conditions\": [], \"file_links\": [], \"material...</td>\n",
       "    </tr>\n",
       "    <tr>\n",
       "      <th>4</th>\n",
       "      <td>76a30c41-0d7a-4b18-8ed8-04ef1ca3a15e</td>\n",
       "      <td>11</td>\n",
       "      <td>measurement_run</td>\n",
       "      <td>{\"conditions\": [], \"file_links\": [], \"material...</td>\n",
       "    </tr>\n",
       "    <tr>\n",
       "      <th>...</th>\n",
       "      <td>...</td>\n",
       "      <td>...</td>\n",
       "      <td>...</td>\n",
       "      <td>...</td>\n",
       "    </tr>\n",
       "    <tr>\n",
       "      <th>196</th>\n",
       "      <td>fe25bc50-7563-468c-bbfc-3ef14442600d</td>\n",
       "      <td>11</td>\n",
       "      <td>measurement_run</td>\n",
       "      <td>{\"conditions\": [], \"file_links\": [], \"material...</td>\n",
       "    </tr>\n",
       "    <tr>\n",
       "      <th>197</th>\n",
       "      <td>33d2bd21-4e0f-46d9-a390-28bfcbd41d47</td>\n",
       "      <td>11</td>\n",
       "      <td>measurement_run</td>\n",
       "      <td>{\"conditions\": [], \"file_links\": [], \"material...</td>\n",
       "    </tr>\n",
       "    <tr>\n",
       "      <th>198</th>\n",
       "      <td>34f81cb9-a738-4ffc-823c-1dcae0c2148d</td>\n",
       "      <td>11</td>\n",
       "      <td>measurement_run</td>\n",
       "      <td>{\"conditions\": [], \"file_links\": [], \"material...</td>\n",
       "    </tr>\n",
       "    <tr>\n",
       "      <th>199</th>\n",
       "      <td>f4f8ecfd-b578-45e9-be24-c4a13c94a44f</td>\n",
       "      <td>11</td>\n",
       "      <td>measurement_run</td>\n",
       "      <td>{\"conditions\": [], \"file_links\": [], \"material...</td>\n",
       "    </tr>\n",
       "    <tr>\n",
       "      <th>200</th>\n",
       "      <td>f7f9eb96-f4d7-44e4-9bc0-44358af46d8a</td>\n",
       "      <td>11</td>\n",
       "      <td>measurement_run</td>\n",
       "      <td>{\"conditions\": [], \"file_links\": [], \"material...</td>\n",
       "    </tr>\n",
       "  </tbody>\n",
       "</table>\n",
       "<p>201 rows × 4 columns</p>\n",
       "</div>"
      ],
      "text/plain": [
       "                                      uid  model_id        gemd_type   \n",
       "0    228a386d-2e90-4b8b-ada6-4950a16cee9a        11  measurement_run  \\\n",
       "1    2316a913-20a1-45e0-b905-275857e2c98d        11  measurement_run   \n",
       "2    2393037a-d4e4-4f90-a775-d26c8975169f        11  measurement_run   \n",
       "3    76384e60-e86e-413a-9693-7e36769ad0a6        11  measurement_run   \n",
       "4    76a30c41-0d7a-4b18-8ed8-04ef1ca3a15e        11  measurement_run   \n",
       "..                                    ...       ...              ...   \n",
       "196  fe25bc50-7563-468c-bbfc-3ef14442600d        11  measurement_run   \n",
       "197  33d2bd21-4e0f-46d9-a390-28bfcbd41d47        11  measurement_run   \n",
       "198  34f81cb9-a738-4ffc-823c-1dcae0c2148d        11  measurement_run   \n",
       "199  f4f8ecfd-b578-45e9-be24-c4a13c94a44f        11  measurement_run   \n",
       "200  f7f9eb96-f4d7-44e4-9bc0-44358af46d8a        11  measurement_run   \n",
       "\n",
       "                                               context  \n",
       "0    {\"conditions\": [], \"file_links\": [], \"material...  \n",
       "1    {\"conditions\": [], \"file_links\": [], \"material...  \n",
       "2    {\"conditions\": [], \"file_links\": [], \"material...  \n",
       "3    {\"conditions\": [], \"file_links\": [], \"material...  \n",
       "4    {\"conditions\": [], \"file_links\": [], \"material...  \n",
       "..                                                 ...  \n",
       "196  {\"conditions\": [], \"file_links\": [], \"material...  \n",
       "197  {\"conditions\": [], \"file_links\": [], \"material...  \n",
       "198  {\"conditions\": [], \"file_links\": [], \"material...  \n",
       "199  {\"conditions\": [], \"file_links\": [], \"material...  \n",
       "200  {\"conditions\": [], \"file_links\": [], \"material...  \n",
       "\n",
       "[201 rows x 4 columns]"
      ]
     },
     "execution_count": 42,
     "metadata": {},
     "output_type": "execute_result"
    }
   ],
   "source": [
    "query = f\"\"\" SELECT * FROM GEMDObject WHERE model_id={model_id} AND gemd_type='measurement_run' \"\"\"\n",
    "_all_measurements = db.gemd_db.execute_query(query)\n",
    "db.print_and_dump(_all_measurements, query, \"_all_measurements\", dump=False)"
   ]
  },
  {
   "cell_type": "code",
   "execution_count": 37,
   "metadata": {},
   "outputs": [
    {
     "name": "stdout",
     "output_type": "stream",
     "text": [
      "{\n",
      "   \"conditions\": [],\n",
      "   \"file_links\": [],\n",
      "   \"material\": {\n",
      "      \"id\": \"ea7259bc-70e3-45dd-8556-26720a3f8fdb\",\n",
      "      \"scope\": \"auto\",\n",
      "      \"type\": \"link_by_uid\"\n",
      "   },\n",
      "   \"name\": \"SRJT charact. for AAB02\",\n",
      "   \"notes\": null,\n",
      "   \"parameters\": [],\n",
      "   \"properties\": [\n",
      "      {\n",
      "         \"file_links\": [],\n",
      "         \"name\": \"Strain Rate Sensitivity Exponent\",\n",
      "         \"notes\": \"\",\n",
      "         \"origin\": \"measured\",\n",
      "         \"template\": null,\n",
      "         \"type\": \"property\",\n",
      "         \"value\": {\n",
      "            \"nominal\": 0.0120481190777778,\n",
      "            \"type\": \"nominal_real\",\n",
      "            \"units\": \"dimensionless\"\n",
      "         }\n",
      "      },\n",
      "      {\n",
      "         \"file_links\": [],\n",
      "         \"name\": \"Strain Rate Sensitivity Exponent Std. Dev.\",\n",
      "         \"notes\": \"\",\n",
      "         \"origin\": \"measured\",\n",
      "         \"template\": null,\n",
      "         \"type\": \"property\",\n",
      "         \"value\": {\n",
      "            \"nominal\": 0.0020231034576555,\n",
      "            \"type\": \"nominal_real\",\n",
      "            \"units\": \"dimensionless\"\n",
      "         }\n",
      "      },\n",
      "      {\n",
      "         \"file_links\": [],\n",
      "         \"name\": \"Avg. Raw Hardness (Gpa)\",\n",
      "         \"notes\": \"\",\n",
      "         \"origin\": \"measured\",\n",
      "         \"template\": null,\n",
      "         \"type\": \"property\",\n",
      "         \"value\": {\n",
      "            \"nominal\": 3.15666666666667,\n",
      "            \"type\": \"nominal_real\",\n",
      "            \"units\": \"gigapascal\"\n",
      "         }\n",
      "      },\n",
      "      {\n",
      "         \"file_links\": [],\n",
      "         \"name\": \"Avg. Raw Modulus (Gpa)\",\n",
      "         \"notes\": \"\",\n",
      "         \"origin\": \"measured\",\n",
      "         \"template\": null,\n",
      "         \"type\": \"property\",\n",
      "         \"value\": {\n",
      "            \"nominal\": 196.844444444444,\n",
      "            \"type\": \"nominal_real\",\n",
      "            \"units\": \"gigapascal\"\n",
      "         }\n",
      "      },\n",
      "      {\n",
      "         \"file_links\": [],\n",
      "         \"name\": \"Avg. Pile-up Ratio\",\n",
      "         \"notes\": \"\",\n",
      "         \"origin\": \"measured\",\n",
      "         \"template\": null,\n",
      "         \"type\": \"property\",\n",
      "         \"value\": {\n",
      "            \"nominal\": 80.1407111111111,\n",
      "            \"type\": \"nominal_real\",\n",
      "            \"units\": \"dimensionless\"\n",
      "         }\n",
      "      },\n",
      "      {\n",
      "         \"file_links\": [],\n",
      "         \"name\": \"Avg. Corrected Hardness (Gpa)\",\n",
      "         \"notes\": \"\",\n",
      "         \"origin\": \"measured\",\n",
      "         \"template\": null,\n",
      "         \"type\": \"property\",\n",
      "         \"value\": {\n",
      "            \"nominal\": 2.52984675,\n",
      "            \"type\": \"nominal_real\",\n",
      "            \"units\": \"gigapascal\"\n",
      "         }\n",
      "      },\n",
      "      {\n",
      "         \"file_links\": [],\n",
      "         \"name\": \"Avg. Corrected Modulus (Gpa)\",\n",
      "         \"notes\": \"\",\n",
      "         \"origin\": \"measured\",\n",
      "         \"template\": null,\n",
      "         \"type\": \"property\",\n",
      "         \"value\": {\n",
      "            \"nominal\": 157.729810788889,\n",
      "            \"type\": \"nominal_real\",\n",
      "            \"units\": \"gigapascal\"\n",
      "         }\n",
      "      }\n",
      "   ],\n",
      "   \"source\": null,\n",
      "   \"spec\": {\n",
      "      \"id\": \"7f18f944-b5da-41c7-9ae4-45e72603ce02\",\n",
      "      \"scope\": \"auto\",\n",
      "      \"type\": \"link_by_uid\"\n",
      "   },\n",
      "   \"tags\": [\n",
      "      \"composition_id::AAB02\",\n",
      "      \"batch::A\",\n",
      "      \"fabrication_method::VAM\"\n",
      "   ],\n",
      "   \"type\": \"measurement_run\",\n",
      "   \"uids\": {\n",
      "      \"auto\": \"40eee56d-bd67-4433-b210-2b7789299ce7\"\n",
      "   }\n",
      "}\n"
     ]
    }
   ],
   "source": [
    "c = _all_measurements.iloc[1]['context']\n",
    "print(json.dumps(json.loads(c), indent=3))"
   ]
  },
  {
   "attachments": {},
   "cell_type": "markdown",
   "metadata": {},
   "source": [
    "a couple of invalid jsons that need fixing"
   ]
  },
  {
   "cell_type": "code",
   "execution_count": 38,
   "metadata": {},
   "outputs": [
    {
     "name": "stdout",
     "output_type": "stream",
     "text": [
      "                                    uid  model_id        gemd_type   \n",
      "0  b6d4ae78-3d79-4823-90cd-57c77be0ed19        11  measurement_run  \\\n",
      "1  24e460f0-54d1-4098-b1e4-93cb023704fc        11  measurement_run   \n",
      "\n",
      "                                             context  \n",
      "0  {\"conditions\": [], \"file_links\": [], \"material...  \n",
      "1  {\"conditions\": [], \"file_links\": [], \"material...  \n"
     ]
    },
    {
     "data": {
      "text/html": [
       "<div>\n",
       "<style scoped>\n",
       "    .dataframe tbody tr th:only-of-type {\n",
       "        vertical-align: middle;\n",
       "    }\n",
       "\n",
       "    .dataframe tbody tr th {\n",
       "        vertical-align: top;\n",
       "    }\n",
       "\n",
       "    .dataframe thead th {\n",
       "        text-align: right;\n",
       "    }\n",
       "</style>\n",
       "<table border=\"1\" class=\"dataframe\">\n",
       "  <thead>\n",
       "    <tr style=\"text-align: right;\">\n",
       "      <th></th>\n",
       "      <th>uid</th>\n",
       "      <th>model_id</th>\n",
       "      <th>gemd_type</th>\n",
       "      <th>context</th>\n",
       "    </tr>\n",
       "  </thead>\n",
       "  <tbody>\n",
       "    <tr>\n",
       "      <th>0</th>\n",
       "      <td>b6d4ae78-3d79-4823-90cd-57c77be0ed19</td>\n",
       "      <td>11</td>\n",
       "      <td>measurement_run</td>\n",
       "      <td>{\"conditions\": [], \"file_links\": [], \"material...</td>\n",
       "    </tr>\n",
       "    <tr>\n",
       "      <th>1</th>\n",
       "      <td>24e460f0-54d1-4098-b1e4-93cb023704fc</td>\n",
       "      <td>11</td>\n",
       "      <td>measurement_run</td>\n",
       "      <td>{\"conditions\": [], \"file_links\": [], \"material...</td>\n",
       "    </tr>\n",
       "  </tbody>\n",
       "</table>\n",
       "</div>"
      ],
      "text/plain": [
       "                                    uid  model_id        gemd_type   \n",
       "0  b6d4ae78-3d79-4823-90cd-57c77be0ed19        11  measurement_run  \\\n",
       "1  24e460f0-54d1-4098-b1e4-93cb023704fc        11  measurement_run   \n",
       "\n",
       "                                             context  \n",
       "0  {\"conditions\": [], \"file_links\": [], \"material...  \n",
       "1  {\"conditions\": [], \"file_links\": [], \"material...  "
      ]
     },
     "execution_count": 38,
     "metadata": {},
     "output_type": "execute_result"
    }
   ],
   "source": [
    "query = f\"\"\" SELECT *\n",
    "FROM GEMDObject \n",
    "WHERE model_id={model_id} and isjson(context)=0\n",
    "\"\"\"\n",
    "test = db.gemd_db.execute_query(query)\n",
    "db.print_and_dump(test, query, \"invalid_jsons\")"
   ]
  },
  {
   "attachments": {},
   "cell_type": "markdown",
   "metadata": {},
   "source": [
    "first advanced Birdshot query"
   ]
  },
  {
   "cell_type": "code",
   "execution_count": 39,
   "metadata": {},
   "outputs": [],
   "source": [
    "query = f\"\"\" SELECT \n",
    "        i.uid, properties.name, properties.type, properties.nominal_value, properties.categorical_value, properties.units, properties.value, SplitJSON.*\n",
    "        FROM gemdobject i \n",
    "        CROSS APPLY OPENJSON(JSON_QUERY(i.context, '$.properties')) \n",
    "        WITH \n",
    "        (\n",
    "                name VARCHAR(50) '$.name', \n",
    "                value [nvarchar](max) '$.value' as json,\n",
    "                nominal_value [nvarchar](4000) '$.value.nominal',\n",
    "                categorical_value [nvarchar](4000) '$.value.category',\n",
    "                units [nvarchar](4000) '$.value.units',\n",
    "                type [nvarchar](32) '$.value.type'\n",
    "        )\n",
    "        AS properties \n",
    "        CROSS APPLY (\n",
    "        SELECT\n",
    "                SUBSTRING(value, 1, CHARINDEX('::', value) - 1) AS column_name,\n",
    "                SUBSTRING(value, CHARINDEX('::', value) + 2, LEN(value)) AS column_value\n",
    "        FROM OPENJSON(JSON_QUERY(i.context, '$.tags'))\n",
    "        ) AS SplitJSON\n",
    "        WHERE i.model_id={model_id} AND i.gemd_type='measurement_run' AND isjson(i.context)!=0\"\"\""
   ]
  },
  {
   "cell_type": "code",
   "execution_count": 40,
   "metadata": {},
   "outputs": [
    {
     "name": "stdout",
     "output_type": "stream",
     "text": [
      "                                       uid                           name   \n",
      "0     00b989a1-623e-4bd0-b673-462c6fe0a60b                   Weighed Mass  \\\n",
      "1     00b989a1-623e-4bd0-b673-462c6fe0a60b                   Weighed Mass   \n",
      "2     00b989a1-623e-4bd0-b673-462c6fe0a60b                   Weighed Mass   \n",
      "3     00b989a1-623e-4bd0-b673-462c6fe0a60b                      Mass Loss   \n",
      "4     00b989a1-623e-4bd0-b673-462c6fe0a60b                      Mass Loss   \n",
      "...                                    ...                            ...   \n",
      "1705  fe25bc50-7563-468c-bbfc-3ef14442600d  Avg. Corrected Hardness (Gpa)   \n",
      "1706  fe25bc50-7563-468c-bbfc-3ef14442600d  Avg. Corrected Hardness (Gpa)   \n",
      "1707  fe25bc50-7563-468c-bbfc-3ef14442600d   Avg. Corrected Modulus (Gpa)   \n",
      "1708  fe25bc50-7563-468c-bbfc-3ef14442600d   Avg. Corrected Modulus (Gpa)   \n",
      "1709  fe25bc50-7563-468c-bbfc-3ef14442600d   Avg. Corrected Modulus (Gpa)   \n",
      "\n",
      "              type     nominal_value categorical_value       units   \n",
      "0     nominal_real            1.5588              None        gram  \\\n",
      "1     nominal_real            1.5588              None        gram   \n",
      "2     nominal_real            1.5588              None        gram   \n",
      "3     nominal_real               0.0              None        gram   \n",
      "4     nominal_real               0.0              None        gram   \n",
      "...            ...               ...               ...         ...   \n",
      "1705  nominal_real  2.28848475444444              None  gigapascal   \n",
      "1706  nominal_real  2.28848475444444              None  gigapascal   \n",
      "1707  nominal_real  169.115457311111              None  gigapascal   \n",
      "1708  nominal_real  169.115457311111              None  gigapascal   \n",
      "1709  nominal_real  169.115457311111              None  gigapascal   \n",
      "\n",
      "                                                  value         column_name   \n",
      "0     {\"nominal\": 1.5588, \"type\": \"nominal_real\", \"u...      composition_id  \\\n",
      "1     {\"nominal\": 1.5588, \"type\": \"nominal_real\", \"u...               batch   \n",
      "2     {\"nominal\": 1.5588, \"type\": \"nominal_real\", \"u...  fabrication_method   \n",
      "3     {\"nominal\": 0.0, \"type\": \"nominal_real\", \"unit...      composition_id   \n",
      "4     {\"nominal\": 0.0, \"type\": \"nominal_real\", \"unit...               batch   \n",
      "...                                                 ...                 ...   \n",
      "1705  {\"nominal\": 2.28848475444444, \"type\": \"nominal...               batch   \n",
      "1706  {\"nominal\": 2.28848475444444, \"type\": \"nominal...  fabrication_method   \n",
      "1707  {\"nominal\": 169.115457311111, \"type\": \"nominal...      composition_id   \n",
      "1708  {\"nominal\": 169.115457311111, \"type\": \"nominal...               batch   \n",
      "1709  {\"nominal\": 169.115457311111, \"type\": \"nominal...  fabrication_method   \n",
      "\n",
      "     column_value  \n",
      "0           AAB08  \n",
      "1               A  \n",
      "2             VAM  \n",
      "3           AAB08  \n",
      "4               A  \n",
      "...           ...  \n",
      "1705            A  \n",
      "1706          VAM  \n",
      "1707        AAB04  \n",
      "1708            A  \n",
      "1709          VAM  \n",
      "\n",
      "[1710 rows x 9 columns]\n"
     ]
    },
    {
     "data": {
      "text/html": [
       "<div>\n",
       "<style scoped>\n",
       "    .dataframe tbody tr th:only-of-type {\n",
       "        vertical-align: middle;\n",
       "    }\n",
       "\n",
       "    .dataframe tbody tr th {\n",
       "        vertical-align: top;\n",
       "    }\n",
       "\n",
       "    .dataframe thead th {\n",
       "        text-align: right;\n",
       "    }\n",
       "</style>\n",
       "<table border=\"1\" class=\"dataframe\">\n",
       "  <thead>\n",
       "    <tr style=\"text-align: right;\">\n",
       "      <th></th>\n",
       "      <th>uid</th>\n",
       "      <th>name</th>\n",
       "      <th>type</th>\n",
       "      <th>nominal_value</th>\n",
       "      <th>categorical_value</th>\n",
       "      <th>units</th>\n",
       "      <th>value</th>\n",
       "      <th>column_name</th>\n",
       "      <th>column_value</th>\n",
       "    </tr>\n",
       "  </thead>\n",
       "  <tbody>\n",
       "    <tr>\n",
       "      <th>0</th>\n",
       "      <td>00b989a1-623e-4bd0-b673-462c6fe0a60b</td>\n",
       "      <td>Weighed Mass</td>\n",
       "      <td>nominal_real</td>\n",
       "      <td>1.5588</td>\n",
       "      <td>None</td>\n",
       "      <td>gram</td>\n",
       "      <td>{\"nominal\": 1.5588, \"type\": \"nominal_real\", \"u...</td>\n",
       "      <td>composition_id</td>\n",
       "      <td>AAB08</td>\n",
       "    </tr>\n",
       "    <tr>\n",
       "      <th>1</th>\n",
       "      <td>00b989a1-623e-4bd0-b673-462c6fe0a60b</td>\n",
       "      <td>Weighed Mass</td>\n",
       "      <td>nominal_real</td>\n",
       "      <td>1.5588</td>\n",
       "      <td>None</td>\n",
       "      <td>gram</td>\n",
       "      <td>{\"nominal\": 1.5588, \"type\": \"nominal_real\", \"u...</td>\n",
       "      <td>batch</td>\n",
       "      <td>A</td>\n",
       "    </tr>\n",
       "    <tr>\n",
       "      <th>2</th>\n",
       "      <td>00b989a1-623e-4bd0-b673-462c6fe0a60b</td>\n",
       "      <td>Weighed Mass</td>\n",
       "      <td>nominal_real</td>\n",
       "      <td>1.5588</td>\n",
       "      <td>None</td>\n",
       "      <td>gram</td>\n",
       "      <td>{\"nominal\": 1.5588, \"type\": \"nominal_real\", \"u...</td>\n",
       "      <td>fabrication_method</td>\n",
       "      <td>VAM</td>\n",
       "    </tr>\n",
       "    <tr>\n",
       "      <th>3</th>\n",
       "      <td>00b989a1-623e-4bd0-b673-462c6fe0a60b</td>\n",
       "      <td>Mass Loss</td>\n",
       "      <td>nominal_real</td>\n",
       "      <td>0.0</td>\n",
       "      <td>None</td>\n",
       "      <td>gram</td>\n",
       "      <td>{\"nominal\": 0.0, \"type\": \"nominal_real\", \"unit...</td>\n",
       "      <td>composition_id</td>\n",
       "      <td>AAB08</td>\n",
       "    </tr>\n",
       "    <tr>\n",
       "      <th>4</th>\n",
       "      <td>00b989a1-623e-4bd0-b673-462c6fe0a60b</td>\n",
       "      <td>Mass Loss</td>\n",
       "      <td>nominal_real</td>\n",
       "      <td>0.0</td>\n",
       "      <td>None</td>\n",
       "      <td>gram</td>\n",
       "      <td>{\"nominal\": 0.0, \"type\": \"nominal_real\", \"unit...</td>\n",
       "      <td>batch</td>\n",
       "      <td>A</td>\n",
       "    </tr>\n",
       "    <tr>\n",
       "      <th>...</th>\n",
       "      <td>...</td>\n",
       "      <td>...</td>\n",
       "      <td>...</td>\n",
       "      <td>...</td>\n",
       "      <td>...</td>\n",
       "      <td>...</td>\n",
       "      <td>...</td>\n",
       "      <td>...</td>\n",
       "      <td>...</td>\n",
       "    </tr>\n",
       "    <tr>\n",
       "      <th>1705</th>\n",
       "      <td>fe25bc50-7563-468c-bbfc-3ef14442600d</td>\n",
       "      <td>Avg. Corrected Hardness (Gpa)</td>\n",
       "      <td>nominal_real</td>\n",
       "      <td>2.28848475444444</td>\n",
       "      <td>None</td>\n",
       "      <td>gigapascal</td>\n",
       "      <td>{\"nominal\": 2.28848475444444, \"type\": \"nominal...</td>\n",
       "      <td>batch</td>\n",
       "      <td>A</td>\n",
       "    </tr>\n",
       "    <tr>\n",
       "      <th>1706</th>\n",
       "      <td>fe25bc50-7563-468c-bbfc-3ef14442600d</td>\n",
       "      <td>Avg. Corrected Hardness (Gpa)</td>\n",
       "      <td>nominal_real</td>\n",
       "      <td>2.28848475444444</td>\n",
       "      <td>None</td>\n",
       "      <td>gigapascal</td>\n",
       "      <td>{\"nominal\": 2.28848475444444, \"type\": \"nominal...</td>\n",
       "      <td>fabrication_method</td>\n",
       "      <td>VAM</td>\n",
       "    </tr>\n",
       "    <tr>\n",
       "      <th>1707</th>\n",
       "      <td>fe25bc50-7563-468c-bbfc-3ef14442600d</td>\n",
       "      <td>Avg. Corrected Modulus (Gpa)</td>\n",
       "      <td>nominal_real</td>\n",
       "      <td>169.115457311111</td>\n",
       "      <td>None</td>\n",
       "      <td>gigapascal</td>\n",
       "      <td>{\"nominal\": 169.115457311111, \"type\": \"nominal...</td>\n",
       "      <td>composition_id</td>\n",
       "      <td>AAB04</td>\n",
       "    </tr>\n",
       "    <tr>\n",
       "      <th>1708</th>\n",
       "      <td>fe25bc50-7563-468c-bbfc-3ef14442600d</td>\n",
       "      <td>Avg. Corrected Modulus (Gpa)</td>\n",
       "      <td>nominal_real</td>\n",
       "      <td>169.115457311111</td>\n",
       "      <td>None</td>\n",
       "      <td>gigapascal</td>\n",
       "      <td>{\"nominal\": 169.115457311111, \"type\": \"nominal...</td>\n",
       "      <td>batch</td>\n",
       "      <td>A</td>\n",
       "    </tr>\n",
       "    <tr>\n",
       "      <th>1709</th>\n",
       "      <td>fe25bc50-7563-468c-bbfc-3ef14442600d</td>\n",
       "      <td>Avg. Corrected Modulus (Gpa)</td>\n",
       "      <td>nominal_real</td>\n",
       "      <td>169.115457311111</td>\n",
       "      <td>None</td>\n",
       "      <td>gigapascal</td>\n",
       "      <td>{\"nominal\": 169.115457311111, \"type\": \"nominal...</td>\n",
       "      <td>fabrication_method</td>\n",
       "      <td>VAM</td>\n",
       "    </tr>\n",
       "  </tbody>\n",
       "</table>\n",
       "<p>1710 rows × 9 columns</p>\n",
       "</div>"
      ],
      "text/plain": [
       "                                       uid                           name   \n",
       "0     00b989a1-623e-4bd0-b673-462c6fe0a60b                   Weighed Mass  \\\n",
       "1     00b989a1-623e-4bd0-b673-462c6fe0a60b                   Weighed Mass   \n",
       "2     00b989a1-623e-4bd0-b673-462c6fe0a60b                   Weighed Mass   \n",
       "3     00b989a1-623e-4bd0-b673-462c6fe0a60b                      Mass Loss   \n",
       "4     00b989a1-623e-4bd0-b673-462c6fe0a60b                      Mass Loss   \n",
       "...                                    ...                            ...   \n",
       "1705  fe25bc50-7563-468c-bbfc-3ef14442600d  Avg. Corrected Hardness (Gpa)   \n",
       "1706  fe25bc50-7563-468c-bbfc-3ef14442600d  Avg. Corrected Hardness (Gpa)   \n",
       "1707  fe25bc50-7563-468c-bbfc-3ef14442600d   Avg. Corrected Modulus (Gpa)   \n",
       "1708  fe25bc50-7563-468c-bbfc-3ef14442600d   Avg. Corrected Modulus (Gpa)   \n",
       "1709  fe25bc50-7563-468c-bbfc-3ef14442600d   Avg. Corrected Modulus (Gpa)   \n",
       "\n",
       "              type     nominal_value categorical_value       units   \n",
       "0     nominal_real            1.5588              None        gram  \\\n",
       "1     nominal_real            1.5588              None        gram   \n",
       "2     nominal_real            1.5588              None        gram   \n",
       "3     nominal_real               0.0              None        gram   \n",
       "4     nominal_real               0.0              None        gram   \n",
       "...            ...               ...               ...         ...   \n",
       "1705  nominal_real  2.28848475444444              None  gigapascal   \n",
       "1706  nominal_real  2.28848475444444              None  gigapascal   \n",
       "1707  nominal_real  169.115457311111              None  gigapascal   \n",
       "1708  nominal_real  169.115457311111              None  gigapascal   \n",
       "1709  nominal_real  169.115457311111              None  gigapascal   \n",
       "\n",
       "                                                  value         column_name   \n",
       "0     {\"nominal\": 1.5588, \"type\": \"nominal_real\", \"u...      composition_id  \\\n",
       "1     {\"nominal\": 1.5588, \"type\": \"nominal_real\", \"u...               batch   \n",
       "2     {\"nominal\": 1.5588, \"type\": \"nominal_real\", \"u...  fabrication_method   \n",
       "3     {\"nominal\": 0.0, \"type\": \"nominal_real\", \"unit...      composition_id   \n",
       "4     {\"nominal\": 0.0, \"type\": \"nominal_real\", \"unit...               batch   \n",
       "...                                                 ...                 ...   \n",
       "1705  {\"nominal\": 2.28848475444444, \"type\": \"nominal...               batch   \n",
       "1706  {\"nominal\": 2.28848475444444, \"type\": \"nominal...  fabrication_method   \n",
       "1707  {\"nominal\": 169.115457311111, \"type\": \"nominal...      composition_id   \n",
       "1708  {\"nominal\": 169.115457311111, \"type\": \"nominal...               batch   \n",
       "1709  {\"nominal\": 169.115457311111, \"type\": \"nominal...  fabrication_method   \n",
       "\n",
       "     column_value  \n",
       "0           AAB08  \n",
       "1               A  \n",
       "2             VAM  \n",
       "3           AAB08  \n",
       "4               A  \n",
       "...           ...  \n",
       "1705            A  \n",
       "1706          VAM  \n",
       "1707        AAB04  \n",
       "1708            A  \n",
       "1709          VAM  \n",
       "\n",
       "[1710 rows x 9 columns]"
      ]
     },
     "execution_count": 40,
     "metadata": {},
     "output_type": "execute_result"
    }
   ],
   "source": [
    "birdshot = db.gemd_db.execute_query(query)\n",
    "db.print_and_dump(birdshot, query, \"birdshot\")"
   ]
  },
  {
   "attachments": {},
   "cell_type": "markdown",
   "metadata": {},
   "source": [
    "query to curate measurements and measurement data, for optimal use by to birdshot"
   ]
  },
  {
   "cell_type": "code",
   "execution_count": 21,
   "metadata": {},
   "outputs": [],
   "source": [
    "# query=\"\"\"DECLARE @model_id INT; -- Define the model_id parameter\n",
    "# SET @model_id = [YourModelIDValue]; -- Set the value of model_id\n",
    "\n",
    "# SELECT\n",
    "#     i.uid,\n",
    "#     properties.name, \n",
    "#     properties.type,\n",
    "#     properties.nominal_value, \n",
    "#     properties.categorical_value,\n",
    "#     properties.units,\n",
    "#     properties.value,\n",
    "#     -- Add columns from the JSON tags array\n",
    "#     MAX(CASE WHEN column_name = 'composition_id' THEN column_value END) AS composition_id,\n",
    "#     MAX(CASE WHEN column_name = 'batch' THEN column_value END) AS batch,\n",
    "#     MAX(CASE WHEN column_name = 'fabrication_method' THEN column_value END) AS fabrication_method,\n",
    "#     -- Add columns from the JSON properties object\n",
    "#     MAX(CASE WHEN property_name = 'name' THEN property_value END) AS property_name,\n",
    "#     MAX(CASE WHEN property_name = 'json' THEN property_value END) AS property_json,\n",
    "#     MAX(CASE WHEN property_name = 'nominal' THEN property_value END) AS property_nominal,\n",
    "#     MAX(CASE WHEN property_name = 'category' THEN property_value END) AS property_category,\n",
    "#     MAX(CASE WHEN property_name = 'units' THEN property_value END) AS property_units,\n",
    "#     MAX(CASE WHEN property_name = 'type' THEN property_value END) AS property_type\n",
    "# FROM GEMDOBject i\n",
    "# -- Split the JSON tags array and add columns\n",
    "# CROSS APPLY OPENJSON(JSON_QUERY(i.context, '$.tags'))\n",
    "# WITH (\n",
    "#     column_name NVARCHAR(50) '$' -- The tag contains both name and value\n",
    "# ) AS tags_data\n",
    "# CROSS APPLY (\n",
    "#     SELECT \n",
    "#         SUBSTRING(tags_data.column_name, 1, CHARINDEX('::', tags_data.column_name) - 1) AS column_name,\n",
    "#         SUBSTRING(tags_data.column_name, CHARINDEX('::', tags_data.column_name) + 2, LEN(tags_data.column_name)) AS column_value\n",
    "# ) AS parsed_tags\n",
    "# -- Extract properties from the JSON properties object\n",
    "# CROSS APPLY OPENJSON(JSON_QUERY(i.context, '$.properties'))\n",
    "# WITH (\n",
    "#     property_name VARCHAR(50) '$.name', \n",
    "#     property_value [nvarchar](max) '$.value' as json,\n",
    "#     property_nominal [nvarchar](4000) '$.value.nominal',\n",
    "#     property_category [nvarchar](4000) '$.value.category',\n",
    "#     property_units [nvarchar](4000) '$.value.units',\n",
    "#     property_type [nvarchar](32) '$.value.type'\n",
    "# ) AS properties\n",
    "# WHERE i.model_id = @model_id\n",
    "#     AND i.gemd_type = 'measurement_run'\n",
    "#     AND ISJSON(i.context) = 1 -- Use '= 1' for ISJSON to check for valid JSON\n",
    "# GROUP BY\n",
    "#     i.uid,\n",
    "#     properties.name, \n",
    "#     properties.type,\n",
    "#     properties.nominal_value, \n",
    "#     properties.categorical_value,\n",
    "#     properties.units,\n",
    "#     properties.value; -- Group by the JSON property\"\"\"\n"
   ]
  },
  {
   "cell_type": "code",
   "execution_count": 22,
   "metadata": {},
   "outputs": [],
   "source": [
    "# advanced_birdshot = db.gemd_db.execute_query(query)\n",
    "# db.print_and_dump(advanced_birdshot, query, \"advanced_birdshot\")"
   ]
  },
  {
   "attachments": {},
   "cell_type": "markdown",
   "metadata": {},
   "source": [
    "TODO: further tailoring of query to specific measurements of interest for Bayesian Optimization"
   ]
  }
 ],
 "metadata": {
  "kernelspec": {
   "display_name": "birdshot",
   "language": "python",
   "name": "python3"
  },
  "language_info": {
   "codemirror_mode": {
    "name": "ipython",
    "version": 3
   },
   "file_extension": ".py",
   "mimetype": "text/x-python",
   "name": "python",
   "nbconvert_exporter": "python",
   "pygments_lexer": "ipython3",
   "version": "3.9.16"
  },
  "orig_nbformat": 4,
  "vscode": {
   "interpreter": {
    "hash": "c93de424c187b5f45150c4b68957697054d2d10439b831359c08b5dbeaa012b5"
   }
  }
 },
 "nbformat": 4,
 "nbformat_minor": 2
}
