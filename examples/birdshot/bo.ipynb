{
 "cells": [
  {
   "cell_type": "code",
   "execution_count": 12,
   "metadata": {
    "notebookRunGroups": {
     "groupValue": "1"
    }
   },
   "outputs": [],
   "source": [
    "# %load_ext autoreload\n",
    "# %autoreload 2\n",
    "from openmsimodel.db.open_db import OpenDB\n",
    "from openmsimodel.graph.open_graph import OpenGraph\n",
    "from openmsimodel.workflow.birdshot_workflow import BIRDSHOTWorfklow\n",
    "import networkx as nx\n",
    "import json\n",
    "from pathlib import Path"
   ]
  },
  {
   "attachments": {},
   "cell_type": "markdown",
   "metadata": {},
   "source": [
    "# Workflow"
   ]
  },
  {
   "cell_type": "code",
   "execution_count": 13,
   "metadata": {
    "notebookRunGroups": {
     "groupValue": "1"
    }
   },
   "outputs": [
    {
     "name": "stderr",
     "output_type": "stream",
     "text": [
      "/srv/hemi01-j01/test/openmsimodel/openmsimodel/workflow/birdshot_workflow.py:1422: FutureWarning: Series.__getitem__ treating keys as positions is deprecated. In a future version, integer keys will always be treated as labels (consistent with DataFrame behavior). To access a value by position, use `ser.iloc[pos]`\n",
      "  element_name = sub_header_row[i]\n",
      "/srv/hemi01-j01/test/openmsimodel/openmsimodel/workflow/birdshot_workflow.py:1423: FutureWarning: Series.__getitem__ treating keys as positions is deprecated. In a future version, integer keys will always be treated as labels (consistent with DataFrame behavior). To access a value by position, use `ser.iloc[pos]`\n",
      "  composition = row[i]\n",
      "/srv/hemi01-j01/test/openmsimodel/openmsimodel/workflow/birdshot_workflow.py:1429: FutureWarning: Series.__getitem__ treating keys as positions is deprecated. In a future version, integer keys will always be treated as labels (consistent with DataFrame behavior). To access a value by position, use `ser.iloc[pos]`\n",
      "  measurement_id = row[8]\n",
      "/srv/hemi01-j01/test/openmsimodel/openmsimodel/workflow/birdshot_workflow.py:1433: FutureWarning: Series.__getitem__ treating keys as positions is deprecated. In a future version, integer keys will always be treated as labels (consistent with DataFrame behavior). To access a value by position, use `ser.iloc[pos]`\n",
      "  element_name = sub_header_row[i]\n",
      "/srv/hemi01-j01/test/openmsimodel/openmsimodel/workflow/birdshot_workflow.py:1434: FutureWarning: Series.__getitem__ treating keys as positions is deprecated. In a future version, integer keys will always be treated as labels (consistent with DataFrame behavior). To access a value by position, use `ser.iloc[pos]`\n",
      "  average_composition = row[i]\n",
      "/srv/hemi01-j01/test/openmsimodel/openmsimodel/workflow/birdshot_workflow.py:1435: FutureWarning: Series.__getitem__ treating keys as positions is deprecated. In a future version, integer keys will always be treated as labels (consistent with DataFrame behavior). To access a value by position, use `ser.iloc[pos]`\n",
      "  composition_difference = row[i + 6]\n",
      "/srv/hemi01-j01/test/openmsimodel/openmsimodel/workflow/birdshot_workflow.py:1444: FutureWarning: Series.__getitem__ treating keys as positions is deprecated. In a future version, integer keys will always be treated as labels (consistent with DataFrame behavior). To access a value by position, use `ser.iloc[pos]`\n",
      "  measurement_id = row[21]\n",
      "/srv/hemi01-j01/test/openmsimodel/openmsimodel/workflow/birdshot_workflow.py:1447: FutureWarning: Series.__getitem__ treating keys as positions is deprecated. In a future version, integer keys will always be treated as labels (consistent with DataFrame behavior). To access a value by position, use `ser.iloc[pos]`\n",
      "  phase = row[22]\n",
      "/srv/hemi01-j01/test/openmsimodel/openmsimodel/workflow/birdshot_workflow.py:1448: FutureWarning: Series.__getitem__ treating keys as positions is deprecated. In a future version, integer keys will always be treated as labels (consistent with DataFrame behavior). To access a value by position, use `ser.iloc[pos]`\n",
      "  lattice_parameter = row[23]\n",
      "/srv/hemi01-j01/test/openmsimodel/openmsimodel/workflow/birdshot_workflow.py:1458: FutureWarning: Series.__getitem__ treating keys as positions is deprecated. In a future version, integer keys will always be treated as labels (consistent with DataFrame behavior). To access a value by position, use `ser.iloc[pos]`\n",
      "  measurement_id = row[24]\n",
      "/srv/hemi01-j01/test/openmsimodel/openmsimodel/workflow/birdshot_workflow.py:1461: FutureWarning: Series.__getitem__ treating keys as positions is deprecated. In a future version, integer keys will always be treated as labels (consistent with DataFrame behavior). To access a value by position, use `ser.iloc[pos]`\n",
      "  hardness = row[25]\n",
      "/srv/hemi01-j01/test/openmsimodel/openmsimodel/workflow/birdshot_workflow.py:1462: FutureWarning: Series.__getitem__ treating keys as positions is deprecated. In a future version, integer keys will always be treated as labels (consistent with DataFrame behavior). To access a value by position, use `ser.iloc[pos]`\n",
      "  sd_hv = row[26]\n",
      "/srv/hemi01-j01/test/openmsimodel/openmsimodel/workflow/birdshot_workflow.py:1471: FutureWarning: Series.__getitem__ treating keys as positions is deprecated. In a future version, integer keys will always be treated as labels (consistent with DataFrame behavior). To access a value by position, use `ser.iloc[pos]`\n",
      "  measurement_id = row[27]\n",
      "/srv/hemi01-j01/test/openmsimodel/openmsimodel/workflow/birdshot_workflow.py:1480: FutureWarning: Series.__getitem__ treating keys as positions is deprecated. In a future version, integer keys will always be treated as labels (consistent with DataFrame behavior). To access a value by position, use `ser.iloc[pos]`\n",
      "  elastic_modulus = row[28]\n",
      "/srv/hemi01-j01/test/openmsimodel/openmsimodel/workflow/birdshot_workflow.py:1481: FutureWarning: Series.__getitem__ treating keys as positions is deprecated. In a future version, integer keys will always be treated as labels (consistent with DataFrame behavior). To access a value by position, use `ser.iloc[pos]`\n",
      "  yield_stength = row[29]\n",
      "/srv/hemi01-j01/test/openmsimodel/openmsimodel/workflow/birdshot_workflow.py:1482: FutureWarning: Series.__getitem__ treating keys as positions is deprecated. In a future version, integer keys will always be treated as labels (consistent with DataFrame behavior). To access a value by position, use `ser.iloc[pos]`\n",
      "  uts = row[30]\n",
      "/srv/hemi01-j01/test/openmsimodel/openmsimodel/workflow/birdshot_workflow.py:1483: FutureWarning: Series.__getitem__ treating keys as positions is deprecated. In a future version, integer keys will always be treated as labels (consistent with DataFrame behavior). To access a value by position, use `ser.iloc[pos]`\n",
      "  elongation = row[31]\n",
      "/srv/hemi01-j01/test/openmsimodel/openmsimodel/workflow/birdshot_workflow.py:1484: FutureWarning: Series.__getitem__ treating keys as positions is deprecated. In a future version, integer keys will always be treated as labels (consistent with DataFrame behavior). To access a value by position, use `ser.iloc[pos]`\n",
      "  strain_hardening = row[32]\n",
      "/srv/hemi01-j01/test/openmsimodel/openmsimodel/workflow/birdshot_workflow.py:1485: FutureWarning: Series.__getitem__ treating keys as positions is deprecated. In a future version, integer keys will always be treated as labels (consistent with DataFrame behavior). To access a value by position, use `ser.iloc[pos]`\n",
      "  derivative = row[33]\n",
      "/srv/hemi01-j01/test/openmsimodel/openmsimodel/workflow/birdshot_workflow.py:1507: FutureWarning: Series.__getitem__ treating keys as positions is deprecated. In a future version, integer keys will always be treated as labels (consistent with DataFrame behavior). To access a value by position, use `ser.iloc[pos]`\n",
      "  measurement_id = row[34]\n",
      "/srv/hemi01-j01/test/openmsimodel/openmsimodel/workflow/birdshot_workflow.py:1516: FutureWarning: Series.__getitem__ treating keys as positions is deprecated. In a future version, integer keys will always be treated as labels (consistent with DataFrame behavior). To access a value by position, use `ser.iloc[pos]`\n",
      "  elastic_modulus = row[35]\n",
      "/srv/hemi01-j01/test/openmsimodel/openmsimodel/workflow/birdshot_workflow.py:1517: FutureWarning: Series.__getitem__ treating keys as positions is deprecated. In a future version, integer keys will always be treated as labels (consistent with DataFrame behavior). To access a value by position, use `ser.iloc[pos]`\n",
      "  yield_stength = row[36]\n",
      "/srv/hemi01-j01/test/openmsimodel/openmsimodel/workflow/birdshot_workflow.py:1518: FutureWarning: Series.__getitem__ treating keys as positions is deprecated. In a future version, integer keys will always be treated as labels (consistent with DataFrame behavior). To access a value by position, use `ser.iloc[pos]`\n",
      "  uts = row[37]\n",
      "/srv/hemi01-j01/test/openmsimodel/openmsimodel/workflow/birdshot_workflow.py:1519: FutureWarning: Series.__getitem__ treating keys as positions is deprecated. In a future version, integer keys will always be treated as labels (consistent with DataFrame behavior). To access a value by position, use `ser.iloc[pos]`\n",
      "  elongation = row[38]\n",
      "/srv/hemi01-j01/test/openmsimodel/openmsimodel/workflow/birdshot_workflow.py:1520: FutureWarning: Series.__getitem__ treating keys as positions is deprecated. In a future version, integer keys will always be treated as labels (consistent with DataFrame behavior). To access a value by position, use `ser.iloc[pos]`\n",
      "  strain_hardening = row[39]\n",
      "/srv/hemi01-j01/test/openmsimodel/openmsimodel/workflow/birdshot_workflow.py:1521: FutureWarning: Series.__getitem__ treating keys as positions is deprecated. In a future version, integer keys will always be treated as labels (consistent with DataFrame behavior). To access a value by position, use `ser.iloc[pos]`\n",
      "  derivative = row[40]\n",
      "/srv/hemi01-j01/test/openmsimodel/openmsimodel/workflow/birdshot_workflow.py:1543: FutureWarning: Series.__getitem__ treating keys as positions is deprecated. In a future version, integer keys will always be treated as labels (consistent with DataFrame behavior). To access a value by position, use `ser.iloc[pos]`\n",
      "  measurement_id = row[41]\n",
      "/srv/hemi01-j01/test/openmsimodel/openmsimodel/workflow/birdshot_workflow.py:1552: FutureWarning: Series.__getitem__ treating keys as positions is deprecated. In a future version, integer keys will always be treated as labels (consistent with DataFrame behavior). To access a value by position, use `ser.iloc[pos]`\n",
      "  elastic_modulus = row[42]\n",
      "/srv/hemi01-j01/test/openmsimodel/openmsimodel/workflow/birdshot_workflow.py:1553: FutureWarning: Series.__getitem__ treating keys as positions is deprecated. In a future version, integer keys will always be treated as labels (consistent with DataFrame behavior). To access a value by position, use `ser.iloc[pos]`\n",
      "  yield_stength = row[43]\n",
      "/srv/hemi01-j01/test/openmsimodel/openmsimodel/workflow/birdshot_workflow.py:1554: FutureWarning: Series.__getitem__ treating keys as positions is deprecated. In a future version, integer keys will always be treated as labels (consistent with DataFrame behavior). To access a value by position, use `ser.iloc[pos]`\n",
      "  uts = row[44]\n",
      "/srv/hemi01-j01/test/openmsimodel/openmsimodel/workflow/birdshot_workflow.py:1555: FutureWarning: Series.__getitem__ treating keys as positions is deprecated. In a future version, integer keys will always be treated as labels (consistent with DataFrame behavior). To access a value by position, use `ser.iloc[pos]`\n",
      "  elongation = row[45]\n",
      "/srv/hemi01-j01/test/openmsimodel/openmsimodel/workflow/birdshot_workflow.py:1556: FutureWarning: Series.__getitem__ treating keys as positions is deprecated. In a future version, integer keys will always be treated as labels (consistent with DataFrame behavior). To access a value by position, use `ser.iloc[pos]`\n",
      "  strain_hardening = row[46]\n",
      "/srv/hemi01-j01/test/openmsimodel/openmsimodel/workflow/birdshot_workflow.py:1557: FutureWarning: Series.__getitem__ treating keys as positions is deprecated. In a future version, integer keys will always be treated as labels (consistent with DataFrame behavior). To access a value by position, use `ser.iloc[pos]`\n",
      "  derivative = row[47]\n"
     ]
    },
    {
     "name": "stdout",
     "output_type": "stream",
     "text": [
      "convert /srv/hemi01-j01/openmsimodel/examples/birdshot/input/Sample Data/Iteration2_AAB/Copy of HTMDEC AAB-VAM NI SRJT Set Summary.xlsx -> /srv/hemi01-j01/openmsimodel/examples/birdshot/output/AAB/Copy of HTMDEC AAB-VAM NI SRJT Set Summary.csv using filter : Text - txt - csv (StarCalc)\n",
      "no ingredients and process for block 'Infer Compositions' were linked. \n",
      "no material and process for block 'Infer Compositions' were linked. \n"
     ]
    },
    {
     "name": "stderr",
     "output_type": "stream",
     "text": [
      "Value {'category': 'BCC', 'type': 'nominal_categorical'} is inconsistent with template XRD\n",
      "Value {'category': 'BCC', 'type': 'nominal_categorical'} is inconsistent with template XRD\n",
      "Value {'category': 'BCC', 'type': 'nominal_categorical'} is inconsistent with template XRD\n",
      "Value {'category': 'BCC', 'type': 'nominal_categorical'} is inconsistent with template XRD\n",
      "Value {'nominal': -22333.502289733286, 'units': 'megapascal', 'type': 'nominal_real'} is inconsistent with template Tensile\n",
      "Value {'nominal': -22333.502289733286, 'units': 'megapascal', 'type': 'nominal_real'} is inconsistent with template Tensile\n",
      "Value {'nominal': -26836.257930194057, 'units': 'megapascal', 'type': 'nominal_real'} is inconsistent with template Tensile\n",
      "Value {'nominal': -26836.257930194057, 'units': 'megapascal', 'type': 'nominal_real'} is inconsistent with template Tensile\n",
      "Value {'nominal': -0.02, 'units': 'gram', 'type': 'nominal_real'} is inconsistent with template Weighting\n",
      "Value {'category': 'L12', 'type': 'nominal_categorical'} is inconsistent with template XRD\n",
      "Value {'category': 'L12', 'type': 'nominal_categorical'} is inconsistent with template XRD\n",
      "Value {'category': 'L12', 'type': 'nominal_categorical'} is inconsistent with template XRD\n",
      "Value {'category': 'L12', 'type': 'nominal_categorical'} is inconsistent with template XRD\n",
      "Value {'nominal': nan, 'units': 'megapascal', 'type': 'nominal_real'} is inconsistent with template Tensile\n",
      "Value {'nominal': nan, 'units': 'megapascal', 'type': 'nominal_real'} is inconsistent with template Tensile\n",
      "Value {'nominal': nan, 'units': 'megapascal', 'type': 'nominal_real'} is inconsistent with template Tensile\n",
      "Value {'nominal': nan, 'units': 'megapascal', 'type': 'nominal_real'} is inconsistent with template Tensile\n"
     ]
    },
    {
     "name": "stdout",
     "output_type": "stream",
     "text": [
      "no material and process for block 'Infer Compositions' were linked. \n"
     ]
    }
   ],
   "source": [
    "curr_pwd = Path().parent.absolute()\n",
    "root= curr_pwd / \"input/data/AAB\" # put data and Sample Data folders inside input\n",
    "output = curr_pwd / \"output/AAB\"\n",
    "iteration = \"AAB\"\n",
    "aab_synthesis_path = curr_pwd / \"input/Sample Data/Iteration2_AAB/HTMDEC AAB Summary Synthesis Results.xlsx\"\n",
    "aab_srjt_path = curr_pwd / \"input/Sample Data/Iteration2_AAB/Copy of HTMDEC AAB-VAM NI SRJT Set Summary.xlsx\"\n",
    "aab_birdshot_workflow = BIRDSHOTWorfklow(root, output=output,iteration=iteration,synthesis_path=aab_synthesis_path, srjt_path=aab_srjt_path)\n",
    "aab_birdshot_workflow.build()"
   ]
  },
  {
   "attachments": {},
   "cell_type": "markdown",
   "metadata": {},
   "source": [
    "### Dive into"
   ]
  },
  {
   "cell_type": "code",
   "execution_count": null,
   "metadata": {},
   "outputs": [],
   "source": [
    "aab_birdshot_workflow.terminal_material"
   ]
  },
  {
   "cell_type": "code",
   "execution_count": null,
   "metadata": {},
   "outputs": [],
   "source": [
    "print(list(aab_birdshot_workflow.subs.keys()))\n",
    "print(\"nb of blocks: {}\".format(len(aab_birdshot_workflow.subs.keys())))"
   ]
  },
  {
   "cell_type": "code",
   "execution_count": null,
   "metadata": {},
   "outputs": [],
   "source": [
    "procedural_blocks = [obj.name for obj in aab_birdshot_workflow.subs.values() if obj.type=='procedural']\n",
    "print(procedural_blocks)\n",
    "print(len(procedural_blocks))"
   ]
  },
  {
   "cell_type": "code",
   "execution_count": null,
   "metadata": {
    "notebookRunGroups": {
     "groupValue": ""
    }
   },
   "outputs": [],
   "source": [
    "arc_melting_aab04_vam_a_all = aab_birdshot_workflow.subs['Arc Melting of Alloy Alloy (AAB04-VAM-A)'].all()\n",
    "print(arc_melting_aab04_vam_a_all)\n",
    "arc_melting_aab04_vam_a_all_gemd = aab_birdshot_workflow.subs['Arc Melting of Alloy Alloy (AAB04-VAM-A)'].all_gemd()\n",
    "# print()\n",
    "print(len(arc_melting_aab04_vam_a_all_gemd))"
   ]
  },
  {
   "attachments": {},
   "cell_type": "markdown",
   "metadata": {},
   "source": [
    "multiple dumping approaches"
   ]
  },
  {
   "cell_type": "code",
   "execution_count": 14,
   "metadata": {
    "notebookRunGroups": {
     "groupValue": "1"
    }
   },
   "outputs": [
    {
     "name": "stdout",
     "output_type": "stream",
     "text": [
      "Executing thin dumps...\n",
      "Time elapsed: 9.026098251342773\n"
     ]
    }
   ],
   "source": [
    "aab_birdshot_workflow.thin_dumps(aab_birdshot_workflow.terminal_material, overwrite=True) # dumps into a single folder using a terminal GEMD object and GEMD dump methods "
   ]
  },
  {
   "cell_type": "code",
   "execution_count": null,
   "metadata": {},
   "outputs": [],
   "source": [
    "aab_birdshot_workflow.thin_structured_dumps() # dumps into a nice COMPOSITION_ID/FABRICATION_METHOD/BATCH structure, with in-house methods"
   ]
  },
  {
   "attachments": {},
   "cell_type": "markdown",
   "metadata": {},
   "source": [
    "# Viz"
   ]
  },
  {
   "attachments": {},
   "cell_type": "markdown",
   "metadata": {},
   "source": [
    "visualize the whole workflow..."
   ]
  },
  {
   "cell_type": "code",
   "execution_count": 15,
   "metadata": {
    "notebookRunGroups": {
     "groupValue": "1"
    }
   },
   "outputs": [
    {
     "name": "stdout",
     "output_type": "stream",
     "text": [
      "-- Building runs of /srv/hemi01-j01/openmsimodel/examples/birdshot/output/AAB/unstructured\n",
      "Extracting folder...\n",
      "0 gemd objects processed...\n",
      "1000 gemd objects processed...\n",
      "2000 gemd objects processed...\n",
      "-- Saved graph to /srv/hemi01-j01/openmsimodel/examples/birdshot/output/AAB/unstructured_run_graph.dot and /srv/hemi01-j01/openmsimodel/examples/birdshot/output/AAB/unstructured_run_graph.svg\n",
      "-- Analysis --\n",
      "cycles in the graph: []\n",
      "nb of disregarded elements: 35/2392\n",
      "number of connected components: 1166\n",
      "nb of isolates: 0\n"
     ]
    },
    {
     "data": {
      "application/vnd.jupyter.widget-view+json": {
       "model_id": "1c7516e70aeb4e4a9a63535191291fec",
       "version_major": 2,
       "version_minor": 0
      },
      "text/plain": [
       "GraphWidget(layout=Layout(height='500px', width='100%'))"
      ]
     },
     "metadata": {},
     "output_type": "display_data"
    }
   ],
   "source": [
    "dirpath = curr_pwd / \"output/AAB/unstructured\"\n",
    "output = curr_pwd / \"output/AAB\"\n",
    "assets_to_add = {\n",
    "            \"add_attributes\": 1,\n",
    "            \"add_file_links\": 1,\n",
    "            \"add_tags\": 1,\n",
    "        }\n",
    "open_graph = OpenGraph(\"unstructured\",dirpath=dirpath,output=output)\n",
    "all_G, all_relabeled_G, all_name_mapping = open_graph.build_graph(\n",
    "    assets_to_add=assets_to_add,\n",
    "    add_separate_node=0,\n",
    "    which='run',\n",
    ")\n",
    "open_graph.launch(all_relabeled_G)"
   ]
  },
  {
   "attachments": {},
   "cell_type": "markdown",
   "metadata": {},
   "source": [
    "... or an important workflow branch..."
   ]
  },
  {
   "cell_type": "code",
   "execution_count": 17,
   "metadata": {},
   "outputs": [
    {
     "name": "stdout",
     "output_type": "stream",
     "text": [
      "-- Building runs of /srv/hemi01-j01/openmsimodel/examples/birdshot/output/AAB/structured/AAB01/VAM/A/thin_jsons\n",
      "Extracting folder...\n",
      "-- Saved graph to /srv/hemi01-j01/openmsimodel/examples/birdshot/output/AAB/aab01_vam_a_thin_run_graph.dot and /srv/hemi01-j01/openmsimodel/examples/birdshot/output/AAB/aab01_vam_a_thin_run_graph.svg\n",
      "-- Analysis --\n",
      "cycles in the graph: []\n",
      "nb of disregarded elements: 35/195\n",
      "number of connected components: 70\n",
      "nb of isolates: 0\n"
     ]
    },
    {
     "data": {
      "application/vnd.jupyter.widget-view+json": {
       "model_id": "c7f214623d1b47eea636213a2ec49a3b",
       "version_major": 2,
       "version_minor": 0
      },
      "text/plain": [
       "GraphWidget(layout=Layout(height='500px', width='100%'))"
      ]
     },
     "metadata": {},
     "output_type": "display_data"
    }
   ],
   "source": [
    "dirpath = curr_pwd / \"output/AAB/structured/AAB01/VAM/A/thin_jsons\"\n",
    "open_graph = OpenGraph(\"aab01_vam_a_thin\",dirpath=dirpath,output=output)\n",
    "G, relabeled_G, name_mapping = open_graph.build_graph(\n",
    "    assets_to_add=assets_to_add,\n",
    "    add_separate_node=0,\n",
    "    which='run',\n",
    ")\n",
    "open_graph.launch(relabeled_G)"
   ]
  },
  {
   "attachments": {},
   "cell_type": "markdown",
   "metadata": {},
   "source": [
    "... or a subworkflow..."
   ]
  },
  {
   "cell_type": "code",
   "execution_count": null,
   "metadata": {
    "notebookRunGroups": {
     "groupValue": ""
    }
   },
   "outputs": [],
   "source": [
    "# print(arc_melting_aab04_vam_a_all_gemd)\n",
    "open_graph = OpenGraph(\"arcmelting_block_aab04_vam_a\", dirpath=arc_melting_aab04_vam_a_all[1].all_gemd(),output=output)\n",
    "G, relabeled_G, name_mapping = open_graph.build_graph(\n",
    "    assets_to_add=assets_to_add,\n",
    "    add_separate_node=0,\n",
    "    which='run',\n",
    ")\n",
    "open_graph.launch(relabeled_G)"
   ]
  },
  {
   "attachments": {},
   "cell_type": "markdown",
   "metadata": {},
   "source": [
    "... or a a BaseElement..."
   ]
  },
  {
   "cell_type": "code",
   "execution_count": null,
   "metadata": {},
   "outputs": [],
   "source": [
    "open_graph = OpenGraph(\"arcmelting_block_aab04_vam_a\", dirpath=arc_melting_aab04_vam_a_all_gemd,output=output)\n",
    "G, relabeled_G, name_mapping = open_graph.build_graph(\n",
    "    assets_to_add=assets_to_add,\n",
    "    add_separate_node=0,\n",
    "    which='run',\n",
    ")\n",
    "open_graph.launch(relabeled_G)"
   ]
  },
  {
   "attachments": {},
   "cell_type": "markdown",
   "metadata": {},
   "source": [
    "... or a single elements with its descendents and predecessors"
   ]
  },
  {
   "cell_type": "code",
   "execution_count": 16,
   "metadata": {
    "notebookRunGroups": {
     "groupValue": "1"
    }
   },
   "outputs": [
    {
     "name": "stdout",
     "output_type": "stream",
     "text": [
      "c64dead2-a0e4-4cda-a1e4-0d55322501f4\n",
      "Arc Melted Alloy (AAB03-VAM-A) Ing.,  c64\n",
      "The node c64dead2-a0e4-4cda-a1e4-0d55322501f4 is not in the digraph.\n"
     ]
    }
   ],
   "source": [
    "import random\n",
    "identifier = random.choice(list(all_name_mapping.keys()))\n",
    "print(identifier)\n",
    "print(all_name_mapping[identifier])\n",
    "functions = [nx.descendants, nx.ancestors]\n",
    "try: # doesn't always run, depending on the randomly selected element\n",
    "    identifier_G = OpenGraph.extract_subgraph(all_G, identifier, func=functions)\n",
    "    identifier_G = OpenGraph.map_to_graphviz(identifier_G, all_name_mapping)\n",
    "    open_graph.launch(identifier_G)\n",
    "except Exception as e:\n",
    "    print(e)"
   ]
  },
  {
   "attachments": {},
   "cell_type": "markdown",
   "metadata": {},
   "source": [
    "TODO: SVG Viewer"
   ]
  },
  {
   "attachments": {},
   "cell_type": "markdown",
   "metadata": {},
   "source": [
    "# DB"
   ]
  },
  {
   "cell_type": "code",
   "execution_count": 18,
   "metadata": {},
   "outputs": [],
   "source": [
    "database_name='GEMD'\n",
    "private_path='/home/arachid1/.private/gemd_db.json'\n",
    "db = OpenDB(database_name=database_name, private_path=private_path,output=curr_pwd / \"output/queries_log\")\n",
    "model_id =11"
   ]
  },
  {
   "attachments": {},
   "cell_type": "markdown",
   "metadata": {},
   "source": [
    "Test query retrieving all measurement runs"
   ]
  },
  {
   "cell_type": "code",
   "execution_count": 19,
   "metadata": {},
   "outputs": [
    {
     "name": "stdout",
     "output_type": "stream",
     "text": [
      "                                      uid  model_id        gemd_type  \\\n",
      "0    408a45ae-89f7-425d-99fe-c675d1a44b91        11  measurement_run   \n",
      "1    40eee56d-bd67-4433-b210-2b7789299ce7        11  measurement_run   \n",
      "2    41207bb9-984b-4bb9-b45b-6e5d6ccda099        11  measurement_run   \n",
      "3    425434d6-2ec9-4674-af08-dbb2c3a14e3c        11  measurement_run   \n",
      "4    42c0543d-2de6-433a-81c0-5253143af2d8        11  measurement_run   \n",
      "..                                    ...       ...              ...   \n",
      "196  a7ce7063-53dd-4935-8905-22f267166400        11  measurement_run   \n",
      "197  a3aecd48-f764-48a2-9b0d-2868cd604a25        11  measurement_run   \n",
      "198  a3b15ef7-9a15-48c4-a275-ef92f703809f        11  measurement_run   \n",
      "199  fd3d7f8a-0af3-4fd8-9f79-fe84cce146eb        11  measurement_run   \n",
      "200  fe25bc50-7563-468c-bbfc-3ef14442600d        11  measurement_run   \n",
      "\n",
      "                                               context  \n",
      "0    {\"conditions\": [], \"file_links\": [], \"material...  \n",
      "1    {\"conditions\": [], \"file_links\": [], \"material...  \n",
      "2    {\"conditions\": [], \"file_links\": [], \"material...  \n",
      "3    {\"conditions\": [], \"file_links\": [], \"material...  \n",
      "4    {\"conditions\": [], \"file_links\": [], \"material...  \n",
      "..                                                 ...  \n",
      "196  {\"conditions\": [], \"file_links\": [], \"material...  \n",
      "197  {\"conditions\": [], \"file_links\": [], \"material...  \n",
      "198  {\"conditions\": [], \"file_links\": [], \"material...  \n",
      "199  {\"conditions\": [], \"file_links\": [], \"material...  \n",
      "200  {\"conditions\": [], \"file_links\": [], \"material...  \n",
      "\n",
      "[201 rows x 4 columns]\n"
     ]
    },
    {
     "data": {
      "text/html": [
       "<div>\n",
       "<style scoped>\n",
       "    .dataframe tbody tr th:only-of-type {\n",
       "        vertical-align: middle;\n",
       "    }\n",
       "\n",
       "    .dataframe tbody tr th {\n",
       "        vertical-align: top;\n",
       "    }\n",
       "\n",
       "    .dataframe thead th {\n",
       "        text-align: right;\n",
       "    }\n",
       "</style>\n",
       "<table border=\"1\" class=\"dataframe\">\n",
       "  <thead>\n",
       "    <tr style=\"text-align: right;\">\n",
       "      <th></th>\n",
       "      <th>uid</th>\n",
       "      <th>model_id</th>\n",
       "      <th>gemd_type</th>\n",
       "      <th>context</th>\n",
       "    </tr>\n",
       "  </thead>\n",
       "  <tbody>\n",
       "    <tr>\n",
       "      <th>0</th>\n",
       "      <td>408a45ae-89f7-425d-99fe-c675d1a44b91</td>\n",
       "      <td>11</td>\n",
       "      <td>measurement_run</td>\n",
       "      <td>{\"conditions\": [], \"file_links\": [], \"material...</td>\n",
       "    </tr>\n",
       "    <tr>\n",
       "      <th>1</th>\n",
       "      <td>40eee56d-bd67-4433-b210-2b7789299ce7</td>\n",
       "      <td>11</td>\n",
       "      <td>measurement_run</td>\n",
       "      <td>{\"conditions\": [], \"file_links\": [], \"material...</td>\n",
       "    </tr>\n",
       "    <tr>\n",
       "      <th>2</th>\n",
       "      <td>41207bb9-984b-4bb9-b45b-6e5d6ccda099</td>\n",
       "      <td>11</td>\n",
       "      <td>measurement_run</td>\n",
       "      <td>{\"conditions\": [], \"file_links\": [], \"material...</td>\n",
       "    </tr>\n",
       "    <tr>\n",
       "      <th>3</th>\n",
       "      <td>425434d6-2ec9-4674-af08-dbb2c3a14e3c</td>\n",
       "      <td>11</td>\n",
       "      <td>measurement_run</td>\n",
       "      <td>{\"conditions\": [], \"file_links\": [], \"material...</td>\n",
       "    </tr>\n",
       "    <tr>\n",
       "      <th>4</th>\n",
       "      <td>42c0543d-2de6-433a-81c0-5253143af2d8</td>\n",
       "      <td>11</td>\n",
       "      <td>measurement_run</td>\n",
       "      <td>{\"conditions\": [], \"file_links\": [], \"material...</td>\n",
       "    </tr>\n",
       "    <tr>\n",
       "      <th>...</th>\n",
       "      <td>...</td>\n",
       "      <td>...</td>\n",
       "      <td>...</td>\n",
       "      <td>...</td>\n",
       "    </tr>\n",
       "    <tr>\n",
       "      <th>196</th>\n",
       "      <td>a7ce7063-53dd-4935-8905-22f267166400</td>\n",
       "      <td>11</td>\n",
       "      <td>measurement_run</td>\n",
       "      <td>{\"conditions\": [], \"file_links\": [], \"material...</td>\n",
       "    </tr>\n",
       "    <tr>\n",
       "      <th>197</th>\n",
       "      <td>a3aecd48-f764-48a2-9b0d-2868cd604a25</td>\n",
       "      <td>11</td>\n",
       "      <td>measurement_run</td>\n",
       "      <td>{\"conditions\": [], \"file_links\": [], \"material...</td>\n",
       "    </tr>\n",
       "    <tr>\n",
       "      <th>198</th>\n",
       "      <td>a3b15ef7-9a15-48c4-a275-ef92f703809f</td>\n",
       "      <td>11</td>\n",
       "      <td>measurement_run</td>\n",
       "      <td>{\"conditions\": [], \"file_links\": [], \"material...</td>\n",
       "    </tr>\n",
       "    <tr>\n",
       "      <th>199</th>\n",
       "      <td>fd3d7f8a-0af3-4fd8-9f79-fe84cce146eb</td>\n",
       "      <td>11</td>\n",
       "      <td>measurement_run</td>\n",
       "      <td>{\"conditions\": [], \"file_links\": [], \"material...</td>\n",
       "    </tr>\n",
       "    <tr>\n",
       "      <th>200</th>\n",
       "      <td>fe25bc50-7563-468c-bbfc-3ef14442600d</td>\n",
       "      <td>11</td>\n",
       "      <td>measurement_run</td>\n",
       "      <td>{\"conditions\": [], \"file_links\": [], \"material...</td>\n",
       "    </tr>\n",
       "  </tbody>\n",
       "</table>\n",
       "<p>201 rows × 4 columns</p>\n",
       "</div>"
      ],
      "text/plain": [
       "                                      uid  model_id        gemd_type  \\\n",
       "0    408a45ae-89f7-425d-99fe-c675d1a44b91        11  measurement_run   \n",
       "1    40eee56d-bd67-4433-b210-2b7789299ce7        11  measurement_run   \n",
       "2    41207bb9-984b-4bb9-b45b-6e5d6ccda099        11  measurement_run   \n",
       "3    425434d6-2ec9-4674-af08-dbb2c3a14e3c        11  measurement_run   \n",
       "4    42c0543d-2de6-433a-81c0-5253143af2d8        11  measurement_run   \n",
       "..                                    ...       ...              ...   \n",
       "196  a7ce7063-53dd-4935-8905-22f267166400        11  measurement_run   \n",
       "197  a3aecd48-f764-48a2-9b0d-2868cd604a25        11  measurement_run   \n",
       "198  a3b15ef7-9a15-48c4-a275-ef92f703809f        11  measurement_run   \n",
       "199  fd3d7f8a-0af3-4fd8-9f79-fe84cce146eb        11  measurement_run   \n",
       "200  fe25bc50-7563-468c-bbfc-3ef14442600d        11  measurement_run   \n",
       "\n",
       "                                               context  \n",
       "0    {\"conditions\": [], \"file_links\": [], \"material...  \n",
       "1    {\"conditions\": [], \"file_links\": [], \"material...  \n",
       "2    {\"conditions\": [], \"file_links\": [], \"material...  \n",
       "3    {\"conditions\": [], \"file_links\": [], \"material...  \n",
       "4    {\"conditions\": [], \"file_links\": [], \"material...  \n",
       "..                                                 ...  \n",
       "196  {\"conditions\": [], \"file_links\": [], \"material...  \n",
       "197  {\"conditions\": [], \"file_links\": [], \"material...  \n",
       "198  {\"conditions\": [], \"file_links\": [], \"material...  \n",
       "199  {\"conditions\": [], \"file_links\": [], \"material...  \n",
       "200  {\"conditions\": [], \"file_links\": [], \"material...  \n",
       "\n",
       "[201 rows x 4 columns]"
      ]
     },
     "execution_count": 19,
     "metadata": {},
     "output_type": "execute_result"
    }
   ],
   "source": [
    "query = f\"\"\" SELECT * FROM GEMDObject WHERE model_id={model_id} AND gemd_type='measurement_run' \"\"\"\n",
    "_all_measurements = db.gemd_db.execute_query(query)\n",
    "db.print_and_dump(_all_measurements, query, \"_all_measurements\", dump=False)"
   ]
  },
  {
   "cell_type": "code",
   "execution_count": null,
   "metadata": {},
   "outputs": [],
   "source": [
    "c = _all_measurements.iloc[1]['context']\n",
    "print(json.dumps(json.loads(c), indent=3))"
   ]
  },
  {
   "attachments": {},
   "cell_type": "markdown",
   "metadata": {},
   "source": [
    "a couple of invalid jsons that need fixing"
   ]
  },
  {
   "cell_type": "code",
   "execution_count": null,
   "metadata": {},
   "outputs": [],
   "source": [
    "query = f\"\"\" SELECT *\n",
    "FROM GEMDObject \n",
    "WHERE model_id={model_id} and isjson(context)=0\n",
    "\"\"\"\n",
    "test = db.gemd_db.execute_query(query)\n",
    "db.print_and_dump(test, query, \"invalid_jsons\")"
   ]
  },
  {
   "attachments": {},
   "cell_type": "markdown",
   "metadata": {},
   "source": [
    "first advanced Birdshot query"
   ]
  },
  {
   "cell_type": "code",
   "execution_count": null,
   "metadata": {},
   "outputs": [],
   "source": [
    "query = f\"\"\" SELECT \n",
    "        i.uid, properties.name, properties.type, properties.nominal_value, properties.categorical_value, properties.units, properties.value, SplitJSON.*\n",
    "        FROM gemdobject i \n",
    "        CROSS APPLY OPENJSON(JSON_QUERY(i.context, '$.properties')) \n",
    "        WITH \n",
    "        (\n",
    "                name VARCHAR(50) '$.name', \n",
    "                value [nvarchar](max) '$.value' as json,\n",
    "                nominal_value [nvarchar](4000) '$.value.nominal',\n",
    "                categorical_value [nvarchar](4000) '$.value.category',\n",
    "                units [nvarchar](4000) '$.value.units',\n",
    "                type [nvarchar](32) '$.value.type'\n",
    "        )\n",
    "        AS properties \n",
    "        CROSS APPLY (\n",
    "        SELECT\n",
    "                SUBSTRING(value, 1, CHARINDEX('::', value) - 1) AS column_name,\n",
    "                SUBSTRING(value, CHARINDEX('::', value) + 2, LEN(value)) AS column_value\n",
    "        FROM OPENJSON(JSON_QUERY(i.context, '$.tags'))\n",
    "        ) AS SplitJSON\n",
    "        WHERE i.model_id={model_id} AND i.gemd_type='measurement_run' AND isjson(i.context)!=0\"\"\""
   ]
  },
  {
   "cell_type": "code",
   "execution_count": null,
   "metadata": {},
   "outputs": [],
   "source": [
    "birdshot = db.gemd_db.execute_query(query)\n",
    "db.print_and_dump(birdshot, query, \"birdshot\")"
   ]
  },
  {
   "attachments": {},
   "cell_type": "markdown",
   "metadata": {},
   "source": [
    "query to curate measurements and measurement data, for optimal use by to birdshot"
   ]
  },
  {
   "cell_type": "code",
   "execution_count": null,
   "metadata": {},
   "outputs": [],
   "source": [
    "# query=\"\"\"DECLARE @model_id INT; -- Define the model_id parameter\n",
    "# SET @model_id = [YourModelIDValue]; -- Set the value of model_id\n",
    "\n",
    "# SELECT\n",
    "#     i.uid,\n",
    "#     properties.name, \n",
    "#     properties.type,\n",
    "#     properties.nominal_value, \n",
    "#     properties.categorical_value,\n",
    "#     properties.units,\n",
    "#     properties.value,\n",
    "#     -- Add columns from the JSON tags array\n",
    "#     MAX(CASE WHEN column_name = 'composition_id' THEN column_value END) AS composition_id,\n",
    "#     MAX(CASE WHEN column_name = 'batch' THEN column_value END) AS batch,\n",
    "#     MAX(CASE WHEN column_name = 'fabrication_method' THEN column_value END) AS fabrication_method,\n",
    "#     -- Add columns from the JSON properties object\n",
    "#     MAX(CASE WHEN property_name = 'name' THEN property_value END) AS property_name,\n",
    "#     MAX(CASE WHEN property_name = 'json' THEN property_value END) AS property_json,\n",
    "#     MAX(CASE WHEN property_name = 'nominal' THEN property_value END) AS property_nominal,\n",
    "#     MAX(CASE WHEN property_name = 'category' THEN property_value END) AS property_category,\n",
    "#     MAX(CASE WHEN property_name = 'units' THEN property_value END) AS property_units,\n",
    "#     MAX(CASE WHEN property_name = 'type' THEN property_value END) AS property_type\n",
    "# FROM GEMDOBject i\n",
    "# -- Split the JSON tags array and add columns\n",
    "# CROSS APPLY OPENJSON(JSON_QUERY(i.context, '$.tags'))\n",
    "# WITH (\n",
    "#     column_name NVARCHAR(50) '$' -- The tag contains both name and value\n",
    "# ) AS tags_data\n",
    "# CROSS APPLY (\n",
    "#     SELECT \n",
    "#         SUBSTRING(tags_data.column_name, 1, CHARINDEX('::', tags_data.column_name) - 1) AS column_name,\n",
    "#         SUBSTRING(tags_data.column_name, CHARINDEX('::', tags_data.column_name) + 2, LEN(tags_data.column_name)) AS column_value\n",
    "# ) AS parsed_tags\n",
    "# -- Extract properties from the JSON properties object\n",
    "# CROSS APPLY OPENJSON(JSON_QUERY(i.context, '$.properties'))\n",
    "# WITH (\n",
    "#     property_name VARCHAR(50) '$.name', \n",
    "#     property_value [nvarchar](max) '$.value' as json,\n",
    "#     property_nominal [nvarchar](4000) '$.value.nominal',\n",
    "#     property_category [nvarchar](4000) '$.value.category',\n",
    "#     property_units [nvarchar](4000) '$.value.units',\n",
    "#     property_type [nvarchar](32) '$.value.type'\n",
    "# ) AS properties\n",
    "# WHERE i.model_id = @model_id\n",
    "#     AND i.gemd_type = 'measurement_run'\n",
    "#     AND ISJSON(i.context) = 1 -- Use '= 1' for ISJSON to check for valid JSON\n",
    "# GROUP BY\n",
    "#     i.uid,\n",
    "#     properties.name, \n",
    "#     properties.type,\n",
    "#     properties.nominal_value, \n",
    "#     properties.categorical_value,\n",
    "#     properties.units,\n",
    "#     properties.value; -- Group by the JSON property\"\"\"\n"
   ]
  },
  {
   "cell_type": "code",
   "execution_count": null,
   "metadata": {},
   "outputs": [],
   "source": [
    "# advanced_birdshot = db.gemd_db.execute_query(query)\n",
    "# db.print_and_dump(advanced_birdshot, query, \"advanced_birdshot\")"
   ]
  },
  {
   "attachments": {},
   "cell_type": "markdown",
   "metadata": {},
   "source": [
    "TODO: further tailoring of query to specific measurements of interest for Bayesian Optimization"
   ]
  }
 ],
 "metadata": {
  "kernelspec": {
   "display_name": "test_final",
   "language": "python",
   "name": "python3"
  },
  "language_info": {
   "codemirror_mode": {
    "name": "ipython",
    "version": 3
   },
   "file_extension": ".py",
   "mimetype": "text/x-python",
   "name": "python",
   "nbconvert_exporter": "python",
   "pygments_lexer": "ipython3",
   "version": "3.9.18"
  },
  "orig_nbformat": 4,
  "vscode": {
   "interpreter": {
    "hash": "8d433689c4fe27da74f998d88ca8159a2b292e6e69014b732e4d0c80db1622a9"
   }
  }
 },
 "nbformat": 4,
 "nbformat_minor": 2
}
