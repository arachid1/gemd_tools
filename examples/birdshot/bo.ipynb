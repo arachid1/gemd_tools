{
 "cells": [
  {
   "cell_type": "code",
   "execution_count": null,
   "metadata": {
    "notebookRunGroups": {
     "groupValue": "1"
    }
   },
   "outputs": [],
   "source": [
    "# %load_ext autoreload\n",
    "# %autoreload 2\n",
    "from openmsimodel.db.open_db import OpenDB\n",
    "from openmsimodel.graph.open_graph import OpenGraph\n",
    "from openmsimodel.workflow.birdshot_workflow import BIRDSHOTWorfklow\n",
    "import networkx as nx\n",
    "import json\n",
    "from pathlib import Path"
   ]
  },
  {
   "attachments": {},
   "cell_type": "markdown",
   "metadata": {},
   "source": [
    "# Workflow"
   ]
  },
  {
   "cell_type": "code",
   "execution_count": null,
   "metadata": {
    "notebookRunGroups": {
     "groupValue": "1"
    }
   },
   "outputs": [],
   "source": [
    "curr_pwd = Path().parent.absolute()\n",
    "root= curr_pwd / \"input/data/AAB\" # put data and Sample Data folders inside input\n",
    "output = curr_pwd / \"output/AAB\"\n",
    "iteration = \"AAB\"\n",
    "aab_synthesis_path = curr_pwd / \"input/Sample Data/Iteration2_AAB/HTMDEC AAB Summary Synthesis Results.xlsx\"\n",
    "aab_srjt_path = curr_pwd / \"input/Sample Data/Iteration2_AAB/Copy of HTMDEC AAB-VAM NI SRJT Set Summary.xlsx\"\n",
    "aab_birdshot_workflow = BIRDSHOTWorfklow(root, output=output,iteration=iteration,synthesis_path=aab_synthesis_path, srjt_path=aab_srjt_path)\n",
    "aab_birdshot_workflow.build()"
   ]
  },
  {
   "attachments": {},
   "cell_type": "markdown",
   "metadata": {},
   "source": [
    "### Dive into"
   ]
  },
  {
   "cell_type": "code",
   "execution_count": null,
   "metadata": {},
   "outputs": [],
   "source": [
    "aab_birdshot_workflow.terminal_material"
   ]
  },
  {
   "cell_type": "code",
   "execution_count": null,
   "metadata": {},
   "outputs": [],
   "source": [
    "print(list(aab_birdshot_workflow.subs.keys()))\n",
    "print(\"nb of blocks: {}\".format(len(aab_birdshot_workflow.subs.keys())))"
   ]
  },
  {
   "cell_type": "code",
   "execution_count": null,
   "metadata": {},
   "outputs": [],
   "source": [
    "procedural_blocks = [obj.name for obj in aab_birdshot_workflow.subs.values() if obj.type=='procedural']\n",
    "print(procedural_blocks)\n",
    "print(len(procedural_blocks))"
   ]
  },
  {
   "cell_type": "code",
   "execution_count": null,
   "metadata": {
    "notebookRunGroups": {
     "groupValue": ""
    }
   },
   "outputs": [],
   "source": [
    "arc_melting_aab04_vam_a_all = aab_birdshot_workflow.subs['Arc Melting of Alloy Alloy (AAB04-VAM-A)'].all()\n",
    "print(arc_melting_aab04_vam_a_all)\n",
    "arc_melting_aab04_vam_a_all_gemd = aab_birdshot_workflow.subs['Arc Melting of Alloy Alloy (AAB04-VAM-A)'].all_gemd()\n",
    "# print()\n",
    "print(len(arc_melting_aab04_vam_a_all_gemd))"
   ]
  },
  {
   "attachments": {},
   "cell_type": "markdown",
   "metadata": {},
   "source": [
    "multiple dumping approaches"
   ]
  },
  {
   "cell_type": "code",
   "execution_count": null,
   "metadata": {
    "notebookRunGroups": {
     "groupValue": "1"
    }
   },
   "outputs": [],
   "source": [
    "aab_birdshot_workflow.thin_dumps(aab_birdshot_workflow.terminal_material, overwrite=True) # dumps into a single folder using a terminal GEMD object and GEMD dump methods "
   ]
  },
  {
   "cell_type": "code",
   "execution_count": null,
   "metadata": {},
   "outputs": [],
   "source": [
    "aab_birdshot_workflow.thin_structured_dumps() # dumps into a nice COMPOSITION_ID/FABRICATION_METHOD/BATCH structure, with in-house methods"
   ]
  },
  {
   "attachments": {},
   "cell_type": "markdown",
   "metadata": {},
   "source": [
    "# Viz"
   ]
  },
  {
   "attachments": {},
   "cell_type": "markdown",
   "metadata": {},
   "source": [
    "visualize the whole workflow..."
   ]
  },
  {
   "cell_type": "code",
   "execution_count": null,
   "metadata": {
    "notebookRunGroups": {
     "groupValue": "1"
    }
   },
   "outputs": [],
   "source": [
    "dirpath = curr_pwd / \"output/AAB/unstructured\"\n",
    "output = curr_pwd / \"output/AAB\"\n",
    "assets_to_add = {\n",
    "            \"add_attributes\": 1,\n",
    "            \"add_file_links\": 1,\n",
    "            \"add_tags\": 1,\n",
    "        }\n",
    "open_graph = OpenGraph(\"unstructured\",dirpath=dirpath,output=output)\n",
    "all_G, all_relabeled_G, all_name_mapping = open_graph.build_graph(\n",
    "    assets_to_add=assets_to_add,\n",
    "    add_separate_node=0,\n",
    "    which='run',\n",
    ")\n",
    "open_graph.launch(all_relabeled_G)"
   ]
  },
  {
   "attachments": {},
   "cell_type": "markdown",
   "metadata": {},
   "source": [
    "... or an important workflow branch..."
   ]
  },
  {
   "cell_type": "code",
   "execution_count": null,
   "metadata": {},
   "outputs": [],
   "source": [
    "dirpath = curr_pwd / \"output/AAB/structured/AAB01/VAM/A/thin_jsons\"\n",
    "open_graph = OpenGraph(\"aab01_vam_a_thin\",dirpath=dirpath,output=output)\n",
    "G, relabeled_G, name_mapping = open_graph.build_graph(\n",
    "    assets_to_add=assets_to_add,\n",
    "    add_separate_node=0,\n",
    "    which='run',\n",
    ")\n",
    "open_graph.launch(relabeled_G)"
   ]
  },
  {
   "attachments": {},
   "cell_type": "markdown",
   "metadata": {},
   "source": [
    "... or a subworkflow..."
   ]
  },
  {
   "cell_type": "code",
   "execution_count": null,
   "metadata": {
    "notebookRunGroups": {
     "groupValue": ""
    }
   },
   "outputs": [],
   "source": [
    "# print(arc_melting_aab04_vam_a_all_gemd)\n",
    "open_graph = OpenGraph(\"arcmelting_block_aab04_vam_a\", dirpath=arc_melting_aab04_vam_a_all[1].all_gemd(),output=output)\n",
    "G, relabeled_G, name_mapping = open_graph.build_graph(\n",
    "    assets_to_add=assets_to_add,\n",
    "    add_separate_node=0,\n",
    "    which='run',\n",
    ")\n",
    "open_graph.launch(relabeled_G)"
   ]
  },
  {
   "attachments": {},
   "cell_type": "markdown",
   "metadata": {},
   "source": [
    "... or a a BaseElement..."
   ]
  },
  {
   "cell_type": "code",
   "execution_count": null,
   "metadata": {},
   "outputs": [],
   "source": [
    "open_graph = OpenGraph(\"arcmelting_block_aab04_vam_a\", dirpath=arc_melting_aab04_vam_a_all_gemd,output=output)\n",
    "G, relabeled_G, name_mapping = open_graph.build_graph(\n",
    "    assets_to_add=assets_to_add,\n",
    "    add_separate_node=0,\n",
    "    which='run',\n",
    ")\n",
    "open_graph.launch(relabeled_G)"
   ]
  },
  {
   "attachments": {},
   "cell_type": "markdown",
   "metadata": {},
   "source": [
    "... or a single elements with its descendents and predecessors"
   ]
  },
  {
   "cell_type": "code",
   "execution_count": null,
   "metadata": {
    "notebookRunGroups": {
     "groupValue": "1"
    }
   },
   "outputs": [],
   "source": [
    "import random\n",
    "identifier = random.choice(list(all_name_mapping.keys()))\n",
    "print(identifier)\n",
    "print(all_name_mapping[identifier])\n",
    "functions = [nx.descendants, nx.ancestors]\n",
    "try: # doesn't always run, depending on the randomly selected element\n",
    "    identifier_G = OpenGraph.extract_subgraph(all_G, identifier, func=functions)\n",
    "    identifier_G = OpenGraph.map_to_graphviz(identifier_G, all_name_mapping)\n",
    "    open_graph.launch(identifier_G)\n",
    "except Exception as e:\n",
    "    print(e)"
   ]
  },
  {
   "attachments": {},
   "cell_type": "markdown",
   "metadata": {},
   "source": [
    "TODO: SVG Viewer"
   ]
  },
  {
   "attachments": {},
   "cell_type": "markdown",
   "metadata": {},
   "source": [
    "# DB"
   ]
  },
  {
   "cell_type": "code",
   "execution_count": null,
   "metadata": {},
   "outputs": [],
   "source": [
    "db = OpenDB(database_name='GEMD', private_path='/home/arachid1/.private/gemd_db.json',output=curr_pwd / \"output/queries_log\")\n",
    "model_id =11"
   ]
  },
  {
   "attachments": {},
   "cell_type": "markdown",
   "metadata": {},
   "source": [
    "Test query retrieving all measurement runs"
   ]
  },
  {
   "cell_type": "code",
   "execution_count": null,
   "metadata": {},
   "outputs": [],
   "source": [
    "query = f\"\"\" SELECT * FROM GEMDObject WHERE model_id={model_id} AND gemd_type='measurement_run' \"\"\"\n",
    "_all_measurements = db.gemd_db.execute_query(query)\n",
    "db.print_and_dump(_all_measurements, query, \"_all_measurements\", dump=False)"
   ]
  },
  {
   "cell_type": "code",
   "execution_count": null,
   "metadata": {},
   "outputs": [],
   "source": [
    "c = _all_measurements.iloc[1]['context']\n",
    "print(json.dumps(json.loads(c), indent=3))"
   ]
  },
  {
   "attachments": {},
   "cell_type": "markdown",
   "metadata": {},
   "source": [
    "a couple of invalid jsons that need fixing"
   ]
  },
  {
   "cell_type": "code",
   "execution_count": null,
   "metadata": {},
   "outputs": [],
   "source": [
    "query = f\"\"\" SELECT *\n",
    "FROM GEMDObject \n",
    "WHERE model_id={model_id} and isjson(context)=0\n",
    "\"\"\"\n",
    "test = db.gemd_db.execute_query(query)\n",
    "db.print_and_dump(test, query, \"invalid_jsons\")"
   ]
  },
  {
   "attachments": {},
   "cell_type": "markdown",
   "metadata": {},
   "source": [
    "first advanced Birdshot query"
   ]
  },
  {
   "cell_type": "code",
   "execution_count": null,
   "metadata": {},
   "outputs": [],
   "source": [
    "query = f\"\"\" SELECT \n",
    "        i.uid, properties.name, properties.type, properties.nominal_value, properties.categorical_value, properties.units, properties.value, SplitJSON.*\n",
    "        FROM gemdobject i \n",
    "        CROSS APPLY OPENJSON(JSON_QUERY(i.context, '$.properties')) \n",
    "        WITH \n",
    "        (\n",
    "                name VARCHAR(50) '$.name', \n",
    "                value [nvarchar](max) '$.value' as json,\n",
    "                nominal_value [nvarchar](4000) '$.value.nominal',\n",
    "                categorical_value [nvarchar](4000) '$.value.category',\n",
    "                units [nvarchar](4000) '$.value.units',\n",
    "                type [nvarchar](32) '$.value.type'\n",
    "        )\n",
    "        AS properties \n",
    "        CROSS APPLY (\n",
    "        SELECT\n",
    "                SUBSTRING(value, 1, CHARINDEX('::', value) - 1) AS column_name,\n",
    "                SUBSTRING(value, CHARINDEX('::', value) + 2, LEN(value)) AS column_value\n",
    "        FROM OPENJSON(JSON_QUERY(i.context, '$.tags'))\n",
    "        ) AS SplitJSON\n",
    "        WHERE i.model_id={model_id} AND i.gemd_type='measurement_run' AND isjson(i.context)!=0\"\"\""
   ]
  },
  {
   "cell_type": "code",
   "execution_count": null,
   "metadata": {},
   "outputs": [],
   "source": [
    "birdshot = db.gemd_db.execute_query(query)\n",
    "db.print_and_dump(birdshot, query, \"birdshot\")"
   ]
  },
  {
   "attachments": {},
   "cell_type": "markdown",
   "metadata": {},
   "source": [
    "query to curate measurements and measurement data, for optimal use by to birdshot"
   ]
  },
  {
   "cell_type": "code",
   "execution_count": null,
   "metadata": {},
   "outputs": [],
   "source": [
    "# query=\"\"\"DECLARE @model_id INT; -- Define the model_id parameter\n",
    "# SET @model_id = [YourModelIDValue]; -- Set the value of model_id\n",
    "\n",
    "# SELECT\n",
    "#     i.uid,\n",
    "#     properties.name, \n",
    "#     properties.type,\n",
    "#     properties.nominal_value, \n",
    "#     properties.categorical_value,\n",
    "#     properties.units,\n",
    "#     properties.value,\n",
    "#     -- Add columns from the JSON tags array\n",
    "#     MAX(CASE WHEN column_name = 'composition_id' THEN column_value END) AS composition_id,\n",
    "#     MAX(CASE WHEN column_name = 'batch' THEN column_value END) AS batch,\n",
    "#     MAX(CASE WHEN column_name = 'fabrication_method' THEN column_value END) AS fabrication_method,\n",
    "#     -- Add columns from the JSON properties object\n",
    "#     MAX(CASE WHEN property_name = 'name' THEN property_value END) AS property_name,\n",
    "#     MAX(CASE WHEN property_name = 'json' THEN property_value END) AS property_json,\n",
    "#     MAX(CASE WHEN property_name = 'nominal' THEN property_value END) AS property_nominal,\n",
    "#     MAX(CASE WHEN property_name = 'category' THEN property_value END) AS property_category,\n",
    "#     MAX(CASE WHEN property_name = 'units' THEN property_value END) AS property_units,\n",
    "#     MAX(CASE WHEN property_name = 'type' THEN property_value END) AS property_type\n",
    "# FROM GEMDOBject i\n",
    "# -- Split the JSON tags array and add columns\n",
    "# CROSS APPLY OPENJSON(JSON_QUERY(i.context, '$.tags'))\n",
    "# WITH (\n",
    "#     column_name NVARCHAR(50) '$' -- The tag contains both name and value\n",
    "# ) AS tags_data\n",
    "# CROSS APPLY (\n",
    "#     SELECT \n",
    "#         SUBSTRING(tags_data.column_name, 1, CHARINDEX('::', tags_data.column_name) - 1) AS column_name,\n",
    "#         SUBSTRING(tags_data.column_name, CHARINDEX('::', tags_data.column_name) + 2, LEN(tags_data.column_name)) AS column_value\n",
    "# ) AS parsed_tags\n",
    "# -- Extract properties from the JSON properties object\n",
    "# CROSS APPLY OPENJSON(JSON_QUERY(i.context, '$.properties'))\n",
    "# WITH (\n",
    "#     property_name VARCHAR(50) '$.name', \n",
    "#     property_value [nvarchar](max) '$.value' as json,\n",
    "#     property_nominal [nvarchar](4000) '$.value.nominal',\n",
    "#     property_category [nvarchar](4000) '$.value.category',\n",
    "#     property_units [nvarchar](4000) '$.value.units',\n",
    "#     property_type [nvarchar](32) '$.value.type'\n",
    "# ) AS properties\n",
    "# WHERE i.model_id = @model_id\n",
    "#     AND i.gemd_type = 'measurement_run'\n",
    "#     AND ISJSON(i.context) = 1 -- Use '= 1' for ISJSON to check for valid JSON\n",
    "# GROUP BY\n",
    "#     i.uid,\n",
    "#     properties.name, \n",
    "#     properties.type,\n",
    "#     properties.nominal_value, \n",
    "#     properties.categorical_value,\n",
    "#     properties.units,\n",
    "#     properties.value; -- Group by the JSON property\"\"\"\n"
   ]
  },
  {
   "cell_type": "code",
   "execution_count": null,
   "metadata": {},
   "outputs": [],
   "source": [
    "# advanced_birdshot = db.gemd_db.execute_query(query)\n",
    "# db.print_and_dump(advanced_birdshot, query, \"advanced_birdshot\")"
   ]
  },
  {
   "attachments": {},
   "cell_type": "markdown",
   "metadata": {},
   "source": [
    "TODO: further tailoring of query to specific measurements of interest for Bayesian Optimization"
   ]
  }
 ],
 "metadata": {
  "kernelspec": {
   "display_name": "test_3",
   "language": "python",
   "name": "python3"
  },
  "language_info": {
   "codemirror_mode": {
    "name": "ipython",
    "version": 3
   },
   "file_extension": ".py",
   "mimetype": "text/x-python",
   "name": "python",
   "nbconvert_exporter": "python",
   "pygments_lexer": "ipython3",
   "version": "3.9.18"
  },
  "orig_nbformat": 4,
  "vscode": {
   "interpreter": {
    "hash": "7de2360e19d6bb15db1da52e80a0deb329028157fa9b2dfd09611ce13e1e3554"
   }
  }
 },
 "nbformat": 4,
 "nbformat_minor": 2
}
