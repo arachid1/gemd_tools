{
 "cells": [
  {
   "cell_type": "code",
   "execution_count": 4,
   "metadata": {
    "notebookRunGroups": {
     "groupValue": "1"
    }
   },
   "outputs": [],
   "source": [
    "# %load_ext autoreload\n",
    "# %autoreload 2\n",
    "from openmsimodel.db.open_db import OpenDB\n",
    "from openmsimodel.graph.open_graph import OpenGraph\n",
    "from openmsimodel.workflow.birdshot_workflow import BIRDSHOTWorfklow\n",
    "import networkx as nx\n",
    "import json\n",
    "from pathlib import Path"
   ]
  },
  {
   "attachments": {},
   "cell_type": "markdown",
   "metadata": {},
   "source": [
    "# Workflow"
   ]
  },
  {
   "cell_type": "code",
   "execution_count": 5,
   "metadata": {
    "notebookRunGroups": {
     "groupValue": "1"
    }
   },
   "outputs": [
    {
     "name": "stderr",
     "output_type": "stream",
     "text": [
      "/srv/hemi01-j01/openmsimodel/openmsimodel/workflow/birdshot_workflow.py:1422: FutureWarning: Series.__getitem__ treating keys as positions is deprecated. In a future version, integer keys will always be treated as labels (consistent with DataFrame behavior). To access a value by position, use `ser.iloc[pos]`\n",
      "  element_name = sub_header_row[i]\n",
      "/srv/hemi01-j01/openmsimodel/openmsimodel/workflow/birdshot_workflow.py:1423: FutureWarning: Series.__getitem__ treating keys as positions is deprecated. In a future version, integer keys will always be treated as labels (consistent with DataFrame behavior). To access a value by position, use `ser.iloc[pos]`\n",
      "  composition = row[i]\n",
      "/srv/hemi01-j01/openmsimodel/openmsimodel/workflow/birdshot_workflow.py:1429: FutureWarning: Series.__getitem__ treating keys as positions is deprecated. In a future version, integer keys will always be treated as labels (consistent with DataFrame behavior). To access a value by position, use `ser.iloc[pos]`\n",
      "  measurement_id = row[8]\n",
      "/srv/hemi01-j01/openmsimodel/openmsimodel/workflow/birdshot_workflow.py:1433: FutureWarning: Series.__getitem__ treating keys as positions is deprecated. In a future version, integer keys will always be treated as labels (consistent with DataFrame behavior). To access a value by position, use `ser.iloc[pos]`\n",
      "  element_name = sub_header_row[i]\n",
      "/srv/hemi01-j01/openmsimodel/openmsimodel/workflow/birdshot_workflow.py:1434: FutureWarning: Series.__getitem__ treating keys as positions is deprecated. In a future version, integer keys will always be treated as labels (consistent with DataFrame behavior). To access a value by position, use `ser.iloc[pos]`\n",
      "  average_composition = row[i]\n",
      "/srv/hemi01-j01/openmsimodel/openmsimodel/workflow/birdshot_workflow.py:1435: FutureWarning: Series.__getitem__ treating keys as positions is deprecated. In a future version, integer keys will always be treated as labels (consistent with DataFrame behavior). To access a value by position, use `ser.iloc[pos]`\n",
      "  composition_difference = row[i + 6]\n",
      "/srv/hemi01-j01/openmsimodel/openmsimodel/workflow/birdshot_workflow.py:1444: FutureWarning: Series.__getitem__ treating keys as positions is deprecated. In a future version, integer keys will always be treated as labels (consistent with DataFrame behavior). To access a value by position, use `ser.iloc[pos]`\n",
      "  measurement_id = row[21]\n",
      "/srv/hemi01-j01/openmsimodel/openmsimodel/workflow/birdshot_workflow.py:1447: FutureWarning: Series.__getitem__ treating keys as positions is deprecated. In a future version, integer keys will always be treated as labels (consistent with DataFrame behavior). To access a value by position, use `ser.iloc[pos]`\n",
      "  phase = row[22]\n",
      "/srv/hemi01-j01/openmsimodel/openmsimodel/workflow/birdshot_workflow.py:1448: FutureWarning: Series.__getitem__ treating keys as positions is deprecated. In a future version, integer keys will always be treated as labels (consistent with DataFrame behavior). To access a value by position, use `ser.iloc[pos]`\n",
      "  lattice_parameter = row[23]\n",
      "/srv/hemi01-j01/openmsimodel/openmsimodel/workflow/birdshot_workflow.py:1458: FutureWarning: Series.__getitem__ treating keys as positions is deprecated. In a future version, integer keys will always be treated as labels (consistent with DataFrame behavior). To access a value by position, use `ser.iloc[pos]`\n",
      "  measurement_id = row[24]\n",
      "/srv/hemi01-j01/openmsimodel/openmsimodel/workflow/birdshot_workflow.py:1461: FutureWarning: Series.__getitem__ treating keys as positions is deprecated. In a future version, integer keys will always be treated as labels (consistent with DataFrame behavior). To access a value by position, use `ser.iloc[pos]`\n",
      "  hardness = row[25]\n",
      "/srv/hemi01-j01/openmsimodel/openmsimodel/workflow/birdshot_workflow.py:1462: FutureWarning: Series.__getitem__ treating keys as positions is deprecated. In a future version, integer keys will always be treated as labels (consistent with DataFrame behavior). To access a value by position, use `ser.iloc[pos]`\n",
      "  sd_hv = row[26]\n",
      "/srv/hemi01-j01/openmsimodel/openmsimodel/workflow/birdshot_workflow.py:1471: FutureWarning: Series.__getitem__ treating keys as positions is deprecated. In a future version, integer keys will always be treated as labels (consistent with DataFrame behavior). To access a value by position, use `ser.iloc[pos]`\n",
      "  measurement_id = row[27]\n",
      "/srv/hemi01-j01/openmsimodel/openmsimodel/workflow/birdshot_workflow.py:1480: FutureWarning: Series.__getitem__ treating keys as positions is deprecated. In a future version, integer keys will always be treated as labels (consistent with DataFrame behavior). To access a value by position, use `ser.iloc[pos]`\n",
      "  elastic_modulus = row[28]\n",
      "/srv/hemi01-j01/openmsimodel/openmsimodel/workflow/birdshot_workflow.py:1481: FutureWarning: Series.__getitem__ treating keys as positions is deprecated. In a future version, integer keys will always be treated as labels (consistent with DataFrame behavior). To access a value by position, use `ser.iloc[pos]`\n",
      "  yield_stength = row[29]\n",
      "/srv/hemi01-j01/openmsimodel/openmsimodel/workflow/birdshot_workflow.py:1482: FutureWarning: Series.__getitem__ treating keys as positions is deprecated. In a future version, integer keys will always be treated as labels (consistent with DataFrame behavior). To access a value by position, use `ser.iloc[pos]`\n",
      "  uts = row[30]\n",
      "/srv/hemi01-j01/openmsimodel/openmsimodel/workflow/birdshot_workflow.py:1483: FutureWarning: Series.__getitem__ treating keys as positions is deprecated. In a future version, integer keys will always be treated as labels (consistent with DataFrame behavior). To access a value by position, use `ser.iloc[pos]`\n",
      "  elongation = row[31]\n",
      "/srv/hemi01-j01/openmsimodel/openmsimodel/workflow/birdshot_workflow.py:1484: FutureWarning: Series.__getitem__ treating keys as positions is deprecated. In a future version, integer keys will always be treated as labels (consistent with DataFrame behavior). To access a value by position, use `ser.iloc[pos]`\n",
      "  strain_hardening = row[32]\n",
      "/srv/hemi01-j01/openmsimodel/openmsimodel/workflow/birdshot_workflow.py:1485: FutureWarning: Series.__getitem__ treating keys as positions is deprecated. In a future version, integer keys will always be treated as labels (consistent with DataFrame behavior). To access a value by position, use `ser.iloc[pos]`\n",
      "  derivative = row[33]\n",
      "/srv/hemi01-j01/openmsimodel/openmsimodel/workflow/birdshot_workflow.py:1507: FutureWarning: Series.__getitem__ treating keys as positions is deprecated. In a future version, integer keys will always be treated as labels (consistent with DataFrame behavior). To access a value by position, use `ser.iloc[pos]`\n",
      "  measurement_id = row[34]\n",
      "/srv/hemi01-j01/openmsimodel/openmsimodel/workflow/birdshot_workflow.py:1516: FutureWarning: Series.__getitem__ treating keys as positions is deprecated. In a future version, integer keys will always be treated as labels (consistent with DataFrame behavior). To access a value by position, use `ser.iloc[pos]`\n",
      "  elastic_modulus = row[35]\n",
      "/srv/hemi01-j01/openmsimodel/openmsimodel/workflow/birdshot_workflow.py:1517: FutureWarning: Series.__getitem__ treating keys as positions is deprecated. In a future version, integer keys will always be treated as labels (consistent with DataFrame behavior). To access a value by position, use `ser.iloc[pos]`\n",
      "  yield_stength = row[36]\n",
      "/srv/hemi01-j01/openmsimodel/openmsimodel/workflow/birdshot_workflow.py:1518: FutureWarning: Series.__getitem__ treating keys as positions is deprecated. In a future version, integer keys will always be treated as labels (consistent with DataFrame behavior). To access a value by position, use `ser.iloc[pos]`\n",
      "  uts = row[37]\n",
      "/srv/hemi01-j01/openmsimodel/openmsimodel/workflow/birdshot_workflow.py:1519: FutureWarning: Series.__getitem__ treating keys as positions is deprecated. In a future version, integer keys will always be treated as labels (consistent with DataFrame behavior). To access a value by position, use `ser.iloc[pos]`\n",
      "  elongation = row[38]\n",
      "/srv/hemi01-j01/openmsimodel/openmsimodel/workflow/birdshot_workflow.py:1520: FutureWarning: Series.__getitem__ treating keys as positions is deprecated. In a future version, integer keys will always be treated as labels (consistent with DataFrame behavior). To access a value by position, use `ser.iloc[pos]`\n",
      "  strain_hardening = row[39]\n",
      "/srv/hemi01-j01/openmsimodel/openmsimodel/workflow/birdshot_workflow.py:1521: FutureWarning: Series.__getitem__ treating keys as positions is deprecated. In a future version, integer keys will always be treated as labels (consistent with DataFrame behavior). To access a value by position, use `ser.iloc[pos]`\n",
      "  derivative = row[40]\n",
      "/srv/hemi01-j01/openmsimodel/openmsimodel/workflow/birdshot_workflow.py:1543: FutureWarning: Series.__getitem__ treating keys as positions is deprecated. In a future version, integer keys will always be treated as labels (consistent with DataFrame behavior). To access a value by position, use `ser.iloc[pos]`\n",
      "  measurement_id = row[41]\n",
      "/srv/hemi01-j01/openmsimodel/openmsimodel/workflow/birdshot_workflow.py:1552: FutureWarning: Series.__getitem__ treating keys as positions is deprecated. In a future version, integer keys will always be treated as labels (consistent with DataFrame behavior). To access a value by position, use `ser.iloc[pos]`\n",
      "  elastic_modulus = row[42]\n",
      "/srv/hemi01-j01/openmsimodel/openmsimodel/workflow/birdshot_workflow.py:1553: FutureWarning: Series.__getitem__ treating keys as positions is deprecated. In a future version, integer keys will always be treated as labels (consistent with DataFrame behavior). To access a value by position, use `ser.iloc[pos]`\n",
      "  yield_stength = row[43]\n",
      "/srv/hemi01-j01/openmsimodel/openmsimodel/workflow/birdshot_workflow.py:1554: FutureWarning: Series.__getitem__ treating keys as positions is deprecated. In a future version, integer keys will always be treated as labels (consistent with DataFrame behavior). To access a value by position, use `ser.iloc[pos]`\n",
      "  uts = row[44]\n",
      "/srv/hemi01-j01/openmsimodel/openmsimodel/workflow/birdshot_workflow.py:1555: FutureWarning: Series.__getitem__ treating keys as positions is deprecated. In a future version, integer keys will always be treated as labels (consistent with DataFrame behavior). To access a value by position, use `ser.iloc[pos]`\n",
      "  elongation = row[45]\n",
      "/srv/hemi01-j01/openmsimodel/openmsimodel/workflow/birdshot_workflow.py:1556: FutureWarning: Series.__getitem__ treating keys as positions is deprecated. In a future version, integer keys will always be treated as labels (consistent with DataFrame behavior). To access a value by position, use `ser.iloc[pos]`\n",
      "  strain_hardening = row[46]\n",
      "/srv/hemi01-j01/openmsimodel/openmsimodel/workflow/birdshot_workflow.py:1557: FutureWarning: Series.__getitem__ treating keys as positions is deprecated. In a future version, integer keys will always be treated as labels (consistent with DataFrame behavior). To access a value by position, use `ser.iloc[pos]`\n",
      "  derivative = row[47]\n"
     ]
    },
    {
     "name": "stdout",
     "output_type": "stream",
     "text": [
      "convert /srv/hemi01-j01/openmsimodel/examples/birdshot/input/Sample Data/Iteration2_AAB/Copy of HTMDEC AAB-VAM NI SRJT Set Summary.xlsx -> /srv/hemi01-j01/openmsimodel/examples/birdshot/output/AAB/Copy of HTMDEC AAB-VAM NI SRJT Set Summary.csv using filter : Text - txt - csv (StarCalc)\n",
      "no ingredients and process for block 'Infer Compositions' were linked. \n",
      "no material and process for block 'Infer Compositions' were linked. \n"
     ]
    },
    {
     "name": "stderr",
     "output_type": "stream",
     "text": [
      "Value {'category': 'BCC', 'type': 'nominal_categorical'} is inconsistent with template XRD\n",
      "Value {'category': 'BCC', 'type': 'nominal_categorical'} is inconsistent with template XRD\n",
      "Value {'category': 'BCC', 'type': 'nominal_categorical'} is inconsistent with template XRD\n",
      "Value {'category': 'BCC', 'type': 'nominal_categorical'} is inconsistent with template XRD\n",
      "Value {'nominal': -22333.502289733286, 'units': 'megapascal', 'type': 'nominal_real'} is inconsistent with template Tensile\n",
      "Value {'nominal': -22333.502289733286, 'units': 'megapascal', 'type': 'nominal_real'} is inconsistent with template Tensile\n",
      "Value {'nominal': -26836.257930194057, 'units': 'megapascal', 'type': 'nominal_real'} is inconsistent with template Tensile\n",
      "Value {'nominal': -26836.257930194057, 'units': 'megapascal', 'type': 'nominal_real'} is inconsistent with template Tensile\n",
      "Value {'nominal': -0.02, 'units': 'gram', 'type': 'nominal_real'} is inconsistent with template Weighting\n",
      "Value {'category': 'L12', 'type': 'nominal_categorical'} is inconsistent with template XRD\n",
      "Value {'category': 'L12', 'type': 'nominal_categorical'} is inconsistent with template XRD\n",
      "Value {'category': 'L12', 'type': 'nominal_categorical'} is inconsistent with template XRD\n",
      "Value {'category': 'L12', 'type': 'nominal_categorical'} is inconsistent with template XRD\n",
      "Value {'nominal': nan, 'units': 'megapascal', 'type': 'nominal_real'} is inconsistent with template Tensile\n",
      "Value {'nominal': nan, 'units': 'megapascal', 'type': 'nominal_real'} is inconsistent with template Tensile\n",
      "Value {'nominal': nan, 'units': 'megapascal', 'type': 'nominal_real'} is inconsistent with template Tensile\n",
      "Value {'nominal': nan, 'units': 'megapascal', 'type': 'nominal_real'} is inconsistent with template Tensile\n"
     ]
    },
    {
     "name": "stdout",
     "output_type": "stream",
     "text": [
      "no material and process for block 'Infer Compositions' were linked. \n"
     ]
    }
   ],
   "source": [
    "curr_pwd = Path().parent.absolute()\n",
    "root= curr_pwd / \"input/data/AAB\" # put data and Sample Data folders inside input\n",
    "output = curr_pwd / \"output/AAB\"\n",
    "iteration = \"AAB\"\n",
    "aab_synthesis_path = curr_pwd / \"input/Sample Data/Iteration2_AAB/HTMDEC AAB Summary Synthesis Results.xlsx\"\n",
    "aab_srjt_path = curr_pwd / \"input/Sample Data/Iteration2_AAB/Copy of HTMDEC AAB-VAM NI SRJT Set Summary.xlsx\"\n",
    "aab_birdshot_workflow = BIRDSHOTWorfklow(root, output=output,iteration=iteration,synthesis_path=aab_synthesis_path, srjt_path=aab_srjt_path)\n",
    "aab_birdshot_workflow.build()"
   ]
  },
  {
   "attachments": {},
   "cell_type": "markdown",
   "metadata": {},
   "source": [
    "### Dive into"
   ]
  },
  {
   "cell_type": "code",
   "execution_count": 6,
   "metadata": {},
   "outputs": [
    {
     "data": {
      "text/plain": [
       "{'name': 'Infer comp. using B.O.', 'spec': {'name': 'Infer comp. using B.O.', 'template': {'allowed_labels': [], 'name': 'Infer Compositions', 'conditions': [], 'description': 'Applying Bayezian Optimization based on multi-inputs/multi-output\\n        objectives to generated new composition space, with data extracted \\n        from summary sheet aggregated by various experimental teams\\n        ', 'parameters': [], 'tags': [], 'allowed_names': [], 'uids': {'auto': '8b607381-ce33-4f0a-8e70-705aa0562bfc', 'persistent_id': 63}, 'type': 'process_template'}, 'conditions': [], 'file_links': [], 'parameters': [], 'tags': [], 'uids': {'auto': '2a0b5ccc-4dea-4a1a-b0a9-7a79ed5c5fa4'}, 'notes': None, 'type': 'process_spec', 'ingredients': [\"<IngredientSpec 'Summary sheet Ing.'>\"], 'output_material': None}, 'conditions': [], 'file_links': [], 'parameters': [], 'source': None, 'tags': [], 'uids': {'auto': '65fdeb50-bea7-4889-b841-42be661a6a89'}, 'notes': None, 'type': 'process_run', 'ingredients': [\"<IngredientRun 'Summary sheet Ing.'>\"], 'output_material': None}"
      ]
     },
     "execution_count": 6,
     "metadata": {},
     "output_type": "execute_result"
    }
   ],
   "source": [
    "aab_birdshot_workflow.terminal_material"
   ]
  },
  {
   "cell_type": "code",
   "execution_count": 7,
   "metadata": {},
   "outputs": [
    {
     "name": "stdout",
     "output_type": "stream",
     "text": [
      "['Infer Compositions', 'Selecting Composition AAB01', 'Aggregating Co for AAB01-VAM-A', 'Aggregating Cr for AAB01-VAM-A', 'Aggregating Fe for AAB01-VAM-A', 'Aggregating Ni for AAB01-VAM-A', 'Aggregating V for AAB01-VAM-A', 'Aggregating Al for AAB01-VAM-A', 'Mix elements of AAB01', 'Arc Melting of Alloy Alloy (AAB01-VAM-A)', 'Homogenization of Alloy Alloy (AAB01-VAM-A)', 'Forging of Alloy Alloy (AAB01-VAM-A)', 'Setting up of Traveler Alloy (AAB01-VAM-A)', 'Set Alloy (AAB01-VAM-A) T. Sample for SEM (T02) charact.', 'Set Alloy (AAB01-VAM-A) T. Sample for XRD (T03) charact.', 'Set Alloy (AAB01-VAM-A) T. Sample for NI (T04) charact.', 'Set Alloy (AAB01-VAM-A) T. Sample for Tensile (T08) charact.', 'Set Alloy (AAB01-VAM-A) T. Sample for Tensile (T09) charact.', 'Selecting Composition AAB02', 'Aggregating Co for AAB02-VAM-A', 'Aggregating Cr for AAB02-VAM-A', 'Aggregating Fe for AAB02-VAM-A', 'Aggregating Ni for AAB02-VAM-A', 'Aggregating V for AAB02-VAM-A', 'Aggregating Al for AAB02-VAM-A', 'Mix elements of AAB02', 'Arc Melting of Alloy Alloy (AAB02-VAM-A)', 'Homogenization of Alloy Alloy (AAB02-VAM-A)', 'Forging of Alloy Alloy (AAB02-VAM-A)', 'Setting up of Traveler Alloy (AAB02-VAM-A)', 'Set Alloy (AAB02-VAM-A) T. Sample for SEM (T02) charact.', 'Set Alloy (AAB02-VAM-A) T. Sample for XRD (T03) charact.', 'Set Alloy (AAB02-VAM-A) T. Sample for NI (T04) charact.', 'Set Alloy (AAB02-VAM-A) T. Sample for Tensile (T08) charact.', 'Set Alloy (AAB02-VAM-A) T. Sample for Tensile (T09) charact.', 'Selecting Composition AAB03', 'Aggregating Co for AAB03-VAM-A', 'Aggregating Cr for AAB03-VAM-A', 'Aggregating Fe for AAB03-VAM-A', 'Aggregating Ni for AAB03-VAM-A', 'Aggregating V for AAB03-VAM-A', 'Aggregating Al for AAB03-VAM-A', 'Mix elements of AAB03', 'Arc Melting of Alloy Alloy (AAB03-VAM-A)', 'Homogenization of Alloy Alloy (AAB03-VAM-A)', 'Forging of Alloy Alloy (AAB03-VAM-A)', 'Setting up of Traveler Alloy (AAB03-VAM-A)', 'Set Alloy (AAB03-VAM-A) T. Sample for NI (T04) charact.', 'Set Alloy (AAB03-VAM-A) T. Sample for Tensile (T08) charact.', 'Set Alloy (AAB03-VAM-A) T. Sample for Tensile (T09) charact.', 'Selecting Composition AAB04', 'Aggregating Co for AAB04-VAM-A', 'Aggregating Cr for AAB04-VAM-A', 'Aggregating Fe for AAB04-VAM-A', 'Aggregating Ni for AAB04-VAM-A', 'Aggregating V for AAB04-VAM-A', 'Aggregating Al for AAB04-VAM-A', 'Mix elements of AAB04', 'Arc Melting of Alloy Alloy (AAB04-VAM-A)', 'Homogenization of Alloy Alloy (AAB04-VAM-A)', 'Forging of Alloy Alloy (AAB04-VAM-A)', 'Setting up of Traveler Alloy (AAB04-VAM-A)', 'Set Alloy (AAB04-VAM-A) T. Sample for SEM (T02) charact.', 'Set Alloy (AAB04-VAM-A) T. Sample for XRD (T03) charact.', 'Set Alloy (AAB04-VAM-A) T. Sample for NI (T04) charact.', 'Set Alloy (AAB04-VAM-A) T. Sample for Tensile (T08) charact.', 'Set Alloy (AAB04-VAM-A) T. Sample for Tensile (T09) charact.', 'Selecting Composition AAB05', 'Aggregating Co for AAB05-VAM-A', 'Aggregating Cr for AAB05-VAM-A', 'Aggregating Fe for AAB05-VAM-A', 'Aggregating Ni for AAB05-VAM-A', 'Aggregating V for AAB05-VAM-A', 'Aggregating Al for AAB05-VAM-A', 'Mix elements of AAB05', 'Arc Melting of Alloy Alloy (AAB05-VAM-A)', 'Homogenization of Alloy Alloy (AAB05-VAM-A)', 'Forging of Alloy Alloy (AAB05-VAM-A)', 'Setting up of Traveler Alloy (AAB05-VAM-A)', 'Set Alloy (AAB05-VAM-A) T. Sample for SEM (T02) charact.', 'Set Alloy (AAB05-VAM-A) T. Sample for XRD (T03) charact.', 'Set Alloy (AAB05-VAM-A) T. Sample for NI (T04) charact.', 'Set Alloy (AAB05-VAM-A) T. Sample for Tensile (T08) charact.', 'Set Alloy (AAB05-VAM-A) T. Sample for Tensile (T09) charact.', 'Selecting Composition AAB06', 'Aggregating Co for AAB06-VAM-A', 'Aggregating Cr for AAB06-VAM-A', 'Aggregating Fe for AAB06-VAM-A', 'Aggregating Ni for AAB06-VAM-A', 'Aggregating V for AAB06-VAM-A', 'Aggregating Al for AAB06-VAM-A', 'Mix elements of AAB06', 'Arc Melting of Alloy Alloy (AAB06-VAM-A)', 'Homogenization of Alloy Alloy (AAB06-VAM-A)', 'Forging of Alloy Alloy (AAB06-VAM-A)', 'Setting up of Traveler Alloy (AAB06-VAM-A)', 'Set Alloy (AAB06-VAM-A) T. Sample for SEM (T02) charact.', 'Set Alloy (AAB06-VAM-A) T. Sample for XRD (T03) charact.', 'Set Alloy (AAB06-VAM-A) T. Sample for NI (T04) charact.', 'Set Alloy (AAB06-VAM-A) T. Sample for Tensile (T08) charact.', 'Set Alloy (AAB06-VAM-A) T. Sample for Tensile (T09) charact.', 'Selecting Composition AAB07', 'Aggregating Co for AAB07-VAM-A', 'Aggregating Cr for AAB07-VAM-A', 'Aggregating Fe for AAB07-VAM-A', 'Aggregating Ni for AAB07-VAM-A', 'Aggregating V for AAB07-VAM-A', 'Aggregating Al for AAB07-VAM-A', 'Mix elements of AAB07', 'Arc Melting of Alloy Alloy (AAB07-VAM-A)', 'Homogenization of Alloy Alloy (AAB07-VAM-A)', 'Forging of Alloy Alloy (AAB07-VAM-A)', 'Setting up of Traveler Alloy (AAB07-VAM-A)', 'Set Alloy (AAB07-VAM-A) T. Sample for SEM (T02) charact.', 'Set Alloy (AAB07-VAM-A) T. Sample for XRD (T03) charact.', 'Set Alloy (AAB07-VAM-A) T. Sample for NI (T04) charact.', 'Set Alloy (AAB07-VAM-A) T. Sample for Tensile (T08) charact.', 'Set Alloy (AAB07-VAM-A) T. Sample for Tensile (T09) charact.', 'Selecting Composition AAB08', 'Aggregating Co for AAB08-VAM-A', 'Aggregating Cr for AAB08-VAM-A', 'Aggregating Fe for AAB08-VAM-A', 'Aggregating Ni for AAB08-VAM-A', 'Aggregating V for AAB08-VAM-A', 'Aggregating Al for AAB08-VAM-A', 'Mix elements of AAB08', 'Arc Melting of Alloy Alloy (AAB08-VAM-A)', 'Homogenization of Alloy Alloy (AAB08-VAM-A)', 'Forging of Alloy Alloy (AAB08-VAM-A)', 'Setting up of Traveler Alloy (AAB08-VAM-A)', 'Set Alloy (AAB08-VAM-A) T. Sample for SEM (T02) charact.', 'Set Alloy (AAB08-VAM-A) T. Sample for XRD (T03) charact.', 'Set Alloy (AAB08-VAM-A) T. Sample for NI (T04) charact.', 'Set Alloy (AAB08-VAM-A) T. Sample for Tensile (T09) charact.', 'Selecting Composition AAB09', 'Aggregating Co for AAB09-VAM-A', 'Aggregating Cr for AAB09-VAM-A', 'Aggregating Fe for AAB09-VAM-A', 'Aggregating Ni for AAB09-VAM-A', 'Aggregating V for AAB09-VAM-A', 'Aggregating Al for AAB09-VAM-A', 'Mix elements of AAB09', 'Arc Melting of Alloy Alloy (AAB09-VAM-A)', 'Homogenization of Alloy Alloy (AAB09-VAM-A)', 'Forging of Alloy Alloy (AAB09-VAM-A)', 'Setting up of Traveler Alloy (AAB09-VAM-A)', 'Set Alloy (AAB09-VAM-A) T. Sample for XRD (T03) charact.', 'Set Alloy (AAB09-VAM-A) T. Sample for NI (T04) charact.', 'Set Alloy (AAB09-VAM-A) T. Sample for Tensile (T08) charact.', 'Set Alloy (AAB09-VAM-A) T. Sample for Tensile (T09) charact.', 'Selecting Composition AAB10', 'Aggregating Co for AAB10-VAM-A', 'Aggregating Cr for AAB10-VAM-A', 'Aggregating Fe for AAB10-VAM-A', 'Aggregating Ni for AAB10-VAM-A', 'Aggregating V for AAB10-VAM-A', 'Aggregating Al for AAB10-VAM-A', 'Mix elements of AAB10', 'Arc Melting of Alloy Alloy (AAB10-VAM-A)', 'Homogenization of Alloy Alloy (AAB10-VAM-A)', 'Forging of Alloy Alloy (AAB10-VAM-A)', 'Setting up of Traveler Alloy (AAB10-VAM-A)', 'Set Alloy (AAB10-VAM-A) T. Sample for SEM (T02) charact.', 'Set Alloy (AAB10-VAM-A) T. Sample for XRD (T03) charact.', 'Set Alloy (AAB10-VAM-A) T. Sample for NI (T04) charact.', 'Set Alloy (AAB10-VAM-A) T. Sample for Tensile (T08) charact.', 'Set Alloy (AAB10-VAM-A) T. Sample for Tensile (T09) charact.', 'Selecting Composition AAB11', 'Aggregating Co for AAB11-VAM-A', 'Aggregating Cr for AAB11-VAM-A', 'Aggregating Fe for AAB11-VAM-A', 'Aggregating Ni for AAB11-VAM-A', 'Aggregating V for AAB11-VAM-A', 'Aggregating Al for AAB11-VAM-A', 'Mix elements of AAB11', 'Arc Melting of Alloy Alloy (AAB11-VAM-A)', 'Homogenization of Alloy Alloy (AAB11-VAM-A)', 'Forging of Alloy Alloy (AAB11-VAM-A)', 'Setting up of Traveler Alloy (AAB11-VAM-A)', 'Set Alloy (AAB11-VAM-A) T. Sample for SEM (T02) charact.', 'Set Alloy (AAB11-VAM-A) T. Sample for XRD (T03) charact.', 'Set Alloy (AAB11-VAM-A) T. Sample for NI (T04) charact.', 'Set Alloy (AAB11-VAM-A) T. Sample for Tensile (T08) charact.', 'Set Alloy (AAB11-VAM-A) T. Sample for Tensile (T09) charact.', 'Selecting Composition AAB12', 'Aggregating Co for AAB12-VAM-A', 'Aggregating Cr for AAB12-VAM-A', 'Aggregating Fe for AAB12-VAM-A', 'Aggregating Ni for AAB12-VAM-A', 'Aggregating V for AAB12-VAM-A', 'Aggregating Al for AAB12-VAM-A', 'Mix elements of AAB12', 'Arc Melting of Alloy Alloy (AAB12-VAM-A)', 'Homogenization of Alloy Alloy (AAB12-VAM-A)', 'Forging of Alloy Alloy (AAB12-VAM-A)', 'Setting up of Traveler Alloy (AAB12-VAM-A)', 'Set Alloy (AAB12-VAM-A) T. Sample for XRD (T03) charact.', 'Set Alloy (AAB12-VAM-A) T. Sample for NI (T04) charact.', 'Set Alloy (AAB12-VAM-A) T. Sample for Tensile (T08) charact.', 'Set Alloy (AAB12-VAM-A) T. Sample for Tensile (T09) charact.', 'Selecting Composition AAB13', 'Aggregating Co for AAB13-VAM-A', 'Aggregating Cr for AAB13-VAM-A', 'Aggregating Fe for AAB13-VAM-A', 'Aggregating Ni for AAB13-VAM-A', 'Aggregating V for AAB13-VAM-A', 'Aggregating Al for AAB13-VAM-A', 'Mix elements of AAB13', 'Arc Melting of Alloy Alloy (AAB13-VAM-A)', 'Homogenization of Alloy Alloy (AAB13-VAM-A)', 'Forging of Alloy Alloy (AAB13-VAM-A)', 'Setting up of Traveler Alloy (AAB13-VAM-A)', 'Set Alloy (AAB13-VAM-A) T. Sample for XRD (T03) charact.', 'Set Alloy (AAB13-VAM-A) T. Sample for NI (T04) charact.', 'Set Alloy (AAB13-VAM-A) T. Sample for Tensile (T08) charact.', 'Set Alloy (AAB13-VAM-A) T. Sample for Tensile (T09) charact.', 'Selecting Composition AAB14', 'Aggregating Co for AAB14-VAM-A', 'Aggregating Cr for AAB14-VAM-A', 'Aggregating Fe for AAB14-VAM-A', 'Aggregating Ni for AAB14-VAM-A', 'Aggregating V for AAB14-VAM-A', 'Aggregating Al for AAB14-VAM-A', 'Mix elements of AAB14', 'Arc Melting of Alloy Alloy (AAB14-VAM-A)', 'Homogenization of Alloy Alloy (AAB14-VAM-A)', 'Forging of Alloy Alloy (AAB14-VAM-A)', 'Setting up of Traveler Alloy (AAB14-VAM-A)', 'Set Alloy (AAB14-VAM-A) T. Sample for XRD (T03) charact.', 'Set Alloy (AAB14-VAM-A) T. Sample for NI (T04) charact.', 'Set Alloy (AAB14-VAM-A) T. Sample for Tensile (T08) charact.', 'Set Alloy (AAB14-VAM-A) T. Sample for Tensile (T09) charact.', 'Selecting Composition AAB15', 'Aggregating Co for AAB15-VAM-A', 'Aggregating Cr for AAB15-VAM-A', 'Aggregating Fe for AAB15-VAM-A', 'Aggregating Ni for AAB15-VAM-A', 'Aggregating V for AAB15-VAM-A', 'Aggregating Al for AAB15-VAM-A', 'Mix elements of AAB15', 'Arc Melting of Alloy Alloy (AAB15-VAM-A)', 'Homogenization of Alloy Alloy (AAB15-VAM-A)', 'Forging of Alloy Alloy (AAB15-VAM-A)', 'Setting up of Traveler Alloy (AAB15-VAM-A)', 'Set Alloy (AAB15-VAM-A) T. Sample for SEM (T02) charact.', 'Set Alloy (AAB15-VAM-A) T. Sample for XRD (T03) charact.', 'Set Alloy (AAB15-VAM-A) T. Sample for NI (T04) charact.', 'Set Alloy (AAB15-VAM-A) T. Sample for Tensile (T08) charact.', 'Set Alloy (AAB15-VAM-A) T. Sample for Tensile (T09) charact.', 'Selecting Composition AAB16', 'Aggregating Co for AAB16-VAM-A', 'Aggregating Cr for AAB16-VAM-A', 'Aggregating Fe for AAB16-VAM-A', 'Aggregating Ni for AAB16-VAM-A', 'Aggregating V for AAB16-VAM-A', 'Aggregating Al for AAB16-VAM-A', 'Mix elements of AAB16', 'Arc Melting of Alloy Alloy (AAB16-VAM-A)', 'Homogenization of Alloy Alloy (AAB16-VAM-A)', 'Forging of Alloy Alloy (AAB16-VAM-A)', 'Setting up of Traveler Alloy (AAB16-VAM-A)', 'Set Alloy (AAB16-VAM-A) T. Sample for SEM (T02) charact.', 'Set Alloy (AAB16-VAM-A) T. Sample for XRD (T03) charact.', 'Set Alloy (AAB16-VAM-A) T. Sample for NI (T04) charact.', 'Set Alloy (AAB16-VAM-A) T. Sample for Tensile (T08) charact.', 'Set Alloy (AAB16-VAM-A) T. Sample for Tensile (T09) charact.', 'Aggregating SEM Traveler Samples', 'Aggregating XRD Traveler Samples', 'Aggregating NI Traveler Samples', 'Aggregating Tensile Traveler Samples', 'Aggregating Summary Sheet']\n",
      "nb of blocks: 271\n"
     ]
    }
   ],
   "source": [
    "print(list(aab_birdshot_workflow.subs.keys()))\n",
    "print(\"nb of blocks: {}\".format(len(aab_birdshot_workflow.subs.keys())))"
   ]
  },
  {
   "cell_type": "code",
   "execution_count": 56,
   "metadata": {},
   "outputs": [
    {
     "name": "stdout",
     "output_type": "stream",
     "text": [
      "['Infer Compositions', 'Aggregating Co for AAB01-VAM-A', 'Aggregating Cr for AAB01-VAM-A', 'Aggregating Fe for AAB01-VAM-A', 'Aggregating Ni for AAB01-VAM-A', 'Aggregating V for AAB01-VAM-A', 'Aggregating Al for AAB01-VAM-A', 'Aggregating Co for AAB02-VAM-A', 'Aggregating Cr for AAB02-VAM-A', 'Aggregating Fe for AAB02-VAM-A', 'Aggregating Ni for AAB02-VAM-A', 'Aggregating V for AAB02-VAM-A', 'Aggregating Al for AAB02-VAM-A', 'Aggregating Co for AAB03-VAM-A', 'Aggregating Cr for AAB03-VAM-A', 'Aggregating Fe for AAB03-VAM-A', 'Aggregating Ni for AAB03-VAM-A', 'Aggregating V for AAB03-VAM-A', 'Aggregating Al for AAB03-VAM-A', 'Aggregating Co for AAB04-VAM-A', 'Aggregating Cr for AAB04-VAM-A', 'Aggregating Fe for AAB04-VAM-A', 'Aggregating Ni for AAB04-VAM-A', 'Aggregating V for AAB04-VAM-A', 'Aggregating Al for AAB04-VAM-A', 'Aggregating Co for AAB05-VAM-A', 'Aggregating Cr for AAB05-VAM-A', 'Aggregating Fe for AAB05-VAM-A', 'Aggregating Ni for AAB05-VAM-A', 'Aggregating V for AAB05-VAM-A', 'Aggregating Al for AAB05-VAM-A', 'Aggregating Co for AAB06-VAM-A', 'Aggregating Cr for AAB06-VAM-A', 'Aggregating Fe for AAB06-VAM-A', 'Aggregating Ni for AAB06-VAM-A', 'Aggregating V for AAB06-VAM-A', 'Aggregating Al for AAB06-VAM-A', 'Aggregating Co for AAB07-VAM-A', 'Aggregating Cr for AAB07-VAM-A', 'Aggregating Fe for AAB07-VAM-A', 'Aggregating Ni for AAB07-VAM-A', 'Aggregating V for AAB07-VAM-A', 'Aggregating Al for AAB07-VAM-A', 'Aggregating Co for AAB08-VAM-A', 'Aggregating Cr for AAB08-VAM-A', 'Aggregating Fe for AAB08-VAM-A', 'Aggregating Ni for AAB08-VAM-A', 'Aggregating V for AAB08-VAM-A', 'Aggregating Al for AAB08-VAM-A', 'Aggregating Co for AAB09-VAM-A', 'Aggregating Cr for AAB09-VAM-A', 'Aggregating Fe for AAB09-VAM-A', 'Aggregating Ni for AAB09-VAM-A', 'Aggregating V for AAB09-VAM-A', 'Aggregating Al for AAB09-VAM-A', 'Aggregating Co for AAB10-VAM-A', 'Aggregating Cr for AAB10-VAM-A', 'Aggregating Fe for AAB10-VAM-A', 'Aggregating Ni for AAB10-VAM-A', 'Aggregating V for AAB10-VAM-A', 'Aggregating Al for AAB10-VAM-A', 'Aggregating Co for AAB11-VAM-A', 'Aggregating Cr for AAB11-VAM-A', 'Aggregating Fe for AAB11-VAM-A', 'Aggregating Ni for AAB11-VAM-A', 'Aggregating V for AAB11-VAM-A', 'Aggregating Al for AAB11-VAM-A', 'Aggregating Co for AAB12-VAM-A', 'Aggregating Cr for AAB12-VAM-A', 'Aggregating Fe for AAB12-VAM-A', 'Aggregating Ni for AAB12-VAM-A', 'Aggregating V for AAB12-VAM-A', 'Aggregating Al for AAB12-VAM-A', 'Aggregating Co for AAB13-VAM-A', 'Aggregating Cr for AAB13-VAM-A', 'Aggregating Fe for AAB13-VAM-A', 'Aggregating Ni for AAB13-VAM-A', 'Aggregating V for AAB13-VAM-A', 'Aggregating Al for AAB13-VAM-A', 'Aggregating Co for AAB14-VAM-A', 'Aggregating Cr for AAB14-VAM-A', 'Aggregating Fe for AAB14-VAM-A', 'Aggregating Ni for AAB14-VAM-A', 'Aggregating V for AAB14-VAM-A', 'Aggregating Al for AAB14-VAM-A', 'Aggregating Co for AAB15-VAM-A', 'Aggregating Cr for AAB15-VAM-A', 'Aggregating Fe for AAB15-VAM-A', 'Aggregating Ni for AAB15-VAM-A', 'Aggregating V for AAB15-VAM-A', 'Aggregating Al for AAB15-VAM-A', 'Aggregating Co for AAB16-VAM-A', 'Aggregating Cr for AAB16-VAM-A', 'Aggregating Fe for AAB16-VAM-A', 'Aggregating Ni for AAB16-VAM-A', 'Aggregating V for AAB16-VAM-A', 'Aggregating Al for AAB16-VAM-A', 'Aggregating SEM Traveler Samples', 'Aggregating XRD Traveler Samples', 'Aggregating NI Traveler Samples', 'Aggregating Tensile Traveler Samples', 'Aggregating Summary Sheet']\n",
      "102\n"
     ]
    }
   ],
   "source": [
    "procedural_blocks = [obj.name for obj in aab_birdshot_workflow.subs.values() if obj.type=='procedural']\n",
    "print(procedural_blocks)\n",
    "print(len(procedural_blocks))"
   ]
  },
  {
   "cell_type": "code",
   "execution_count": 57,
   "metadata": {
    "notebookRunGroups": {
     "groupValue": ""
    }
   },
   "outputs": [
    {
     "name": "stdout",
     "output_type": "stream",
     "text": [
      "[<openmsimodel.entity.base.ingredient.Ingredient object at 0x7f3a51c27580>, <openmsimodel.entity.processes.birdshot.arc_melting.ArcMelting object at 0x7f3a51c278b0>, <openmsimodel.entity.materials.birdshot.alloy.Alloy object at 0x7f3a51c1f610>, <openmsimodel.entity.measurements.birdshot.weighting.Weighting object at 0x7f3a51c2a820>]\n",
      "11\n"
     ]
    }
   ],
   "source": [
    "arc_melting_aab04_vam_a_all = aab_birdshot_workflow.subs['Arc Melting of Alloy Alloy (AAB04-VAM-A)'].all()\n",
    "print(arc_melting_aab04_vam_a_all)\n",
    "arc_melting_aab04_vam_a_all_gemd = aab_birdshot_workflow.subs['Arc Melting of Alloy Alloy (AAB04-VAM-A)'].all_gemd()\n",
    "# print()\n",
    "print(len(arc_melting_aab04_vam_a_all_gemd))"
   ]
  },
  {
   "attachments": {},
   "cell_type": "markdown",
   "metadata": {},
   "source": [
    "multiple dumping approaches"
   ]
  },
  {
   "cell_type": "code",
   "execution_count": 58,
   "metadata": {
    "notebookRunGroups": {
     "groupValue": "1"
    }
   },
   "outputs": [
    {
     "name": "stdout",
     "output_type": "stream",
     "text": [
      "Executing thin dumps...\n",
      "Time elapsed: 9.158797025680542\n"
     ]
    }
   ],
   "source": [
    "aab_birdshot_workflow.thin_dumps(aab_birdshot_workflow.terminal_material, overwrite=True) # dumps into a single folder using a terminal GEMD object and GEMD dump methods "
   ]
  },
  {
   "cell_type": "code",
   "execution_count": 9,
   "metadata": {},
   "outputs": [
    {
     "name": "stdout",
     "output_type": "stream",
     "text": [
      "Executing thin structured dumps...\n",
      "Time elapsed: 21.8549063205719\n"
     ]
    }
   ],
   "source": [
    "aab_birdshot_workflow.thin_structured_dumps() # dumps into a nice COMPOSITION_ID/FABRICATION_METHOD/BATCH structure, with in-house methods"
   ]
  },
  {
   "attachments": {},
   "cell_type": "markdown",
   "metadata": {},
   "source": [
    "# Viz"
   ]
  },
  {
   "attachments": {},
   "cell_type": "markdown",
   "metadata": {},
   "source": [
    "visualize the whole workflow..."
   ]
  },
  {
   "cell_type": "code",
   "execution_count": 34,
   "metadata": {
    "notebookRunGroups": {
     "groupValue": "1"
    }
   },
   "outputs": [
    {
     "name": "stdout",
     "output_type": "stream",
     "text": [
      "-- Building runs of /srv/hemi01-j01/openmsimodel/examples/birdshot/output/AAB/unstructured\n",
      "Extracting folder...\n",
      "0 gemd objects processed...\n",
      "1000 gemd objects processed...\n",
      "2000 gemd objects processed...\n",
      "-- Saved graph to /srv/hemi01-j01/openmsimodel/examples/birdshot/output/AAB/unstructured_run_graph.dot and /srv/hemi01-j01/openmsimodel/examples/birdshot/output/AAB/unstructured_run_graph.svg\n",
      "-- Analysis --\n",
      "cycles in the graph: []\n",
      "nb of disregarded elements: 35/2392\n",
      "number of connected components: 1166\n",
      "nb of isolates: 0\n"
     ]
    },
    {
     "data": {
      "application/vnd.jupyter.widget-view+json": {
       "model_id": "5e3dea460de2493cbe20f2bf8b59ed91",
       "version_major": 2,
       "version_minor": 0
      },
      "text/plain": [
       "GraphWidget(layout=Layout(height='500px', width='100%'))"
      ]
     },
     "metadata": {},
     "output_type": "display_data"
    }
   ],
   "source": [
    "dirpath = curr_pwd / \"output/AAB/unstructured\"\n",
    "output = curr_pwd / \"output/AAB\"\n",
    "assets_to_add = {\n",
    "            \"add_attributes\": 1,\n",
    "            \"add_file_links\": 1,\n",
    "            \"add_tags\": 1,\n",
    "        }\n",
    "open_graph = OpenGraph(\"unstructured\",dirpath=dirpath,output=output)\n",
    "all_G, all_relabeled_G, all_name_mapping = open_graph.build_graph(\n",
    "    assets_to_add=assets_to_add,\n",
    "    add_separate_node=0,\n",
    "    which='run',\n",
    ")\n",
    "open_graph.launch(all_relabeled_G)"
   ]
  },
  {
   "attachments": {},
   "cell_type": "markdown",
   "metadata": {},
   "source": [
    "... or an important workflow branch..."
   ]
  },
  {
   "cell_type": "code",
   "execution_count": 11,
   "metadata": {},
   "outputs": [
    {
     "name": "stdout",
     "output_type": "stream",
     "text": [
      "-- Building runs of /srv/hemi01-j01/openmsimodel/examples/birdshot/output/AAB/structured/AAB01/VAM/A/thin_jsons\n",
      "Extracting folder...\n",
      "0 gemd objects processed...\n",
      "-- Saved graph to /srv/hemi01-j01/openmsimodel/examples/birdshot/output/AAB/aab01_vam_a_thin_run_graph.dot and /srv/hemi01-j01/openmsimodel/examples/birdshot/output/AAB/aab01_vam_a_thin_run_graph.svg\n",
      "-- Analysis --\n",
      "cycles in the graph: []\n",
      "nb of disregarded elements: 35/195\n",
      "number of connected components: 70\n",
      "nb of isolates: 0\n"
     ]
    },
    {
     "data": {
      "application/vnd.jupyter.widget-view+json": {
       "model_id": "b3bbb2856a4b40c2b4a59cdf4437f672",
       "version_major": 2,
       "version_minor": 0
      },
      "text/plain": [
       "GraphWidget(layout=Layout(height='500px', width='100%'))"
      ]
     },
     "metadata": {},
     "output_type": "display_data"
    }
   ],
   "source": [
    "dirpath = curr_pwd / \"output/AAB/structured/AAB01/VAM/A/thin_jsons\"\n",
    "open_graph = OpenGraph(\"aab01_vam_a_thin\",dirpath=dirpath,output=output)\n",
    "G, relabeled_G, name_mapping = open_graph.build_graph(\n",
    "    assets_to_add=assets_to_add,\n",
    "    add_separate_node=0,\n",
    "    which='run',\n",
    ")\n",
    "open_graph.launch(relabeled_G)"
   ]
  },
  {
   "attachments": {},
   "cell_type": "markdown",
   "metadata": {},
   "source": [
    "... or a subworkflow..."
   ]
  },
  {
   "cell_type": "code",
   "execution_count": 12,
   "metadata": {
    "notebookRunGroups": {
     "groupValue": ""
    }
   },
   "outputs": [
    {
     "name": "stdout",
     "output_type": "stream",
     "text": [
      "-- Building runs of list with 3 items\n",
      "Extracting list...\n",
      "0 gemd objects processed...\n",
      "-- Saved graph to /srv/hemi01-j01/openmsimodel/examples/birdshot/output/AAB/arcmelting_block_aab04_vam_a_run_graph.dot and /srv/hemi01-j01/openmsimodel/examples/birdshot/output/AAB/arcmelting_block_aab04_vam_a_run_graph.svg\n",
      "-- Analysis --\n",
      "cycles in the graph: []\n",
      "nb of disregarded elements: 0/3\n",
      "number of connected components: 1\n",
      "nb of isolates: 1\n"
     ]
    },
    {
     "data": {
      "application/vnd.jupyter.widget-view+json": {
       "model_id": "ddcd422f854943c69036a9c78f56396c",
       "version_major": 2,
       "version_minor": 0
      },
      "text/plain": [
       "GraphWidget(layout=Layout(height='500px', width='100%'))"
      ]
     },
     "metadata": {},
     "output_type": "display_data"
    }
   ],
   "source": [
    "# print(arc_melting_aab04_vam_a_all_gemd)\n",
    "open_graph = OpenGraph(\"arcmelting_block_aab04_vam_a\", dirpath=arc_melting_aab04_vam_a_all[1].all_gemd(),output=output)\n",
    "G, relabeled_G, name_mapping = open_graph.build_graph(\n",
    "    assets_to_add=assets_to_add,\n",
    "    add_separate_node=0,\n",
    "    which='run',\n",
    ")\n",
    "open_graph.launch(relabeled_G)"
   ]
  },
  {
   "attachments": {},
   "cell_type": "markdown",
   "metadata": {},
   "source": [
    "... or a a BaseElement..."
   ]
  },
  {
   "cell_type": "code",
   "execution_count": 13,
   "metadata": {},
   "outputs": [
    {
     "name": "stdout",
     "output_type": "stream",
     "text": [
      "-- Building runs of list with 11 items\n",
      "Extracting list...\n",
      "0 gemd objects processed...\n",
      "-- Saved graph to /srv/hemi01-j01/openmsimodel/examples/birdshot/output/AAB/arcmelting_block_aab04_vam_a_run_graph.dot and /srv/hemi01-j01/openmsimodel/examples/birdshot/output/AAB/arcmelting_block_aab04_vam_a_run_graph.svg\n",
      "-- Analysis --\n",
      "cycles in the graph: []\n",
      "nb of disregarded elements: 0/11\n",
      "number of connected components: 5\n",
      "nb of isolates: 0\n"
     ]
    },
    {
     "data": {
      "application/vnd.jupyter.widget-view+json": {
       "model_id": "9b0bd9a66acc490bad84513470fee5ee",
       "version_major": 2,
       "version_minor": 0
      },
      "text/plain": [
       "GraphWidget(layout=Layout(height='500px', width='100%'))"
      ]
     },
     "metadata": {},
     "output_type": "display_data"
    }
   ],
   "source": [
    "open_graph = OpenGraph(\"arcmelting_block_aab04_vam_a\", dirpath=arc_melting_aab04_vam_a_all_gemd,output=output)\n",
    "G, relabeled_G, name_mapping = open_graph.build_graph(\n",
    "    assets_to_add=assets_to_add,\n",
    "    add_separate_node=0,\n",
    "    which='run',\n",
    ")\n",
    "open_graph.launch(relabeled_G)"
   ]
  },
  {
   "attachments": {},
   "cell_type": "markdown",
   "metadata": {},
   "source": [
    "... or a single elements with its descendents and predecessors"
   ]
  },
  {
   "cell_type": "code",
   "execution_count": 14,
   "metadata": {
    "notebookRunGroups": {
     "groupValue": "1"
    }
   },
   "outputs": [
    {
     "name": "stdout",
     "output_type": "stream",
     "text": [
      "a8c6ed44-2b0d-403d-907d-e457abcd6c06\n",
      "Alloy (AAB01-VAM-A): Traveler Ing.,  a8c\n",
      "The node a8c6ed44-2b0d-403d-907d-e457abcd6c06 is not in the digraph.\n"
     ]
    }
   ],
   "source": [
    "import random\n",
    "identifier = random.choice(list(all_name_mapping.keys()))\n",
    "print(identifier)\n",
    "print(all_name_mapping[identifier])\n",
    "functions = [nx.descendants, nx.ancestors]\n",
    "try: # doesn't always run, depending on the randomly selected element\n",
    "    identifier_G = OpenGraph.extract_subgraph(all_G, identifier, func=functions)\n",
    "    identifier_G = OpenGraph.map_to_graphviz(identifier_G, all_name_mapping)\n",
    "    open_graph.launch(identifier_G)\n",
    "except Exception as e:\n",
    "    print(e)"
   ]
  },
  {
   "attachments": {},
   "cell_type": "markdown",
   "metadata": {},
   "source": [
    "TODO: SVG Viewer"
   ]
  },
  {
   "attachments": {},
   "cell_type": "markdown",
   "metadata": {},
   "source": [
    "# DB"
   ]
  },
  {
   "cell_type": "code",
   "execution_count": 8,
   "metadata": {},
   "outputs": [],
   "source": [
    "db = OpenDB(database_name='GEMD', private_path='/home/arachid1/.private/gemd_db.json',output=curr_pwd / \"output/queries_log\")\n",
    "model_id =11"
   ]
  },
  {
   "attachments": {},
   "cell_type": "markdown",
   "metadata": {},
   "source": [
    "Test query retrieving all measurement runs"
   ]
  },
  {
   "cell_type": "code",
   "execution_count": 9,
   "metadata": {},
   "outputs": [
    {
     "name": "stdout",
     "output_type": "stream",
     "text": [
      "                                      uid  model_id        gemd_type  \\\n",
      "0    408a45ae-89f7-425d-99fe-c675d1a44b91        11  measurement_run   \n",
      "1    40eee56d-bd67-4433-b210-2b7789299ce7        11  measurement_run   \n",
      "2    41207bb9-984b-4bb9-b45b-6e5d6ccda099        11  measurement_run   \n",
      "3    425434d6-2ec9-4674-af08-dbb2c3a14e3c        11  measurement_run   \n",
      "4    42c0543d-2de6-433a-81c0-5253143af2d8        11  measurement_run   \n",
      "..                                    ...       ...              ...   \n",
      "196  f85aa615-df56-433e-8f4b-d2323fac5d37        11  measurement_run   \n",
      "197  f968443b-3617-4091-afb4-be25c4e2c88c        11  measurement_run   \n",
      "198  9ce92ca9-bd20-4b3a-bd96-e923b15baea7        11  measurement_run   \n",
      "199  9daf7f4f-efbd-449f-9278-cf95f293628d        11  measurement_run   \n",
      "200  9dd55df1-9993-4df0-bd8d-460f1dc7d271        11  measurement_run   \n",
      "\n",
      "                                               context  \n",
      "0    {\"conditions\": [], \"file_links\": [], \"material...  \n",
      "1    {\"conditions\": [], \"file_links\": [], \"material...  \n",
      "2    {\"conditions\": [], \"file_links\": [], \"material...  \n",
      "3    {\"conditions\": [], \"file_links\": [], \"material...  \n",
      "4    {\"conditions\": [], \"file_links\": [], \"material...  \n",
      "..                                                 ...  \n",
      "196  {\"conditions\": [], \"file_links\": [], \"material...  \n",
      "197  {\"conditions\": [], \"file_links\": [], \"material...  \n",
      "198  {\"conditions\": [], \"file_links\": [], \"material...  \n",
      "199  {\"conditions\": [], \"file_links\": [], \"material...  \n",
      "200  {\"conditions\": [], \"file_links\": [], \"material...  \n",
      "\n",
      "[201 rows x 4 columns]\n"
     ]
    },
    {
     "data": {
      "text/html": [
       "<div>\n",
       "<style scoped>\n",
       "    .dataframe tbody tr th:only-of-type {\n",
       "        vertical-align: middle;\n",
       "    }\n",
       "\n",
       "    .dataframe tbody tr th {\n",
       "        vertical-align: top;\n",
       "    }\n",
       "\n",
       "    .dataframe thead th {\n",
       "        text-align: right;\n",
       "    }\n",
       "</style>\n",
       "<table border=\"1\" class=\"dataframe\">\n",
       "  <thead>\n",
       "    <tr style=\"text-align: right;\">\n",
       "      <th></th>\n",
       "      <th>uid</th>\n",
       "      <th>model_id</th>\n",
       "      <th>gemd_type</th>\n",
       "      <th>context</th>\n",
       "    </tr>\n",
       "  </thead>\n",
       "  <tbody>\n",
       "    <tr>\n",
       "      <th>0</th>\n",
       "      <td>408a45ae-89f7-425d-99fe-c675d1a44b91</td>\n",
       "      <td>11</td>\n",
       "      <td>measurement_run</td>\n",
       "      <td>{\"conditions\": [], \"file_links\": [], \"material...</td>\n",
       "    </tr>\n",
       "    <tr>\n",
       "      <th>1</th>\n",
       "      <td>40eee56d-bd67-4433-b210-2b7789299ce7</td>\n",
       "      <td>11</td>\n",
       "      <td>measurement_run</td>\n",
       "      <td>{\"conditions\": [], \"file_links\": [], \"material...</td>\n",
       "    </tr>\n",
       "    <tr>\n",
       "      <th>2</th>\n",
       "      <td>41207bb9-984b-4bb9-b45b-6e5d6ccda099</td>\n",
       "      <td>11</td>\n",
       "      <td>measurement_run</td>\n",
       "      <td>{\"conditions\": [], \"file_links\": [], \"material...</td>\n",
       "    </tr>\n",
       "    <tr>\n",
       "      <th>3</th>\n",
       "      <td>425434d6-2ec9-4674-af08-dbb2c3a14e3c</td>\n",
       "      <td>11</td>\n",
       "      <td>measurement_run</td>\n",
       "      <td>{\"conditions\": [], \"file_links\": [], \"material...</td>\n",
       "    </tr>\n",
       "    <tr>\n",
       "      <th>4</th>\n",
       "      <td>42c0543d-2de6-433a-81c0-5253143af2d8</td>\n",
       "      <td>11</td>\n",
       "      <td>measurement_run</td>\n",
       "      <td>{\"conditions\": [], \"file_links\": [], \"material...</td>\n",
       "    </tr>\n",
       "    <tr>\n",
       "      <th>...</th>\n",
       "      <td>...</td>\n",
       "      <td>...</td>\n",
       "      <td>...</td>\n",
       "      <td>...</td>\n",
       "    </tr>\n",
       "    <tr>\n",
       "      <th>196</th>\n",
       "      <td>f85aa615-df56-433e-8f4b-d2323fac5d37</td>\n",
       "      <td>11</td>\n",
       "      <td>measurement_run</td>\n",
       "      <td>{\"conditions\": [], \"file_links\": [], \"material...</td>\n",
       "    </tr>\n",
       "    <tr>\n",
       "      <th>197</th>\n",
       "      <td>f968443b-3617-4091-afb4-be25c4e2c88c</td>\n",
       "      <td>11</td>\n",
       "      <td>measurement_run</td>\n",
       "      <td>{\"conditions\": [], \"file_links\": [], \"material...</td>\n",
       "    </tr>\n",
       "    <tr>\n",
       "      <th>198</th>\n",
       "      <td>9ce92ca9-bd20-4b3a-bd96-e923b15baea7</td>\n",
       "      <td>11</td>\n",
       "      <td>measurement_run</td>\n",
       "      <td>{\"conditions\": [], \"file_links\": [], \"material...</td>\n",
       "    </tr>\n",
       "    <tr>\n",
       "      <th>199</th>\n",
       "      <td>9daf7f4f-efbd-449f-9278-cf95f293628d</td>\n",
       "      <td>11</td>\n",
       "      <td>measurement_run</td>\n",
       "      <td>{\"conditions\": [], \"file_links\": [], \"material...</td>\n",
       "    </tr>\n",
       "    <tr>\n",
       "      <th>200</th>\n",
       "      <td>9dd55df1-9993-4df0-bd8d-460f1dc7d271</td>\n",
       "      <td>11</td>\n",
       "      <td>measurement_run</td>\n",
       "      <td>{\"conditions\": [], \"file_links\": [], \"material...</td>\n",
       "    </tr>\n",
       "  </tbody>\n",
       "</table>\n",
       "<p>201 rows × 4 columns</p>\n",
       "</div>"
      ],
      "text/plain": [
       "                                      uid  model_id        gemd_type  \\\n",
       "0    408a45ae-89f7-425d-99fe-c675d1a44b91        11  measurement_run   \n",
       "1    40eee56d-bd67-4433-b210-2b7789299ce7        11  measurement_run   \n",
       "2    41207bb9-984b-4bb9-b45b-6e5d6ccda099        11  measurement_run   \n",
       "3    425434d6-2ec9-4674-af08-dbb2c3a14e3c        11  measurement_run   \n",
       "4    42c0543d-2de6-433a-81c0-5253143af2d8        11  measurement_run   \n",
       "..                                    ...       ...              ...   \n",
       "196  f85aa615-df56-433e-8f4b-d2323fac5d37        11  measurement_run   \n",
       "197  f968443b-3617-4091-afb4-be25c4e2c88c        11  measurement_run   \n",
       "198  9ce92ca9-bd20-4b3a-bd96-e923b15baea7        11  measurement_run   \n",
       "199  9daf7f4f-efbd-449f-9278-cf95f293628d        11  measurement_run   \n",
       "200  9dd55df1-9993-4df0-bd8d-460f1dc7d271        11  measurement_run   \n",
       "\n",
       "                                               context  \n",
       "0    {\"conditions\": [], \"file_links\": [], \"material...  \n",
       "1    {\"conditions\": [], \"file_links\": [], \"material...  \n",
       "2    {\"conditions\": [], \"file_links\": [], \"material...  \n",
       "3    {\"conditions\": [], \"file_links\": [], \"material...  \n",
       "4    {\"conditions\": [], \"file_links\": [], \"material...  \n",
       "..                                                 ...  \n",
       "196  {\"conditions\": [], \"file_links\": [], \"material...  \n",
       "197  {\"conditions\": [], \"file_links\": [], \"material...  \n",
       "198  {\"conditions\": [], \"file_links\": [], \"material...  \n",
       "199  {\"conditions\": [], \"file_links\": [], \"material...  \n",
       "200  {\"conditions\": [], \"file_links\": [], \"material...  \n",
       "\n",
       "[201 rows x 4 columns]"
      ]
     },
     "execution_count": 9,
     "metadata": {},
     "output_type": "execute_result"
    }
   ],
   "source": [
    "query = f\"\"\" SELECT * FROM GEMDObject WHERE model_id={model_id} AND gemd_type='measurement_run' \"\"\"\n",
    "_all_measurements = db.gemd_db.execute_query(query)\n",
    "db.print_and_dump(_all_measurements, query, \"_all_measurements\", dump=False)"
   ]
  },
  {
   "cell_type": "code",
   "execution_count": 37,
   "metadata": {},
   "outputs": [
    {
     "name": "stdout",
     "output_type": "stream",
     "text": [
      "{\n",
      "   \"conditions\": [],\n",
      "   \"file_links\": [],\n",
      "   \"material\": {\n",
      "      \"id\": \"ea7259bc-70e3-45dd-8556-26720a3f8fdb\",\n",
      "      \"scope\": \"auto\",\n",
      "      \"type\": \"link_by_uid\"\n",
      "   },\n",
      "   \"name\": \"SRJT charact. for AAB02\",\n",
      "   \"notes\": null,\n",
      "   \"parameters\": [],\n",
      "   \"properties\": [\n",
      "      {\n",
      "         \"file_links\": [],\n",
      "         \"name\": \"Strain Rate Sensitivity Exponent\",\n",
      "         \"notes\": \"\",\n",
      "         \"origin\": \"measured\",\n",
      "         \"template\": null,\n",
      "         \"type\": \"property\",\n",
      "         \"value\": {\n",
      "            \"nominal\": 0.0120481190777778,\n",
      "            \"type\": \"nominal_real\",\n",
      "            \"units\": \"dimensionless\"\n",
      "         }\n",
      "      },\n",
      "      {\n",
      "         \"file_links\": [],\n",
      "         \"name\": \"Strain Rate Sensitivity Exponent Std. Dev.\",\n",
      "         \"notes\": \"\",\n",
      "         \"origin\": \"measured\",\n",
      "         \"template\": null,\n",
      "         \"type\": \"property\",\n",
      "         \"value\": {\n",
      "            \"nominal\": 0.0020231034576555,\n",
      "            \"type\": \"nominal_real\",\n",
      "            \"units\": \"dimensionless\"\n",
      "         }\n",
      "      },\n",
      "      {\n",
      "         \"file_links\": [],\n",
      "         \"name\": \"Avg. Raw Hardness (Gpa)\",\n",
      "         \"notes\": \"\",\n",
      "         \"origin\": \"measured\",\n",
      "         \"template\": null,\n",
      "         \"type\": \"property\",\n",
      "         \"value\": {\n",
      "            \"nominal\": 3.15666666666667,\n",
      "            \"type\": \"nominal_real\",\n",
      "            \"units\": \"gigapascal\"\n",
      "         }\n",
      "      },\n",
      "      {\n",
      "         \"file_links\": [],\n",
      "         \"name\": \"Avg. Raw Modulus (Gpa)\",\n",
      "         \"notes\": \"\",\n",
      "         \"origin\": \"measured\",\n",
      "         \"template\": null,\n",
      "         \"type\": \"property\",\n",
      "         \"value\": {\n",
      "            \"nominal\": 196.844444444444,\n",
      "            \"type\": \"nominal_real\",\n",
      "            \"units\": \"gigapascal\"\n",
      "         }\n",
      "      },\n",
      "      {\n",
      "         \"file_links\": [],\n",
      "         \"name\": \"Avg. Pile-up Ratio\",\n",
      "         \"notes\": \"\",\n",
      "         \"origin\": \"measured\",\n",
      "         \"template\": null,\n",
      "         \"type\": \"property\",\n",
      "         \"value\": {\n",
      "            \"nominal\": 80.1407111111111,\n",
      "            \"type\": \"nominal_real\",\n",
      "            \"units\": \"dimensionless\"\n",
      "         }\n",
      "      },\n",
      "      {\n",
      "         \"file_links\": [],\n",
      "         \"name\": \"Avg. Corrected Hardness (Gpa)\",\n",
      "         \"notes\": \"\",\n",
      "         \"origin\": \"measured\",\n",
      "         \"template\": null,\n",
      "         \"type\": \"property\",\n",
      "         \"value\": {\n",
      "            \"nominal\": 2.52984675,\n",
      "            \"type\": \"nominal_real\",\n",
      "            \"units\": \"gigapascal\"\n",
      "         }\n",
      "      },\n",
      "      {\n",
      "         \"file_links\": [],\n",
      "         \"name\": \"Avg. Corrected Modulus (Gpa)\",\n",
      "         \"notes\": \"\",\n",
      "         \"origin\": \"measured\",\n",
      "         \"template\": null,\n",
      "         \"type\": \"property\",\n",
      "         \"value\": {\n",
      "            \"nominal\": 157.729810788889,\n",
      "            \"type\": \"nominal_real\",\n",
      "            \"units\": \"gigapascal\"\n",
      "         }\n",
      "      }\n",
      "   ],\n",
      "   \"source\": null,\n",
      "   \"spec\": {\n",
      "      \"id\": \"7f18f944-b5da-41c7-9ae4-45e72603ce02\",\n",
      "      \"scope\": \"auto\",\n",
      "      \"type\": \"link_by_uid\"\n",
      "   },\n",
      "   \"tags\": [\n",
      "      \"composition_id::AAB02\",\n",
      "      \"batch::A\",\n",
      "      \"fabrication_method::VAM\"\n",
      "   ],\n",
      "   \"type\": \"measurement_run\",\n",
      "   \"uids\": {\n",
      "      \"auto\": \"40eee56d-bd67-4433-b210-2b7789299ce7\"\n",
      "   }\n",
      "}\n"
     ]
    }
   ],
   "source": [
    "c = _all_measurements.iloc[1]['context']\n",
    "print(json.dumps(json.loads(c), indent=3))"
   ]
  },
  {
   "attachments": {},
   "cell_type": "markdown",
   "metadata": {},
   "source": [
    "a couple of invalid jsons that need fixing"
   ]
  },
  {
   "cell_type": "code",
   "execution_count": 38,
   "metadata": {},
   "outputs": [
    {
     "name": "stdout",
     "output_type": "stream",
     "text": [
      "                                    uid  model_id        gemd_type   \n",
      "0  b6d4ae78-3d79-4823-90cd-57c77be0ed19        11  measurement_run  \\\n",
      "1  24e460f0-54d1-4098-b1e4-93cb023704fc        11  measurement_run   \n",
      "\n",
      "                                             context  \n",
      "0  {\"conditions\": [], \"file_links\": [], \"material...  \n",
      "1  {\"conditions\": [], \"file_links\": [], \"material...  \n"
     ]
    },
    {
     "data": {
      "text/html": [
       "<div>\n",
       "<style scoped>\n",
       "    .dataframe tbody tr th:only-of-type {\n",
       "        vertical-align: middle;\n",
       "    }\n",
       "\n",
       "    .dataframe tbody tr th {\n",
       "        vertical-align: top;\n",
       "    }\n",
       "\n",
       "    .dataframe thead th {\n",
       "        text-align: right;\n",
       "    }\n",
       "</style>\n",
       "<table border=\"1\" class=\"dataframe\">\n",
       "  <thead>\n",
       "    <tr style=\"text-align: right;\">\n",
       "      <th></th>\n",
       "      <th>uid</th>\n",
       "      <th>model_id</th>\n",
       "      <th>gemd_type</th>\n",
       "      <th>context</th>\n",
       "    </tr>\n",
       "  </thead>\n",
       "  <tbody>\n",
       "    <tr>\n",
       "      <th>0</th>\n",
       "      <td>b6d4ae78-3d79-4823-90cd-57c77be0ed19</td>\n",
       "      <td>11</td>\n",
       "      <td>measurement_run</td>\n",
       "      <td>{\"conditions\": [], \"file_links\": [], \"material...</td>\n",
       "    </tr>\n",
       "    <tr>\n",
       "      <th>1</th>\n",
       "      <td>24e460f0-54d1-4098-b1e4-93cb023704fc</td>\n",
       "      <td>11</td>\n",
       "      <td>measurement_run</td>\n",
       "      <td>{\"conditions\": [], \"file_links\": [], \"material...</td>\n",
       "    </tr>\n",
       "  </tbody>\n",
       "</table>\n",
       "</div>"
      ],
      "text/plain": [
       "                                    uid  model_id        gemd_type   \n",
       "0  b6d4ae78-3d79-4823-90cd-57c77be0ed19        11  measurement_run  \\\n",
       "1  24e460f0-54d1-4098-b1e4-93cb023704fc        11  measurement_run   \n",
       "\n",
       "                                             context  \n",
       "0  {\"conditions\": [], \"file_links\": [], \"material...  \n",
       "1  {\"conditions\": [], \"file_links\": [], \"material...  "
      ]
     },
     "execution_count": 38,
     "metadata": {},
     "output_type": "execute_result"
    }
   ],
   "source": [
    "query = f\"\"\" SELECT *\n",
    "FROM GEMDObject \n",
    "WHERE model_id={model_id} and isjson(context)=0\n",
    "\"\"\"\n",
    "test = db.gemd_db.execute_query(query)\n",
    "db.print_and_dump(test, query, \"invalid_jsons\")"
   ]
  },
  {
   "attachments": {},
   "cell_type": "markdown",
   "metadata": {},
   "source": [
    "first advanced Birdshot query"
   ]
  },
  {
   "cell_type": "code",
   "execution_count": 39,
   "metadata": {},
   "outputs": [],
   "source": [
    "query = f\"\"\" SELECT \n",
    "        i.uid, properties.name, properties.type, properties.nominal_value, properties.categorical_value, properties.units, properties.value, SplitJSON.*\n",
    "        FROM gemdobject i \n",
    "        CROSS APPLY OPENJSON(JSON_QUERY(i.context, '$.properties')) \n",
    "        WITH \n",
    "        (\n",
    "                name VARCHAR(50) '$.name', \n",
    "                value [nvarchar](max) '$.value' as json,\n",
    "                nominal_value [nvarchar](4000) '$.value.nominal',\n",
    "                categorical_value [nvarchar](4000) '$.value.category',\n",
    "                units [nvarchar](4000) '$.value.units',\n",
    "                type [nvarchar](32) '$.value.type'\n",
    "        )\n",
    "        AS properties \n",
    "        CROSS APPLY (\n",
    "        SELECT\n",
    "                SUBSTRING(value, 1, CHARINDEX('::', value) - 1) AS column_name,\n",
    "                SUBSTRING(value, CHARINDEX('::', value) + 2, LEN(value)) AS column_value\n",
    "        FROM OPENJSON(JSON_QUERY(i.context, '$.tags'))\n",
    "        ) AS SplitJSON\n",
    "        WHERE i.model_id={model_id} AND i.gemd_type='measurement_run' AND isjson(i.context)!=0\"\"\""
   ]
  },
  {
   "cell_type": "code",
   "execution_count": 40,
   "metadata": {},
   "outputs": [
    {
     "name": "stdout",
     "output_type": "stream",
     "text": [
      "                                       uid                           name   \n",
      "0     00b989a1-623e-4bd0-b673-462c6fe0a60b                   Weighed Mass  \\\n",
      "1     00b989a1-623e-4bd0-b673-462c6fe0a60b                   Weighed Mass   \n",
      "2     00b989a1-623e-4bd0-b673-462c6fe0a60b                   Weighed Mass   \n",
      "3     00b989a1-623e-4bd0-b673-462c6fe0a60b                      Mass Loss   \n",
      "4     00b989a1-623e-4bd0-b673-462c6fe0a60b                      Mass Loss   \n",
      "...                                    ...                            ...   \n",
      "1705  fe25bc50-7563-468c-bbfc-3ef14442600d  Avg. Corrected Hardness (Gpa)   \n",
      "1706  fe25bc50-7563-468c-bbfc-3ef14442600d  Avg. Corrected Hardness (Gpa)   \n",
      "1707  fe25bc50-7563-468c-bbfc-3ef14442600d   Avg. Corrected Modulus (Gpa)   \n",
      "1708  fe25bc50-7563-468c-bbfc-3ef14442600d   Avg. Corrected Modulus (Gpa)   \n",
      "1709  fe25bc50-7563-468c-bbfc-3ef14442600d   Avg. Corrected Modulus (Gpa)   \n",
      "\n",
      "              type     nominal_value categorical_value       units   \n",
      "0     nominal_real            1.5588              None        gram  \\\n",
      "1     nominal_real            1.5588              None        gram   \n",
      "2     nominal_real            1.5588              None        gram   \n",
      "3     nominal_real               0.0              None        gram   \n",
      "4     nominal_real               0.0              None        gram   \n",
      "...            ...               ...               ...         ...   \n",
      "1705  nominal_real  2.28848475444444              None  gigapascal   \n",
      "1706  nominal_real  2.28848475444444              None  gigapascal   \n",
      "1707  nominal_real  169.115457311111              None  gigapascal   \n",
      "1708  nominal_real  169.115457311111              None  gigapascal   \n",
      "1709  nominal_real  169.115457311111              None  gigapascal   \n",
      "\n",
      "                                                  value         column_name   \n",
      "0     {\"nominal\": 1.5588, \"type\": \"nominal_real\", \"u...      composition_id  \\\n",
      "1     {\"nominal\": 1.5588, \"type\": \"nominal_real\", \"u...               batch   \n",
      "2     {\"nominal\": 1.5588, \"type\": \"nominal_real\", \"u...  fabrication_method   \n",
      "3     {\"nominal\": 0.0, \"type\": \"nominal_real\", \"unit...      composition_id   \n",
      "4     {\"nominal\": 0.0, \"type\": \"nominal_real\", \"unit...               batch   \n",
      "...                                                 ...                 ...   \n",
      "1705  {\"nominal\": 2.28848475444444, \"type\": \"nominal...               batch   \n",
      "1706  {\"nominal\": 2.28848475444444, \"type\": \"nominal...  fabrication_method   \n",
      "1707  {\"nominal\": 169.115457311111, \"type\": \"nominal...      composition_id   \n",
      "1708  {\"nominal\": 169.115457311111, \"type\": \"nominal...               batch   \n",
      "1709  {\"nominal\": 169.115457311111, \"type\": \"nominal...  fabrication_method   \n",
      "\n",
      "     column_value  \n",
      "0           AAB08  \n",
      "1               A  \n",
      "2             VAM  \n",
      "3           AAB08  \n",
      "4               A  \n",
      "...           ...  \n",
      "1705            A  \n",
      "1706          VAM  \n",
      "1707        AAB04  \n",
      "1708            A  \n",
      "1709          VAM  \n",
      "\n",
      "[1710 rows x 9 columns]\n"
     ]
    },
    {
     "data": {
      "text/html": [
       "<div>\n",
       "<style scoped>\n",
       "    .dataframe tbody tr th:only-of-type {\n",
       "        vertical-align: middle;\n",
       "    }\n",
       "\n",
       "    .dataframe tbody tr th {\n",
       "        vertical-align: top;\n",
       "    }\n",
       "\n",
       "    .dataframe thead th {\n",
       "        text-align: right;\n",
       "    }\n",
       "</style>\n",
       "<table border=\"1\" class=\"dataframe\">\n",
       "  <thead>\n",
       "    <tr style=\"text-align: right;\">\n",
       "      <th></th>\n",
       "      <th>uid</th>\n",
       "      <th>name</th>\n",
       "      <th>type</th>\n",
       "      <th>nominal_value</th>\n",
       "      <th>categorical_value</th>\n",
       "      <th>units</th>\n",
       "      <th>value</th>\n",
       "      <th>column_name</th>\n",
       "      <th>column_value</th>\n",
       "    </tr>\n",
       "  </thead>\n",
       "  <tbody>\n",
       "    <tr>\n",
       "      <th>0</th>\n",
       "      <td>00b989a1-623e-4bd0-b673-462c6fe0a60b</td>\n",
       "      <td>Weighed Mass</td>\n",
       "      <td>nominal_real</td>\n",
       "      <td>1.5588</td>\n",
       "      <td>None</td>\n",
       "      <td>gram</td>\n",
       "      <td>{\"nominal\": 1.5588, \"type\": \"nominal_real\", \"u...</td>\n",
       "      <td>composition_id</td>\n",
       "      <td>AAB08</td>\n",
       "    </tr>\n",
       "    <tr>\n",
       "      <th>1</th>\n",
       "      <td>00b989a1-623e-4bd0-b673-462c6fe0a60b</td>\n",
       "      <td>Weighed Mass</td>\n",
       "      <td>nominal_real</td>\n",
       "      <td>1.5588</td>\n",
       "      <td>None</td>\n",
       "      <td>gram</td>\n",
       "      <td>{\"nominal\": 1.5588, \"type\": \"nominal_real\", \"u...</td>\n",
       "      <td>batch</td>\n",
       "      <td>A</td>\n",
       "    </tr>\n",
       "    <tr>\n",
       "      <th>2</th>\n",
       "      <td>00b989a1-623e-4bd0-b673-462c6fe0a60b</td>\n",
       "      <td>Weighed Mass</td>\n",
       "      <td>nominal_real</td>\n",
       "      <td>1.5588</td>\n",
       "      <td>None</td>\n",
       "      <td>gram</td>\n",
       "      <td>{\"nominal\": 1.5588, \"type\": \"nominal_real\", \"u...</td>\n",
       "      <td>fabrication_method</td>\n",
       "      <td>VAM</td>\n",
       "    </tr>\n",
       "    <tr>\n",
       "      <th>3</th>\n",
       "      <td>00b989a1-623e-4bd0-b673-462c6fe0a60b</td>\n",
       "      <td>Mass Loss</td>\n",
       "      <td>nominal_real</td>\n",
       "      <td>0.0</td>\n",
       "      <td>None</td>\n",
       "      <td>gram</td>\n",
       "      <td>{\"nominal\": 0.0, \"type\": \"nominal_real\", \"unit...</td>\n",
       "      <td>composition_id</td>\n",
       "      <td>AAB08</td>\n",
       "    </tr>\n",
       "    <tr>\n",
       "      <th>4</th>\n",
       "      <td>00b989a1-623e-4bd0-b673-462c6fe0a60b</td>\n",
       "      <td>Mass Loss</td>\n",
       "      <td>nominal_real</td>\n",
       "      <td>0.0</td>\n",
       "      <td>None</td>\n",
       "      <td>gram</td>\n",
       "      <td>{\"nominal\": 0.0, \"type\": \"nominal_real\", \"unit...</td>\n",
       "      <td>batch</td>\n",
       "      <td>A</td>\n",
       "    </tr>\n",
       "    <tr>\n",
       "      <th>...</th>\n",
       "      <td>...</td>\n",
       "      <td>...</td>\n",
       "      <td>...</td>\n",
       "      <td>...</td>\n",
       "      <td>...</td>\n",
       "      <td>...</td>\n",
       "      <td>...</td>\n",
       "      <td>...</td>\n",
       "      <td>...</td>\n",
       "    </tr>\n",
       "    <tr>\n",
       "      <th>1705</th>\n",
       "      <td>fe25bc50-7563-468c-bbfc-3ef14442600d</td>\n",
       "      <td>Avg. Corrected Hardness (Gpa)</td>\n",
       "      <td>nominal_real</td>\n",
       "      <td>2.28848475444444</td>\n",
       "      <td>None</td>\n",
       "      <td>gigapascal</td>\n",
       "      <td>{\"nominal\": 2.28848475444444, \"type\": \"nominal...</td>\n",
       "      <td>batch</td>\n",
       "      <td>A</td>\n",
       "    </tr>\n",
       "    <tr>\n",
       "      <th>1706</th>\n",
       "      <td>fe25bc50-7563-468c-bbfc-3ef14442600d</td>\n",
       "      <td>Avg. Corrected Hardness (Gpa)</td>\n",
       "      <td>nominal_real</td>\n",
       "      <td>2.28848475444444</td>\n",
       "      <td>None</td>\n",
       "      <td>gigapascal</td>\n",
       "      <td>{\"nominal\": 2.28848475444444, \"type\": \"nominal...</td>\n",
       "      <td>fabrication_method</td>\n",
       "      <td>VAM</td>\n",
       "    </tr>\n",
       "    <tr>\n",
       "      <th>1707</th>\n",
       "      <td>fe25bc50-7563-468c-bbfc-3ef14442600d</td>\n",
       "      <td>Avg. Corrected Modulus (Gpa)</td>\n",
       "      <td>nominal_real</td>\n",
       "      <td>169.115457311111</td>\n",
       "      <td>None</td>\n",
       "      <td>gigapascal</td>\n",
       "      <td>{\"nominal\": 169.115457311111, \"type\": \"nominal...</td>\n",
       "      <td>composition_id</td>\n",
       "      <td>AAB04</td>\n",
       "    </tr>\n",
       "    <tr>\n",
       "      <th>1708</th>\n",
       "      <td>fe25bc50-7563-468c-bbfc-3ef14442600d</td>\n",
       "      <td>Avg. Corrected Modulus (Gpa)</td>\n",
       "      <td>nominal_real</td>\n",
       "      <td>169.115457311111</td>\n",
       "      <td>None</td>\n",
       "      <td>gigapascal</td>\n",
       "      <td>{\"nominal\": 169.115457311111, \"type\": \"nominal...</td>\n",
       "      <td>batch</td>\n",
       "      <td>A</td>\n",
       "    </tr>\n",
       "    <tr>\n",
       "      <th>1709</th>\n",
       "      <td>fe25bc50-7563-468c-bbfc-3ef14442600d</td>\n",
       "      <td>Avg. Corrected Modulus (Gpa)</td>\n",
       "      <td>nominal_real</td>\n",
       "      <td>169.115457311111</td>\n",
       "      <td>None</td>\n",
       "      <td>gigapascal</td>\n",
       "      <td>{\"nominal\": 169.115457311111, \"type\": \"nominal...</td>\n",
       "      <td>fabrication_method</td>\n",
       "      <td>VAM</td>\n",
       "    </tr>\n",
       "  </tbody>\n",
       "</table>\n",
       "<p>1710 rows × 9 columns</p>\n",
       "</div>"
      ],
      "text/plain": [
       "                                       uid                           name   \n",
       "0     00b989a1-623e-4bd0-b673-462c6fe0a60b                   Weighed Mass  \\\n",
       "1     00b989a1-623e-4bd0-b673-462c6fe0a60b                   Weighed Mass   \n",
       "2     00b989a1-623e-4bd0-b673-462c6fe0a60b                   Weighed Mass   \n",
       "3     00b989a1-623e-4bd0-b673-462c6fe0a60b                      Mass Loss   \n",
       "4     00b989a1-623e-4bd0-b673-462c6fe0a60b                      Mass Loss   \n",
       "...                                    ...                            ...   \n",
       "1705  fe25bc50-7563-468c-bbfc-3ef14442600d  Avg. Corrected Hardness (Gpa)   \n",
       "1706  fe25bc50-7563-468c-bbfc-3ef14442600d  Avg. Corrected Hardness (Gpa)   \n",
       "1707  fe25bc50-7563-468c-bbfc-3ef14442600d   Avg. Corrected Modulus (Gpa)   \n",
       "1708  fe25bc50-7563-468c-bbfc-3ef14442600d   Avg. Corrected Modulus (Gpa)   \n",
       "1709  fe25bc50-7563-468c-bbfc-3ef14442600d   Avg. Corrected Modulus (Gpa)   \n",
       "\n",
       "              type     nominal_value categorical_value       units   \n",
       "0     nominal_real            1.5588              None        gram  \\\n",
       "1     nominal_real            1.5588              None        gram   \n",
       "2     nominal_real            1.5588              None        gram   \n",
       "3     nominal_real               0.0              None        gram   \n",
       "4     nominal_real               0.0              None        gram   \n",
       "...            ...               ...               ...         ...   \n",
       "1705  nominal_real  2.28848475444444              None  gigapascal   \n",
       "1706  nominal_real  2.28848475444444              None  gigapascal   \n",
       "1707  nominal_real  169.115457311111              None  gigapascal   \n",
       "1708  nominal_real  169.115457311111              None  gigapascal   \n",
       "1709  nominal_real  169.115457311111              None  gigapascal   \n",
       "\n",
       "                                                  value         column_name   \n",
       "0     {\"nominal\": 1.5588, \"type\": \"nominal_real\", \"u...      composition_id  \\\n",
       "1     {\"nominal\": 1.5588, \"type\": \"nominal_real\", \"u...               batch   \n",
       "2     {\"nominal\": 1.5588, \"type\": \"nominal_real\", \"u...  fabrication_method   \n",
       "3     {\"nominal\": 0.0, \"type\": \"nominal_real\", \"unit...      composition_id   \n",
       "4     {\"nominal\": 0.0, \"type\": \"nominal_real\", \"unit...               batch   \n",
       "...                                                 ...                 ...   \n",
       "1705  {\"nominal\": 2.28848475444444, \"type\": \"nominal...               batch   \n",
       "1706  {\"nominal\": 2.28848475444444, \"type\": \"nominal...  fabrication_method   \n",
       "1707  {\"nominal\": 169.115457311111, \"type\": \"nominal...      composition_id   \n",
       "1708  {\"nominal\": 169.115457311111, \"type\": \"nominal...               batch   \n",
       "1709  {\"nominal\": 169.115457311111, \"type\": \"nominal...  fabrication_method   \n",
       "\n",
       "     column_value  \n",
       "0           AAB08  \n",
       "1               A  \n",
       "2             VAM  \n",
       "3           AAB08  \n",
       "4               A  \n",
       "...           ...  \n",
       "1705            A  \n",
       "1706          VAM  \n",
       "1707        AAB04  \n",
       "1708            A  \n",
       "1709          VAM  \n",
       "\n",
       "[1710 rows x 9 columns]"
      ]
     },
     "execution_count": 40,
     "metadata": {},
     "output_type": "execute_result"
    }
   ],
   "source": [
    "birdshot = db.gemd_db.execute_query(query)\n",
    "db.print_and_dump(birdshot, query, \"birdshot\")"
   ]
  },
  {
   "attachments": {},
   "cell_type": "markdown",
   "metadata": {},
   "source": [
    "query to curate measurements and measurement data, for optimal use by to birdshot"
   ]
  },
  {
   "cell_type": "code",
   "execution_count": 21,
   "metadata": {},
   "outputs": [],
   "source": [
    "# query=\"\"\"DECLARE @model_id INT; -- Define the model_id parameter\n",
    "# SET @model_id = [YourModelIDValue]; -- Set the value of model_id\n",
    "\n",
    "# SELECT\n",
    "#     i.uid,\n",
    "#     properties.name, \n",
    "#     properties.type,\n",
    "#     properties.nominal_value, \n",
    "#     properties.categorical_value,\n",
    "#     properties.units,\n",
    "#     properties.value,\n",
    "#     -- Add columns from the JSON tags array\n",
    "#     MAX(CASE WHEN column_name = 'composition_id' THEN column_value END) AS composition_id,\n",
    "#     MAX(CASE WHEN column_name = 'batch' THEN column_value END) AS batch,\n",
    "#     MAX(CASE WHEN column_name = 'fabrication_method' THEN column_value END) AS fabrication_method,\n",
    "#     -- Add columns from the JSON properties object\n",
    "#     MAX(CASE WHEN property_name = 'name' THEN property_value END) AS property_name,\n",
    "#     MAX(CASE WHEN property_name = 'json' THEN property_value END) AS property_json,\n",
    "#     MAX(CASE WHEN property_name = 'nominal' THEN property_value END) AS property_nominal,\n",
    "#     MAX(CASE WHEN property_name = 'category' THEN property_value END) AS property_category,\n",
    "#     MAX(CASE WHEN property_name = 'units' THEN property_value END) AS property_units,\n",
    "#     MAX(CASE WHEN property_name = 'type' THEN property_value END) AS property_type\n",
    "# FROM GEMDOBject i\n",
    "# -- Split the JSON tags array and add columns\n",
    "# CROSS APPLY OPENJSON(JSON_QUERY(i.context, '$.tags'))\n",
    "# WITH (\n",
    "#     column_name NVARCHAR(50) '$' -- The tag contains both name and value\n",
    "# ) AS tags_data\n",
    "# CROSS APPLY (\n",
    "#     SELECT \n",
    "#         SUBSTRING(tags_data.column_name, 1, CHARINDEX('::', tags_data.column_name) - 1) AS column_name,\n",
    "#         SUBSTRING(tags_data.column_name, CHARINDEX('::', tags_data.column_name) + 2, LEN(tags_data.column_name)) AS column_value\n",
    "# ) AS parsed_tags\n",
    "# -- Extract properties from the JSON properties object\n",
    "# CROSS APPLY OPENJSON(JSON_QUERY(i.context, '$.properties'))\n",
    "# WITH (\n",
    "#     property_name VARCHAR(50) '$.name', \n",
    "#     property_value [nvarchar](max) '$.value' as json,\n",
    "#     property_nominal [nvarchar](4000) '$.value.nominal',\n",
    "#     property_category [nvarchar](4000) '$.value.category',\n",
    "#     property_units [nvarchar](4000) '$.value.units',\n",
    "#     property_type [nvarchar](32) '$.value.type'\n",
    "# ) AS properties\n",
    "# WHERE i.model_id = @model_id\n",
    "#     AND i.gemd_type = 'measurement_run'\n",
    "#     AND ISJSON(i.context) = 1 -- Use '= 1' for ISJSON to check for valid JSON\n",
    "# GROUP BY\n",
    "#     i.uid,\n",
    "#     properties.name, \n",
    "#     properties.type,\n",
    "#     properties.nominal_value, \n",
    "#     properties.categorical_value,\n",
    "#     properties.units,\n",
    "#     properties.value; -- Group by the JSON property\"\"\"\n"
   ]
  },
  {
   "cell_type": "code",
   "execution_count": 22,
   "metadata": {},
   "outputs": [],
   "source": [
    "# advanced_birdshot = db.gemd_db.execute_query(query)\n",
    "# db.print_and_dump(advanced_birdshot, query, \"advanced_birdshot\")"
   ]
  },
  {
   "attachments": {},
   "cell_type": "markdown",
   "metadata": {},
   "source": [
    "TODO: further tailoring of query to specific measurements of interest for Bayesian Optimization"
   ]
  }
 ],
 "metadata": {
  "kernelspec": {
   "display_name": "test",
   "language": "python",
   "name": "python3"
  },
  "language_info": {
   "codemirror_mode": {
    "name": "ipython",
    "version": 3
   },
   "file_extension": ".py",
   "mimetype": "text/x-python",
   "name": "python",
   "nbconvert_exporter": "python",
   "pygments_lexer": "ipython3",
   "version": "3.9.18"
  },
  "orig_nbformat": 4,
  "vscode": {
   "interpreter": {
    "hash": "aa933622c33cb9779cca4a6f82cdbfe604112adcf83b5196e146db0b51170727"
   }
  }
 },
 "nbformat": 4,
 "nbformat_minor": 2
}
