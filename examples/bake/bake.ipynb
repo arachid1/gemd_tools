{
 "cells": [
  {
   "cell_type": "code",
   "execution_count": 9,
   "metadata": {},
   "outputs": [],
   "source": [
    "from gemd.demo import cake\n",
    "from gemd.json import GEMDJson\n",
    "from gemd.entity.util import complete_material_history\n",
    "import json"
   ]
  },
  {
   "cell_type": "code",
   "execution_count": 10,
   "metadata": {},
   "outputs": [],
   "source": [
    "encoder = GEMDJson()\n",
    "cake = cake.make_cake(seed=42)\n",
    "dest = 'individual_jsons'\n",
    "dump = False"
   ]
  },
  {
   "cell_type": "code",
   "execution_count": 11,
   "metadata": {},
   "outputs": [],
   "source": [
    "if dump:\n",
    "    with open(\"example_gemd_material_history.json\", \"w\") as f:\n",
    "        context_list = complete_material_history(cake)\n",
    "        f.write(json.dumps(context_list, indent=2))\n",
    "\n",
    "    with open(f\"{dest}/example_gemd_material_template.json\", \"w\") as f:\n",
    "        f.write(encoder.thin_dumps(cake.template, indent=2))\n",
    "\n",
    "    with open(f\"{dest}/example_gemd_process_template.json\", \"w\") as f:\n",
    "        f.write(\n",
    "            encoder.thin_dumps(cake.process.ingredients[0].material.process.template, indent=2))\n",
    "\n",
    "    with open(f\"{dest}/example_gemd_measurement_template.json\", \"w\") as f:\n",
    "        f.write(encoder.thin_dumps(cake.measurements[0].template, indent=2))\n",
    "\n",
    "    with open(f\"{dest}/example_gemd_material_spec.json\", \"w\") as f:\n",
    "        f.write(encoder.thin_dumps(cake.spec, indent=2))\n",
    "\n",
    "    with open(f\"{dest}/example_gemd_process_spec.json\", \"w\") as f:\n",
    "        f.write(encoder.thin_dumps(cake.process.spec, indent=2))\n",
    "\n",
    "    with open(f\"{dest}/example_gemd_ingredient_spec.json\", \"w\") as f:\n",
    "        f.write(encoder.thin_dumps(cake.process.spec.ingredients[0], indent=2))\n",
    "\n",
    "    with open(f\"{dest}/example_gemd_measurement_spec.json\", \"w\") as f:\n",
    "        f.write(encoder.thin_dumps(cake.measurements[0].spec, indent=2))\n",
    "\n",
    "    with open(f\"{dest}/example_gemd_material_run.json\", \"w\") as f:\n",
    "        f.write(encoder.thin_dumps(cake, indent=2))\n",
    "\n",
    "    with open(f\"{dest}/example_gemd_process_run.json\", \"w\") as f:\n",
    "        f.write(encoder.thin_dumps(cake.process, indent=2))\n",
    "\n",
    "    with open(f\"{dest}/example_gemd_ingredient_run.json\", \"w\") as f:\n",
    "        f.write(encoder.thin_dumps(cake.process.ingredients[0], indent=2))\n",
    "\n",
    "    with open(f\"{dest}/example_gemd_measurement_run.json\", \"w\") as f:\n",
    "        f.write(encoder.thin_dumps(cake.measurements[0], indent=2))"
   ]
  }
 ],
 "metadata": {
  "kernelspec": {
   "display_name": "birdshot",
   "language": "python",
   "name": "python3"
  },
  "language_info": {
   "codemirror_mode": {
    "name": "ipython",
    "version": 3
   },
   "file_extension": ".py",
   "mimetype": "text/x-python",
   "name": "python",
   "nbconvert_exporter": "python",
   "pygments_lexer": "ipython3",
   "version": "3.9.16 (main, Mar  8 2023, 14:00:05) \n[GCC 11.2.0]"
  },
  "orig_nbformat": 4,
  "vscode": {
   "interpreter": {
    "hash": "c93de424c187b5f45150c4b68957697054d2d10439b831359c08b5dbeaa012b5"
   }
  }
 },
 "nbformat": 4,
 "nbformat_minor": 2
}
