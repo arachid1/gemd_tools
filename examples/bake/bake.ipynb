{
 "cells": [
  {
   "cell_type": "code",
   "execution_count": 1,
   "metadata": {},
   "outputs": [],
   "source": [
    "from gemd.demo import cake\n",
    "from gemd.json import GEMDJson\n",
    "from gemd.entity.util import complete_material_history\n",
    "from openmsimodel.graph.open_graph import OpenGraph\n",
    "from openmsimodel.subworkflow.process_block import ProcessBlock\n",
    "from openmsimodel.entity.base.base_element import BaseElement\n",
    "from openmsimodel.entity.base.material import Material\n",
    "from openmsimodel.entity.base.helpers import from_spec_or_run\n",
    "import json\n",
    "from pathlib import Path\n",
    "curr_pwd = Path().parent.absolute()"
   ]
  },
  {
   "cell_type": "code",
   "execution_count": 2,
   "metadata": {},
   "outputs": [],
   "source": [
    "encoder = GEMDJson()\n",
    "cake = cake.make_cake(seed=42)\n",
    "dest = 'individual_jsons'\n",
    "dump = False"
   ]
  },
  {
   "cell_type": "code",
   "execution_count": 3,
   "metadata": {},
   "outputs": [],
   "source": [
    "if dump:\n",
    "    with open(\"example_gemd_material_history.json\", \"w\") as f:\n",
    "        context_list = complete_material_history(cake)\n",
    "        f.write(json.dumps(context_list, indent=2))\n",
    "\n",
    "    with open(f\"{dest}/example_gemd_material_template.json\", \"w\") as f:\n",
    "        f.write(encoder.thin_dumps(cake.template, indent=2))\n",
    "\n",
    "    with open(f\"{dest}/example_gemd_process_template.json\", \"w\") as f:\n",
    "        f.write(\n",
    "            encoder.thin_dumps(cake.process.ingredients[0].material.process.template, indent=2))\n",
    "\n",
    "    with open(f\"{dest}/example_gemd_measurement_template.json\", \"w\") as f:\n",
    "        f.write(encoder.thin_dumps(cake.measurements[0].template, indent=2))\n",
    "\n",
    "    with open(f\"{dest}/example_gemd_material_spec.json\", \"w\") as f:\n",
    "        f.write(encoder.thin_dumps(cake.spec, indent=2))\n",
    "\n",
    "    with open(f\"{dest}/example_gemd_process_spec.json\", \"w\") as f:\n",
    "        f.write(encoder.thin_dumps(cake.process.spec, indent=2))\n",
    "\n",
    "    with open(f\"{dest}/example_gemd_ingredient_spec.json\", \"w\") as f:\n",
    "        f.write(encoder.thin_dumps(cake.process.spec.ingredients[0], indent=2))\n",
    "\n",
    "    with open(f\"{dest}/example_gemd_measurement_spec.json\", \"w\") as f:\n",
    "        f.write(encoder.thin_dumps(cake.measurements[0].spec, indent=2))\n",
    "\n",
    "    with open(f\"{dest}/example_gemd_material_run.json\", \"w\") as f:\n",
    "        f.write(encoder.thin_dumps(cake, indent=2))\n",
    "\n",
    "    with open(f\"{dest}/example_gemd_process_run.json\", \"w\") as f:\n",
    "        f.write(encoder.thin_dumps(cake.process, indent=2))\n",
    "\n",
    "    with open(f\"{dest}/example_gemd_ingredient_run.json\", \"w\") as f:\n",
    "        f.write(encoder.thin_dumps(cake.process.ingredients[0], indent=2))\n",
    "\n",
    "    with open(f\"{dest}/example_gemd_measurement_run.json\", \"w\") as f:\n",
    "        f.write(encoder.thin_dumps(cake.measurements[0], indent=2))"
   ]
  },
  {
   "cell_type": "code",
   "execution_count": 4,
   "metadata": {},
   "outputs": [],
   "source": [
    "mat_from_spec = Material.from_spec_or_run(name=cake.spec.name, spec=cake.spec) \n",
    "mat_from_run = Material.from_spec_or_run(name=cake.name, run=cake) \n",
    "mat_from_spec_2 = from_spec_or_run(name=cake.spec.name, spec=cake.spec) \n",
    "process_from_run = from_spec_or_run(name=cake.process.name, run=cake.process) \n",
    "block_from_spec = ProcessBlock.from_spec_or_run(name=cake.spec.name, spec=cake.spec)\n"
   ]
  },
  {
   "cell_type": "code",
   "execution_count": 6,
   "metadata": {},
   "outputs": [
    {
     "name": "stdout",
     "output_type": "stream",
     "text": [
      "-- Building runs of list with 3 items\n",
      "Extracting list...\n",
      "Done.\n",
      "Dumping graphml...\n",
      "Time elapsed: 0.009800434112548828\n",
      "-- Saved graph to /srv/hemi01-j01/openmsimodel/examples/bake/output/base_element_run.dot, /srv/hemi01-j01/openmsimodel/examples/bake/output/base_element_run.svg and /srv/hemi01-j01/openmsimodel/examples/bake/output/base_element_run.graphml\n",
      "-- Analysis --\n",
      "cycles in the graph: []\n",
      "nb of disregarded elements: 0/3\n",
      "nb of isolates: 0\n"
     ]
    },
    {
     "data": {
      "application/vnd.jupyter.widget-view+json": {
       "model_id": "ee044197540e4a56bfcdb4f35d42a4b4",
       "version_major": 2,
       "version_minor": 0
      },
      "text/plain": [
       "GraphWidget(layout=Layout(height='500px', width='100%'))"
      ]
     },
     "metadata": {},
     "output_type": "display_data"
    }
   ],
   "source": [
    "assets_to_add = {\n",
    "            \"add_attributes\": 1,\n",
    "            \"add_file_links\": 1,\n",
    "            \"add_tags\": 1,\n",
    "        }\n",
    "output = curr_pwd / \"output\"\n",
    "open_graph = OpenGraph(\"base_element\", dirpath=mat_from_spec.return_all_gemd(),output=output, restrictive=True, layout='raw', add_bidirectional_edges=False)\n",
    "G, relabeled_G, name_mapping = open_graph.build_graph(\n",
    "    assets_to_add=assets_to_add,\n",
    "    add_separate_node=0,\n",
    "    which='run',\n",
    ")\n",
    "open_graph.launch(relabeled_G)"
   ]
  },
  {
   "cell_type": "code",
   "execution_count": null,
   "metadata": {},
   "outputs": [],
   "source": []
  }
 ],
 "metadata": {
  "kernelspec": {
   "display_name": "birdshot",
   "language": "python",
   "name": "python3"
  },
  "language_info": {
   "codemirror_mode": {
    "name": "ipython",
    "version": 3
   },
   "file_extension": ".py",
   "mimetype": "text/x-python",
   "name": "python",
   "nbconvert_exporter": "python",
   "pygments_lexer": "ipython3",
   "version": "3.9.16 (main, Mar  8 2023, 14:00:05) \n[GCC 11.2.0]"
  },
  "orig_nbformat": 4,
  "vscode": {
   "interpreter": {
    "hash": "c93de424c187b5f45150c4b68957697054d2d10439b831359c08b5dbeaa012b5"
   }
  }
 },
 "nbformat": 4,
 "nbformat_minor": 2
}
