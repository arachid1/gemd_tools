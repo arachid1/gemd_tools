{
 "cells": [
  {
   "cell_type": "code",
   "execution_count": 1,
   "metadata": {},
   "outputs": [],
   "source": [
    "%load_ext autoreload\n",
    "%autoreload 2\n",
    "from gemd.demo import cake\n",
    "from gemd.json import GEMDJson\n",
    "from gemd.entity.util import complete_material_history\n",
    "from openmsimodel.subworkflow.process_block import ProcessBlock\n",
    "from openmsimodel.entity.base import Material, Process, Ingredient, Measurement\n",
    "from gemd import ProcessTemplate, MaterialTemplate, MeasurementTemplate\n",
    "import json"
   ]
  },
  {
   "cell_type": "code",
   "execution_count": 2,
   "metadata": {},
   "outputs": [],
   "source": [
    "encoder = GEMDJson()\n",
    "cake = cake.make_cake(seed=42)\n",
    "dest = 'individual_jsons'\n",
    "dump = False"
   ]
  },
  {
   "cell_type": "code",
   "execution_count": 3,
   "metadata": {},
   "outputs": [],
   "source": [
    "if dump:\n",
    "    with open(\"example_gemd_material_history.json\", \"w\") as f:\n",
    "        context_list = complete_material_history(cake)\n",
    "        f.write(json.dumps(context_list, indent=2))\n",
    "\n",
    "    with open(f\"{dest}/example_gemd_material_template.json\", \"w\") as f:\n",
    "        f.write(encoder.thin_dumps(cake.template, indent=2))\n",
    "\n",
    "    with open(f\"{dest}/example_gemd_process_template.json\", \"w\") as f:\n",
    "        f.write(\n",
    "            encoder.thin_dumps(cake.process.ingredients[0].material.process.template, indent=2))\n",
    "\n",
    "    with open(f\"{dest}/example_gemd_measurement_template.json\", \"w\") as f:\n",
    "        f.write(encoder.thin_dumps(cake.measurements[0].template, indent=2))\n",
    "\n",
    "    with open(f\"{dest}/example_gemd_material_spec.json\", \"w\") as f:\n",
    "        f.write(encoder.thin_dumps(cake.spec, indent=2))\n",
    "\n",
    "    with open(f\"{dest}/example_gemd_process_spec.json\", \"w\") as f:\n",
    "        f.write(encoder.thin_dumps(cake.process.spec, indent=2))\n",
    "\n",
    "    with open(f\"{dest}/example_gemd_ingredient_spec.json\", \"w\") as f:\n",
    "        f.write(encoder.thin_dumps(cake.process.spec.ingredients[0], indent=2))\n",
    "\n",
    "    with open(f\"{dest}/example_gemd_measurement_spec.json\", \"w\") as f:\n",
    "        f.write(encoder.thin_dumps(cake.measurements[0].spec, indent=2))\n",
    "\n",
    "    with open(f\"{dest}/example_gemd_material_run.json\", \"w\") as f:\n",
    "        f.write(encoder.thin_dumps(cake, indent=2))\n",
    "\n",
    "    with open(f\"{dest}/example_gemd_process_run.json\", \"w\") as f:\n",
    "        f.write(encoder.thin_dumps(cake.process, indent=2))\n",
    "\n",
    "    with open(f\"{dest}/example_gemd_ingredient_run.json\", \"w\") as f:\n",
    "        f.write(encoder.thin_dumps(cake.process.ingredients[0], indent=2))\n",
    "\n",
    "    with open(f\"{dest}/example_gemd_measurement_run.json\", \"w\") as f:\n",
    "        f.write(encoder.thin_dumps(cake.measurements[0], indent=2))"
   ]
  },
  {
   "cell_type": "code",
   "execution_count": 4,
   "metadata": {},
   "outputs": [
    {
     "ename": "AttributeError",
     "evalue": "'Process' object has no attribute '_spec'",
     "output_type": "error",
     "traceback": [
      "\u001b[0;31m---------------------------------------------------------------------------\u001b[0m",
      "\u001b[0;31mKeyError\u001b[0m                                  Traceback (most recent call last)",
      "File \u001b[0;32m/srv/hemi01-j01/anaconda3/envs/birdshot/lib/python3.9/site-packages/pydantic/main.py:695\u001b[0m, in \u001b[0;36mBaseModel.__getattr__\u001b[0;34m(self, item)\u001b[0m\n\u001b[1;32m    693\u001b[0m \u001b[39mtry\u001b[39;00m:\n\u001b[1;32m    694\u001b[0m     \u001b[39m# Note: self.__pydantic_private__ cannot be None if self.__private_attributes__ has items\u001b[39;00m\n\u001b[0;32m--> 695\u001b[0m     \u001b[39mreturn\u001b[39;00m \u001b[39mself\u001b[39;49m\u001b[39m.\u001b[39;49m__pydantic_private__[item]  \u001b[39m# type: ignore\u001b[39;00m\n\u001b[1;32m    696\u001b[0m \u001b[39mexcept\u001b[39;00m \u001b[39mKeyError\u001b[39;00m \u001b[39mas\u001b[39;00m exc:\n",
      "\u001b[0;31mKeyError\u001b[0m: '_spec'",
      "\nThe above exception was the direct cause of the following exception:\n",
      "\u001b[0;31mAttributeError\u001b[0m                            Traceback (most recent call last)",
      "Cell \u001b[0;32mIn[4], line 1\u001b[0m\n\u001b[0;32m----> 1\u001b[0m process \u001b[39m=\u001b[39m Process(name\u001b[39m=\u001b[39;49m\u001b[39m'\u001b[39;49m\u001b[39mprocess_test\u001b[39;49m\u001b[39m'\u001b[39;49m, template\u001b[39m=\u001b[39;49mProcessTemplate(\u001b[39m'\u001b[39;49m\u001b[39mprocess_template_test\u001b[39;49m\u001b[39m'\u001b[39;49m))\n\u001b[1;32m      2\u001b[0m process\u001b[39m.\u001b[39mmodel_dump()\n\u001b[1;32m      3\u001b[0m material \u001b[39m=\u001b[39m Material(name\u001b[39m=\u001b[39m\u001b[39m'\u001b[39m\u001b[39mmaterial_test\u001b[39m\u001b[39m'\u001b[39m, template\u001b[39m=\u001b[39mMaterialTemplate(\u001b[39m'\u001b[39m\u001b[39mmaterial_template_test\u001b[39m\u001b[39m'\u001b[39m))\n",
      "File \u001b[0;32m/srv/hemi01-j01/openmsimodel/openmsimodel/entity/base/process_or_measurement.py:59\u001b[0m, in \u001b[0;36mProcessOrMeasurement.__init__\u001b[0;34m(self, name, template, notes, conditions, parameters, which)\u001b[0m\n\u001b[1;32m     56\u001b[0m     parameters \u001b[39m=\u001b[39m []\n\u001b[1;32m     58\u001b[0m \u001b[39m# FIXME: would this work if template?\u001b[39;00m\n\u001b[0;32m---> 59\u001b[0m \u001b[39mself\u001b[39;49m\u001b[39m.\u001b[39;49mupdate_conditions(\n\u001b[1;32m     60\u001b[0m     \u001b[39m*\u001b[39;49mconditions, replace_all\u001b[39m=\u001b[39;49m\u001b[39mTrue\u001b[39;49;00m, which\u001b[39m=\u001b[39;49mwhich\n\u001b[1;32m     61\u001b[0m )  \u001b[39m# TODO change which? or add param?\u001b[39;00m\n\u001b[1;32m     63\u001b[0m \u001b[39mself\u001b[39m\u001b[39m.\u001b[39mupdate_parameters(\u001b[39m*\u001b[39mparameters, replace_all\u001b[39m=\u001b[39m\u001b[39mTrue\u001b[39;00m, which\u001b[39m=\u001b[39mwhich)\n",
      "File \u001b[0;32m/srv/hemi01-j01/openmsimodel/openmsimodel/entity/base/process_or_measurement.py:93\u001b[0m, in \u001b[0;36mProcessOrMeasurement.update_conditions\u001b[0;34m(self, replace_all, which, *conditions)\u001b[0m\n\u001b[1;32m     69\u001b[0m \u001b[39mdef\u001b[39;00m \u001b[39mupdate_conditions\u001b[39m(\n\u001b[1;32m     70\u001b[0m     \u001b[39mself\u001b[39m,\n\u001b[1;32m     71\u001b[0m     \u001b[39m*\u001b[39mconditions: Condition,\n\u001b[1;32m     72\u001b[0m     replace_all: \u001b[39mbool\u001b[39m \u001b[39m=\u001b[39m \u001b[39mFalse\u001b[39;00m,\n\u001b[1;32m     73\u001b[0m     which: SpecOrRunLiteral \u001b[39m=\u001b[39m \u001b[39m\"\u001b[39m\u001b[39mspec\u001b[39m\u001b[39m\"\u001b[39m,\n\u001b[1;32m     74\u001b[0m ) \u001b[39m-\u001b[39m\u001b[39m>\u001b[39m \u001b[39mNone\u001b[39;00m:\n\u001b[1;32m     75\u001b[0m \u001b[39m    \u001b[39m\u001b[39m\"\"\"\u001b[39;00m\n\u001b[1;32m     76\u001b[0m \u001b[39m    Change or add conditions.\u001b[39;00m\n\u001b[1;32m     77\u001b[0m \n\u001b[0;32m   (...)\u001b[0m\n\u001b[1;32m     90\u001b[0m \u001b[39m        If the name of a condition is not supported.\u001b[39;00m\n\u001b[1;32m     91\u001b[0m \u001b[39m    \"\"\"\u001b[39;00m\n\u001b[0;32m---> 93\u001b[0m     \u001b[39mself\u001b[39;49m\u001b[39m.\u001b[39;49m_update_attributes(\n\u001b[1;32m     94\u001b[0m         AttrType\u001b[39m=\u001b[39;49mCondition,\n\u001b[1;32m     95\u001b[0m         attributes\u001b[39m=\u001b[39;49mconditions,\n\u001b[1;32m     96\u001b[0m         replace_all\u001b[39m=\u001b[39;49mreplace_all,\n\u001b[1;32m     97\u001b[0m         which\u001b[39m=\u001b[39;49mwhich,\n\u001b[1;32m     98\u001b[0m     )\n",
      "File \u001b[0;32m/srv/hemi01-j01/openmsimodel/openmsimodel/entity/base/base_element.py:198\u001b[0m, in \u001b[0;36mBaseElement._update_attributes\u001b[0;34m(self, AttrType, attributes, replace_all, which)\u001b[0m\n\u001b[1;32m    188\u001b[0m \u001b[39mdef\u001b[39;00m \u001b[39m_update_attributes\u001b[39m(\n\u001b[1;32m    189\u001b[0m     \u001b[39mself\u001b[39m,\n\u001b[1;32m    190\u001b[0m     AttrType: Type[BaseAttribute],\n\u001b[0;32m   (...)\u001b[0m\n\u001b[1;32m    193\u001b[0m     which: SpecOrRunLiteral \u001b[39m=\u001b[39m \u001b[39m\"\u001b[39m\u001b[39mspec\u001b[39m\u001b[39m\"\u001b[39m,\n\u001b[1;32m    194\u001b[0m ) \u001b[39m-\u001b[39m\u001b[39m>\u001b[39m \u001b[39mNone\u001b[39;00m:\n\u001b[1;32m    195\u001b[0m \u001b[39m    \u001b[39m\u001b[39m\"\"\"Update attributes and link attribute templates.\"\"\"\u001b[39;00m\n\u001b[1;32m    197\u001b[0m     update_attrs(\n\u001b[0;32m--> 198\u001b[0m         \u001b[39mself\u001b[39m\u001b[39m.\u001b[39m_ATTRS, \u001b[39mself\u001b[39;49m\u001b[39m.\u001b[39;49m_spec, \u001b[39mself\u001b[39m\u001b[39m.\u001b[39m_run, AttrType, attributes, replace_all, which\n\u001b[1;32m    199\u001b[0m     )\n",
      "File \u001b[0;32m/srv/hemi01-j01/anaconda3/envs/birdshot/lib/python3.9/site-packages/pydantic/main.py:697\u001b[0m, in \u001b[0;36mBaseModel.__getattr__\u001b[0;34m(self, item)\u001b[0m\n\u001b[1;32m    695\u001b[0m         \u001b[39mreturn\u001b[39;00m \u001b[39mself\u001b[39m\u001b[39m.\u001b[39m__pydantic_private__[item]  \u001b[39m# type: ignore\u001b[39;00m\n\u001b[1;32m    696\u001b[0m     \u001b[39mexcept\u001b[39;00m \u001b[39mKeyError\u001b[39;00m \u001b[39mas\u001b[39;00m exc:\n\u001b[0;32m--> 697\u001b[0m         \u001b[39mraise\u001b[39;00m \u001b[39mAttributeError\u001b[39;00m(\u001b[39mf\u001b[39m\u001b[39m'\u001b[39m\u001b[39m{\u001b[39;00m\u001b[39mtype\u001b[39m(\u001b[39mself\u001b[39m)\u001b[39m.\u001b[39m\u001b[39m__name__\u001b[39m\u001b[39m!r}\u001b[39;00m\u001b[39m object has no attribute \u001b[39m\u001b[39m{\u001b[39;00mitem\u001b[39m!r}\u001b[39;00m\u001b[39m'\u001b[39m) \u001b[39mfrom\u001b[39;00m \u001b[39mexc\u001b[39;00m\n\u001b[1;32m    698\u001b[0m \u001b[39melse\u001b[39;00m:\n\u001b[1;32m    699\u001b[0m     pydantic_extra \u001b[39m=\u001b[39m \u001b[39mobject\u001b[39m\u001b[39m.\u001b[39m\u001b[39m__getattribute__\u001b[39m(\u001b[39mself\u001b[39m, \u001b[39m'\u001b[39m\u001b[39m__pydantic_extra__\u001b[39m\u001b[39m'\u001b[39m)\n",
      "\u001b[0;31mAttributeError\u001b[0m: 'Process' object has no attribute '_spec'"
     ]
    }
   ],
   "source": [
    "process = Process(name='process_test', template=ProcessTemplate('process_template_test'))\n",
    "process.model_dump()\n",
    "material = Material(name='material_test', template=MaterialTemplate('material_template_test'))\n",
    "material.model_dump()\n",
    "# ingredient = Ingredient(name='ingredient_test')\n",
    "# ingredient.model_dump()\n"
   ]
  },
  {
   "cell_type": "code",
   "execution_count": null,
   "metadata": {},
   "outputs": [],
   "source": [
    "process_block = ProcessBlock(name='test', workflow=None, process=process)\n",
    "# process_block.model_dump()"
   ]
  },
  {
   "cell_type": "code",
   "execution_count": null,
   "metadata": {},
   "outputs": [],
   "source": [
    "# ProcessBlock.from_(cake.spec) # build structure from any\n"
   ]
  }
 ],
 "metadata": {
  "kernelspec": {
   "display_name": "birdshot",
   "language": "python",
   "name": "python3"
  },
  "language_info": {
   "codemirror_mode": {
    "name": "ipython",
    "version": 3
   },
   "file_extension": ".py",
   "mimetype": "text/x-python",
   "name": "python",
   "nbconvert_exporter": "python",
   "pygments_lexer": "ipython3",
   "version": "3.9.16"
  },
  "orig_nbformat": 4,
  "vscode": {
   "interpreter": {
    "hash": "c93de424c187b5f45150c4b68957697054d2d10439b831359c08b5dbeaa012b5"
   }
  }
 },
 "nbformat": 4,
 "nbformat_minor": 2
}
