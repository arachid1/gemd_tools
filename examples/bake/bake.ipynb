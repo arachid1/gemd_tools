{
 "cells": [
  {
   "cell_type": "code",
   "execution_count": 1,
   "metadata": {},
   "outputs": [],
   "source": [
    "%load_ext autoreload\n",
    "%autoreload 2\n",
    "\n",
    "from gemd.demo import cake\n",
    "from gemd.json import GEMDJson\n",
    "from gemd.entity.util import complete_material_history\n",
    "from openmsimodel.graph.open_graph import OpenGraph\n",
    "from openmsimodel.subworkflow.process_block import ProcessBlock\n",
    "from openmsimodel.entity.gemd.gemd_base_element import GEMDBaseElement\n",
    "from openmsimodel.entity.gemd.material import Material\n",
    "from openmsimodel.entity.gemd.helpers import from_spec_or_run\n",
    "import json\n",
    "from pathlib import Path\n",
    "curr_pwd = Path().parent.absolute()"
   ]
  },
  {
   "cell_type": "code",
   "execution_count": 2,
   "metadata": {},
   "outputs": [],
   "source": [
    "encoder = GEMDJson()\n",
    "cake_example = cake.make_cake(seed=42)\n",
    "dest = 'individual_jsons'\n",
    "dump = False"
   ]
  },
  {
   "cell_type": "code",
   "execution_count": 3,
   "metadata": {},
   "outputs": [],
   "source": [
    "if dump:\n",
    "    with open(\"example_gemd_material_history.json\", \"w\") as f:\n",
    "        context_list = complete_material_history(cake_example)\n",
    "        f.write(json.dumps(context_list, indent=2))\n",
    "\n",
    "    with open(f\"{dest}/example_gemd_material_template.json\", \"w\") as f:\n",
    "        f.write(encoder.thin_dumps(cake_example.template, indent=2))\n",
    "\n",
    "    with open(f\"{dest}/example_gemd_process_template.json\", \"w\") as f:\n",
    "        f.write(\n",
    "            encoder.thin_dumps(cake_example.process.ingredients[0].material.process.template, indent=2))\n",
    "\n",
    "    with open(f\"{dest}/example_gemd_measurement_template.json\", \"w\") as f:\n",
    "        f.write(encoder.thin_dumps(cake_example.measurements[0].template, indent=2))\n",
    "\n",
    "    with open(f\"{dest}/example_gemd_material_spec.json\", \"w\") as f:\n",
    "        f.write(encoder.thin_dumps(cake_example.spec, indent=2))\n",
    "\n",
    "    with open(f\"{dest}/example_gemd_process_spec.json\", \"w\") as f:\n",
    "        f.write(encoder.thin_dumps(cake_example.process.spec, indent=2))\n",
    "\n",
    "    with open(f\"{dest}/example_gemd_ingredient_spec.json\", \"w\") as f:\n",
    "        f.write(encoder.thin_dumps(cake_example.process.spec.ingredients[0], indent=2))\n",
    "\n",
    "    with open(f\"{dest}/example_gemd_measurement_spec.json\", \"w\") as f:\n",
    "        f.write(encoder.thin_dumps(cake_example.measurements[0].spec, indent=2))\n",
    "\n",
    "    with open(f\"{dest}/example_gemd_material_run.json\", \"w\") as f:\n",
    "        f.write(encoder.thin_dumps(cake_example, indent=2))\n",
    "\n",
    "    with open(f\"{dest}/example_gemd_process_run.json\", \"w\") as f:\n",
    "        f.write(encoder.thin_dumps(cake_example.process, indent=2))\n",
    "\n",
    "    with open(f\"{dest}/example_gemd_ingredient_run.json\", \"w\") as f:\n",
    "        f.write(encoder.thin_dumps(cake_example.process.ingredients[0], indent=2))\n",
    "\n",
    "    with open(f\"{dest}/example_gemd_measurement_run.json\", \"w\") as f:\n",
    "        f.write(encoder.thin_dumps(cake_example.measurements[0], indent=2))"
   ]
  },
  {
   "cell_type": "code",
   "execution_count": 4,
   "metadata": {},
   "outputs": [
    {
     "ename": "NameError",
     "evalue": "name 'uuid' is not defined",
     "output_type": "error",
     "traceback": [
      "\u001b[0;31m---------------------------------------------------------------------------\u001b[0m",
      "\u001b[0;31mNameError\u001b[0m                                 Traceback (most recent call last)",
      "Cell \u001b[0;32mIn[4], line 1\u001b[0m\n\u001b[0;32m----> 1\u001b[0m mat_from_spec \u001b[39m=\u001b[39m Material\u001b[39m.\u001b[39;49mfrom_spec_or_run(name\u001b[39m=\u001b[39;49mcake_example\u001b[39m.\u001b[39;49mspec\u001b[39m.\u001b[39;49mname, spec\u001b[39m=\u001b[39;49mcake_example\u001b[39m.\u001b[39;49mspec) \n\u001b[1;32m      2\u001b[0m mat_from_run \u001b[39m=\u001b[39m Material\u001b[39m.\u001b[39mfrom_spec_or_run(name\u001b[39m=\u001b[39mcake_example\u001b[39m.\u001b[39mname, run\u001b[39m=\u001b[39mcake_example) \n\u001b[1;32m      3\u001b[0m mat_from_spec_2 \u001b[39m=\u001b[39m from_spec_or_run(name\u001b[39m=\u001b[39mcake_example\u001b[39m.\u001b[39mspec\u001b[39m.\u001b[39mname, spec\u001b[39m=\u001b[39mcake_example\u001b[39m.\u001b[39mspec) \n",
      "File \u001b[0;32m/srv/hemi01-j01/openmsimodel/openmsimodel/entity/gemd/material.py:94\u001b[0m, in \u001b[0;36mMaterial.from_spec_or_run\u001b[0;34m(cls, name, notes, spec, run)\u001b[0m\n\u001b[1;32m     91\u001b[0m         \u001b[39mraise\u001b[39;00m \u001b[39mValueError\u001b[39;00m(\u001b[39m\"\u001b[39m\u001b[39mAt least one of spec or run must be given.\u001b[39m\u001b[39m\"\u001b[39m)\n\u001b[1;32m     92\u001b[0m template \u001b[39m=\u001b[39m spec\u001b[39m.\u001b[39mtemplate\n\u001b[0;32m---> 94\u001b[0m material \u001b[39m=\u001b[39m \u001b[39mcls\u001b[39;49m(name, notes\u001b[39m=\u001b[39;49mnotes, template\u001b[39m=\u001b[39;49mtemplate)\n\u001b[1;32m     96\u001b[0m \u001b[39mif\u001b[39;00m spec \u001b[39mis\u001b[39;00m \u001b[39mnot\u001b[39;00m \u001b[39mNone\u001b[39;00m:\n\u001b[1;32m     97\u001b[0m     \u001b[39mif\u001b[39;00m \u001b[39mnot\u001b[39;00m \u001b[39misinstance\u001b[39m(spec, MaterialSpec):\n",
      "File \u001b[0;32m/srv/hemi01-j01/openmsimodel/openmsimodel/entity/gemd/material.py:37\u001b[0m, in \u001b[0;36mMaterial.__init__\u001b[0;34m(self, name, template, notes, process, properties, sample_type)\u001b[0m\n\u001b[1;32m     27\u001b[0m \u001b[39mdef\u001b[39;00m \u001b[39m__init__\u001b[39m(\n\u001b[1;32m     28\u001b[0m     \u001b[39mself\u001b[39m,\n\u001b[1;32m     29\u001b[0m     name: \u001b[39mstr\u001b[39m,\n\u001b[0;32m   (...)\u001b[0m\n\u001b[1;32m     35\u001b[0m     sample_type: Optional[SampleType] \u001b[39m=\u001b[39m \u001b[39mNone\u001b[39;00m\n\u001b[1;32m     36\u001b[0m ) \u001b[39m-\u001b[39m\u001b[39m>\u001b[39m \u001b[39mNone\u001b[39;00m:\n\u001b[0;32m---> 37\u001b[0m     \u001b[39msuper\u001b[39;49m()\u001b[39m.\u001b[39;49m\u001b[39m__init__\u001b[39;49m(name, template\u001b[39m=\u001b[39;49mtemplate, notes\u001b[39m=\u001b[39;49mnotes)\n\u001b[1;32m     39\u001b[0m     \u001b[39mself\u001b[39m\u001b[39m.\u001b[39mset_process(process)\n\u001b[1;32m     41\u001b[0m     \u001b[39mif\u001b[39;00m properties \u001b[39mis\u001b[39;00m \u001b[39mNone\u001b[39;00m:\n",
      "File \u001b[0;32m/srv/hemi01-j01/openmsimodel/openmsimodel/entity/gemd/gemd_base_element.py:159\u001b[0m, in \u001b[0;36mGEMDBaseElement.__init__\u001b[0;34m(self, name, template, notes)\u001b[0m\n\u001b[1;32m    155\u001b[0m \u001b[39mself\u001b[39m\u001b[39m.\u001b[39m_spec: Spec \u001b[39m=\u001b[39m \u001b[39mself\u001b[39m\u001b[39m.\u001b[39m_SpecType(\n\u001b[1;32m    156\u001b[0m     name\u001b[39m=\u001b[39mname, notes\u001b[39m=\u001b[39mnotes, template\u001b[39m=\u001b[39m\u001b[39mself\u001b[39m\u001b[39m.\u001b[39mTEMPLATE\n\u001b[1;32m    157\u001b[0m )\n\u001b[1;32m    158\u001b[0m \u001b[39mself\u001b[39m\u001b[39m.\u001b[39m_run: Run \u001b[39m=\u001b[39m make_instance(\u001b[39mself\u001b[39m\u001b[39m.\u001b[39m_spec)\n\u001b[0;32m--> 159\u001b[0m assign_uuid(\u001b[39mself\u001b[39m\u001b[39m.\u001b[39m_spec, uuid)\n\u001b[1;32m    160\u001b[0m assign_uuid(\u001b[39mself\u001b[39m\u001b[39m.\u001b[39m_run, uuid)\n",
      "\u001b[0;31mNameError\u001b[0m: name 'uuid' is not defined"
     ]
    }
   ],
   "source": [
    "mat_from_spec = Material.from_spec_or_run(name=cake_example.spec.name, spec=cake_example.spec) \n",
    "mat_from_run = Material.from_spec_or_run(name=cake_example.name, run=cake_example) \n",
    "mat_from_spec_2 = from_spec_or_run(name=cake_example.spec.name, spec=cake_example.spec) \n",
    "process_from_run = from_spec_or_run(name=cake_example.process.name, run=cake_example.process) \n",
    "block_from_spec = ProcessBlock.from_spec_or_run(name=cake_example.spec.name, spec=cake_example.spec)"
   ]
  },
  {
   "cell_type": "code",
   "execution_count": null,
   "metadata": {},
   "outputs": [],
   "source": [
    "gemd_list = mat_from_spec.assets\n",
    "mat_from_spec\n",
    "mat_from_spec.assert_linked()\n",
    "#TODO:  assert linked function!\n",
    "print([g.name for g in gemd_list])\n",
    "print([g.typ for g in gemd_list])\n",
    "print([g.uids for g in gemd_list])\n",
    "assets_to_add = {\n",
    "            \"add_attributes\": 1,\n",
    "            \"add_file_links\": 1,\n",
    "            \"add_tags\": 1,\n",
    "        }\n",
    "output = curr_pwd / \"output\"\n",
    "open_graph = OpenGraph(\"base_element\", dirpath=gemd_list, output=output, layout='raw', add_bidirectional_edges=False)\n",
    "G, relabeled_G, name_mapping = open_graph.build_graph(\n",
    "    assets_to_add=assets_to_add,\n",
    "    add_separate_node=0,\n",
    "    which='all',\n",
    ")\n",
    "open_graph.launch(relabeled_G)"
   ]
  }
 ],
 "metadata": {
  "kernelspec": {
   "display_name": "birdshot",
   "language": "python",
   "name": "python3"
  },
  "language_info": {
   "codemirror_mode": {
    "name": "ipython",
    "version": 3
   },
   "file_extension": ".py",
   "mimetype": "text/x-python",
   "name": "python",
   "nbconvert_exporter": "python",
   "pygments_lexer": "ipython3",
   "version": "3.9.16"
  },
  "orig_nbformat": 4,
  "vscode": {
   "interpreter": {
    "hash": "c93de424c187b5f45150c4b68957697054d2d10439b831359c08b5dbeaa012b5"
   }
  }
 },
 "nbformat": 4,
 "nbformat_minor": 2
}
