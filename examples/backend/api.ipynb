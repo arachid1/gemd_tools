{
 "cells": [
  {
   "cell_type": "code",
   "execution_count": 1,
   "metadata": {},
   "outputs": [],
   "source": [
    "from typing import ClassVar\n",
    "\n",
    "from gemd import (\n",
    "    Parameter,\n",
    "    Property, \n",
    "    PropertyAndConditions,\n",
    "    MaterialRun,\n",
    "    PropertyTemplate,\n",
    "    ProcessTemplate,\n",
    "    MaterialTemplate,\n",
    "    ParameterTemplate,\n",
    "    CategoricalBounds,\n",
    "    NominalCategorical,\n",
    "    RealBounds,\n",
    "    NominalReal,\n",
    ")\n",
    "\n",
    "from openmsimodel.entity.gemd.process import Process\n",
    "from openmsimodel.entity.gemd.material import Material\n",
    "from openmsimodel.entity.gemd.gemd_element import GEMDElement\n",
    "\n",
    "from openmsimodel.utilities.attributes import (\n",
    "    AttrsDict,\n",
    "    define_attribute,\n",
    "    finalize_template,\n",
    ")"
   ]
  },
  {
   "attachments": {},
   "cell_type": "markdown",
   "metadata": {},
   "source": [
    "### Subclassing  \n",
    "\n",
    "One initialization method allows you to subclass a GEMDElement object to initialize its template and attributes, and preserve it as a persistent class in a file"
   ]
  },
  {
   "cell_type": "code",
   "execution_count": 2,
   "metadata": {},
   "outputs": [
    {
     "name": "stdout",
     "output_type": "stream",
     "text": [
      "{'conditions': {}, 'parameters': {'Pressure': {'obj': {'description': None, 'bounds': {'lower_bound': 0, 'upper_bound': 20, 'default_units': 'pascal', 'type': 'real_bounds'}, 'name': 'Pressure', 'tags': [], 'uids': {'auto': '7befc409-880f-48e2-8bce-3b06d9a577ef'}, 'type': 'parameter_template'}, 'bounds': None, 'default_value': None}, 'Duration': {'obj': {'description': None, 'bounds': {'lower_bound': 0, 'upper_bound': 72, 'default_units': 'hour', 'type': 'real_bounds'}, 'name': 'Duration', 'tags': [], 'uids': {'auto': 'c2b0f86d-af3b-497a-aac7-df2ff75a79eb'}, 'type': 'parameter_template'}, 'bounds': None, 'default_value': None}, 'Temperature': {'obj': {'description': None, 'bounds': {'lower_bound': 0, 'upper_bound': 2000, 'default_units': 'kelvin', 'type': 'real_bounds'}, 'name': 'Temperature', 'tags': [], 'uids': {'auto': '00d8b1fc-7e4c-417a-b858-897fde8f94a3'}, 'type': 'parameter_template'}, 'bounds': None, 'default_value': None}}}\n"
     ]
    }
   ],
   "source": [
    "class Homogenization(Process):\n",
    "    \"\"\"Class representing homogenization cycle\"\"\"\n",
    "\n",
    "    TEMPLATE: ClassVar[ProcessTemplate] = ProcessTemplate(\n",
    "        name=\"Homogenization\",\n",
    "        description=\"\"\"Homogenizing\n",
    "                \"\"\",\n",
    "    )\n",
    "\n",
    "    _ATTRS: ClassVar[AttrsDict] = {\"conditions\": {}, \"parameters\": {}}\n",
    "\n",
    "    define_attribute(\n",
    "        _ATTRS,\n",
    "        template=ParameterTemplate(\n",
    "            name=\"Pressure\",\n",
    "            bounds=RealBounds(0, 20, \"Pa\"),\n",
    "        ),\n",
    "    )\n",
    "\n",
    "    define_attribute(\n",
    "        _ATTRS,\n",
    "        template=ParameterTemplate(\n",
    "            name=\"Duration\",\n",
    "            bounds=RealBounds(0, 72, \"hours\"),\n",
    "        ),\n",
    "    )\n",
    "\n",
    "    define_attribute(\n",
    "        _ATTRS,\n",
    "        template=ParameterTemplate(\n",
    "            name=\"Temperature\",\n",
    "            bounds=RealBounds(0, 2000, \"Kelvin\"),\n",
    "        ),\n",
    "    )\n",
    "\n",
    "    finalize_template(_ATTRS, TEMPLATE)\n",
    "\n",
    "homogenization_process = Homogenization('Homogenization process')\n",
    "print(homogenization_process._ATTRS)\n"
   ]
  },
  {
   "cell_type": "code",
   "execution_count": 3,
   "metadata": {},
   "outputs": [
    {
     "name": "stdout",
     "output_type": "stream",
     "text": [
      "template and spec are linked properly.\n",
      "run and spec are linked properly.\n"
     ]
    }
   ],
   "source": [
    "homogenization_process.assert_linked()"
   ]
  },
  {
   "attachments": {},
   "cell_type": "markdown",
   "metadata": {},
   "source": [
    "Attempting to initialize without a template will lead to an error"
   ]
  },
  {
   "cell_type": "code",
   "execution_count": 4,
   "metadata": {},
   "outputs": [
    {
     "name": "stdout",
     "output_type": "stream",
     "text": [
      "TEMPLATE is not defined. Assign 'template' parameter, or create a new subclass with a defined TEMPLATE attribute.\n"
     ]
    }
   ],
   "source": [
    "try:\n",
    "    homogenization_process = Process('Homogenization process')\n",
    "except AttributeError as e:\n",
    "    print(e)"
   ]
  },
  {
   "attachments": {},
   "cell_type": "markdown",
   "metadata": {},
   "source": [
    "### Manipulating Attributes\n",
    "\n",
    "The attributes API functions are two, one for updating and the other for removing. They are applicable to any descendent of GEMDElement, so all 4 of Process, Material, Ingredient and Measurement inherit these methods."
   ]
  },
  {
   "cell_type": "code",
   "execution_count": 5,
   "metadata": {},
   "outputs": [
    {
     "name": "stdout",
     "output_type": "stream",
     "text": [
      "[{'file_links': [], 'origin': 'specified', 'name': 'Pressure', 'value': {'units': 'pascal', 'nominal': 10.0, 'type': 'nominal_real'}, 'template': {'description': None, 'bounds': {'lower_bound': 0, 'upper_bound': 20, 'default_units': 'pascal', 'type': 'real_bounds'}, 'name': 'Pressure', 'tags': [], 'uids': {'auto': '7befc409-880f-48e2-8bce-3b06d9a577ef'}, 'type': 'parameter_template'}, 'notes': None, 'type': 'parameter'}]\n"
     ]
    }
   ],
   "source": [
    "homogenization_process._update_attributes(\n",
    "    AttrType=Parameter,\n",
    "    attributes=(Parameter(\n",
    "        \"Pressure\",\n",
    "        value=NominalReal(10.0, \"Pa\"),\n",
    "        template=homogenization_process._ATTRS[\"parameters\"][\n",
    "            \"Pressure\"][\"obj\"],\n",
    "        origin=\"specified\"\n",
    "        ), ),\n",
    "    which='run'\n",
    ")\n",
    "print(homogenization_process.run.parameters)"
   ]
  },
  {
   "cell_type": "code",
   "execution_count": 6,
   "metadata": {},
   "outputs": [
    {
     "name": "stdout",
     "output_type": "stream",
     "text": [
      "[]\n"
     ]
    }
   ],
   "source": [
    "homogenization_process._remove_attributes(Parameter, attr_names=(\"Pressure\",), which='run')\n",
    "print(homogenization_process.run.parameters)"
   ]
  },
  {
   "attachments": {},
   "cell_type": "markdown",
   "metadata": {},
   "source": [
    "### Manipulating attributes more granularly"
   ]
  },
  {
   "cell_type": "code",
   "execution_count": 7,
   "metadata": {},
   "outputs": [
    {
     "name": "stdout",
     "output_type": "stream",
     "text": [
      "[{'conditions': [], 'property': {'file_links': [], 'origin': 'unknown', 'name': 'Conductivity', 'value': {'units': 'second / meter', 'nominal': 5.0, 'type': 'nominal_real'}, 'template': {'description': None, 'bounds': {'lower_bound': 0, 'upper_bound': 20, 'default_units': 'second / meter', 'type': 'real_bounds'}, 'name': 'Conductivity', 'tags': [], 'uids': {}, 'type': 'property_template'}, 'notes': None, 'type': 'property'}, 'type': 'property_and_conditions'}]\n"
     ]
    }
   ],
   "source": [
    "metal_material = Material('Metal', template=MaterialTemplate('Metal')) #properties=PropertyTemplate('Conductivity')))\n",
    "test = MaterialRun('test')\n",
    "metal_material.update_properties(\n",
    "    (\n",
    "        PropertyAndConditions(\n",
    "            property=Property('Conductivity', \n",
    "                value=NominalReal(5, \"s/m\"),\n",
    "                template=PropertyTemplate('Conductivity', bounds=RealBounds(0, 20, \"s/m\")), \n",
    "            ), \n",
    "            conditions=[])\n",
    "    ),\n",
    "    which='spec'\n",
    ")\n",
    "print(metal_material.spec.properties)"
   ]
  },
  {
   "cell_type": "code",
   "execution_count": 8,
   "metadata": {},
   "outputs": [
    {
     "name": "stdout",
     "output_type": "stream",
     "text": [
      "[]\n"
     ]
    }
   ],
   "source": [
    "metal_material.remove_properties('Conductivity')\n",
    "print(metal_material.spec.properties)"
   ]
  },
  {
   "attachments": {},
   "cell_type": "markdown",
   "metadata": {},
   "source": [
    "### Manipulating other assets, such as tags and file links"
   ]
  },
  {
   "cell_type": "code",
   "execution_count": 16,
   "metadata": {},
   "outputs": [
    {
     "name": "stdout",
     "output_type": "stream",
     "text": [
      "['Name::Fe']\n"
     ]
    }
   ],
   "source": [
    "metal_material.update_tags(('Name', 'Fe'), which='run')\n",
    "print(metal_material.run.tags)"
   ]
  },
  {
   "cell_type": "code",
   "execution_count": 18,
   "metadata": {},
   "outputs": [
    {
     "name": "stdout",
     "output_type": "stream",
     "text": [
      "[]\n"
     ]
    }
   ],
   "source": [
    "metal_material.remove_tags(('Name', 'Fe'), which='run')\n",
    "print(metal_material.run.tags)"
   ]
  },
  {
   "cell_type": "code",
   "execution_count": null,
   "metadata": {},
   "outputs": [],
   "source": []
  }
 ],
 "metadata": {
  "kernelspec": {
   "display_name": "birdshot",
   "language": "python",
   "name": "python3"
  },
  "language_info": {
   "codemirror_mode": {
    "name": "ipython",
    "version": 3
   },
   "file_extension": ".py",
   "mimetype": "text/x-python",
   "name": "python",
   "nbconvert_exporter": "python",
   "pygments_lexer": "ipython3",
   "version": "3.9.16"
  },
  "orig_nbformat": 4,
  "vscode": {
   "interpreter": {
    "hash": "c93de424c187b5f45150c4b68957697054d2d10439b831359c08b5dbeaa012b5"
   }
  }
 },
 "nbformat": 4,
 "nbformat_minor": 2
}
