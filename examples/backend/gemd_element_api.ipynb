{
 "cells": [
  {
   "attachments": {},
   "cell_type": "markdown",
   "metadata": {},
   "source": [
    "### Introduction to Gemd Element's API"
   ]
  },
  {
   "cell_type": "code",
   "execution_count": 1,
   "metadata": {},
   "outputs": [],
   "source": [
    "from typing import ClassVar\n",
    "\n",
    "from gemd import (\n",
    "    Parameter,\n",
    "    Property, \n",
    "    Condition,\n",
    "    PropertyAndConditions,\n",
    "    MaterialRun,\n",
    "    ConditionTemplate,\n",
    "    PropertyTemplate,\n",
    "    ParameterTemplate,\n",
    "    ProcessTemplate,\n",
    "    MaterialTemplate,\n",
    "    MeasurementTemplate,\n",
    "    CategoricalBounds,\n",
    "    NominalCategorical,\n",
    "    RealBounds,\n",
    "    NominalReal,\n",
    "    FileLink\n",
    ")\n",
    "\n",
    "from openmsimodel.entity.gemd.process import Process\n",
    "from openmsimodel.entity.gemd.material import Material\n",
    "from openmsimodel.entity.gemd.measurement import Measurement\n",
    "from openmsimodel.entity.gemd.gemd_element import GEMDElement\n",
    "\n",
    "from openmsimodel.utilities.attributes import (\n",
    "    AttrsDict,\n",
    "    define_attribute,\n",
    "    finalize_template,\n",
    ")"
   ]
  },
  {
   "attachments": {},
   "cell_type": "markdown",
   "metadata": {},
   "source": [
    "**Subclassing**\n",
    "\n",
    "One initialization method allows you to subclass a GEMDElement object to initialize its template and attributes, and preserve it as a persistent class in a file."
   ]
  },
  {
   "cell_type": "code",
   "execution_count": 2,
   "metadata": {},
   "outputs": [
    {
     "name": "stdout",
     "output_type": "stream",
     "text": [
      "{'conditions': {}, 'parameters': {'Pressure': {'obj': {'name': 'Pressure', 'bounds': {'default_units': 'pascal', 'upper_bound': 20, 'lower_bound': 0, 'type': 'real_bounds'}, 'tags': [], 'description': None, 'uids': {'auto': '2e20d795-a041-454b-bb79-a04cefb17ee3'}, 'type': 'parameter_template'}, 'bounds': None, 'default_value': None}, 'Duration': {'obj': {'name': 'Duration', 'bounds': {'default_units': 'hour', 'upper_bound': 72, 'lower_bound': 0, 'type': 'real_bounds'}, 'tags': [], 'description': None, 'uids': {'auto': '82961d9c-b24f-43cc-a276-f0a3e3c35ad3'}, 'type': 'parameter_template'}, 'bounds': None, 'default_value': None}, 'Temperature': {'obj': {'name': 'Temperature', 'bounds': {'default_units': 'kelvin', 'upper_bound': 2000, 'lower_bound': 0, 'type': 'real_bounds'}, 'tags': [], 'description': None, 'uids': {'auto': 'f77a75a0-e0ed-4598-a749-5583a195c72d'}, 'type': 'parameter_template'}, 'bounds': None, 'default_value': None}}}\n"
     ]
    }
   ],
   "source": [
    "class Homogenization(Process):\n",
    "    \"\"\"Class representing homogenization cycle\"\"\"\n",
    "\n",
    "    TEMPLATE: ClassVar[ProcessTemplate] = ProcessTemplate(\n",
    "        name=\"Homogenization\",\n",
    "        description=\"\"\"Homogenizing\n",
    "                \"\"\",\n",
    "    )\n",
    "\n",
    "    _ATTRS: ClassVar[AttrsDict] = {\"conditions\": {}, \"parameters\": {}}\n",
    "\n",
    "    define_attribute(\n",
    "        _ATTRS,\n",
    "        template=ParameterTemplate(\n",
    "            name=\"Pressure\",\n",
    "            bounds=RealBounds(0, 20, \"Pa\"),\n",
    "        ),\n",
    "    )\n",
    "\n",
    "    define_attribute(\n",
    "        _ATTRS,\n",
    "        template=ParameterTemplate(\n",
    "            name=\"Duration\",\n",
    "            bounds=RealBounds(0, 72, \"hours\"),\n",
    "        ),\n",
    "    )\n",
    "\n",
    "    define_attribute(\n",
    "        _ATTRS,\n",
    "        template=ParameterTemplate(\n",
    "            name=\"Temperature\",\n",
    "            bounds=RealBounds(0, 2000, \"Kelvin\"),\n",
    "        ),\n",
    "    )\n",
    "\n",
    "    finalize_template(_ATTRS, TEMPLATE)\n",
    "\n",
    "homogenization_process = Homogenization('Homogenization process')\n",
    "print(homogenization_process._ATTRS)\n"
   ]
  },
  {
   "cell_type": "code",
   "execution_count": 3,
   "metadata": {},
   "outputs": [
    {
     "name": "stdout",
     "output_type": "stream",
     "text": [
      "template and spec are linked properly.\n",
      "run and spec are linked properly.\n"
     ]
    }
   ],
   "source": [
    "homogenization_process.assert_linked()"
   ]
  },
  {
   "attachments": {},
   "cell_type": "markdown",
   "metadata": {},
   "source": [
    "Attempting to initialize without a template will lead to an error."
   ]
  },
  {
   "cell_type": "code",
   "execution_count": 4,
   "metadata": {},
   "outputs": [
    {
     "name": "stdout",
     "output_type": "stream",
     "text": [
      "TEMPLATE is not defined. Assign 'template' parameter, or create a new subclass with a defined TEMPLATE attribute.\n"
     ]
    }
   ],
   "source": [
    "try:\n",
    "    homogenization_process = Process('Homogenization process')\n",
    "except AttributeError as e:\n",
    "    print(e)"
   ]
  },
  {
   "attachments": {},
   "cell_type": "markdown",
   "metadata": {},
   "source": [
    "**Manipulating Attributes in a broad manner**\n",
    "\n",
    "The attributes API functions are two, one for updating and the other for removing. They are applicable to any descendent of GEMDElement, so all 4 of Process, Material, Ingredient and Measurement inherit these methods."
   ]
  },
  {
   "cell_type": "code",
   "execution_count": 5,
   "metadata": {},
   "outputs": [
    {
     "name": "stdout",
     "output_type": "stream",
     "text": [
      "[{'name': 'Pressure', 'template': {'name': 'Pressure', 'bounds': {'default_units': 'pascal', 'upper_bound': 20, 'lower_bound': 0, 'type': 'real_bounds'}, 'tags': [], 'description': None, 'uids': {'auto': '2e20d795-a041-454b-bb79-a04cefb17ee3'}, 'type': 'parameter_template'}, 'value': {'nominal': 10.0, 'units': 'pascal', 'type': 'nominal_real'}, 'file_links': [], 'notes': None, 'origin': 'specified', 'type': 'parameter'}]\n",
      "{'conditions': {}, 'parameters': {'Pressure': {'obj': {'name': 'Pressure', 'bounds': {'default_units': 'pascal', 'upper_bound': 20, 'lower_bound': 0, 'type': 'real_bounds'}, 'tags': [], 'description': None, 'uids': {'auto': '2e20d795-a041-454b-bb79-a04cefb17ee3'}, 'type': 'parameter_template'}, 'bounds': None, 'default_value': None}, 'Duration': {'obj': {'name': 'Duration', 'bounds': {'default_units': 'hour', 'upper_bound': 72, 'lower_bound': 0, 'type': 'real_bounds'}, 'tags': [], 'description': None, 'uids': {'auto': '82961d9c-b24f-43cc-a276-f0a3e3c35ad3'}, 'type': 'parameter_template'}, 'bounds': None, 'default_value': None}, 'Temperature': {'obj': {'name': 'Temperature', 'bounds': {'default_units': 'kelvin', 'upper_bound': 2000, 'lower_bound': 0, 'type': 'real_bounds'}, 'tags': [], 'description': None, 'uids': {'auto': 'f77a75a0-e0ed-4598-a749-5583a195c72d'}, 'type': 'parameter_template'}, 'bounds': None, 'default_value': None}}}\n"
     ]
    }
   ],
   "source": [
    "homogenization_process.update_attributes(\n",
    "    AttrType=Parameter,\n",
    "    attributes=(Parameter(\n",
    "        \"Pressure\",\n",
    "        value=NominalReal(10.0, \"Pa\"),\n",
    "        template=homogenization_process._ATTRS[\"parameters\"][\n",
    "            \"Pressure\"][\"obj\"],\n",
    "        origin=\"specified\"\n",
    "        ), ),\n",
    "    which='run'\n",
    ")\n",
    "print(homogenization_process.run.parameters)\n",
    "print(homogenization_process._ATTRS)"
   ]
  },
  {
   "cell_type": "code",
   "execution_count": 6,
   "metadata": {},
   "outputs": [
    {
     "name": "stdout",
     "output_type": "stream",
     "text": [
      "[]\n",
      "{'conditions': {}, 'parameters': {'Pressure': {'obj': {'name': 'Pressure', 'bounds': {'default_units': 'pascal', 'upper_bound': 20, 'lower_bound': 0, 'type': 'real_bounds'}, 'tags': [], 'description': None, 'uids': {'auto': '2e20d795-a041-454b-bb79-a04cefb17ee3'}, 'type': 'parameter_template'}, 'bounds': None, 'default_value': None}, 'Duration': {'obj': {'name': 'Duration', 'bounds': {'default_units': 'hour', 'upper_bound': 72, 'lower_bound': 0, 'type': 'real_bounds'}, 'tags': [], 'description': None, 'uids': {'auto': '82961d9c-b24f-43cc-a276-f0a3e3c35ad3'}, 'type': 'parameter_template'}, 'bounds': None, 'default_value': None}, 'Temperature': {'obj': {'name': 'Temperature', 'bounds': {'default_units': 'kelvin', 'upper_bound': 2000, 'lower_bound': 0, 'type': 'real_bounds'}, 'tags': [], 'description': None, 'uids': {'auto': 'f77a75a0-e0ed-4598-a749-5583a195c72d'}, 'type': 'parameter_template'}, 'bounds': None, 'default_value': None}}}\n"
     ]
    }
   ],
   "source": [
    "homogenization_process.remove_attributes(Parameter, attr_names=(\"Pressure\",), which='run')\n",
    "print(homogenization_process.run.parameters)\n",
    "print(homogenization_process._ATTRS) # the parameter templates remains"
   ]
  },
  {
   "attachments": {},
   "cell_type": "markdown",
   "metadata": {},
   "source": [
    "**Manipulating attributes more granularly**"
   ]
  },
  {
   "attachments": {},
   "cell_type": "markdown",
   "metadata": {},
   "source": [
    "Every class has access to properties methods (although not all can use them)... "
   ]
  },
  {
   "cell_type": "code",
   "execution_count": 7,
   "metadata": {},
   "outputs": [
    {
     "name": "stdout",
     "output_type": "stream",
     "text": [
      "[{'conditions': [], 'property': {'name': 'Conductivity', 'template': {'name': 'Conductivity', 'bounds': {'default_units': 'second / meter', 'upper_bound': 20, 'lower_bound': 0, 'type': 'real_bounds'}, 'tags': [], 'description': None, 'uids': {}, 'type': 'property_template'}, 'value': {'nominal': 5.0, 'units': 'second / meter', 'type': 'nominal_real'}, 'file_links': [], 'notes': None, 'origin': 'unknown', 'type': 'property'}, 'type': 'property_and_conditions'}]\n"
     ]
    }
   ],
   "source": [
    "metal_material = Material('Metal', template=MaterialTemplate('Metal')) #properties=PropertyTemplate('Conductivity')))\n",
    "test = MaterialRun('test')\n",
    "metal_material.update_properties(\n",
    "    (\n",
    "        PropertyAndConditions(\n",
    "            property=Property('Conductivity', \n",
    "                value=NominalReal(5, \"s/m\"),\n",
    "                template=PropertyTemplate('Conductivity', bounds=RealBounds(0, 20, \"s/m\")), \n",
    "            ), \n",
    "            conditions=[])\n",
    "    ),\n",
    "    which='spec'\n",
    ")\n",
    "print(metal_material.spec.properties)"
   ]
  },
  {
   "cell_type": "code",
   "execution_count": 8,
   "metadata": {},
   "outputs": [
    {
     "name": "stdout",
     "output_type": "stream",
     "text": [
      "[]\n"
     ]
    }
   ],
   "source": [
    "metal_material.remove_properties('Conductivity')\n",
    "print(metal_material.spec.properties)"
   ]
  },
  {
   "attachments": {},
   "cell_type": "markdown",
   "metadata": {},
   "source": [
    "... while Measurement and Processes have exclusive access to parameters and conditions methods"
   ]
  },
  {
   "cell_type": "code",
   "execution_count": 9,
   "metadata": {},
   "outputs": [
    {
     "name": "stdout",
     "output_type": "stream",
     "text": [
      "{'name': 'Conductivity Measurement', 'conditions': [[{'name': 'Atmosphere', 'bounds': {'type': 'categorical_bounds', 'categories': ['Ambient', 'Controlled']}, 'tags': [], 'description': 'Whether the atmosphere is ambient or controlled during the conductivity measurement', 'uids': {'auto': 'ec5decf0-0c77-47d0-b92e-3aeb74e65e69'}, 'type': 'condition_template'}, None]], 'properties': [], 'tags': [], 'description': None, 'parameters': [], 'uids': {'auto': 'a0cbfa03-4d51-4567-931a-068872dcb55e'}, 'type': 'measurement_template'}\n",
      "{'properties': {}, 'conditions': {'Atmosphere': {'obj': {'name': 'Atmosphere', 'bounds': {'type': 'categorical_bounds', 'categories': ['Ambient', 'Controlled']}, 'tags': [], 'description': 'Whether the atmosphere is ambient or controlled during the conductivity measurement', 'uids': {'auto': 'ec5decf0-0c77-47d0-b92e-3aeb74e65e69'}, 'type': 'condition_template'}, 'bounds': None, 'default_value': None}}, 'parameters': {}}\n"
     ]
    }
   ],
   "source": [
    "conductivity_measurement = Measurement('Measurement of conductivity', template=MeasurementTemplate('Conductivity Measurement', \n",
    "    conditions=\n",
    "        ConditionTemplate(\n",
    "            \"Atmosphere\",\n",
    "            bounds=CategoricalBounds(categories=['Ambient', 'Controlled']),\n",
    "            description=\"Whether the atmosphere is ambient or controlled during the conductivity measurement\",\n",
    "        ),\n",
    "))\n",
    "print(conductivity_measurement.TEMPLATE)\n",
    "print(conductivity_measurement._ATTRS)"
   ]
  },
  {
   "cell_type": "code",
   "execution_count": 10,
   "metadata": {},
   "outputs": [
    {
     "name": "stdout",
     "output_type": "stream",
     "text": [
      "{'name': 'Conductivity Measurement', 'conditions': [[{'name': 'Atmosphere', 'bounds': {'type': 'categorical_bounds', 'categories': ['Ambient', 'Controlled']}, 'tags': [], 'description': 'Whether the atmosphere is ambient or controlled during the conductivity measurement', 'uids': {'auto': 'ec5decf0-0c77-47d0-b92e-3aeb74e65e69'}, 'type': 'condition_template'}, None]], 'properties': [], 'tags': [], 'description': None, 'parameters': [], 'uids': {'auto': 'a0cbfa03-4d51-4567-931a-068872dcb55e'}, 'type': 'measurement_template'}\n",
      "[{'name': 'Atmosphere', 'template': {'name': 'Atmosphere', 'bounds': {'type': 'categorical_bounds', 'categories': ['Ambient', 'Controlled']}, 'tags': [], 'description': 'Whether the atmosphere is ambient or controlled during the conductivity measurement', 'uids': {'auto': 'ec5decf0-0c77-47d0-b92e-3aeb74e65e69'}, 'type': 'condition_template'}, 'value': {'category': 'Ambient', 'type': 'nominal_categorical'}, 'file_links': [], 'notes': None, 'origin': 'unknown', 'type': 'condition'}]\n"
     ]
    }
   ],
   "source": [
    "conductivity_measurement.update_conditions(\n",
    "    Condition('Atmosphere', value=NominalCategorical('Ambient'), template=conductivity_measurement._ATTRS['conditions']['Atmosphere']['obj'])\n",
    ")\n",
    "print(conductivity_measurement.TEMPLATE)\n",
    "print(conductivity_measurement.spec.conditions)"
   ]
  },
  {
   "cell_type": "code",
   "execution_count": 11,
   "metadata": {},
   "outputs": [
    {
     "name": "stdout",
     "output_type": "stream",
     "text": [
      "[]\n"
     ]
    }
   ],
   "source": [
    "conductivity_measurement.remove_conditions('Atmosphere')\n",
    "print(conductivity_measurement.spec.conditions)"
   ]
  },
  {
   "attachments": {},
   "cell_type": "markdown",
   "metadata": {},
   "source": [
    "**Manipulating other classes of assets, such as tags and file links**"
   ]
  },
  {
   "cell_type": "code",
   "execution_count": 12,
   "metadata": {},
   "outputs": [
    {
     "name": "stdout",
     "output_type": "stream",
     "text": [
      "['Name::Fe']\n",
      "['Name::Fe']\n"
     ]
    }
   ],
   "source": [
    "metal_material.update_tags(('Name', 'Fe'), which='both')\n",
    "print(metal_material.run.tags)\n",
    "print(metal_material.spec.tags)"
   ]
  },
  {
   "cell_type": "code",
   "execution_count": 13,
   "metadata": {},
   "outputs": [
    {
     "name": "stdout",
     "output_type": "stream",
     "text": [
      "['Name::Fe']\n",
      "['Type::Metal']\n"
     ]
    }
   ],
   "source": [
    "metal_material.update_tags(('Type', 'Metal'), replace_all=True, which='spec')\n",
    "print(metal_material.run.tags)\n",
    "print(metal_material.spec.tags)"
   ]
  },
  {
   "cell_type": "code",
   "execution_count": 14,
   "metadata": {},
   "outputs": [
    {
     "name": "stdout",
     "output_type": "stream",
     "text": [
      "[]\n",
      "['Type::Metal']\n"
     ]
    }
   ],
   "source": [
    "metal_material.remove_tags(('Name', 'Fe'), which='run')\n",
    "print(metal_material.run.tags)\n",
    "print(metal_material.spec.tags)"
   ]
  },
  {
   "cell_type": "code",
   "execution_count": 15,
   "metadata": {},
   "outputs": [
    {
     "name": "stdout",
     "output_type": "stream",
     "text": [
      "{'spec': ('root,path/to/root',), 'run': ()}\n"
     ]
    }
   ],
   "source": [
    "metal_material.update_filelinks(FileLink(filename=\"root\", url=\"path/to/root\"))\n",
    "print(metal_material.get_filelinks_dict())"
   ]
  },
  {
   "cell_type": "code",
   "execution_count": 16,
   "metadata": {},
   "outputs": [
    {
     "name": "stdout",
     "output_type": "stream",
     "text": [
      "{'spec': ('new_root,path/to/new/root',), 'run': ()}\n"
     ]
    }
   ],
   "source": [
    "metal_material.update_filelinks(FileLink(filename=\"new_root\", url=\"path/to/new/root\"), replace_all=True)\n",
    "print(metal_material.get_filelinks_dict())"
   ]
  },
  {
   "cell_type": "code",
   "execution_count": 17,
   "metadata": {},
   "outputs": [
    {
     "name": "stdout",
     "output_type": "stream",
     "text": [
      "{'spec': ('new_root,path/to/new/root',), 'run': ('private,path/to/private', 'data,path/to/data')}\n"
     ]
    }
   ],
   "source": [
    "metal_material.update_filelinks(FileLink(filename=\"private\", url=\"path/to/private\"), FileLink(filename=\"data\", url=\"path/to/data\"), replace_all=True, which='run')\n",
    "print(metal_material.get_filelinks_dict())"
   ]
  },
  {
   "cell_type": "code",
   "execution_count": null,
   "metadata": {},
   "outputs": [],
   "source": []
  }
 ],
 "metadata": {
  "kernelspec": {
   "display_name": "birdshot",
   "language": "python",
   "name": "python3"
  },
  "language_info": {
   "codemirror_mode": {
    "name": "ipython",
    "version": 3
   },
   "file_extension": ".py",
   "mimetype": "text/x-python",
   "name": "python",
   "nbconvert_exporter": "python",
   "pygments_lexer": "ipython3",
   "version": "3.9.16 (main, Mar  8 2023, 14:00:05) \n[GCC 11.2.0]"
  },
  "orig_nbformat": 4,
  "vscode": {
   "interpreter": {
    "hash": "c93de424c187b5f45150c4b68957697054d2d10439b831359c08b5dbeaa012b5"
   }
  }
 },
 "nbformat": 4,
 "nbformat_minor": 2
}
