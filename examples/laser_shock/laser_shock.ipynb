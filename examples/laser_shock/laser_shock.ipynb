{
 "cells": [
  {
   "cell_type": "code",
   "execution_count": 1,
   "metadata": {},
   "outputs": [],
   "source": [
    "from openmsimodel.db.open_db import OpenDB\n",
    "from openmsimodel.graph.open_graph import OpenGraph\n",
    "from openmsimodel.workflow.birdshot_workflow import BIRDSHOTWorfklow\n",
    "from openmsimodel.utilities.graph_tools import BODisplay\n",
    "import networkx as nx\n",
    "import json\n",
    "from pathlib import Path\n",
    "curr_pwd = Path().parent.absolute()\n",
    "assets_to_add = {\n",
    "            \"add_attributes\": 1,\n",
    "            \"add_file_links\": 1,\n",
    "            \"add_tags\": 1,\n",
    "        }"
   ]
  },
  {
   "attachments": {},
   "cell_type": "markdown",
   "metadata": {},
   "source": [
    "## Entire knowledge"
   ]
  },
  {
   "cell_type": "code",
   "execution_count": 2,
   "metadata": {},
   "outputs": [
    {
     "name": "stdout",
     "output_type": "stream",
     "text": [
      "-- Building runs of /srv/hemi01-j01/dmref/laser_shock_lab/data/gemd_data_model_dumps\n",
      "Extracting folder...\n",
      "0/5000 gemd objects processed...\n",
      "1250/5000 gemd objects processed...\n",
      "2500/5000 gemd objects processed...\n",
      "3750/5000 gemd objects processed...\n",
      "Done.\n",
      "Relabeling nodes...\n",
      "Couldn't find GraphViz graph.\n",
      "Dumping graphml...\n",
      "Time elapsed: 0.2675032615661621\n",
      "-- Saved graph to /srv/hemi01-j01/openmsimodel/examples/laser_shock/output/laser_shock_run.dot, /srv/hemi01-j01/openmsimodel/examples/laser_shock/output/laser_shock_run.svg and /srv/hemi01-j01/openmsimodel/examples/laser_shock/output/laser_shock_run.graphml\n",
      "-- Analysis --\n",
      "cycles in the graph: []\n",
      "disregarder/total number of gemd objects: 0/5000\n",
      "total nb of isolates in the graph: 863\n"
     ]
    }
   ],
   "source": [
    "dirpath = \"/srv/hemi01-j01/dmref/laser_shock_lab/data/gemd_data_model_dumps\"\n",
    "output = curr_pwd / \"output/\"\n",
    "open_graph = OpenGraph(\"laser_shock\",source=dirpath,output=output)\n",
    "all_G, all_relabeled_G, all_name_mapping = open_graph.build_graph()\n",
    "# open_graph.launch(all_G)"
   ]
  },
  {
   "attachments": {},
   "cell_type": "markdown",
   "metadata": {},
   "source": [
    "## Single elements with descendants and ancestors"
   ]
  },
  {
   "cell_type": "code",
   "execution_count": 5,
   "metadata": {},
   "outputs": [
    {
     "ename": "AttributeError",
     "evalue": "'NoneType' object has no attribute 'neighbors'",
     "output_type": "error",
     "traceback": [
      "\u001b[0;31m---------------------------------------------------------------------------\u001b[0m",
      "\u001b[0;31mAttributeError\u001b[0m                            Traceback (most recent call last)",
      "Cell \u001b[0;32mIn[5], line 3\u001b[0m\n\u001b[1;32m      1\u001b[0m \u001b[39mimport\u001b[39;00m \u001b[39mnetworkx\u001b[39;00m \u001b[39mas\u001b[39;00m \u001b[39mnx\u001b[39;00m\n\u001b[1;32m      2\u001b[0m _identifier \u001b[39m=\u001b[39m \u001b[39m\"\u001b[39m\u001b[39mSpacerOuterDiameter [182b295f-ffad-4868-bdde-93856105a282, measurement_run]\u001b[39m\u001b[39m\"\u001b[39m\n\u001b[0;32m----> 3\u001b[0m identifier_G \u001b[39m=\u001b[39m OpenGraph\u001b[39m.\u001b[39;49mextract_subgraph(all_relabeled_G, _identifier, func\u001b[39m=\u001b[39;49m[nx\u001b[39m.\u001b[39;49mdescendants, nx\u001b[39m.\u001b[39;49mancestors])\n\u001b[1;32m      4\u001b[0m open_graph\u001b[39m.\u001b[39mlaunch(identifier_G)\n",
      "File \u001b[0;32m/srv/hemi01-j01/openmsimodel/openmsimodel/graph/open_graph.py:536\u001b[0m, in \u001b[0;36mOpenGraph.extract_subgraph\u001b[0;34m(cls, G, identifier, func)\u001b[0m\n\u001b[1;32m    524\u001b[0m \u001b[39m\u001b[39m\u001b[39m\"\"\"extract subgraph from graph knowledge, based on functions applied to element of interest to filter in additional desired elements.\u001b[39;00m\n\u001b[1;32m    525\u001b[0m \u001b[39mExamples includes neighbords, descendants, ancestors, etc.\u001b[39;00m\n\u001b[1;32m    526\u001b[0m \n\u001b[0;32m   (...)\u001b[0m\n\u001b[1;32m    533\u001b[0m \u001b[39m    NetworkX graph: subgraph filtered based on passed criteria\u001b[39;00m\n\u001b[1;32m    534\u001b[0m \u001b[39m\"\"\"\u001b[39;00m\n\u001b[1;32m    535\u001b[0m uuid \u001b[39m=\u001b[39m \u001b[39mcls\u001b[39m\u001b[39m.\u001b[39mreturn_uuid(identifier)\n\u001b[0;32m--> 536\u001b[0m \u001b[39mreturn\u001b[39;00m \u001b[39mcls\u001b[39;49m\u001b[39m.\u001b[39;49mslice_subgraph(G, uuid, func)\n",
      "File \u001b[0;32m/srv/hemi01-j01/openmsimodel/openmsimodel/graph/open_graph.py:505\u001b[0m, in \u001b[0;36mOpenGraph.slice_subgraph\u001b[0;34m(cls, G, uuid, funcs, add_current)\u001b[0m\n\u001b[1;32m    503\u001b[0m els \u001b[39m=\u001b[39m \u001b[39mset\u001b[39m()\n\u001b[1;32m    504\u001b[0m \u001b[39mfor\u001b[39;00m func \u001b[39min\u001b[39;00m funcs:\n\u001b[0;32m--> 505\u001b[0m     els \u001b[39m=\u001b[39m els\u001b[39m.\u001b[39munion(func(G, uuid))\n\u001b[1;32m    506\u001b[0m \u001b[39mif\u001b[39;00m add_current:\n\u001b[1;32m    507\u001b[0m     els\u001b[39m.\u001b[39madd(uuid)\n",
      "File \u001b[0;32m/srv/hemi01-j01/anaconda3/envs/birdshot/lib/python3.9/site-packages/networkx/classes/backends.py:148\u001b[0m, in \u001b[0;36m_dispatch.<locals>.wrapper\u001b[0;34m(*args, **kwds)\u001b[0m\n\u001b[1;32m    144\u001b[0m         \u001b[39melse\u001b[39;00m:\n\u001b[1;32m    145\u001b[0m             \u001b[39mraise\u001b[39;00m NetworkXNotImplemented(\n\u001b[1;32m    146\u001b[0m                 \u001b[39mf\u001b[39m\u001b[39m\"\u001b[39m\u001b[39m'\u001b[39m\u001b[39m{\u001b[39;00mname\u001b[39m}\u001b[39;00m\u001b[39m'\u001b[39m\u001b[39m not implemented by \u001b[39m\u001b[39m{\u001b[39;00mplugin_name\u001b[39m}\u001b[39;00m\u001b[39m\"\u001b[39m\n\u001b[1;32m    147\u001b[0m             )\n\u001b[0;32m--> 148\u001b[0m \u001b[39mreturn\u001b[39;00m func(\u001b[39m*\u001b[39;49margs, \u001b[39m*\u001b[39;49m\u001b[39m*\u001b[39;49mkwds)\n",
      "File \u001b[0;32m/srv/hemi01-j01/anaconda3/envs/birdshot/lib/python3.9/site-packages/networkx/algorithms/dag.py:73\u001b[0m, in \u001b[0;36mdescendants\u001b[0;34m(G, source)\u001b[0m\n\u001b[1;32m     39\u001b[0m \u001b[39m@nx\u001b[39m\u001b[39m.\u001b[39m_dispatch\n\u001b[1;32m     40\u001b[0m \u001b[39mdef\u001b[39;00m \u001b[39mdescendants\u001b[39m(G, source):\n\u001b[1;32m     41\u001b[0m \u001b[39m    \u001b[39m\u001b[39m\"\"\"Returns all nodes reachable from `source` in `G`.\u001b[39;00m\n\u001b[1;32m     42\u001b[0m \n\u001b[1;32m     43\u001b[0m \u001b[39m    Parameters\u001b[39;00m\n\u001b[0;32m   (...)\u001b[0m\n\u001b[1;32m     71\u001b[0m \u001b[39m    ancestors\u001b[39;00m\n\u001b[1;32m     72\u001b[0m \u001b[39m    \"\"\"\u001b[39;00m\n\u001b[0;32m---> 73\u001b[0m     \u001b[39mreturn\u001b[39;00m {child \u001b[39mfor\u001b[39;00m parent, child \u001b[39min\u001b[39;00m nx\u001b[39m.\u001b[39mbfs_edges(G, source)}\n",
      "File \u001b[0;32m/srv/hemi01-j01/anaconda3/envs/birdshot/lib/python3.9/site-packages/networkx/algorithms/dag.py:73\u001b[0m, in \u001b[0;36m<setcomp>\u001b[0;34m(.0)\u001b[0m\n\u001b[1;32m     39\u001b[0m \u001b[39m@nx\u001b[39m\u001b[39m.\u001b[39m_dispatch\n\u001b[1;32m     40\u001b[0m \u001b[39mdef\u001b[39;00m \u001b[39mdescendants\u001b[39m(G, source):\n\u001b[1;32m     41\u001b[0m \u001b[39m    \u001b[39m\u001b[39m\"\"\"Returns all nodes reachable from `source` in `G`.\u001b[39;00m\n\u001b[1;32m     42\u001b[0m \n\u001b[1;32m     43\u001b[0m \u001b[39m    Parameters\u001b[39;00m\n\u001b[0;32m   (...)\u001b[0m\n\u001b[1;32m     71\u001b[0m \u001b[39m    ancestors\u001b[39;00m\n\u001b[1;32m     72\u001b[0m \u001b[39m    \"\"\"\u001b[39;00m\n\u001b[0;32m---> 73\u001b[0m     \u001b[39mreturn\u001b[39;00m {child \u001b[39mfor\u001b[39;00m parent, child \u001b[39min\u001b[39;00m nx\u001b[39m.\u001b[39mbfs_edges(G, source)}\n",
      "File \u001b[0;32m/srv/hemi01-j01/anaconda3/envs/birdshot/lib/python3.9/site-packages/networkx/algorithms/traversal/breadth_first_search.py:169\u001b[0m, in \u001b[0;36mbfs_edges\u001b[0;34m(G, source, reverse, depth_limit, sort_neighbors)\u001b[0m\n\u001b[1;32m    167\u001b[0m     successors \u001b[39m=\u001b[39m G\u001b[39m.\u001b[39mpredecessors\n\u001b[1;32m    168\u001b[0m \u001b[39melse\u001b[39;00m:\n\u001b[0;32m--> 169\u001b[0m     successors \u001b[39m=\u001b[39m G\u001b[39m.\u001b[39;49mneighbors\n\u001b[1;32m    170\u001b[0m \u001b[39myield from\u001b[39;00m generic_bfs_edges(G, source, successors, depth_limit, sort_neighbors)\n",
      "\u001b[0;31mAttributeError\u001b[0m: 'NoneType' object has no attribute 'neighbors'"
     ]
    }
   ],
   "source": [
    "import networkx as nx\n",
    "_identifier = \"SpacerOuterDiameter [182b295f-ffad-4868-bdde-93856105a282, measurement_run]\"\n",
    "identifier_G = OpenGraph.extract_subgraph(all_relabeled_G, _identifier, func=[nx.descendants, nx.ancestors])\n",
    "open_graph.launch(identifier_G)"
   ]
  },
  {
   "attachments": {},
   "cell_type": "markdown",
   "metadata": {},
   "source": [
    "## DB"
   ]
  },
  {
   "cell_type": "code",
   "execution_count": null,
   "metadata": {},
   "outputs": [],
   "source": [
    "db_name = \"GEMD\"\n",
    "private_path = \"/home/arachid1/.private/gemd_db.json\"\n",
    "open_db = OpenDB(database_name=db_name, private_path=private_path, output=output)\n",
    "\n",
    "table_id = \"3\"\n",
    "open_db.load_model(table_id, dirpath=output)\n",
    "open_db.custom_query(\"select top 3 context from gemdobject c where c.model_id={}\".format(table_id))"
   ]
  }
 ],
 "metadata": {
  "kernelspec": {
   "display_name": "birdshot",
   "language": "python",
   "name": "python3"
  },
  "language_info": {
   "codemirror_mode": {
    "name": "ipython",
    "version": 3
   },
   "file_extension": ".py",
   "mimetype": "text/x-python",
   "name": "python",
   "nbconvert_exporter": "python",
   "pygments_lexer": "ipython3",
   "version": "3.9.16"
  },
  "orig_nbformat": 4,
  "vscode": {
   "interpreter": {
    "hash": "c93de424c187b5f45150c4b68957697054d2d10439b831359c08b5dbeaa012b5"
   }
  }
 },
 "nbformat": 4,
 "nbformat_minor": 2
}
