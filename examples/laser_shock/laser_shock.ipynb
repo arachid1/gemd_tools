{
 "cells": [
  {
   "cell_type": "code",
   "execution_count": null,
   "metadata": {},
   "outputs": [],
   "source": [
    "from openmsimodel.db.open_db import OpenDB\n",
    "from openmsimodel.graph.open_graph import OpenGraph\n",
    "from openmsimodel.workflow.birdshot_workflow import BIRDSHOTWorfklow\n",
    "from openmsimodel.utilities.graph_tools import BODisplay\n",
    "import networkx as nx\n",
    "import json\n",
    "from pathlib import Path\n",
    "curr_pwd = Path().parent.absolute()\n",
    "assets_to_add = {\n",
    "            \"add_attributes\": 1,\n",
    "            \"add_file_links\": 1,\n",
    "            \"add_tags\": 1,\n",
    "        }"
   ]
  },
  {
   "cell_type": "code",
   "execution_count": null,
   "metadata": {},
   "outputs": [],
   "source": [
    "# dirpath = \"/srv/hemi01-j01/dmref/laser_shock_lab/data/gemd_data_model_dumps\"\n",
    "# output = curr_pwd / \"output/\"\n",
    "# open_graph = OpenGraph(\"laser_shock\",dirpath=dirpath,output=output)\n",
    "# all_G, all_relabeled_G, all_name_mapping = open_graph.build_graph(\n",
    "#     assets_to_add=assets_to_add,\n",
    "#     add_separate_node=0,\n",
    "#     which='run',\n",
    "# )\n",
    "# open_graph.launch(all_relabeled_G)"
   ]
  },
  {
   "cell_type": "code",
   "execution_count": null,
   "metadata": {},
   "outputs": [],
   "source": [
    "uuid = ''\n",
    "identifier_G = cls.extract_subgraph(G, uuid, func=functions)\n",
    "identifier_G = cls.map_to_graphviz(identifier_G, name_mapping)\n",
    "identifier_G_dot_path, _ = cls.save_graph(\n",
    "    args.output, identifier_G, \"{}\".format(uuid)\n",
    ")\n"
   ]
  },
  {
   "cell_type": "code",
   "execution_count": null,
   "metadata": {},
   "outputs": [],
   "source": []
  }
 ],
 "metadata": {
  "kernelspec": {
   "display_name": "birdshot",
   "language": "python",
   "name": "python3"
  },
  "language_info": {
   "codemirror_mode": {
    "name": "ipython",
    "version": 3
   },
   "file_extension": ".py",
   "mimetype": "text/x-python",
   "name": "python",
   "nbconvert_exporter": "python",
   "pygments_lexer": "ipython3",
   "version": "3.9.16"
  },
  "orig_nbformat": 4,
  "vscode": {
   "interpreter": {
    "hash": "c93de424c187b5f45150c4b68957697054d2d10439b831359c08b5dbeaa012b5"
   }
  }
 },
 "nbformat": 4,
 "nbformat_minor": 2
}
