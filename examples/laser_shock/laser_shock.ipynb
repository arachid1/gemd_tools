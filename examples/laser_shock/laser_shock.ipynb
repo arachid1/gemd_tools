{
 "cells": [
  {
   "cell_type": "code",
   "execution_count": null,
   "metadata": {},
   "outputs": [],
   "source": [
    "from openmsimodel.db.open_db import OpenDB\n",
    "from openmsimodel.graph.open_graph import OpenGraph\n",
    "from openmsimodel.workflow.birdshot_workflow import BIRDSHOTWorfklow\n",
    "from openmsimodel.utilities.graph_tools import BODisplay\n",
    "import networkx as nx\n",
    "import json\n",
    "from pathlib import Path\n",
    "curr_pwd = Path().parent.absolute()\n",
    "assets_to_add = {\n",
    "            \"add_attributes\": 1,\n",
    "            \"add_file_links\": 1,\n",
    "            \"add_tags\": 1,\n",
    "        }"
   ]
  },
  {
   "attachments": {},
   "cell_type": "markdown",
   "metadata": {},
   "source": [
    "## Entire knowledge"
   ]
  },
  {
   "cell_type": "code",
   "execution_count": null,
   "metadata": {},
   "outputs": [],
   "source": [
    "dirpath = \"/srv/hemi01-j01/dmref/laser_shock_lab/data/gemd_data_model_dumps\"\n",
    "output = curr_pwd / \"output/\"\n",
    "open_graph = OpenGraph(\"laser_shock\",source=dirpath,output=output)\n",
    "all_G, all_relabeled_G, all_name_mapping = open_graph.build_graph()\n",
    "open_graph.launch(all_G)"
   ]
  },
  {
   "attachments": {},
   "cell_type": "markdown",
   "metadata": {},
   "source": [
    "## Single elements with descendants and ancestors"
   ]
  },
  {
   "cell_type": "code",
   "execution_count": null,
   "metadata": {},
   "outputs": [],
   "source": [
    "import networkx as nx\n",
    "_identifier = '5e5b7d24-7269-4ba0-bc76-56fdd5257520'\n",
    "identifier_G = OpenGraph.extract_subgraph(all_relabeled_G, _identifier, func=[nx.descendants, nx.ancestors])\n",
    "open_graph.launch(identifier_G)"
   ]
  },
  {
   "attachments": {},
   "cell_type": "markdown",
   "metadata": {},
   "source": [
    "## DB"
   ]
  },
  {
   "cell_type": "code",
   "execution_count": null,
   "metadata": {},
   "outputs": [],
   "source": [
    "db_name = \"GEMD\"\n",
    "private_path = \"/home/arachid1/.private/gemd_db.json\"\n",
    "open_db = OpenDB(database_name=db_name, private_path=private_path, output=output)\n",
    "\n",
    "table_id = \"3\"\n",
    "open_db.load_model(table_id, dirpath=output)\n",
    "open_db.custom_query(\"select top 3 context from gemdobject c where c.model_id={}\".format(table_id))"
   ]
  }
 ],
 "metadata": {
  "kernelspec": {
   "display_name": "birdshot",
   "language": "python",
   "name": "python3"
  },
  "language_info": {
   "codemirror_mode": {
    "name": "ipython",
    "version": 3
   },
   "file_extension": ".py",
   "mimetype": "text/x-python",
   "name": "python",
   "nbconvert_exporter": "python",
   "pygments_lexer": "ipython3",
   "version": "3.9.16"
  },
  "orig_nbformat": 4,
  "vscode": {
   "interpreter": {
    "hash": "c93de424c187b5f45150c4b68957697054d2d10439b831359c08b5dbeaa012b5"
   }
  }
 },
 "nbformat": 4,
 "nbformat_minor": 2
}
