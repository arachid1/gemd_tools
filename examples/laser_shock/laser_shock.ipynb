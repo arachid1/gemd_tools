{
 "cells": [
  {
   "cell_type": "code",
   "execution_count": 3,
   "metadata": {},
   "outputs": [],
   "source": [
    "from openmsimodel.db.open_db import OpenDB\n",
    "from openmsimodel.graph.open_graph import OpenGraph\n",
    "from openmsimodel.workflow.birdshot_workflow import BIRDSHOTWorfklow\n",
    "from openmsimodel.utilities.graph_tools import BODisplay\n",
    "import networkx as nx\n",
    "import json\n",
    "from pathlib import Path\n",
    "curr_pwd = Path().parent.absolute()\n",
    "assets_to_add = {\n",
    "            \"add_attributes\": 1,\n",
    "            \"add_file_links\": 1,\n",
    "            \"add_tags\": 1,\n",
    "        }"
   ]
  },
  {
   "cell_type": "code",
   "execution_count": 4,
   "metadata": {},
   "outputs": [
    {
     "name": "stdout",
     "output_type": "stream",
     "text": [
      "-- Building runs of /srv/hemi01-j01/dmref/laser_shock_lab/data/gemd_data_model_dumps\n",
      "Extracting folder...\n",
      "0 gemd objects processed...\n",
      "1000 gemd objects processed...\n",
      "2000 gemd objects processed...\n",
      "3000 gemd objects processed...\n",
      "4000 gemd objects processed...\n",
      "5000 gemd objects processed...\n",
      "6000 gemd objects processed...\n",
      "7000 gemd objects processed...\n",
      "8000 gemd objects processed...\n",
      "9000 gemd objects processed...\n",
      "10000 gemd objects processed...\n",
      "11000 gemd objects processed...\n",
      "12000 gemd objects processed...\n",
      "13000 gemd objects processed...\n",
      "14000 gemd objects processed...\n",
      "15000 gemd objects processed...\n",
      "16000 gemd objects processed...\n",
      "17000 gemd objects processed...\n",
      "18000 gemd objects processed...\n",
      "19000 gemd objects processed...\n",
      "20000 gemd objects processed...\n",
      "21000 gemd objects processed...\n",
      "22000 gemd objects processed...\n",
      "23000 gemd objects processed...\n",
      "24000 gemd objects processed...\n",
      "25000 gemd objects processed...\n",
      "26000 gemd objects processed...\n",
      "27000 gemd objects processed...\n",
      "28000 gemd objects processed...\n",
      "29000 gemd objects processed...\n",
      "30000 gemd objects processed...\n",
      "31000 gemd objects processed...\n",
      "32000 gemd objects processed...\n",
      "33000 gemd objects processed...\n",
      "34000 gemd objects processed...\n",
      "35000 gemd objects processed...\n",
      "36000 gemd objects processed...\n",
      "37000 gemd objects processed...\n"
     ]
    }
   ],
   "source": [
    "dirpath = \"/srv/hemi01-j01/dmref/laser_shock_lab/data/gemd_data_model_dumps\"\n",
    "output = curr_pwd / \"output/\"\n",
    "open_graph = OpenGraph(\"laser_shock\",dirpath=dirpath,output=output)\n",
    "all_G, all_relabeled_G, all_name_mapping = open_graph.build_graph(\n",
    "    assets_to_add=assets_to_add,\n",
    "    add_separate_node=0,\n",
    "    which='run',\n",
    ")\n",
    "open_graph.launch(all_relabeled_G)"
   ]
  },
  {
   "cell_type": "code",
   "execution_count": null,
   "metadata": {},
   "outputs": [],
   "source": []
  }
 ],
 "metadata": {
  "kernelspec": {
   "display_name": "birdshot",
   "language": "python",
   "name": "python3"
  },
  "language_info": {
   "codemirror_mode": {
    "name": "ipython",
    "version": 3
   },
   "file_extension": ".py",
   "mimetype": "text/x-python",
   "name": "python",
   "nbconvert_exporter": "python",
   "pygments_lexer": "ipython3",
   "version": "3.9.16"
  },
  "orig_nbformat": 4,
  "vscode": {
   "interpreter": {
    "hash": "c93de424c187b5f45150c4b68957697054d2d10439b831359c08b5dbeaa012b5"
   }
  }
 },
 "nbformat": 4,
 "nbformat_minor": 2
}
