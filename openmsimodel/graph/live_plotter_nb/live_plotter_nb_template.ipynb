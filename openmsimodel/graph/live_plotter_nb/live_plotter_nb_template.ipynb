{
 "cells": [
  {
   "cell_type": "code",
   "execution_count": null,
   "metadata": {},
   "outputs": [],
   "source": [
    "from openmsimodel.graph.live_plotter import watch_folder_to_plot"
   ]
  },
  {
   "cell_type": "code",
   "execution_count": null,
   "metadata": {},
   "outputs": [],
   "source": [
    "graphml_folder = '/srv/hemi01-j01/openmsimodel/openmsimodel/graph/live_output_folder'\n",
    "watch_folder_to_plot(graphml_folder, display)"
   ]
  },
  {
   "cell_type": "code",
   "execution_count": null,
   "metadata": {},
   "outputs": [],
   "source": []
  }
 ],
 "metadata": {
  "kernelspec": {
   "display_name": "birdshot",
   "language": "python",
   "name": "python3"
  },
  "language_info": {
   "codemirror_mode": {
    "name": "ipython",
    "version": 3
   },
   "file_extension": ".py",
   "mimetype": "text/x-python",
   "name": "python",
   "nbconvert_exporter": "python",
   "pygments_lexer": "ipython3",
   "version": "3.9.16"
  },
  "orig_nbformat": 4,
  "vscode": {
   "interpreter": {
    "hash": "c93de424c187b5f45150c4b68957697054d2d10439b831359c08b5dbeaa012b5"
   }
  }
 },
 "nbformat": 4,
 "nbformat_minor": 2
}
