{
 "cells": [
  {
   "cell_type": "code",
   "execution_count": 1,
   "metadata": {},
   "outputs": [],
   "source": [
    "from openmsimodel.graph.open_graph import OpenGraph\n",
    "from openmsimodel.graph.helpers import launch_graph_widget\n",
    "from pathlib import Path"
   ]
  },
  {
   "cell_type": "code",
   "execution_count": 2,
   "metadata": {},
   "outputs": [
    {
     "name": "stdout",
     "output_type": "stream",
     "text": [
      "-- Building runs of /srv/hemi01-j01/dmref/laser_shock_lab/data/gemd_data_model_dumps/gemd_data_model_dump_june\n",
      "Extracting folder...\n",
      "0/37430 gemd objects processed...\n",
      "9357/37430 gemd objects processed...\n",
      "18714/37430 gemd objects processed...\n",
      "28071/37430 gemd objects processed...\n",
      "37428/37430 gemd objects processed...\n",
      "Done.\n",
      "Relabeling nodes ...\n",
      "Saving graphs...\n",
      "Couldn't find GraphViz graph. Can't dump SVG and DOT files.\n",
      "Dumping graphml...\n",
      "Time elapsed: 1.9119856357574463\n",
      "-- Saved graph to /srv/hemi01-j01/openmsimodel/openmsimodel/graph/open_graph_build_nb/output/Laser_shock_run.graphml\n",
      "-- Analysis --\n",
      "cycles in the graph: []\n",
      "disregarded/total number of gemd objects: 0/37430\n",
      "number of connected components: 42428\n",
      "total nb of isolates in the graph: 1368\n"
     ]
    }
   ],
   "source": [
    "output = str(Path().absolute() / \"output\")\n",
    "open_graph = OpenGraph(name=\"Laser_shock\", \n",
    "    science_kit=None, \n",
    "    source='/srv/hemi01-j01/dmref/laser_shock_lab/data/gemd_data_model_dumps/gemd_data_model_dump_june', \n",
    "    output=output, \n",
    "    layout='visualisation',\n",
    "    which='run')\n",
    "G, relabeled_G, name_mapping = open_graph.build_graph(save=True)"
   ]
  },
  {
   "cell_type": "code",
   "execution_count": 3,
   "metadata": {},
   "outputs": [
    {
     "name": "stdout",
     "output_type": "stream",
     "text": [
      "Launching DiGraph named 'Laser_shock' with 42428 nodes and 39930 edges\n"
     ]
    },
    {
     "data": {
      "application/vnd.jupyter.widget-view+json": {
       "model_id": "d58f62d661fe4738ab76c78486ed69a9",
       "version_major": 2,
       "version_minor": 0
      },
      "text/plain": [
       "GraphWidget(layout=Layout(height='500px', width='100%'))"
      ]
     },
     "metadata": {},
     "output_type": "display_data"
    }
   ],
   "source": [
    "launch_graph_widget(G, engine='yfiles') "
   ]
  },
  {
   "cell_type": "code",
   "execution_count": null,
   "metadata": {},
   "outputs": [],
   "source": []
  }
 ],
 "metadata": {
  "kernelspec": {
   "display_name": "Python 3 (ipykernel)",
   "language": "python",
   "name": "python3"
  },
  "language_info": {
   "codemirror_mode": {
    "name": "ipython",
    "version": 3
   },
   "file_extension": ".py",
   "mimetype": "text/x-python",
   "name": "python",
   "nbconvert_exporter": "python",
   "pygments_lexer": "ipython3",
   "version": "3.9.16"
  }
 },
 "nbformat": 4,
 "nbformat_minor": 2
}
