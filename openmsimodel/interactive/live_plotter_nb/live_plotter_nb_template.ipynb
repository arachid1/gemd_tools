{
 "cells": [
  {
   "cell_type": "code",
   "execution_count": 2,
   "metadata": {},
   "outputs": [],
   "source": [
    "from openmsimodel.interactive.live_plotter import watch_folder_to_plot"
   ]
  },
  {
   "cell_type": "code",
   "execution_count": 3,
   "metadata": {},
   "outputs": [
    {
     "ename": "FileNotFoundError",
     "evalue": "[Errno 2] No such file or directory",
     "output_type": "error",
     "traceback": [
      "\u001b[0;31m---------------------------------------------------------------------------\u001b[0m",
      "\u001b[0;31mFileNotFoundError\u001b[0m                         Traceback (most recent call last)",
      "Cell \u001b[0;32mIn[3], line 2\u001b[0m\n\u001b[1;32m      1\u001b[0m graphml_folder \u001b[39m=\u001b[39m \u001b[39m'\u001b[39m\u001b[39mlive_grapher_output\u001b[39m\u001b[39m'\u001b[39m\n\u001b[0;32m----> 2\u001b[0m watch_folder_to_plot(graphml_folder, display)\n",
      "File \u001b[0;32m/srv/hemi01-j01/openmsimodel/openmsimodel/interactive/live_plotter.py:25\u001b[0m, in \u001b[0;36mwatch_folder_to_plot\u001b[0;34m(folder_path, display_func)\u001b[0m\n\u001b[1;32m     23\u001b[0m observer \u001b[39m=\u001b[39m Observer()\n\u001b[1;32m     24\u001b[0m observer\u001b[39m.\u001b[39mschedule(LivePlotter(display), path\u001b[39m=\u001b[39mfolder_path)\n\u001b[0;32m---> 25\u001b[0m observer\u001b[39m.\u001b[39;49mstart()\n\u001b[1;32m     26\u001b[0m \u001b[39mtry\u001b[39;00m:\n\u001b[1;32m     27\u001b[0m     \u001b[39mwhile\u001b[39;00m \u001b[39mTrue\u001b[39;00m:\n",
      "File \u001b[0;32m/srv/hemi01-j01/anaconda3/envs/birdshot/lib/python3.9/site-packages/watchdog/observers/api.py:261\u001b[0m, in \u001b[0;36mBaseObserver.start\u001b[0;34m(self)\u001b[0m\n\u001b[1;32m    259\u001b[0m \u001b[39mfor\u001b[39;00m emitter \u001b[39min\u001b[39;00m \u001b[39mself\u001b[39m\u001b[39m.\u001b[39m_emitters\u001b[39m.\u001b[39mcopy():\n\u001b[1;32m    260\u001b[0m     \u001b[39mtry\u001b[39;00m:\n\u001b[0;32m--> 261\u001b[0m         emitter\u001b[39m.\u001b[39;49mstart()\n\u001b[1;32m    262\u001b[0m     \u001b[39mexcept\u001b[39;00m \u001b[39mException\u001b[39;00m:\n\u001b[1;32m    263\u001b[0m         \u001b[39mself\u001b[39m\u001b[39m.\u001b[39m_remove_emitter(emitter)\n",
      "File \u001b[0;32m/srv/hemi01-j01/anaconda3/envs/birdshot/lib/python3.9/site-packages/watchdog/utils/__init__.py:92\u001b[0m, in \u001b[0;36mBaseThread.start\u001b[0;34m(self)\u001b[0m\n\u001b[1;32m     91\u001b[0m \u001b[39mdef\u001b[39;00m \u001b[39mstart\u001b[39m(\u001b[39mself\u001b[39m):\n\u001b[0;32m---> 92\u001b[0m     \u001b[39mself\u001b[39;49m\u001b[39m.\u001b[39;49mon_thread_start()\n\u001b[1;32m     93\u001b[0m     threading\u001b[39m.\u001b[39mThread\u001b[39m.\u001b[39mstart(\u001b[39mself\u001b[39m)\n",
      "File \u001b[0;32m/srv/hemi01-j01/anaconda3/envs/birdshot/lib/python3.9/site-packages/watchdog/observers/inotify.py:119\u001b[0m, in \u001b[0;36mInotifyEmitter.on_thread_start\u001b[0;34m(self)\u001b[0m\n\u001b[1;32m    117\u001b[0m \u001b[39mdef\u001b[39;00m \u001b[39mon_thread_start\u001b[39m(\u001b[39mself\u001b[39m):\n\u001b[1;32m    118\u001b[0m     path \u001b[39m=\u001b[39m os\u001b[39m.\u001b[39mfsencode(\u001b[39mself\u001b[39m\u001b[39m.\u001b[39mwatch\u001b[39m.\u001b[39mpath)\n\u001b[0;32m--> 119\u001b[0m     \u001b[39mself\u001b[39m\u001b[39m.\u001b[39m_inotify \u001b[39m=\u001b[39m InotifyBuffer(path, \u001b[39mself\u001b[39;49m\u001b[39m.\u001b[39;49mwatch\u001b[39m.\u001b[39;49mis_recursive)\n",
      "File \u001b[0;32m/srv/hemi01-j01/anaconda3/envs/birdshot/lib/python3.9/site-packages/watchdog/observers/inotify_buffer.py:37\u001b[0m, in \u001b[0;36mInotifyBuffer.__init__\u001b[0;34m(self, path, recursive)\u001b[0m\n\u001b[1;32m     35\u001b[0m \u001b[39msuper\u001b[39m()\u001b[39m.\u001b[39m\u001b[39m__init__\u001b[39m()\n\u001b[1;32m     36\u001b[0m \u001b[39mself\u001b[39m\u001b[39m.\u001b[39m_queue \u001b[39m=\u001b[39m DelayedQueue[InotifyEvent](\u001b[39mself\u001b[39m\u001b[39m.\u001b[39mdelay)\n\u001b[0;32m---> 37\u001b[0m \u001b[39mself\u001b[39m\u001b[39m.\u001b[39m_inotify \u001b[39m=\u001b[39m Inotify(path, recursive)\n\u001b[1;32m     38\u001b[0m \u001b[39mself\u001b[39m\u001b[39m.\u001b[39mstart()\n",
      "File \u001b[0;32m/srv/hemi01-j01/anaconda3/envs/birdshot/lib/python3.9/site-packages/watchdog/observers/inotify_c.py:181\u001b[0m, in \u001b[0;36mInotify.__init__\u001b[0;34m(self, path, recursive, event_mask)\u001b[0m\n\u001b[1;32m    179\u001b[0m     \u001b[39mself\u001b[39m\u001b[39m.\u001b[39m_add_dir_watch(path, recursive, event_mask)\n\u001b[1;32m    180\u001b[0m \u001b[39melse\u001b[39;00m:\n\u001b[0;32m--> 181\u001b[0m     \u001b[39mself\u001b[39;49m\u001b[39m.\u001b[39;49m_add_watch(path, event_mask)\n\u001b[1;32m    182\u001b[0m \u001b[39mself\u001b[39m\u001b[39m.\u001b[39m_moved_from_events \u001b[39m=\u001b[39m {}\n",
      "File \u001b[0;32m/srv/hemi01-j01/anaconda3/envs/birdshot/lib/python3.9/site-packages/watchdog/observers/inotify_c.py:416\u001b[0m, in \u001b[0;36mInotify._add_watch\u001b[0;34m(self, path, mask)\u001b[0m\n\u001b[1;32m    414\u001b[0m wd \u001b[39m=\u001b[39m inotify_add_watch(\u001b[39mself\u001b[39m\u001b[39m.\u001b[39m_inotify_fd, path, mask)\n\u001b[1;32m    415\u001b[0m \u001b[39mif\u001b[39;00m wd \u001b[39m==\u001b[39m \u001b[39m-\u001b[39m\u001b[39m1\u001b[39m:\n\u001b[0;32m--> 416\u001b[0m     Inotify\u001b[39m.\u001b[39;49m_raise_error()\n\u001b[1;32m    417\u001b[0m \u001b[39mself\u001b[39m\u001b[39m.\u001b[39m_wd_for_path[path] \u001b[39m=\u001b[39m wd\n\u001b[1;32m    418\u001b[0m \u001b[39mself\u001b[39m\u001b[39m.\u001b[39m_path_for_wd[wd] \u001b[39m=\u001b[39m path\n",
      "File \u001b[0;32m/srv/hemi01-j01/anaconda3/envs/birdshot/lib/python3.9/site-packages/watchdog/observers/inotify_c.py:432\u001b[0m, in \u001b[0;36mInotify._raise_error\u001b[0;34m()\u001b[0m\n\u001b[1;32m    430\u001b[0m     \u001b[39mraise\u001b[39;00m \u001b[39mOSError\u001b[39;00m(errno\u001b[39m.\u001b[39mEMFILE, \u001b[39m\"\u001b[39m\u001b[39minotify instance limit reached\u001b[39m\u001b[39m\"\u001b[39m)\n\u001b[1;32m    431\u001b[0m \u001b[39melif\u001b[39;00m err \u001b[39m!=\u001b[39m errno\u001b[39m.\u001b[39mEACCES:\n\u001b[0;32m--> 432\u001b[0m     \u001b[39mraise\u001b[39;00m \u001b[39mOSError\u001b[39;00m(err, os\u001b[39m.\u001b[39mstrerror(err))\n",
      "\u001b[0;31mFileNotFoundError\u001b[0m: [Errno 2] No such file or directory"
     ]
    }
   ],
   "source": [
    "graphml_folder = './live_grapher_output'\n",
    "watch_folder_to_plot(graphml_folder, display)"
   ]
  },
  {
   "cell_type": "code",
   "execution_count": null,
   "metadata": {},
   "outputs": [],
   "source": []
  }
 ],
 "metadata": {
  "kernelspec": {
   "display_name": "birdshot",
   "language": "python",
   "name": "python3"
  },
  "language_info": {
   "codemirror_mode": {
    "name": "ipython",
    "version": 3
   },
   "file_extension": ".py",
   "mimetype": "text/x-python",
   "name": "python",
   "nbconvert_exporter": "python",
   "pygments_lexer": "ipython3",
   "version": "3.9.16"
  },
  "orig_nbformat": 4,
  "vscode": {
   "interpreter": {
    "hash": "c93de424c187b5f45150c4b68957697054d2d10439b831359c08b5dbeaa012b5"
   }
  }
 },
 "nbformat": 4,
 "nbformat_minor": 2
}
